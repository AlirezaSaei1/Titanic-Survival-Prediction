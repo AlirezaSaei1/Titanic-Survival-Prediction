{
 "cells": [
  {
   "cell_type": "markdown",
   "id": "b13bf853",
   "metadata": {
    "papermill": {
     "duration": 0.009577,
     "end_time": "2023-11-12T20:33:29.934788",
     "exception": false,
     "start_time": "2023-11-12T20:33:29.925211",
     "status": "completed"
    },
    "tags": []
   },
   "source": [
    "# Import Required Libraraies"
   ]
  },
  {
   "cell_type": "code",
   "execution_count": 1,
   "id": "4cf69d70",
   "metadata": {
    "execution": {
     "iopub.execute_input": "2023-11-12T20:33:29.955296Z",
     "iopub.status.busy": "2023-11-12T20:33:29.954498Z",
     "iopub.status.idle": "2023-11-12T20:33:30.321851Z",
     "shell.execute_reply": "2023-11-12T20:33:30.321066Z"
    },
    "papermill": {
     "duration": 0.380415,
     "end_time": "2023-11-12T20:33:30.324346",
     "exception": false,
     "start_time": "2023-11-12T20:33:29.943931",
     "status": "completed"
    },
    "tags": []
   },
   "outputs": [],
   "source": [
    "import re\n",
    "import numpy as np\n",
    "import pandas as pd"
   ]
  },
  {
   "cell_type": "markdown",
   "id": "b825ec2b",
   "metadata": {
    "papermill": {
     "duration": 0.008936,
     "end_time": "2023-11-12T20:33:30.343452",
     "exception": false,
     "start_time": "2023-11-12T20:33:30.334516",
     "status": "completed"
    },
    "tags": []
   },
   "source": [
    "# Read Data"
   ]
  },
  {
   "cell_type": "code",
   "execution_count": 2,
   "id": "20fbc7c9",
   "metadata": {
    "execution": {
     "iopub.execute_input": "2023-11-12T20:33:30.363969Z",
     "iopub.status.busy": "2023-11-12T20:33:30.362854Z",
     "iopub.status.idle": "2023-11-12T20:33:30.400165Z",
     "shell.execute_reply": "2023-11-12T20:33:30.398847Z"
    },
    "papermill": {
     "duration": 0.049955,
     "end_time": "2023-11-12T20:33:30.402511",
     "exception": false,
     "start_time": "2023-11-12T20:33:30.352556",
     "status": "completed"
    },
    "tags": []
   },
   "outputs": [],
   "source": [
    "train_data = pd.read_csv('/kaggle/input/titanic/train.csv')\n",
    "test_data = pd.read_csv('/kaggle/input/titanic/test.csv')\n",
    "gender_sub = pd.read_csv('/kaggle/input/titanic/gender_submission.csv')"
   ]
  },
  {
   "cell_type": "code",
   "execution_count": 3,
   "id": "a81e536a",
   "metadata": {
    "execution": {
     "iopub.execute_input": "2023-11-12T20:33:30.423465Z",
     "iopub.status.busy": "2023-11-12T20:33:30.422733Z",
     "iopub.status.idle": "2023-11-12T20:33:30.450376Z",
     "shell.execute_reply": "2023-11-12T20:33:30.449278Z"
    },
    "papermill": {
     "duration": 0.040927,
     "end_time": "2023-11-12T20:33:30.452827",
     "exception": false,
     "start_time": "2023-11-12T20:33:30.411900",
     "status": "completed"
    },
    "tags": []
   },
   "outputs": [
    {
     "data": {
      "text/html": [
       "<div>\n",
       "<style scoped>\n",
       "    .dataframe tbody tr th:only-of-type {\n",
       "        vertical-align: middle;\n",
       "    }\n",
       "\n",
       "    .dataframe tbody tr th {\n",
       "        vertical-align: top;\n",
       "    }\n",
       "\n",
       "    .dataframe thead th {\n",
       "        text-align: right;\n",
       "    }\n",
       "</style>\n",
       "<table border=\"1\" class=\"dataframe\">\n",
       "  <thead>\n",
       "    <tr style=\"text-align: right;\">\n",
       "      <th></th>\n",
       "      <th>PassengerId</th>\n",
       "      <th>Pclass</th>\n",
       "      <th>Name</th>\n",
       "      <th>Sex</th>\n",
       "      <th>Age</th>\n",
       "      <th>SibSp</th>\n",
       "      <th>Parch</th>\n",
       "      <th>Ticket</th>\n",
       "      <th>Fare</th>\n",
       "      <th>Cabin</th>\n",
       "      <th>Embarked</th>\n",
       "    </tr>\n",
       "  </thead>\n",
       "  <tbody>\n",
       "    <tr>\n",
       "      <th>0</th>\n",
       "      <td>892</td>\n",
       "      <td>3</td>\n",
       "      <td>Kelly, Mr. James</td>\n",
       "      <td>male</td>\n",
       "      <td>34.5</td>\n",
       "      <td>0</td>\n",
       "      <td>0</td>\n",
       "      <td>330911</td>\n",
       "      <td>7.8292</td>\n",
       "      <td>NaN</td>\n",
       "      <td>Q</td>\n",
       "    </tr>\n",
       "    <tr>\n",
       "      <th>1</th>\n",
       "      <td>893</td>\n",
       "      <td>3</td>\n",
       "      <td>Wilkes, Mrs. James (Ellen Needs)</td>\n",
       "      <td>female</td>\n",
       "      <td>47.0</td>\n",
       "      <td>1</td>\n",
       "      <td>0</td>\n",
       "      <td>363272</td>\n",
       "      <td>7.0000</td>\n",
       "      <td>NaN</td>\n",
       "      <td>S</td>\n",
       "    </tr>\n",
       "    <tr>\n",
       "      <th>2</th>\n",
       "      <td>894</td>\n",
       "      <td>2</td>\n",
       "      <td>Myles, Mr. Thomas Francis</td>\n",
       "      <td>male</td>\n",
       "      <td>62.0</td>\n",
       "      <td>0</td>\n",
       "      <td>0</td>\n",
       "      <td>240276</td>\n",
       "      <td>9.6875</td>\n",
       "      <td>NaN</td>\n",
       "      <td>Q</td>\n",
       "    </tr>\n",
       "    <tr>\n",
       "      <th>3</th>\n",
       "      <td>895</td>\n",
       "      <td>3</td>\n",
       "      <td>Wirz, Mr. Albert</td>\n",
       "      <td>male</td>\n",
       "      <td>27.0</td>\n",
       "      <td>0</td>\n",
       "      <td>0</td>\n",
       "      <td>315154</td>\n",
       "      <td>8.6625</td>\n",
       "      <td>NaN</td>\n",
       "      <td>S</td>\n",
       "    </tr>\n",
       "    <tr>\n",
       "      <th>4</th>\n",
       "      <td>896</td>\n",
       "      <td>3</td>\n",
       "      <td>Hirvonen, Mrs. Alexander (Helga E Lindqvist)</td>\n",
       "      <td>female</td>\n",
       "      <td>22.0</td>\n",
       "      <td>1</td>\n",
       "      <td>1</td>\n",
       "      <td>3101298</td>\n",
       "      <td>12.2875</td>\n",
       "      <td>NaN</td>\n",
       "      <td>S</td>\n",
       "    </tr>\n",
       "  </tbody>\n",
       "</table>\n",
       "</div>"
      ],
      "text/plain": [
       "   PassengerId  Pclass                                          Name     Sex  \\\n",
       "0          892       3                              Kelly, Mr. James    male   \n",
       "1          893       3              Wilkes, Mrs. James (Ellen Needs)  female   \n",
       "2          894       2                     Myles, Mr. Thomas Francis    male   \n",
       "3          895       3                              Wirz, Mr. Albert    male   \n",
       "4          896       3  Hirvonen, Mrs. Alexander (Helga E Lindqvist)  female   \n",
       "\n",
       "    Age  SibSp  Parch   Ticket     Fare Cabin Embarked  \n",
       "0  34.5      0      0   330911   7.8292   NaN        Q  \n",
       "1  47.0      1      0   363272   7.0000   NaN        S  \n",
       "2  62.0      0      0   240276   9.6875   NaN        Q  \n",
       "3  27.0      0      0   315154   8.6625   NaN        S  \n",
       "4  22.0      1      1  3101298  12.2875   NaN        S  "
      ]
     },
     "execution_count": 3,
     "metadata": {},
     "output_type": "execute_result"
    }
   ],
   "source": [
    "test_data.head()"
   ]
  },
  {
   "cell_type": "markdown",
   "id": "e3e14a23",
   "metadata": {
    "papermill": {
     "duration": 0.009476,
     "end_time": "2023-11-12T20:33:30.472175",
     "exception": false,
     "start_time": "2023-11-12T20:33:30.462699",
     "status": "completed"
    },
    "tags": []
   },
   "source": [
    "# Data Purification and Feature Engineering"
   ]
  },
  {
   "cell_type": "markdown",
   "id": "c50f39a8",
   "metadata": {
    "papermill": {
     "duration": 0.009065,
     "end_time": "2023-11-12T20:33:30.490502",
     "exception": false,
     "start_time": "2023-11-12T20:33:30.481437",
     "status": "completed"
    },
    "tags": []
   },
   "source": [
    "## Name\n",
    "### Extract titles from names"
   ]
  },
  {
   "cell_type": "code",
   "execution_count": 4,
   "id": "e2201033",
   "metadata": {
    "execution": {
     "iopub.execute_input": "2023-11-12T20:33:30.511231Z",
     "iopub.status.busy": "2023-11-12T20:33:30.510842Z",
     "iopub.status.idle": "2023-11-12T20:33:30.527198Z",
     "shell.execute_reply": "2023-11-12T20:33:30.526308Z"
    },
    "papermill": {
     "duration": 0.029591,
     "end_time": "2023-11-12T20:33:30.529481",
     "exception": false,
     "start_time": "2023-11-12T20:33:30.499890",
     "status": "completed"
    },
    "tags": []
   },
   "outputs": [
    {
     "name": "stdout",
     "output_type": "stream",
     "text": [
      "All unique titles in names (Train): ['Mr' 'Mrs' 'Miss' 'Master' 'Don' 'Rev' 'Dr' 'Mme' 'Ms' 'Major' 'Lady'\n",
      " 'Sir' 'Mlle' 'Col' 'Capt' 'Countess' 'Jonkheer']\n",
      "All unique titles in names (Test): ['Mr' 'Mrs' 'Miss' 'Master' 'Ms' 'Col' 'Rev' 'Dr' 'Dona']\n"
     ]
    }
   ],
   "source": [
    "train_data['Title'] = train_data['Name'].apply(lambda x: re.search(' ([A-Za-z]+)\\.', x).group(1))\n",
    "test_data['Title'] = test_data['Name'].apply(lambda x: re.search(' ([A-Za-z]+)\\.', x).group(1))\n",
    "\n",
    "# Display the unique titles\n",
    "print(f'All unique titles in names (Train): {train_data[\"Title\"].unique()}')\n",
    "print(f'All unique titles in names (Test): {test_data[\"Title\"].unique()}')"
   ]
  },
  {
   "cell_type": "code",
   "execution_count": 5,
   "id": "1e6ddeda",
   "metadata": {
    "execution": {
     "iopub.execute_input": "2023-11-12T20:33:30.550447Z",
     "iopub.status.busy": "2023-11-12T20:33:30.550057Z",
     "iopub.status.idle": "2023-11-12T20:33:30.561666Z",
     "shell.execute_reply": "2023-11-12T20:33:30.560633Z"
    },
    "papermill": {
     "duration": 0.025077,
     "end_time": "2023-11-12T20:33:30.564046",
     "exception": false,
     "start_time": "2023-11-12T20:33:30.538969",
     "status": "completed"
    },
    "tags": []
   },
   "outputs": [],
   "source": [
    "# Train Data\n",
    "train_data['Title'] = train_data['Title'].replace(['Lady', 'Countess', 'Capt', 'Col', 'Don', 'Dr','Major', 'Rev', 'Sir', 'Jonkheer', 'Dona'], 'Other')\n",
    "train_data['Title'] = train_data['Title'].replace(['Mlle', 'Ms'], 'Miss')\n",
    "train_data['Title'] = train_data['Title'].replace('Mme', 'Mrs')\n",
    "\n",
    "# Test Data\n",
    "test_data['Title'] = test_data['Title'].replace(['Lady', 'Countess', 'Capt', 'Col', 'Don', 'Dr','Major', 'Rev', 'Sir', 'Jonkheer', 'Dona'], 'Other')\n",
    "test_data['Title'] = test_data['Title'].replace(['Mlle', 'Ms'], 'Miss')\n",
    "test_data['Title'] = test_data['Title'].replace('Mme', 'Mrs')"
   ]
  },
  {
   "cell_type": "code",
   "execution_count": 6,
   "id": "9db68b68",
   "metadata": {
    "execution": {
     "iopub.execute_input": "2023-11-12T20:33:30.585465Z",
     "iopub.status.busy": "2023-11-12T20:33:30.584684Z",
     "iopub.status.idle": "2023-11-12T20:33:30.591431Z",
     "shell.execute_reply": "2023-11-12T20:33:30.590325Z"
    },
    "papermill": {
     "duration": 0.019925,
     "end_time": "2023-11-12T20:33:30.593518",
     "exception": false,
     "start_time": "2023-11-12T20:33:30.573593",
     "status": "completed"
    },
    "tags": []
   },
   "outputs": [
    {
     "name": "stdout",
     "output_type": "stream",
     "text": [
      "Train Titles: ['Mr' 'Mrs' 'Miss' 'Master' 'Other']\n",
      "Test Titles: ['Mr' 'Mrs' 'Miss' 'Master' 'Other']\n"
     ]
    }
   ],
   "source": [
    "print(f'Train Titles: {train_data[\"Title\"].unique()}')\n",
    "print(f'Test Titles: {test_data[\"Title\"].unique()}')"
   ]
  },
  {
   "cell_type": "markdown",
   "id": "e7b83952",
   "metadata": {
    "papermill": {
     "duration": 0.00939,
     "end_time": "2023-11-12T20:33:30.612655",
     "exception": false,
     "start_time": "2023-11-12T20:33:30.603265",
     "status": "completed"
    },
    "tags": []
   },
   "source": [
    "### Drop Names"
   ]
  },
  {
   "cell_type": "code",
   "execution_count": 7,
   "id": "4b88a0ad",
   "metadata": {
    "execution": {
     "iopub.execute_input": "2023-11-12T20:33:30.633955Z",
     "iopub.status.busy": "2023-11-12T20:33:30.633559Z",
     "iopub.status.idle": "2023-11-12T20:33:30.645269Z",
     "shell.execute_reply": "2023-11-12T20:33:30.644269Z"
    },
    "papermill": {
     "duration": 0.024752,
     "end_time": "2023-11-12T20:33:30.647482",
     "exception": false,
     "start_time": "2023-11-12T20:33:30.622730",
     "status": "completed"
    },
    "tags": []
   },
   "outputs": [],
   "source": [
    "train_data = train_data.drop('Name', axis=1)\n",
    "test_data = test_data.drop('Name', axis=1)"
   ]
  },
  {
   "cell_type": "markdown",
   "id": "d126ae29",
   "metadata": {
    "papermill": {
     "duration": 0.010721,
     "end_time": "2023-11-12T20:33:30.667941",
     "exception": false,
     "start_time": "2023-11-12T20:33:30.657220",
     "status": "completed"
    },
    "tags": []
   },
   "source": [
    "### Encode Titles"
   ]
  },
  {
   "cell_type": "code",
   "execution_count": 8,
   "id": "7621e7b1",
   "metadata": {
    "execution": {
     "iopub.execute_input": "2023-11-12T20:33:30.688916Z",
     "iopub.status.busy": "2023-11-12T20:33:30.688530Z",
     "iopub.status.idle": "2023-11-12T20:33:30.696290Z",
     "shell.execute_reply": "2023-11-12T20:33:30.695184Z"
    },
    "papermill": {
     "duration": 0.021105,
     "end_time": "2023-11-12T20:33:30.698598",
     "exception": false,
     "start_time": "2023-11-12T20:33:30.677493",
     "status": "completed"
    },
    "tags": []
   },
   "outputs": [],
   "source": [
    "title_to_number = {'Mr': 0, 'Mrs': 1, 'Miss': 2, 'Master': 3, 'Other': 4}\n",
    "\n",
    "train_data['Title'] = train_data['Title'].apply(lambda x: title_to_number[x])\n",
    "test_data['Title'] = test_data['Title'].apply(lambda x: title_to_number[x])"
   ]
  },
  {
   "cell_type": "markdown",
   "id": "4f6edfb4",
   "metadata": {
    "papermill": {
     "duration": 0.009519,
     "end_time": "2023-11-12T20:33:30.718278",
     "exception": false,
     "start_time": "2023-11-12T20:33:30.708759",
     "status": "completed"
    },
    "tags": []
   },
   "source": [
    "## Ticket\n",
    "### Drop ticket columns"
   ]
  },
  {
   "cell_type": "code",
   "execution_count": 9,
   "id": "9c041eaf",
   "metadata": {
    "execution": {
     "iopub.execute_input": "2023-11-12T20:33:30.739587Z",
     "iopub.status.busy": "2023-11-12T20:33:30.739165Z",
     "iopub.status.idle": "2023-11-12T20:33:30.746764Z",
     "shell.execute_reply": "2023-11-12T20:33:30.745632Z"
    },
    "papermill": {
     "duration": 0.020646,
     "end_time": "2023-11-12T20:33:30.749008",
     "exception": false,
     "start_time": "2023-11-12T20:33:30.728362",
     "status": "completed"
    },
    "tags": []
   },
   "outputs": [],
   "source": [
    "# Drop Ticket Column\n",
    "train_data = train_data.drop('Ticket', axis=1)\n",
    "test_data = test_data.drop('Ticket', axis=1)"
   ]
  },
  {
   "cell_type": "markdown",
   "id": "b62e1dc2",
   "metadata": {
    "papermill": {
     "duration": 0.009486,
     "end_time": "2023-11-12T20:33:30.768139",
     "exception": false,
     "start_time": "2023-11-12T20:33:30.758653",
     "status": "completed"
    },
    "tags": []
   },
   "source": [
    "## Sex\n",
    "### Convert sexes to 0s and 1s"
   ]
  },
  {
   "cell_type": "code",
   "execution_count": 10,
   "id": "a3db1ccf",
   "metadata": {
    "execution": {
     "iopub.execute_input": "2023-11-12T20:33:30.789839Z",
     "iopub.status.busy": "2023-11-12T20:33:30.789270Z",
     "iopub.status.idle": "2023-11-12T20:33:30.797229Z",
     "shell.execute_reply": "2023-11-12T20:33:30.796030Z"
    },
    "papermill": {
     "duration": 0.02125,
     "end_time": "2023-11-12T20:33:30.799375",
     "exception": false,
     "start_time": "2023-11-12T20:33:30.778125",
     "status": "completed"
    },
    "tags": []
   },
   "outputs": [
    {
     "name": "stdout",
     "output_type": "stream",
     "text": [
      "Number of distinct values for sex: {0, 1}\n"
     ]
    }
   ],
   "source": [
    "# Encode Sex\n",
    "train_data['Sex'] = train_data['Sex'].replace({'male': 0, 'female': 1})\n",
    "test_data['Sex'] = test_data['Sex'].replace({'male': 0, 'female': 1})\n",
    "print(f'Number of distinct values for sex: {set(test_data[\"Sex\"])}')"
   ]
  },
  {
   "cell_type": "markdown",
   "id": "c9bf65af",
   "metadata": {
    "papermill": {
     "duration": 0.066484,
     "end_time": "2023-11-12T20:33:30.875878",
     "exception": false,
     "start_time": "2023-11-12T20:33:30.809394",
     "status": "completed"
    },
    "tags": []
   },
   "source": [
    "## Cabin\n",
    "### Extract letters from Cabins"
   ]
  },
  {
   "cell_type": "code",
   "execution_count": 11,
   "id": "2b27c907",
   "metadata": {
    "execution": {
     "iopub.execute_input": "2023-11-12T20:33:30.897561Z",
     "iopub.status.busy": "2023-11-12T20:33:30.897215Z",
     "iopub.status.idle": "2023-11-12T20:33:30.907977Z",
     "shell.execute_reply": "2023-11-12T20:33:30.906859Z"
    },
    "papermill": {
     "duration": 0.024609,
     "end_time": "2023-11-12T20:33:30.910322",
     "exception": false,
     "start_time": "2023-11-12T20:33:30.885713",
     "status": "completed"
    },
    "tags": []
   },
   "outputs": [
    {
     "name": "stdout",
     "output_type": "stream",
     "text": [
      "['X' 'C' 'E' 'G' 'D' 'A' 'B' 'F' 'T']\n",
      "['X' 'B' 'E' 'A' 'C' 'D' 'F' 'G']\n"
     ]
    }
   ],
   "source": [
    "train_data['Cabin'] = train_data['Cabin'].fillna(\"X\")\n",
    "print(train_data['Cabin'].str[0].unique())\n",
    "\n",
    "test_data['Cabin'] = test_data['Cabin'].fillna(\"X\")\n",
    "print(test_data['Cabin'].str[0].unique())"
   ]
  },
  {
   "cell_type": "markdown",
   "id": "d27e4728",
   "metadata": {
    "papermill": {
     "duration": 0.009645,
     "end_time": "2023-11-12T20:33:30.929953",
     "exception": false,
     "start_time": "2023-11-12T20:33:30.920308",
     "status": "completed"
    },
    "tags": []
   },
   "source": [
    "### Encode letters"
   ]
  },
  {
   "cell_type": "code",
   "execution_count": 12,
   "id": "a85cf849",
   "metadata": {
    "execution": {
     "iopub.execute_input": "2023-11-12T20:33:30.952285Z",
     "iopub.status.busy": "2023-11-12T20:33:30.951782Z",
     "iopub.status.idle": "2023-11-12T20:33:30.959804Z",
     "shell.execute_reply": "2023-11-12T20:33:30.958686Z"
    },
    "papermill": {
     "duration": 0.02217,
     "end_time": "2023-11-12T20:33:30.961927",
     "exception": false,
     "start_time": "2023-11-12T20:33:30.939757",
     "status": "completed"
    },
    "tags": []
   },
   "outputs": [],
   "source": [
    "cabin_to_number = {'X': 0, 'A': 1, 'B': 2, 'C': 3, 'D': 4, 'E': 5, 'F': 6, 'G': 7, 'T': 8}\n",
    "\n",
    "train_data['Cabin_Encoded'] = train_data['Cabin'].apply(lambda x: cabin_to_number[x[0]])\n",
    "test_data['Cabin_Encoded'] = test_data['Cabin'].apply(lambda x: cabin_to_number[x[0]])"
   ]
  },
  {
   "cell_type": "markdown",
   "id": "3e3750cc",
   "metadata": {
    "papermill": {
     "duration": 0.009883,
     "end_time": "2023-11-12T20:33:30.981783",
     "exception": false,
     "start_time": "2023-11-12T20:33:30.971900",
     "status": "completed"
    },
    "tags": []
   },
   "source": [
    "### Drop Cabin Column"
   ]
  },
  {
   "cell_type": "code",
   "execution_count": 13,
   "id": "b357fa4c",
   "metadata": {
    "execution": {
     "iopub.execute_input": "2023-11-12T20:33:31.002605Z",
     "iopub.status.busy": "2023-11-12T20:33:31.002260Z",
     "iopub.status.idle": "2023-11-12T20:33:31.008883Z",
     "shell.execute_reply": "2023-11-12T20:33:31.007870Z"
    },
    "papermill": {
     "duration": 0.019302,
     "end_time": "2023-11-12T20:33:31.010669",
     "exception": false,
     "start_time": "2023-11-12T20:33:30.991367",
     "status": "completed"
    },
    "tags": []
   },
   "outputs": [],
   "source": [
    "train_data = train_data.drop('Cabin', axis=1)\n",
    "test_data = test_data.drop('Cabin', axis=1)"
   ]
  },
  {
   "cell_type": "markdown",
   "id": "e2c9de6d",
   "metadata": {
    "papermill": {
     "duration": 0.009926,
     "end_time": "2023-11-12T20:33:31.030331",
     "exception": false,
     "start_time": "2023-11-12T20:33:31.020405",
     "status": "completed"
    },
    "tags": []
   },
   "source": [
    "## Embarked\n",
    "### Fill Null values with 'S'"
   ]
  },
  {
   "cell_type": "code",
   "execution_count": 14,
   "id": "e4061951",
   "metadata": {
    "execution": {
     "iopub.execute_input": "2023-11-12T20:33:31.051707Z",
     "iopub.status.busy": "2023-11-12T20:33:31.051040Z",
     "iopub.status.idle": "2023-11-12T20:33:31.061724Z",
     "shell.execute_reply": "2023-11-12T20:33:31.060567Z"
    },
    "papermill": {
     "duration": 0.024155,
     "end_time": "2023-11-12T20:33:31.064323",
     "exception": false,
     "start_time": "2023-11-12T20:33:31.040168",
     "status": "completed"
    },
    "tags": []
   },
   "outputs": [],
   "source": [
    "train_data['Embarked'].describe()\n",
    "\n",
    "train_data['Embarked'] = train_data['Embarked'].fillna('S')\n",
    "test_data['Embarked'] = test_data['Embarked'].fillna('S')"
   ]
  },
  {
   "cell_type": "markdown",
   "id": "fe481dab",
   "metadata": {
    "papermill": {
     "duration": 0.009281,
     "end_time": "2023-11-12T20:33:31.083599",
     "exception": false,
     "start_time": "2023-11-12T20:33:31.074318",
     "status": "completed"
    },
    "tags": []
   },
   "source": [
    "### Encode Embarked Values"
   ]
  },
  {
   "cell_type": "code",
   "execution_count": 15,
   "id": "56f6c0ca",
   "metadata": {
    "execution": {
     "iopub.execute_input": "2023-11-12T20:33:31.104525Z",
     "iopub.status.busy": "2023-11-12T20:33:31.104150Z",
     "iopub.status.idle": "2023-11-12T20:33:31.111042Z",
     "shell.execute_reply": "2023-11-12T20:33:31.110278Z"
    },
    "papermill": {
     "duration": 0.019566,
     "end_time": "2023-11-12T20:33:31.112930",
     "exception": false,
     "start_time": "2023-11-12T20:33:31.093364",
     "status": "completed"
    },
    "tags": []
   },
   "outputs": [],
   "source": [
    "embark_to_number = {'S': 0, 'C': 1, 'Q': 2}\n",
    "\n",
    "train_data['Embarked'] = train_data['Embarked'].apply(lambda x: embark_to_number[x])\n",
    "test_data['Embarked'] = test_data['Embarked'].apply(lambda x: embark_to_number[x])"
   ]
  },
  {
   "cell_type": "markdown",
   "id": "83873102",
   "metadata": {
    "papermill": {
     "duration": 0.011359,
     "end_time": "2023-11-12T20:33:31.134084",
     "exception": false,
     "start_time": "2023-11-12T20:33:31.122725",
     "status": "completed"
    },
    "tags": []
   },
   "source": [
    "## Age\n",
    "### Fill null values of age with mean age of train set"
   ]
  },
  {
   "cell_type": "code",
   "execution_count": 16,
   "id": "747968af",
   "metadata": {
    "execution": {
     "iopub.execute_input": "2023-11-12T20:33:31.155576Z",
     "iopub.status.busy": "2023-11-12T20:33:31.154921Z",
     "iopub.status.idle": "2023-11-12T20:33:31.161981Z",
     "shell.execute_reply": "2023-11-12T20:33:31.161287Z"
    },
    "papermill": {
     "duration": 0.01975,
     "end_time": "2023-11-12T20:33:31.163937",
     "exception": false,
     "start_time": "2023-11-12T20:33:31.144187",
     "status": "completed"
    },
    "tags": []
   },
   "outputs": [],
   "source": [
    "mean_age = train_data['Age'].mean()\n",
    "\n",
    "train_data['Age'] = train_data['Age'].fillna(mean_age)\n",
    "test_data['Age'] = test_data['Age'].fillna(mean_age)"
   ]
  },
  {
   "cell_type": "markdown",
   "id": "01e43478",
   "metadata": {
    "papermill": {
     "duration": 0.009371,
     "end_time": "2023-11-12T20:33:31.183023",
     "exception": false,
     "start_time": "2023-11-12T20:33:31.173652",
     "status": "completed"
    },
    "tags": []
   },
   "source": [
    "### Convert ages to int"
   ]
  },
  {
   "cell_type": "code",
   "execution_count": 17,
   "id": "c6aed478",
   "metadata": {
    "execution": {
     "iopub.execute_input": "2023-11-12T20:33:31.204415Z",
     "iopub.status.busy": "2023-11-12T20:33:31.203478Z",
     "iopub.status.idle": "2023-11-12T20:33:31.210236Z",
     "shell.execute_reply": "2023-11-12T20:33:31.209024Z"
    },
    "papermill": {
     "duration": 0.019933,
     "end_time": "2023-11-12T20:33:31.212590",
     "exception": false,
     "start_time": "2023-11-12T20:33:31.192657",
     "status": "completed"
    },
    "tags": []
   },
   "outputs": [],
   "source": [
    "train_data['Age'] = train_data['Age'].astype(int)\n",
    "test_data['Age'] = test_data['Age'].astype(int)"
   ]
  },
  {
   "cell_type": "markdown",
   "id": "0534b40a",
   "metadata": {
    "papermill": {
     "duration": 0.009693,
     "end_time": "2023-11-12T20:33:31.232241",
     "exception": false,
     "start_time": "2023-11-12T20:33:31.222548",
     "status": "completed"
    },
    "tags": []
   },
   "source": [
    "## Fare"
   ]
  },
  {
   "cell_type": "code",
   "execution_count": 18,
   "id": "b9bdfc0d",
   "metadata": {
    "execution": {
     "iopub.execute_input": "2023-11-12T20:33:31.253546Z",
     "iopub.status.busy": "2023-11-12T20:33:31.253173Z",
     "iopub.status.idle": "2023-11-12T20:33:31.259226Z",
     "shell.execute_reply": "2023-11-12T20:33:31.258203Z"
    },
    "papermill": {
     "duration": 0.019963,
     "end_time": "2023-11-12T20:33:31.262093",
     "exception": false,
     "start_time": "2023-11-12T20:33:31.242130",
     "status": "completed"
    },
    "tags": []
   },
   "outputs": [
    {
     "name": "stdout",
     "output_type": "stream",
     "text": [
      "number of fare null values of train set: 0\n",
      "number of fare null values of test set: 1\n"
     ]
    }
   ],
   "source": [
    "print(f'number of fare null values of train set: {train_data[\"Fare\"].isna().sum()}')\n",
    "print(f'number of fare null values of test set: {test_data[\"Fare\"].isna().sum()}')"
   ]
  },
  {
   "cell_type": "markdown",
   "id": "33896f8e",
   "metadata": {
    "papermill": {
     "duration": 0.009549,
     "end_time": "2023-11-12T20:33:31.281731",
     "exception": false,
     "start_time": "2023-11-12T20:33:31.272182",
     "status": "completed"
    },
    "tags": []
   },
   "source": [
    "### Fill null values with mean fare"
   ]
  },
  {
   "cell_type": "code",
   "execution_count": 19,
   "id": "c681ba2a",
   "metadata": {
    "execution": {
     "iopub.execute_input": "2023-11-12T20:33:31.303872Z",
     "iopub.status.busy": "2023-11-12T20:33:31.302895Z",
     "iopub.status.idle": "2023-11-12T20:33:31.309502Z",
     "shell.execute_reply": "2023-11-12T20:33:31.308538Z"
    },
    "papermill": {
     "duration": 0.019998,
     "end_time": "2023-11-12T20:33:31.311721",
     "exception": false,
     "start_time": "2023-11-12T20:33:31.291723",
     "status": "completed"
    },
    "tags": []
   },
   "outputs": [],
   "source": [
    "mean_fare = train_data['Fare'].mean()\n",
    "\n",
    "train_data['Fare'] = train_data['Fare'].fillna(mean_fare)\n",
    "test_data['Fare'] = test_data['Fare'].fillna(mean_fare)"
   ]
  },
  {
   "cell_type": "markdown",
   "id": "37aeec24",
   "metadata": {
    "papermill": {
     "duration": 0.009518,
     "end_time": "2023-11-12T20:33:31.331186",
     "exception": false,
     "start_time": "2023-11-12T20:33:31.321668",
     "status": "completed"
    },
    "tags": []
   },
   "source": [
    "### Convert fares to ints"
   ]
  },
  {
   "cell_type": "code",
   "execution_count": 20,
   "id": "af274545",
   "metadata": {
    "execution": {
     "iopub.execute_input": "2023-11-12T20:33:31.352955Z",
     "iopub.status.busy": "2023-11-12T20:33:31.351947Z",
     "iopub.status.idle": "2023-11-12T20:33:31.357858Z",
     "shell.execute_reply": "2023-11-12T20:33:31.357157Z"
    },
    "papermill": {
     "duration": 0.018816,
     "end_time": "2023-11-12T20:33:31.359951",
     "exception": false,
     "start_time": "2023-11-12T20:33:31.341135",
     "status": "completed"
    },
    "tags": []
   },
   "outputs": [],
   "source": [
    "train_data['Fare'] = train_data['Fare'].astype(int)\n",
    "test_data['Fare'] = test_data['Fare'].astype(int)"
   ]
  },
  {
   "cell_type": "markdown",
   "id": "d3f19d75",
   "metadata": {
    "papermill": {
     "duration": 0.009442,
     "end_time": "2023-11-12T20:33:31.379591",
     "exception": false,
     "start_time": "2023-11-12T20:33:31.370149",
     "status": "completed"
    },
    "tags": []
   },
   "source": [
    "## PassengerId (Train)\n",
    "### Drop column"
   ]
  },
  {
   "cell_type": "code",
   "execution_count": 21,
   "id": "3139be8b",
   "metadata": {
    "execution": {
     "iopub.execute_input": "2023-11-12T20:33:31.402106Z",
     "iopub.status.busy": "2023-11-12T20:33:31.400950Z",
     "iopub.status.idle": "2023-11-12T20:33:31.407188Z",
     "shell.execute_reply": "2023-11-12T20:33:31.406436Z"
    },
    "papermill": {
     "duration": 0.019406,
     "end_time": "2023-11-12T20:33:31.409242",
     "exception": false,
     "start_time": "2023-11-12T20:33:31.389836",
     "status": "completed"
    },
    "tags": []
   },
   "outputs": [],
   "source": [
    "train_data = train_data.drop(['PassengerId'], axis=1)"
   ]
  },
  {
   "cell_type": "markdown",
   "id": "51eaedf1",
   "metadata": {
    "papermill": {
     "duration": 0.009366,
     "end_time": "2023-11-12T20:33:31.428584",
     "exception": false,
     "start_time": "2023-11-12T20:33:31.419218",
     "status": "completed"
    },
    "tags": []
   },
   "source": [
    "### Getting data ready"
   ]
  },
  {
   "cell_type": "code",
   "execution_count": 22,
   "id": "635f2131",
   "metadata": {
    "execution": {
     "iopub.execute_input": "2023-11-12T20:33:31.450236Z",
     "iopub.status.busy": "2023-11-12T20:33:31.449587Z",
     "iopub.status.idle": "2023-11-12T20:33:31.456395Z",
     "shell.execute_reply": "2023-11-12T20:33:31.455660Z"
    },
    "papermill": {
     "duration": 0.019935,
     "end_time": "2023-11-12T20:33:31.458370",
     "exception": false,
     "start_time": "2023-11-12T20:33:31.438435",
     "status": "completed"
    },
    "tags": []
   },
   "outputs": [],
   "source": [
    "X_train = train_data.drop(\"Survived\", axis=1)\n",
    "Y_train = train_data[\"Survived\"]\n",
    "X_test  = test_data.drop(\"PassengerId\", axis=1).copy()"
   ]
  },
  {
   "cell_type": "markdown",
   "id": "5a70bd20",
   "metadata": {
    "papermill": {
     "duration": 0.009753,
     "end_time": "2023-11-12T20:33:31.478199",
     "exception": false,
     "start_time": "2023-11-12T20:33:31.468446",
     "status": "completed"
    },
    "tags": []
   },
   "source": [
    "# Data Normalization"
   ]
  },
  {
   "cell_type": "code",
   "execution_count": 23,
   "id": "e0714829",
   "metadata": {
    "execution": {
     "iopub.execute_input": "2023-11-12T20:33:31.500083Z",
     "iopub.status.busy": "2023-11-12T20:33:31.499631Z",
     "iopub.status.idle": "2023-11-12T20:33:31.519439Z",
     "shell.execute_reply": "2023-11-12T20:33:31.518356Z"
    },
    "papermill": {
     "duration": 0.033624,
     "end_time": "2023-11-12T20:33:31.521930",
     "exception": false,
     "start_time": "2023-11-12T20:33:31.488306",
     "status": "completed"
    },
    "tags": []
   },
   "outputs": [],
   "source": [
    "for col in X_train.columns:\n",
    "    train_column = X_train[col]\n",
    "    test_column = X_test[col]\n",
    "    \n",
    "    mean_val = train_column.mean()\n",
    "    std_val = train_column.std()\n",
    "    \n",
    "    X_train[col] = (train_column - mean_val) / std_val\n",
    "    X_test[col] = (test_column - mean_val) / std_val"
   ]
  },
  {
   "cell_type": "code",
   "execution_count": 24,
   "id": "09e96874",
   "metadata": {
    "execution": {
     "iopub.execute_input": "2023-11-12T20:33:31.543442Z",
     "iopub.status.busy": "2023-11-12T20:33:31.543073Z",
     "iopub.status.idle": "2023-11-12T20:33:31.557775Z",
     "shell.execute_reply": "2023-11-12T20:33:31.556862Z"
    },
    "papermill": {
     "duration": 0.027785,
     "end_time": "2023-11-12T20:33:31.559763",
     "exception": false,
     "start_time": "2023-11-12T20:33:31.531978",
     "status": "completed"
    },
    "tags": []
   },
   "outputs": [
    {
     "data": {
      "text/html": [
       "<div>\n",
       "<style scoped>\n",
       "    .dataframe tbody tr th:only-of-type {\n",
       "        vertical-align: middle;\n",
       "    }\n",
       "\n",
       "    .dataframe tbody tr th {\n",
       "        vertical-align: top;\n",
       "    }\n",
       "\n",
       "    .dataframe thead th {\n",
       "        text-align: right;\n",
       "    }\n",
       "</style>\n",
       "<table border=\"1\" class=\"dataframe\">\n",
       "  <thead>\n",
       "    <tr style=\"text-align: right;\">\n",
       "      <th></th>\n",
       "      <th>Pclass</th>\n",
       "      <th>Sex</th>\n",
       "      <th>Age</th>\n",
       "      <th>SibSp</th>\n",
       "      <th>Parch</th>\n",
       "      <th>Fare</th>\n",
       "      <th>Embarked</th>\n",
       "      <th>Title</th>\n",
       "      <th>Cabin_Encoded</th>\n",
       "    </tr>\n",
       "  </thead>\n",
       "  <tbody>\n",
       "    <tr>\n",
       "      <th>0</th>\n",
       "      <td>0.826913</td>\n",
       "      <td>-0.737281</td>\n",
       "      <td>-0.579719</td>\n",
       "      <td>0.432550</td>\n",
       "      <td>-0.473408</td>\n",
       "      <td>-0.498667</td>\n",
       "      <td>-0.568518</td>\n",
       "      <td>-0.738132</td>\n",
       "      <td>-0.488186</td>\n",
       "    </tr>\n",
       "    <tr>\n",
       "      <th>1</th>\n",
       "      <td>-1.565228</td>\n",
       "      <td>1.354813</td>\n",
       "      <td>0.649747</td>\n",
       "      <td>0.432550</td>\n",
       "      <td>-0.473408</td>\n",
       "      <td>0.788962</td>\n",
       "      <td>1.004617</td>\n",
       "      <td>0.190788</td>\n",
       "      <td>1.397540</td>\n",
       "    </tr>\n",
       "    <tr>\n",
       "      <th>2</th>\n",
       "      <td>0.826913</td>\n",
       "      <td>1.354813</td>\n",
       "      <td>-0.272352</td>\n",
       "      <td>-0.474279</td>\n",
       "      <td>-0.473408</td>\n",
       "      <td>-0.498667</td>\n",
       "      <td>-0.568518</td>\n",
       "      <td>1.119709</td>\n",
       "      <td>-0.488186</td>\n",
       "    </tr>\n",
       "    <tr>\n",
       "      <th>3</th>\n",
       "      <td>-1.565228</td>\n",
       "      <td>1.354813</td>\n",
       "      <td>0.419222</td>\n",
       "      <td>0.432550</td>\n",
       "      <td>-0.473408</td>\n",
       "      <td>0.426816</td>\n",
       "      <td>-0.568518</td>\n",
       "      <td>0.190788</td>\n",
       "      <td>1.397540</td>\n",
       "    </tr>\n",
       "    <tr>\n",
       "      <th>4</th>\n",
       "      <td>0.826913</td>\n",
       "      <td>-0.737281</td>\n",
       "      <td>0.419222</td>\n",
       "      <td>-0.474279</td>\n",
       "      <td>-0.473408</td>\n",
       "      <td>-0.478548</td>\n",
       "      <td>-0.568518</td>\n",
       "      <td>-0.738132</td>\n",
       "      <td>-0.488186</td>\n",
       "    </tr>\n",
       "  </tbody>\n",
       "</table>\n",
       "</div>"
      ],
      "text/plain": [
       "     Pclass       Sex       Age     SibSp     Parch      Fare  Embarked  \\\n",
       "0  0.826913 -0.737281 -0.579719  0.432550 -0.473408 -0.498667 -0.568518   \n",
       "1 -1.565228  1.354813  0.649747  0.432550 -0.473408  0.788962  1.004617   \n",
       "2  0.826913  1.354813 -0.272352 -0.474279 -0.473408 -0.498667 -0.568518   \n",
       "3 -1.565228  1.354813  0.419222  0.432550 -0.473408  0.426816 -0.568518   \n",
       "4  0.826913 -0.737281  0.419222 -0.474279 -0.473408 -0.478548 -0.568518   \n",
       "\n",
       "      Title  Cabin_Encoded  \n",
       "0 -0.738132      -0.488186  \n",
       "1  0.190788       1.397540  \n",
       "2  1.119709      -0.488186  \n",
       "3  0.190788       1.397540  \n",
       "4 -0.738132      -0.488186  "
      ]
     },
     "execution_count": 24,
     "metadata": {},
     "output_type": "execute_result"
    }
   ],
   "source": [
    "X_train.head()"
   ]
  },
  {
   "cell_type": "code",
   "execution_count": 25,
   "id": "2120baab",
   "metadata": {
    "execution": {
     "iopub.execute_input": "2023-11-12T20:33:31.582048Z",
     "iopub.status.busy": "2023-11-12T20:33:31.581140Z",
     "iopub.status.idle": "2023-11-12T20:33:31.595185Z",
     "shell.execute_reply": "2023-11-12T20:33:31.594063Z"
    },
    "papermill": {
     "duration": 0.027416,
     "end_time": "2023-11-12T20:33:31.597372",
     "exception": false,
     "start_time": "2023-11-12T20:33:31.569956",
     "status": "completed"
    },
    "tags": []
   },
   "outputs": [
    {
     "data": {
      "text/html": [
       "<div>\n",
       "<style scoped>\n",
       "    .dataframe tbody tr th:only-of-type {\n",
       "        vertical-align: middle;\n",
       "    }\n",
       "\n",
       "    .dataframe tbody tr th {\n",
       "        vertical-align: top;\n",
       "    }\n",
       "\n",
       "    .dataframe thead th {\n",
       "        text-align: right;\n",
       "    }\n",
       "</style>\n",
       "<table border=\"1\" class=\"dataframe\">\n",
       "  <thead>\n",
       "    <tr style=\"text-align: right;\">\n",
       "      <th></th>\n",
       "      <th>Pclass</th>\n",
       "      <th>Sex</th>\n",
       "      <th>Age</th>\n",
       "      <th>SibSp</th>\n",
       "      <th>Parch</th>\n",
       "      <th>Fare</th>\n",
       "      <th>Embarked</th>\n",
       "      <th>Title</th>\n",
       "      <th>Cabin_Encoded</th>\n",
       "    </tr>\n",
       "  </thead>\n",
       "  <tbody>\n",
       "    <tr>\n",
       "      <th>0</th>\n",
       "      <td>0.826913</td>\n",
       "      <td>-0.737281</td>\n",
       "      <td>0.342381</td>\n",
       "      <td>-0.474279</td>\n",
       "      <td>-0.473408</td>\n",
       "      <td>-0.498667</td>\n",
       "      <td>2.577752</td>\n",
       "      <td>-0.738132</td>\n",
       "      <td>-0.488186</td>\n",
       "    </tr>\n",
       "    <tr>\n",
       "      <th>1</th>\n",
       "      <td>0.826913</td>\n",
       "      <td>1.354813</td>\n",
       "      <td>1.341322</td>\n",
       "      <td>0.432550</td>\n",
       "      <td>-0.473408</td>\n",
       "      <td>-0.498667</td>\n",
       "      <td>-0.568518</td>\n",
       "      <td>0.190788</td>\n",
       "      <td>-0.488186</td>\n",
       "    </tr>\n",
       "    <tr>\n",
       "      <th>2</th>\n",
       "      <td>-0.369158</td>\n",
       "      <td>-0.737281</td>\n",
       "      <td>2.493947</td>\n",
       "      <td>-0.474279</td>\n",
       "      <td>-0.473408</td>\n",
       "      <td>-0.458429</td>\n",
       "      <td>2.577752</td>\n",
       "      <td>-0.738132</td>\n",
       "      <td>-0.488186</td>\n",
       "    </tr>\n",
       "    <tr>\n",
       "      <th>3</th>\n",
       "      <td>0.826913</td>\n",
       "      <td>-0.737281</td>\n",
       "      <td>-0.195511</td>\n",
       "      <td>-0.474279</td>\n",
       "      <td>-0.473408</td>\n",
       "      <td>-0.478548</td>\n",
       "      <td>-0.568518</td>\n",
       "      <td>-0.738132</td>\n",
       "      <td>-0.488186</td>\n",
       "    </tr>\n",
       "    <tr>\n",
       "      <th>4</th>\n",
       "      <td>0.826913</td>\n",
       "      <td>1.354813</td>\n",
       "      <td>-0.579719</td>\n",
       "      <td>0.432550</td>\n",
       "      <td>0.767199</td>\n",
       "      <td>-0.398071</td>\n",
       "      <td>-0.568518</td>\n",
       "      <td>0.190788</td>\n",
       "      <td>-0.488186</td>\n",
       "    </tr>\n",
       "  </tbody>\n",
       "</table>\n",
       "</div>"
      ],
      "text/plain": [
       "     Pclass       Sex       Age     SibSp     Parch      Fare  Embarked  \\\n",
       "0  0.826913 -0.737281  0.342381 -0.474279 -0.473408 -0.498667  2.577752   \n",
       "1  0.826913  1.354813  1.341322  0.432550 -0.473408 -0.498667 -0.568518   \n",
       "2 -0.369158 -0.737281  2.493947 -0.474279 -0.473408 -0.458429  2.577752   \n",
       "3  0.826913 -0.737281 -0.195511 -0.474279 -0.473408 -0.478548 -0.568518   \n",
       "4  0.826913  1.354813 -0.579719  0.432550  0.767199 -0.398071 -0.568518   \n",
       "\n",
       "      Title  Cabin_Encoded  \n",
       "0 -0.738132      -0.488186  \n",
       "1  0.190788      -0.488186  \n",
       "2 -0.738132      -0.488186  \n",
       "3 -0.738132      -0.488186  \n",
       "4  0.190788      -0.488186  "
      ]
     },
     "execution_count": 25,
     "metadata": {},
     "output_type": "execute_result"
    }
   ],
   "source": [
    "X_test.head()"
   ]
  },
  {
   "cell_type": "code",
   "execution_count": 26,
   "id": "d47843da",
   "metadata": {
    "execution": {
     "iopub.execute_input": "2023-11-12T20:33:31.619712Z",
     "iopub.status.busy": "2023-11-12T20:33:31.619075Z",
     "iopub.status.idle": "2023-11-12T20:33:31.626048Z",
     "shell.execute_reply": "2023-11-12T20:33:31.625145Z"
    },
    "papermill": {
     "duration": 0.02043,
     "end_time": "2023-11-12T20:33:31.628109",
     "exception": false,
     "start_time": "2023-11-12T20:33:31.607679",
     "status": "completed"
    },
    "tags": []
   },
   "outputs": [
    {
     "data": {
      "text/plain": [
       "0    0\n",
       "1    1\n",
       "2    1\n",
       "3    1\n",
       "4    0\n",
       "Name: Survived, dtype: int64"
      ]
     },
     "execution_count": 26,
     "metadata": {},
     "output_type": "execute_result"
    }
   ],
   "source": [
    "Y_train.head()"
   ]
  },
  {
   "cell_type": "markdown",
   "id": "639e3ca2",
   "metadata": {
    "papermill": {
     "duration": 0.010098,
     "end_time": "2023-11-12T20:33:31.648601",
     "exception": false,
     "start_time": "2023-11-12T20:33:31.638503",
     "status": "completed"
    },
    "tags": []
   },
   "source": [
    "# Logistic Regression"
   ]
  },
  {
   "cell_type": "code",
   "execution_count": 27,
   "id": "fc01a912",
   "metadata": {
    "execution": {
     "iopub.execute_input": "2023-11-12T20:33:31.672151Z",
     "iopub.status.busy": "2023-11-12T20:33:31.671772Z",
     "iopub.status.idle": "2023-11-12T20:33:31.679609Z",
     "shell.execute_reply": "2023-11-12T20:33:31.678594Z"
    },
    "papermill": {
     "duration": 0.022994,
     "end_time": "2023-11-12T20:33:31.681900",
     "exception": false,
     "start_time": "2023-11-12T20:33:31.658906",
     "status": "completed"
    },
    "tags": []
   },
   "outputs": [],
   "source": [
    "class LogisticRegression:\n",
    "    def __init__(self, max_iterations=1000, learning_rate=0.01, decay=0.9, epsilon=1e-5):\n",
    "        self.max_iterations = max_iterations\n",
    "        self.learning_rate = learning_rate\n",
    "        self.epsilon = epsilon\n",
    "        self.W = None\n",
    "        self.b = None\n",
    "\n",
    "    def sigmoid(self, z):\n",
    "        a = 1 / (1 + np.exp(-z))\n",
    "        return a\n",
    "\n",
    "    def binary_cross_entropy(self, y_pred, y):\n",
    "        pass\n",
    "\n",
    "    def gradient_descent(self, X, y):\n",
    "        pass\n",
    "\n",
    "    def fit(self, X, y):\n",
    "        pass\n",
    "\n",
    "    def predict(self, X):\n",
    "        y_pred = self.sigmoid(np.dot(X, self.W) + self.b)\n",
    "        return (y_pred >= 0.5).astype(int)"
   ]
  },
  {
   "cell_type": "code",
   "execution_count": 28,
   "id": "7dd0406b",
   "metadata": {
    "execution": {
     "iopub.execute_input": "2023-11-12T20:33:31.705341Z",
     "iopub.status.busy": "2023-11-12T20:33:31.704579Z",
     "iopub.status.idle": "2023-11-12T20:33:31.709724Z",
     "shell.execute_reply": "2023-11-12T20:33:31.709006Z"
    },
    "papermill": {
     "duration": 0.019453,
     "end_time": "2023-11-12T20:33:31.712059",
     "exception": false,
     "start_time": "2023-11-12T20:33:31.692606",
     "status": "completed"
    },
    "tags": []
   },
   "outputs": [],
   "source": [
    "max_iterations = 500\n",
    "learning_rate = 3.5\n",
    "decay = 0.85\n",
    "epsilon = 1e-8\n",
    "\n",
    "model = LogisticRegression(max_iterations, learning_rate, decay, epsilon)"
   ]
  }
 ],
 "metadata": {
  "kernelspec": {
   "display_name": "Python 3",
   "language": "python",
   "name": "python3"
  },
  "language_info": {
   "codemirror_mode": {
    "name": "ipython",
    "version": 3
   },
   "file_extension": ".py",
   "mimetype": "text/x-python",
   "name": "python",
   "nbconvert_exporter": "python",
   "pygments_lexer": "ipython3",
   "version": "3.10.12"
  },
  "papermill": {
   "default_parameters": {},
   "duration": 5.236807,
   "end_time": "2023-11-12T20:33:32.141982",
   "environment_variables": {},
   "exception": null,
   "input_path": "__notebook__.ipynb",
   "output_path": "__notebook__.ipynb",
   "parameters": {},
   "start_time": "2023-11-12T20:33:26.905175",
   "version": "2.4.0"
  }
 },
 "nbformat": 4,
 "nbformat_minor": 5
}

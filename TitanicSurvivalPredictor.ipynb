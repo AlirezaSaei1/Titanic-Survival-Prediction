{
 "cells": [
  {
   "cell_type": "markdown",
   "id": "c9c7c885",
   "metadata": {
    "papermill": {
     "duration": 0.016232,
     "end_time": "2023-11-12T21:08:10.483603",
     "exception": false,
     "start_time": "2023-11-12T21:08:10.467371",
     "status": "completed"
    },
    "tags": []
   },
   "source": [
    "# Import Required Libraraies"
   ]
  },
  {
   "cell_type": "code",
   "execution_count": 1,
   "id": "bdc95374",
   "metadata": {
    "execution": {
     "iopub.execute_input": "2023-11-12T21:08:10.518073Z",
     "iopub.status.busy": "2023-11-12T21:08:10.517281Z",
     "iopub.status.idle": "2023-11-12T21:08:10.949088Z",
     "shell.execute_reply": "2023-11-12T21:08:10.947668Z"
    },
    "papermill": {
     "duration": 0.452805,
     "end_time": "2023-11-12T21:08:10.952300",
     "exception": false,
     "start_time": "2023-11-12T21:08:10.499495",
     "status": "completed"
    },
    "tags": []
   },
   "outputs": [],
   "source": [
    "import re\n",
    "import numpy as np\n",
    "import pandas as pd"
   ]
  },
  {
   "cell_type": "markdown",
   "id": "6a689990",
   "metadata": {
    "papermill": {
     "duration": 0.015135,
     "end_time": "2023-11-12T21:08:10.983744",
     "exception": false,
     "start_time": "2023-11-12T21:08:10.968609",
     "status": "completed"
    },
    "tags": []
   },
   "source": [
    "# Read Data"
   ]
  },
  {
   "cell_type": "code",
   "execution_count": 2,
   "id": "ca5192f8",
   "metadata": {
    "execution": {
     "iopub.execute_input": "2023-11-12T21:08:11.017918Z",
     "iopub.status.busy": "2023-11-12T21:08:11.016564Z",
     "iopub.status.idle": "2023-11-12T21:08:11.055553Z",
     "shell.execute_reply": "2023-11-12T21:08:11.054269Z"
    },
    "papermill": {
     "duration": 0.059269,
     "end_time": "2023-11-12T21:08:11.058581",
     "exception": false,
     "start_time": "2023-11-12T21:08:10.999312",
     "status": "completed"
    },
    "tags": []
   },
   "outputs": [],
   "source": [
    "train_data = pd.read_csv('/kaggle/input/titanic/train.csv')\n",
    "test_data = pd.read_csv('/kaggle/input/titanic/test.csv')\n",
    "gender_sub = pd.read_csv('/kaggle/input/titanic/gender_submission.csv')"
   ]
  },
  {
   "cell_type": "code",
   "execution_count": 3,
   "id": "dc2207cf",
   "metadata": {
    "execution": {
     "iopub.execute_input": "2023-11-12T21:08:11.092302Z",
     "iopub.status.busy": "2023-11-12T21:08:11.091893Z",
     "iopub.status.idle": "2023-11-12T21:08:11.122808Z",
     "shell.execute_reply": "2023-11-12T21:08:11.121372Z"
    },
    "papermill": {
     "duration": 0.05099,
     "end_time": "2023-11-12T21:08:11.125509",
     "exception": false,
     "start_time": "2023-11-12T21:08:11.074519",
     "status": "completed"
    },
    "tags": []
   },
   "outputs": [
    {
     "data": {
      "text/html": [
       "<div>\n",
       "<style scoped>\n",
       "    .dataframe tbody tr th:only-of-type {\n",
       "        vertical-align: middle;\n",
       "    }\n",
       "\n",
       "    .dataframe tbody tr th {\n",
       "        vertical-align: top;\n",
       "    }\n",
       "\n",
       "    .dataframe thead th {\n",
       "        text-align: right;\n",
       "    }\n",
       "</style>\n",
       "<table border=\"1\" class=\"dataframe\">\n",
       "  <thead>\n",
       "    <tr style=\"text-align: right;\">\n",
       "      <th></th>\n",
       "      <th>PassengerId</th>\n",
       "      <th>Pclass</th>\n",
       "      <th>Name</th>\n",
       "      <th>Sex</th>\n",
       "      <th>Age</th>\n",
       "      <th>SibSp</th>\n",
       "      <th>Parch</th>\n",
       "      <th>Ticket</th>\n",
       "      <th>Fare</th>\n",
       "      <th>Cabin</th>\n",
       "      <th>Embarked</th>\n",
       "    </tr>\n",
       "  </thead>\n",
       "  <tbody>\n",
       "    <tr>\n",
       "      <th>0</th>\n",
       "      <td>892</td>\n",
       "      <td>3</td>\n",
       "      <td>Kelly, Mr. James</td>\n",
       "      <td>male</td>\n",
       "      <td>34.5</td>\n",
       "      <td>0</td>\n",
       "      <td>0</td>\n",
       "      <td>330911</td>\n",
       "      <td>7.8292</td>\n",
       "      <td>NaN</td>\n",
       "      <td>Q</td>\n",
       "    </tr>\n",
       "    <tr>\n",
       "      <th>1</th>\n",
       "      <td>893</td>\n",
       "      <td>3</td>\n",
       "      <td>Wilkes, Mrs. James (Ellen Needs)</td>\n",
       "      <td>female</td>\n",
       "      <td>47.0</td>\n",
       "      <td>1</td>\n",
       "      <td>0</td>\n",
       "      <td>363272</td>\n",
       "      <td>7.0000</td>\n",
       "      <td>NaN</td>\n",
       "      <td>S</td>\n",
       "    </tr>\n",
       "    <tr>\n",
       "      <th>2</th>\n",
       "      <td>894</td>\n",
       "      <td>2</td>\n",
       "      <td>Myles, Mr. Thomas Francis</td>\n",
       "      <td>male</td>\n",
       "      <td>62.0</td>\n",
       "      <td>0</td>\n",
       "      <td>0</td>\n",
       "      <td>240276</td>\n",
       "      <td>9.6875</td>\n",
       "      <td>NaN</td>\n",
       "      <td>Q</td>\n",
       "    </tr>\n",
       "    <tr>\n",
       "      <th>3</th>\n",
       "      <td>895</td>\n",
       "      <td>3</td>\n",
       "      <td>Wirz, Mr. Albert</td>\n",
       "      <td>male</td>\n",
       "      <td>27.0</td>\n",
       "      <td>0</td>\n",
       "      <td>0</td>\n",
       "      <td>315154</td>\n",
       "      <td>8.6625</td>\n",
       "      <td>NaN</td>\n",
       "      <td>S</td>\n",
       "    </tr>\n",
       "    <tr>\n",
       "      <th>4</th>\n",
       "      <td>896</td>\n",
       "      <td>3</td>\n",
       "      <td>Hirvonen, Mrs. Alexander (Helga E Lindqvist)</td>\n",
       "      <td>female</td>\n",
       "      <td>22.0</td>\n",
       "      <td>1</td>\n",
       "      <td>1</td>\n",
       "      <td>3101298</td>\n",
       "      <td>12.2875</td>\n",
       "      <td>NaN</td>\n",
       "      <td>S</td>\n",
       "    </tr>\n",
       "  </tbody>\n",
       "</table>\n",
       "</div>"
      ],
      "text/plain": [
       "   PassengerId  Pclass                                          Name     Sex  \\\n",
       "0          892       3                              Kelly, Mr. James    male   \n",
       "1          893       3              Wilkes, Mrs. James (Ellen Needs)  female   \n",
       "2          894       2                     Myles, Mr. Thomas Francis    male   \n",
       "3          895       3                              Wirz, Mr. Albert    male   \n",
       "4          896       3  Hirvonen, Mrs. Alexander (Helga E Lindqvist)  female   \n",
       "\n",
       "    Age  SibSp  Parch   Ticket     Fare Cabin Embarked  \n",
       "0  34.5      0      0   330911   7.8292   NaN        Q  \n",
       "1  47.0      1      0   363272   7.0000   NaN        S  \n",
       "2  62.0      0      0   240276   9.6875   NaN        Q  \n",
       "3  27.0      0      0   315154   8.6625   NaN        S  \n",
       "4  22.0      1      1  3101298  12.2875   NaN        S  "
      ]
     },
     "execution_count": 3,
     "metadata": {},
     "output_type": "execute_result"
    }
   ],
   "source": [
    "test_data.head()"
   ]
  },
  {
   "cell_type": "markdown",
   "id": "431e49d2",
   "metadata": {
    "papermill": {
     "duration": 0.017356,
     "end_time": "2023-11-12T21:08:11.160565",
     "exception": false,
     "start_time": "2023-11-12T21:08:11.143209",
     "status": "completed"
    },
    "tags": []
   },
   "source": [
    "# Data Purification and Feature Engineering"
   ]
  },
  {
   "cell_type": "markdown",
   "id": "f06addf8",
   "metadata": {
    "papermill": {
     "duration": 0.015682,
     "end_time": "2023-11-12T21:08:11.192528",
     "exception": false,
     "start_time": "2023-11-12T21:08:11.176846",
     "status": "completed"
    },
    "tags": []
   },
   "source": [
    "## Name\n",
    "### Extract titles from names"
   ]
  },
  {
   "cell_type": "code",
   "execution_count": 4,
   "id": "b0b594ee",
   "metadata": {
    "execution": {
     "iopub.execute_input": "2023-11-12T21:08:11.226954Z",
     "iopub.status.busy": "2023-11-12T21:08:11.226536Z",
     "iopub.status.idle": "2023-11-12T21:08:11.244847Z",
     "shell.execute_reply": "2023-11-12T21:08:11.243110Z"
    },
    "papermill": {
     "duration": 0.039033,
     "end_time": "2023-11-12T21:08:11.247593",
     "exception": false,
     "start_time": "2023-11-12T21:08:11.208560",
     "status": "completed"
    },
    "tags": []
   },
   "outputs": [
    {
     "name": "stdout",
     "output_type": "stream",
     "text": [
      "All unique titles in names (Train): ['Mr' 'Mrs' 'Miss' 'Master' 'Don' 'Rev' 'Dr' 'Mme' 'Ms' 'Major' 'Lady'\n",
      " 'Sir' 'Mlle' 'Col' 'Capt' 'Countess' 'Jonkheer']\n",
      "All unique titles in names (Test): ['Mr' 'Mrs' 'Miss' 'Master' 'Ms' 'Col' 'Rev' 'Dr' 'Dona']\n"
     ]
    }
   ],
   "source": [
    "train_data['Title'] = train_data['Name'].apply(lambda x: re.search(' ([A-Za-z]+)\\.', x).group(1))\n",
    "test_data['Title'] = test_data['Name'].apply(lambda x: re.search(' ([A-Za-z]+)\\.', x).group(1))\n",
    "\n",
    "# Display the unique titles\n",
    "print(f'All unique titles in names (Train): {train_data[\"Title\"].unique()}')\n",
    "print(f'All unique titles in names (Test): {test_data[\"Title\"].unique()}')"
   ]
  },
  {
   "cell_type": "code",
   "execution_count": 5,
   "id": "ab8a3f83",
   "metadata": {
    "execution": {
     "iopub.execute_input": "2023-11-12T21:08:11.283459Z",
     "iopub.status.busy": "2023-11-12T21:08:11.282784Z",
     "iopub.status.idle": "2023-11-12T21:08:11.296868Z",
     "shell.execute_reply": "2023-11-12T21:08:11.295625Z"
    },
    "papermill": {
     "duration": 0.035845,
     "end_time": "2023-11-12T21:08:11.300127",
     "exception": false,
     "start_time": "2023-11-12T21:08:11.264282",
     "status": "completed"
    },
    "tags": []
   },
   "outputs": [],
   "source": [
    "# Train Data\n",
    "train_data['Title'] = train_data['Title'].replace(['Lady', 'Countess', 'Capt', 'Col', 'Don', 'Dr','Major', 'Rev', 'Sir', 'Jonkheer', 'Dona'], 'Other')\n",
    "train_data['Title'] = train_data['Title'].replace(['Mlle', 'Ms'], 'Miss')\n",
    "train_data['Title'] = train_data['Title'].replace('Mme', 'Mrs')\n",
    "\n",
    "# Test Data\n",
    "test_data['Title'] = test_data['Title'].replace(['Lady', 'Countess', 'Capt', 'Col', 'Don', 'Dr','Major', 'Rev', 'Sir', 'Jonkheer', 'Dona'], 'Other')\n",
    "test_data['Title'] = test_data['Title'].replace(['Mlle', 'Ms'], 'Miss')\n",
    "test_data['Title'] = test_data['Title'].replace('Mme', 'Mrs')"
   ]
  },
  {
   "cell_type": "code",
   "execution_count": 6,
   "id": "319bbfd1",
   "metadata": {
    "execution": {
     "iopub.execute_input": "2023-11-12T21:08:11.336063Z",
     "iopub.status.busy": "2023-11-12T21:08:11.334856Z",
     "iopub.status.idle": "2023-11-12T21:08:11.345113Z",
     "shell.execute_reply": "2023-11-12T21:08:11.343767Z"
    },
    "papermill": {
     "duration": 0.03136,
     "end_time": "2023-11-12T21:08:11.347907",
     "exception": false,
     "start_time": "2023-11-12T21:08:11.316547",
     "status": "completed"
    },
    "tags": []
   },
   "outputs": [
    {
     "name": "stdout",
     "output_type": "stream",
     "text": [
      "Train Titles: ['Mr' 'Mrs' 'Miss' 'Master' 'Other']\n",
      "Test Titles: ['Mr' 'Mrs' 'Miss' 'Master' 'Other']\n"
     ]
    }
   ],
   "source": [
    "print(f'Train Titles: {train_data[\"Title\"].unique()}')\n",
    "print(f'Test Titles: {test_data[\"Title\"].unique()}')"
   ]
  },
  {
   "cell_type": "markdown",
   "id": "67ee16ef",
   "metadata": {
    "papermill": {
     "duration": 0.01586,
     "end_time": "2023-11-12T21:08:11.380733",
     "exception": false,
     "start_time": "2023-11-12T21:08:11.364873",
     "status": "completed"
    },
    "tags": []
   },
   "source": [
    "### Drop Names"
   ]
  },
  {
   "cell_type": "code",
   "execution_count": 7,
   "id": "0ce03b35",
   "metadata": {
    "execution": {
     "iopub.execute_input": "2023-11-12T21:08:11.479458Z",
     "iopub.status.busy": "2023-11-12T21:08:11.478952Z",
     "iopub.status.idle": "2023-11-12T21:08:11.492136Z",
     "shell.execute_reply": "2023-11-12T21:08:11.491097Z"
    },
    "papermill": {
     "duration": 0.097616,
     "end_time": "2023-11-12T21:08:11.494642",
     "exception": false,
     "start_time": "2023-11-12T21:08:11.397026",
     "status": "completed"
    },
    "tags": []
   },
   "outputs": [],
   "source": [
    "train_data = train_data.drop('Name', axis=1)\n",
    "test_data = test_data.drop('Name', axis=1)"
   ]
  },
  {
   "cell_type": "markdown",
   "id": "9aaa9437",
   "metadata": {
    "papermill": {
     "duration": 0.016108,
     "end_time": "2023-11-12T21:08:11.526834",
     "exception": false,
     "start_time": "2023-11-12T21:08:11.510726",
     "status": "completed"
    },
    "tags": []
   },
   "source": [
    "### Encode Titles"
   ]
  },
  {
   "cell_type": "code",
   "execution_count": 8,
   "id": "a182bbdc",
   "metadata": {
    "execution": {
     "iopub.execute_input": "2023-11-12T21:08:11.562164Z",
     "iopub.status.busy": "2023-11-12T21:08:11.560949Z",
     "iopub.status.idle": "2023-11-12T21:08:11.571510Z",
     "shell.execute_reply": "2023-11-12T21:08:11.570242Z"
    },
    "papermill": {
     "duration": 0.031667,
     "end_time": "2023-11-12T21:08:11.574485",
     "exception": false,
     "start_time": "2023-11-12T21:08:11.542818",
     "status": "completed"
    },
    "tags": []
   },
   "outputs": [],
   "source": [
    "title_to_number = {'Mr': 0, 'Mrs': 1, 'Miss': 2, 'Master': 3, 'Other': 4}\n",
    "\n",
    "train_data['Title'] = train_data['Title'].apply(lambda x: title_to_number[x])\n",
    "test_data['Title'] = test_data['Title'].apply(lambda x: title_to_number[x])"
   ]
  },
  {
   "cell_type": "markdown",
   "id": "5562e7a1",
   "metadata": {
    "papermill": {
     "duration": 0.015484,
     "end_time": "2023-11-12T21:08:11.606254",
     "exception": false,
     "start_time": "2023-11-12T21:08:11.590770",
     "status": "completed"
    },
    "tags": []
   },
   "source": [
    "## Ticket\n",
    "### Drop ticket columns"
   ]
  },
  {
   "cell_type": "code",
   "execution_count": 9,
   "id": "06edbfdc",
   "metadata": {
    "execution": {
     "iopub.execute_input": "2023-11-12T21:08:11.640251Z",
     "iopub.status.busy": "2023-11-12T21:08:11.639805Z",
     "iopub.status.idle": "2023-11-12T21:08:11.649005Z",
     "shell.execute_reply": "2023-11-12T21:08:11.647300Z"
    },
    "papermill": {
     "duration": 0.029919,
     "end_time": "2023-11-12T21:08:11.652025",
     "exception": false,
     "start_time": "2023-11-12T21:08:11.622106",
     "status": "completed"
    },
    "tags": []
   },
   "outputs": [],
   "source": [
    "# Drop Ticket Column\n",
    "train_data = train_data.drop('Ticket', axis=1)\n",
    "test_data = test_data.drop('Ticket', axis=1)"
   ]
  },
  {
   "cell_type": "markdown",
   "id": "5c44eebe",
   "metadata": {
    "papermill": {
     "duration": 0.016334,
     "end_time": "2023-11-12T21:08:11.685027",
     "exception": false,
     "start_time": "2023-11-12T21:08:11.668693",
     "status": "completed"
    },
    "tags": []
   },
   "source": [
    "## Sex\n",
    "### Convert sexes to 0s and 1s"
   ]
  },
  {
   "cell_type": "code",
   "execution_count": 10,
   "id": "fe7fa49a",
   "metadata": {
    "execution": {
     "iopub.execute_input": "2023-11-12T21:08:11.721004Z",
     "iopub.status.busy": "2023-11-12T21:08:11.720616Z",
     "iopub.status.idle": "2023-11-12T21:08:11.731382Z",
     "shell.execute_reply": "2023-11-12T21:08:11.729954Z"
    },
    "papermill": {
     "duration": 0.032603,
     "end_time": "2023-11-12T21:08:11.734174",
     "exception": false,
     "start_time": "2023-11-12T21:08:11.701571",
     "status": "completed"
    },
    "tags": []
   },
   "outputs": [
    {
     "name": "stdout",
     "output_type": "stream",
     "text": [
      "Number of distinct values for sex: {0, 1}\n"
     ]
    }
   ],
   "source": [
    "# Encode Sex\n",
    "train_data['Sex'] = train_data['Sex'].replace({'male': 0, 'female': 1})\n",
    "test_data['Sex'] = test_data['Sex'].replace({'male': 0, 'female': 1})\n",
    "print(f'Number of distinct values for sex: {set(test_data[\"Sex\"])}')"
   ]
  },
  {
   "cell_type": "markdown",
   "id": "2d7095e6",
   "metadata": {
    "papermill": {
     "duration": 0.016225,
     "end_time": "2023-11-12T21:08:11.766950",
     "exception": false,
     "start_time": "2023-11-12T21:08:11.750725",
     "status": "completed"
    },
    "tags": []
   },
   "source": [
    "## Cabin\n",
    "### Extract letters from Cabins"
   ]
  },
  {
   "cell_type": "code",
   "execution_count": 11,
   "id": "676cde4a",
   "metadata": {
    "execution": {
     "iopub.execute_input": "2023-11-12T21:08:11.802918Z",
     "iopub.status.busy": "2023-11-12T21:08:11.802481Z",
     "iopub.status.idle": "2023-11-12T21:08:11.817498Z",
     "shell.execute_reply": "2023-11-12T21:08:11.815727Z"
    },
    "papermill": {
     "duration": 0.036233,
     "end_time": "2023-11-12T21:08:11.820209",
     "exception": false,
     "start_time": "2023-11-12T21:08:11.783976",
     "status": "completed"
    },
    "tags": []
   },
   "outputs": [
    {
     "name": "stdout",
     "output_type": "stream",
     "text": [
      "['X' 'C' 'E' 'G' 'D' 'A' 'B' 'F' 'T']\n",
      "['X' 'B' 'E' 'A' 'C' 'D' 'F' 'G']\n"
     ]
    }
   ],
   "source": [
    "train_data['Cabin'] = train_data['Cabin'].fillna(\"X\")\n",
    "print(train_data['Cabin'].str[0].unique())\n",
    "\n",
    "test_data['Cabin'] = test_data['Cabin'].fillna(\"X\")\n",
    "print(test_data['Cabin'].str[0].unique())"
   ]
  },
  {
   "cell_type": "markdown",
   "id": "a1015559",
   "metadata": {
    "papermill": {
     "duration": 0.016339,
     "end_time": "2023-11-12T21:08:11.853503",
     "exception": false,
     "start_time": "2023-11-12T21:08:11.837164",
     "status": "completed"
    },
    "tags": []
   },
   "source": [
    "### Encode letters"
   ]
  },
  {
   "cell_type": "code",
   "execution_count": 12,
   "id": "3cc010c4",
   "metadata": {
    "execution": {
     "iopub.execute_input": "2023-11-12T21:08:11.889011Z",
     "iopub.status.busy": "2023-11-12T21:08:11.888360Z",
     "iopub.status.idle": "2023-11-12T21:08:11.897587Z",
     "shell.execute_reply": "2023-11-12T21:08:11.896369Z"
    },
    "papermill": {
     "duration": 0.030528,
     "end_time": "2023-11-12T21:08:11.900767",
     "exception": false,
     "start_time": "2023-11-12T21:08:11.870239",
     "status": "completed"
    },
    "tags": []
   },
   "outputs": [],
   "source": [
    "cabin_to_number = {'X': 0, 'A': 1, 'B': 2, 'C': 3, 'D': 4, 'E': 5, 'F': 6, 'G': 7, 'T': 8}\n",
    "\n",
    "train_data['Cabin_Encoded'] = train_data['Cabin'].apply(lambda x: cabin_to_number[x[0]])\n",
    "test_data['Cabin_Encoded'] = test_data['Cabin'].apply(lambda x: cabin_to_number[x[0]])"
   ]
  },
  {
   "cell_type": "markdown",
   "id": "3ad66184",
   "metadata": {
    "papermill": {
     "duration": 0.015899,
     "end_time": "2023-11-12T21:08:11.933064",
     "exception": false,
     "start_time": "2023-11-12T21:08:11.917165",
     "status": "completed"
    },
    "tags": []
   },
   "source": [
    "### Drop Cabin Column"
   ]
  },
  {
   "cell_type": "code",
   "execution_count": 13,
   "id": "0f006e24",
   "metadata": {
    "execution": {
     "iopub.execute_input": "2023-11-12T21:08:11.968214Z",
     "iopub.status.busy": "2023-11-12T21:08:11.967565Z",
     "iopub.status.idle": "2023-11-12T21:08:11.974773Z",
     "shell.execute_reply": "2023-11-12T21:08:11.973961Z"
    },
    "papermill": {
     "duration": 0.027711,
     "end_time": "2023-11-12T21:08:11.977130",
     "exception": false,
     "start_time": "2023-11-12T21:08:11.949419",
     "status": "completed"
    },
    "tags": []
   },
   "outputs": [],
   "source": [
    "train_data = train_data.drop('Cabin', axis=1)\n",
    "test_data = test_data.drop('Cabin', axis=1)"
   ]
  },
  {
   "cell_type": "markdown",
   "id": "22afd39a",
   "metadata": {
    "papermill": {
     "duration": 0.016567,
     "end_time": "2023-11-12T21:08:12.009694",
     "exception": false,
     "start_time": "2023-11-12T21:08:11.993127",
     "status": "completed"
    },
    "tags": []
   },
   "source": [
    "## Embarked\n",
    "### Fill Null values with 'S'"
   ]
  },
  {
   "cell_type": "code",
   "execution_count": 14,
   "id": "5ec91444",
   "metadata": {
    "execution": {
     "iopub.execute_input": "2023-11-12T21:08:12.047018Z",
     "iopub.status.busy": "2023-11-12T21:08:12.046382Z",
     "iopub.status.idle": "2023-11-12T21:08:12.059929Z",
     "shell.execute_reply": "2023-11-12T21:08:12.058579Z"
    },
    "papermill": {
     "duration": 0.035479,
     "end_time": "2023-11-12T21:08:12.062762",
     "exception": false,
     "start_time": "2023-11-12T21:08:12.027283",
     "status": "completed"
    },
    "tags": []
   },
   "outputs": [],
   "source": [
    "train_data['Embarked'].describe()\n",
    "\n",
    "train_data['Embarked'] = train_data['Embarked'].fillna('S')\n",
    "test_data['Embarked'] = test_data['Embarked'].fillna('S')"
   ]
  },
  {
   "cell_type": "markdown",
   "id": "eb57f33c",
   "metadata": {
    "papermill": {
     "duration": 0.015712,
     "end_time": "2023-11-12T21:08:12.094714",
     "exception": false,
     "start_time": "2023-11-12T21:08:12.079002",
     "status": "completed"
    },
    "tags": []
   },
   "source": [
    "### Encode Embarked Values"
   ]
  },
  {
   "cell_type": "code",
   "execution_count": 15,
   "id": "44ceb592",
   "metadata": {
    "execution": {
     "iopub.execute_input": "2023-11-12T21:08:12.129430Z",
     "iopub.status.busy": "2023-11-12T21:08:12.128762Z",
     "iopub.status.idle": "2023-11-12T21:08:12.137203Z",
     "shell.execute_reply": "2023-11-12T21:08:12.136382Z"
    },
    "papermill": {
     "duration": 0.028681,
     "end_time": "2023-11-12T21:08:12.139666",
     "exception": false,
     "start_time": "2023-11-12T21:08:12.110985",
     "status": "completed"
    },
    "tags": []
   },
   "outputs": [],
   "source": [
    "embark_to_number = {'S': 0, 'C': 1, 'Q': 2}\n",
    "\n",
    "train_data['Embarked'] = train_data['Embarked'].apply(lambda x: embark_to_number[x])\n",
    "test_data['Embarked'] = test_data['Embarked'].apply(lambda x: embark_to_number[x])"
   ]
  },
  {
   "cell_type": "markdown",
   "id": "82a56e9e",
   "metadata": {
    "papermill": {
     "duration": 0.015931,
     "end_time": "2023-11-12T21:08:12.171760",
     "exception": false,
     "start_time": "2023-11-12T21:08:12.155829",
     "status": "completed"
    },
    "tags": []
   },
   "source": [
    "## Age\n",
    "### Fill null values of age with mean age of train set"
   ]
  },
  {
   "cell_type": "code",
   "execution_count": 16,
   "id": "532f0bd5",
   "metadata": {
    "execution": {
     "iopub.execute_input": "2023-11-12T21:08:12.206460Z",
     "iopub.status.busy": "2023-11-12T21:08:12.205800Z",
     "iopub.status.idle": "2023-11-12T21:08:12.213038Z",
     "shell.execute_reply": "2023-11-12T21:08:12.212184Z"
    },
    "papermill": {
     "duration": 0.027783,
     "end_time": "2023-11-12T21:08:12.215478",
     "exception": false,
     "start_time": "2023-11-12T21:08:12.187695",
     "status": "completed"
    },
    "tags": []
   },
   "outputs": [],
   "source": [
    "mean_age = train_data['Age'].mean()\n",
    "\n",
    "train_data['Age'] = train_data['Age'].fillna(mean_age)\n",
    "test_data['Age'] = test_data['Age'].fillna(mean_age)"
   ]
  },
  {
   "cell_type": "markdown",
   "id": "a2a72ff7",
   "metadata": {
    "papermill": {
     "duration": 0.015555,
     "end_time": "2023-11-12T21:08:12.247095",
     "exception": false,
     "start_time": "2023-11-12T21:08:12.231540",
     "status": "completed"
    },
    "tags": []
   },
   "source": [
    "### Convert ages to int"
   ]
  },
  {
   "cell_type": "code",
   "execution_count": 17,
   "id": "611363b7",
   "metadata": {
    "execution": {
     "iopub.execute_input": "2023-11-12T21:08:12.282014Z",
     "iopub.status.busy": "2023-11-12T21:08:12.281310Z",
     "iopub.status.idle": "2023-11-12T21:08:12.287523Z",
     "shell.execute_reply": "2023-11-12T21:08:12.286636Z"
    },
    "papermill": {
     "duration": 0.026458,
     "end_time": "2023-11-12T21:08:12.290019",
     "exception": false,
     "start_time": "2023-11-12T21:08:12.263561",
     "status": "completed"
    },
    "tags": []
   },
   "outputs": [],
   "source": [
    "train_data['Age'] = train_data['Age'].astype(int)\n",
    "test_data['Age'] = test_data['Age'].astype(int)"
   ]
  },
  {
   "cell_type": "markdown",
   "id": "e823c24d",
   "metadata": {
    "papermill": {
     "duration": 0.016145,
     "end_time": "2023-11-12T21:08:12.323020",
     "exception": false,
     "start_time": "2023-11-12T21:08:12.306875",
     "status": "completed"
    },
    "tags": []
   },
   "source": [
    "## Fare"
   ]
  },
  {
   "cell_type": "code",
   "execution_count": 18,
   "id": "f65f7fd4",
   "metadata": {
    "execution": {
     "iopub.execute_input": "2023-11-12T21:08:12.357282Z",
     "iopub.status.busy": "2023-11-12T21:08:12.356653Z",
     "iopub.status.idle": "2023-11-12T21:08:12.363505Z",
     "shell.execute_reply": "2023-11-12T21:08:12.362432Z"
    },
    "papermill": {
     "duration": 0.027087,
     "end_time": "2023-11-12T21:08:12.366135",
     "exception": false,
     "start_time": "2023-11-12T21:08:12.339048",
     "status": "completed"
    },
    "tags": []
   },
   "outputs": [
    {
     "name": "stdout",
     "output_type": "stream",
     "text": [
      "number of fare null values of train set: 0\n",
      "number of fare null values of test set: 1\n"
     ]
    }
   ],
   "source": [
    "print(f'number of fare null values of train set: {train_data[\"Fare\"].isna().sum()}')\n",
    "print(f'number of fare null values of test set: {test_data[\"Fare\"].isna().sum()}')"
   ]
  },
  {
   "cell_type": "markdown",
   "id": "3a9de565",
   "metadata": {
    "papermill": {
     "duration": 0.018011,
     "end_time": "2023-11-12T21:08:12.401689",
     "exception": false,
     "start_time": "2023-11-12T21:08:12.383678",
     "status": "completed"
    },
    "tags": []
   },
   "source": [
    "### Fill null values with mean fare"
   ]
  },
  {
   "cell_type": "code",
   "execution_count": 19,
   "id": "d54c1514",
   "metadata": {
    "execution": {
     "iopub.execute_input": "2023-11-12T21:08:12.438066Z",
     "iopub.status.busy": "2023-11-12T21:08:12.437455Z",
     "iopub.status.idle": "2023-11-12T21:08:12.443734Z",
     "shell.execute_reply": "2023-11-12T21:08:12.442662Z"
    },
    "papermill": {
     "duration": 0.027797,
     "end_time": "2023-11-12T21:08:12.446680",
     "exception": false,
     "start_time": "2023-11-12T21:08:12.418883",
     "status": "completed"
    },
    "tags": []
   },
   "outputs": [],
   "source": [
    "mean_fare = train_data['Fare'].mean()\n",
    "\n",
    "train_data['Fare'] = train_data['Fare'].fillna(mean_fare)\n",
    "test_data['Fare'] = test_data['Fare'].fillna(mean_fare)"
   ]
  },
  {
   "cell_type": "markdown",
   "id": "d3890e5f",
   "metadata": {
    "papermill": {
     "duration": 0.015764,
     "end_time": "2023-11-12T21:08:12.478916",
     "exception": false,
     "start_time": "2023-11-12T21:08:12.463152",
     "status": "completed"
    },
    "tags": []
   },
   "source": [
    "### Convert fares to ints"
   ]
  },
  {
   "cell_type": "code",
   "execution_count": 20,
   "id": "3be8bda0",
   "metadata": {
    "execution": {
     "iopub.execute_input": "2023-11-12T21:08:12.513358Z",
     "iopub.status.busy": "2023-11-12T21:08:12.512899Z",
     "iopub.status.idle": "2023-11-12T21:08:12.520073Z",
     "shell.execute_reply": "2023-11-12T21:08:12.518842Z"
    },
    "papermill": {
     "duration": 0.027539,
     "end_time": "2023-11-12T21:08:12.522567",
     "exception": false,
     "start_time": "2023-11-12T21:08:12.495028",
     "status": "completed"
    },
    "tags": []
   },
   "outputs": [],
   "source": [
    "train_data['Fare'] = train_data['Fare'].astype(int)\n",
    "test_data['Fare'] = test_data['Fare'].astype(int)"
   ]
  },
  {
   "cell_type": "markdown",
   "id": "de8b7483",
   "metadata": {
    "papermill": {
     "duration": 0.01594,
     "end_time": "2023-11-12T21:08:12.555231",
     "exception": false,
     "start_time": "2023-11-12T21:08:12.539291",
     "status": "completed"
    },
    "tags": []
   },
   "source": [
    "## PassengerId (Train)\n",
    "### Drop column"
   ]
  },
  {
   "cell_type": "code",
   "execution_count": 21,
   "id": "80e63dda",
   "metadata": {
    "execution": {
     "iopub.execute_input": "2023-11-12T21:08:12.591141Z",
     "iopub.status.busy": "2023-11-12T21:08:12.590425Z",
     "iopub.status.idle": "2023-11-12T21:08:12.596992Z",
     "shell.execute_reply": "2023-11-12T21:08:12.596070Z"
    },
    "papermill": {
     "duration": 0.026985,
     "end_time": "2023-11-12T21:08:12.599533",
     "exception": false,
     "start_time": "2023-11-12T21:08:12.572548",
     "status": "completed"
    },
    "tags": []
   },
   "outputs": [],
   "source": [
    "train_data = train_data.drop(['PassengerId'], axis=1)"
   ]
  },
  {
   "cell_type": "markdown",
   "id": "0a6ff1cc",
   "metadata": {
    "papermill": {
     "duration": 0.015769,
     "end_time": "2023-11-12T21:08:12.632064",
     "exception": false,
     "start_time": "2023-11-12T21:08:12.616295",
     "status": "completed"
    },
    "tags": []
   },
   "source": [
    "### Getting data ready"
   ]
  },
  {
   "cell_type": "code",
   "execution_count": 22,
   "id": "c096b732",
   "metadata": {
    "execution": {
     "iopub.execute_input": "2023-11-12T21:08:12.666296Z",
     "iopub.status.busy": "2023-11-12T21:08:12.665613Z",
     "iopub.status.idle": "2023-11-12T21:08:12.673514Z",
     "shell.execute_reply": "2023-11-12T21:08:12.672687Z"
    },
    "papermill": {
     "duration": 0.027733,
     "end_time": "2023-11-12T21:08:12.675836",
     "exception": false,
     "start_time": "2023-11-12T21:08:12.648103",
     "status": "completed"
    },
    "tags": []
   },
   "outputs": [],
   "source": [
    "X_train = train_data.drop(\"Survived\", axis=1)\n",
    "Y_train = train_data[\"Survived\"]\n",
    "X_test  = test_data.drop(\"PassengerId\", axis=1).copy()"
   ]
  },
  {
   "cell_type": "markdown",
   "id": "3ef0cb12",
   "metadata": {
    "papermill": {
     "duration": 0.015656,
     "end_time": "2023-11-12T21:08:12.707388",
     "exception": false,
     "start_time": "2023-11-12T21:08:12.691732",
     "status": "completed"
    },
    "tags": []
   },
   "source": [
    "# Data Normalization"
   ]
  },
  {
   "cell_type": "code",
   "execution_count": 23,
   "id": "af4159a5",
   "metadata": {
    "execution": {
     "iopub.execute_input": "2023-11-12T21:08:12.741337Z",
     "iopub.status.busy": "2023-11-12T21:08:12.740945Z",
     "iopub.status.idle": "2023-11-12T21:08:12.762460Z",
     "shell.execute_reply": "2023-11-12T21:08:12.761633Z"
    },
    "papermill": {
     "duration": 0.041515,
     "end_time": "2023-11-12T21:08:12.765003",
     "exception": false,
     "start_time": "2023-11-12T21:08:12.723488",
     "status": "completed"
    },
    "tags": []
   },
   "outputs": [],
   "source": [
    "for col in X_train.columns:\n",
    "    train_column = X_train[col]\n",
    "    test_column = X_test[col]\n",
    "    \n",
    "    mean_val = train_column.mean()\n",
    "    std_val = train_column.std()\n",
    "    \n",
    "    X_train[col] = (train_column - mean_val) / std_val\n",
    "    X_test[col] = (test_column - mean_val) / std_val"
   ]
  },
  {
   "cell_type": "code",
   "execution_count": 24,
   "id": "b48fb5fd",
   "metadata": {
    "execution": {
     "iopub.execute_input": "2023-11-12T21:08:12.799123Z",
     "iopub.status.busy": "2023-11-12T21:08:12.798515Z",
     "iopub.status.idle": "2023-11-12T21:08:12.815866Z",
     "shell.execute_reply": "2023-11-12T21:08:12.814388Z"
    },
    "papermill": {
     "duration": 0.037401,
     "end_time": "2023-11-12T21:08:12.818409",
     "exception": false,
     "start_time": "2023-11-12T21:08:12.781008",
     "status": "completed"
    },
    "tags": []
   },
   "outputs": [
    {
     "data": {
      "text/html": [
       "<div>\n",
       "<style scoped>\n",
       "    .dataframe tbody tr th:only-of-type {\n",
       "        vertical-align: middle;\n",
       "    }\n",
       "\n",
       "    .dataframe tbody tr th {\n",
       "        vertical-align: top;\n",
       "    }\n",
       "\n",
       "    .dataframe thead th {\n",
       "        text-align: right;\n",
       "    }\n",
       "</style>\n",
       "<table border=\"1\" class=\"dataframe\">\n",
       "  <thead>\n",
       "    <tr style=\"text-align: right;\">\n",
       "      <th></th>\n",
       "      <th>Pclass</th>\n",
       "      <th>Sex</th>\n",
       "      <th>Age</th>\n",
       "      <th>SibSp</th>\n",
       "      <th>Parch</th>\n",
       "      <th>Fare</th>\n",
       "      <th>Embarked</th>\n",
       "      <th>Title</th>\n",
       "      <th>Cabin_Encoded</th>\n",
       "    </tr>\n",
       "  </thead>\n",
       "  <tbody>\n",
       "    <tr>\n",
       "      <th>0</th>\n",
       "      <td>0.826913</td>\n",
       "      <td>-0.737281</td>\n",
       "      <td>-0.579719</td>\n",
       "      <td>0.432550</td>\n",
       "      <td>-0.473408</td>\n",
       "      <td>-0.498667</td>\n",
       "      <td>-0.568518</td>\n",
       "      <td>-0.738132</td>\n",
       "      <td>-0.488186</td>\n",
       "    </tr>\n",
       "    <tr>\n",
       "      <th>1</th>\n",
       "      <td>-1.565228</td>\n",
       "      <td>1.354813</td>\n",
       "      <td>0.649747</td>\n",
       "      <td>0.432550</td>\n",
       "      <td>-0.473408</td>\n",
       "      <td>0.788962</td>\n",
       "      <td>1.004617</td>\n",
       "      <td>0.190788</td>\n",
       "      <td>1.397540</td>\n",
       "    </tr>\n",
       "    <tr>\n",
       "      <th>2</th>\n",
       "      <td>0.826913</td>\n",
       "      <td>1.354813</td>\n",
       "      <td>-0.272352</td>\n",
       "      <td>-0.474279</td>\n",
       "      <td>-0.473408</td>\n",
       "      <td>-0.498667</td>\n",
       "      <td>-0.568518</td>\n",
       "      <td>1.119709</td>\n",
       "      <td>-0.488186</td>\n",
       "    </tr>\n",
       "    <tr>\n",
       "      <th>3</th>\n",
       "      <td>-1.565228</td>\n",
       "      <td>1.354813</td>\n",
       "      <td>0.419222</td>\n",
       "      <td>0.432550</td>\n",
       "      <td>-0.473408</td>\n",
       "      <td>0.426816</td>\n",
       "      <td>-0.568518</td>\n",
       "      <td>0.190788</td>\n",
       "      <td>1.397540</td>\n",
       "    </tr>\n",
       "    <tr>\n",
       "      <th>4</th>\n",
       "      <td>0.826913</td>\n",
       "      <td>-0.737281</td>\n",
       "      <td>0.419222</td>\n",
       "      <td>-0.474279</td>\n",
       "      <td>-0.473408</td>\n",
       "      <td>-0.478548</td>\n",
       "      <td>-0.568518</td>\n",
       "      <td>-0.738132</td>\n",
       "      <td>-0.488186</td>\n",
       "    </tr>\n",
       "  </tbody>\n",
       "</table>\n",
       "</div>"
      ],
      "text/plain": [
       "     Pclass       Sex       Age     SibSp     Parch      Fare  Embarked  \\\n",
       "0  0.826913 -0.737281 -0.579719  0.432550 -0.473408 -0.498667 -0.568518   \n",
       "1 -1.565228  1.354813  0.649747  0.432550 -0.473408  0.788962  1.004617   \n",
       "2  0.826913  1.354813 -0.272352 -0.474279 -0.473408 -0.498667 -0.568518   \n",
       "3 -1.565228  1.354813  0.419222  0.432550 -0.473408  0.426816 -0.568518   \n",
       "4  0.826913 -0.737281  0.419222 -0.474279 -0.473408 -0.478548 -0.568518   \n",
       "\n",
       "      Title  Cabin_Encoded  \n",
       "0 -0.738132      -0.488186  \n",
       "1  0.190788       1.397540  \n",
       "2  1.119709      -0.488186  \n",
       "3  0.190788       1.397540  \n",
       "4 -0.738132      -0.488186  "
      ]
     },
     "execution_count": 24,
     "metadata": {},
     "output_type": "execute_result"
    }
   ],
   "source": [
    "X_train.head()"
   ]
  },
  {
   "cell_type": "code",
   "execution_count": 25,
   "id": "f661cdde",
   "metadata": {
    "execution": {
     "iopub.execute_input": "2023-11-12T21:08:12.853100Z",
     "iopub.status.busy": "2023-11-12T21:08:12.852572Z",
     "iopub.status.idle": "2023-11-12T21:08:12.872940Z",
     "shell.execute_reply": "2023-11-12T21:08:12.871580Z"
    },
    "papermill": {
     "duration": 0.040865,
     "end_time": "2023-11-12T21:08:12.875578",
     "exception": false,
     "start_time": "2023-11-12T21:08:12.834713",
     "status": "completed"
    },
    "tags": []
   },
   "outputs": [
    {
     "data": {
      "text/html": [
       "<div>\n",
       "<style scoped>\n",
       "    .dataframe tbody tr th:only-of-type {\n",
       "        vertical-align: middle;\n",
       "    }\n",
       "\n",
       "    .dataframe tbody tr th {\n",
       "        vertical-align: top;\n",
       "    }\n",
       "\n",
       "    .dataframe thead th {\n",
       "        text-align: right;\n",
       "    }\n",
       "</style>\n",
       "<table border=\"1\" class=\"dataframe\">\n",
       "  <thead>\n",
       "    <tr style=\"text-align: right;\">\n",
       "      <th></th>\n",
       "      <th>Pclass</th>\n",
       "      <th>Sex</th>\n",
       "      <th>Age</th>\n",
       "      <th>SibSp</th>\n",
       "      <th>Parch</th>\n",
       "      <th>Fare</th>\n",
       "      <th>Embarked</th>\n",
       "      <th>Title</th>\n",
       "      <th>Cabin_Encoded</th>\n",
       "    </tr>\n",
       "  </thead>\n",
       "  <tbody>\n",
       "    <tr>\n",
       "      <th>0</th>\n",
       "      <td>0.826913</td>\n",
       "      <td>-0.737281</td>\n",
       "      <td>0.342381</td>\n",
       "      <td>-0.474279</td>\n",
       "      <td>-0.473408</td>\n",
       "      <td>-0.498667</td>\n",
       "      <td>2.577752</td>\n",
       "      <td>-0.738132</td>\n",
       "      <td>-0.488186</td>\n",
       "    </tr>\n",
       "    <tr>\n",
       "      <th>1</th>\n",
       "      <td>0.826913</td>\n",
       "      <td>1.354813</td>\n",
       "      <td>1.341322</td>\n",
       "      <td>0.432550</td>\n",
       "      <td>-0.473408</td>\n",
       "      <td>-0.498667</td>\n",
       "      <td>-0.568518</td>\n",
       "      <td>0.190788</td>\n",
       "      <td>-0.488186</td>\n",
       "    </tr>\n",
       "    <tr>\n",
       "      <th>2</th>\n",
       "      <td>-0.369158</td>\n",
       "      <td>-0.737281</td>\n",
       "      <td>2.493947</td>\n",
       "      <td>-0.474279</td>\n",
       "      <td>-0.473408</td>\n",
       "      <td>-0.458429</td>\n",
       "      <td>2.577752</td>\n",
       "      <td>-0.738132</td>\n",
       "      <td>-0.488186</td>\n",
       "    </tr>\n",
       "    <tr>\n",
       "      <th>3</th>\n",
       "      <td>0.826913</td>\n",
       "      <td>-0.737281</td>\n",
       "      <td>-0.195511</td>\n",
       "      <td>-0.474279</td>\n",
       "      <td>-0.473408</td>\n",
       "      <td>-0.478548</td>\n",
       "      <td>-0.568518</td>\n",
       "      <td>-0.738132</td>\n",
       "      <td>-0.488186</td>\n",
       "    </tr>\n",
       "    <tr>\n",
       "      <th>4</th>\n",
       "      <td>0.826913</td>\n",
       "      <td>1.354813</td>\n",
       "      <td>-0.579719</td>\n",
       "      <td>0.432550</td>\n",
       "      <td>0.767199</td>\n",
       "      <td>-0.398071</td>\n",
       "      <td>-0.568518</td>\n",
       "      <td>0.190788</td>\n",
       "      <td>-0.488186</td>\n",
       "    </tr>\n",
       "  </tbody>\n",
       "</table>\n",
       "</div>"
      ],
      "text/plain": [
       "     Pclass       Sex       Age     SibSp     Parch      Fare  Embarked  \\\n",
       "0  0.826913 -0.737281  0.342381 -0.474279 -0.473408 -0.498667  2.577752   \n",
       "1  0.826913  1.354813  1.341322  0.432550 -0.473408 -0.498667 -0.568518   \n",
       "2 -0.369158 -0.737281  2.493947 -0.474279 -0.473408 -0.458429  2.577752   \n",
       "3  0.826913 -0.737281 -0.195511 -0.474279 -0.473408 -0.478548 -0.568518   \n",
       "4  0.826913  1.354813 -0.579719  0.432550  0.767199 -0.398071 -0.568518   \n",
       "\n",
       "      Title  Cabin_Encoded  \n",
       "0 -0.738132      -0.488186  \n",
       "1  0.190788      -0.488186  \n",
       "2 -0.738132      -0.488186  \n",
       "3 -0.738132      -0.488186  \n",
       "4  0.190788      -0.488186  "
      ]
     },
     "execution_count": 25,
     "metadata": {},
     "output_type": "execute_result"
    }
   ],
   "source": [
    "X_test.head()"
   ]
  },
  {
   "cell_type": "code",
   "execution_count": 26,
   "id": "5e103b18",
   "metadata": {
    "execution": {
     "iopub.execute_input": "2023-11-12T21:08:12.911274Z",
     "iopub.status.busy": "2023-11-12T21:08:12.910892Z",
     "iopub.status.idle": "2023-11-12T21:08:12.918902Z",
     "shell.execute_reply": "2023-11-12T21:08:12.917702Z"
    },
    "papermill": {
     "duration": 0.028731,
     "end_time": "2023-11-12T21:08:12.921308",
     "exception": false,
     "start_time": "2023-11-12T21:08:12.892577",
     "status": "completed"
    },
    "tags": []
   },
   "outputs": [
    {
     "data": {
      "text/plain": [
       "0    0\n",
       "1    1\n",
       "2    1\n",
       "3    1\n",
       "4    0\n",
       "Name: Survived, dtype: int64"
      ]
     },
     "execution_count": 26,
     "metadata": {},
     "output_type": "execute_result"
    }
   ],
   "source": [
    "Y_train.head()"
   ]
  },
  {
   "cell_type": "markdown",
   "id": "1ca12ddb",
   "metadata": {
    "papermill": {
     "duration": 0.016777,
     "end_time": "2023-11-12T21:08:12.956004",
     "exception": false,
     "start_time": "2023-11-12T21:08:12.939227",
     "status": "completed"
    },
    "tags": []
   },
   "source": [
    "## Separate cross validation set from train data"
   ]
  },
  {
   "cell_type": "code",
   "execution_count": 27,
   "id": "7af8b6f8",
   "metadata": {
    "execution": {
     "iopub.execute_input": "2023-11-12T21:08:12.991880Z",
     "iopub.status.busy": "2023-11-12T21:08:12.991409Z",
     "iopub.status.idle": "2023-11-12T21:08:13.000507Z",
     "shell.execute_reply": "2023-11-12T21:08:12.999293Z"
    },
    "papermill": {
     "duration": 0.030567,
     "end_time": "2023-11-12T21:08:13.003475",
     "exception": false,
     "start_time": "2023-11-12T21:08:12.972908",
     "status": "completed"
    },
    "tags": []
   },
   "outputs": [],
   "source": [
    "# Set the random seed for reproducibility\n",
    "np.random.seed(42)\n",
    "\n",
    "# Shuffle the data\n",
    "shuffle_indices = np.random.permutation(len(X_train))\n",
    "X_train_shuffled = X_train.values[shuffle_indices]\n",
    "Y_train_shuffled = Y_train.values[shuffle_indices]\n",
    "\n",
    "# Define the proportion of data to be allocated for cross-validation\n",
    "val_split = 0.2\n",
    "\n",
    "# Calculate the number of examples for the cross-validation set\n",
    "num_val = int(val_split * len(X_train_shuffled))\n",
    "\n",
    "# Split the data into training and cross-validation sets\n",
    "X_train = X_train_shuffled[:-num_val]\n",
    "Y_train = Y_train_shuffled[:-num_val]\n",
    "X_val = X_train_shuffled[-num_val:]\n",
    "Y_val = Y_train_shuffled[-num_val:]"
   ]
  },
  {
   "cell_type": "markdown",
   "id": "b9bafb17",
   "metadata": {
    "papermill": {
     "duration": 0.016523,
     "end_time": "2023-11-12T21:08:13.037189",
     "exception": false,
     "start_time": "2023-11-12T21:08:13.020666",
     "status": "completed"
    },
    "tags": []
   },
   "source": [
    "# Logistic Regression"
   ]
  },
  {
   "cell_type": "code",
   "execution_count": 28,
   "id": "75284b55",
   "metadata": {
    "execution": {
     "iopub.execute_input": "2023-11-12T21:08:13.074924Z",
     "iopub.status.busy": "2023-11-12T21:08:13.073289Z",
     "iopub.status.idle": "2023-11-12T21:08:13.091009Z",
     "shell.execute_reply": "2023-11-12T21:08:13.089901Z"
    },
    "papermill": {
     "duration": 0.039495,
     "end_time": "2023-11-12T21:08:13.093693",
     "exception": false,
     "start_time": "2023-11-12T21:08:13.054198",
     "status": "completed"
    },
    "tags": []
   },
   "outputs": [],
   "source": [
    "class LogisticRegression:\n",
    "    def __init__(self, max_iterations=1000, learning_rate=0.01, decay=0.9, epsilon=1e-5):\n",
    "        self.max_iterations = max_iterations\n",
    "        self.learning_rate = learning_rate\n",
    "        self.epsilon = epsilon\n",
    "        self.W = None\n",
    "        self.b = None\n",
    "\n",
    "        \n",
    "    def sigmoid(self, z):\n",
    "        a = 1 / (1 + np.exp(-z))\n",
    "        return a\n",
    "\n",
    "    \n",
    "    def binary_cross_entropy(self, y_pred, y):\n",
    "        epsilon = 1e-15\n",
    "        y_pred = np.clip(y_pred, epsilon, 1 - epsilon)\n",
    "        loss = -(y * np.log(y_pred) + (1 - y) * np.log(1 - y_pred)).mean()\n",
    "        return loss\n",
    "\n",
    "    \n",
    "    def gradient_descent(self, X, y):\n",
    "        m, n = X.shape\n",
    "\n",
    "        dz = self.sigmoid(X.dot(self.W) + self.b) - y\n",
    "        dw = np.dot(X.T, dz) / m\n",
    "        db = np.sum(dz) / m\n",
    "\n",
    "        return dw, db\n",
    "\n",
    "    \n",
    "    def fit(self, X, y):\n",
    "        n_samples, n_features = X.shape\n",
    "\n",
    "        self.W = np.random.randn(n_features) * 0.01\n",
    "        self.b = 0\n",
    "        previous_loss = np.inf\n",
    "        lr = self.learning_rate\n",
    "\n",
    "        for _ in range(self.max_iterations):\n",
    "            # Calculate Gradients\n",
    "            dw, db = self.gradient_descent(X, y)\n",
    "\n",
    "            # Update Parameters\n",
    "            self.W -= lr * dw\n",
    "            self.b -= lr * db\n",
    "\n",
    "            # Check for Early Stop\n",
    "            current_loss = self.binary_cross_entropy(self.sigmoid(X.dot(self.W) + self.b), y)\n",
    "            if np.abs(current_loss - previous_loss) < self.epsilon:\n",
    "                print(f'Stopping Train at Iteration No.{_}')\n",
    "                break\n",
    "\n",
    "            previous_loss = current_loss\n",
    "            lr *= 0.92\n",
    "\n",
    "        print(f'Training Complete with Binary Cross Entropy Loss of {current_loss}')\n",
    "\n",
    "        \n",
    "    def predict(self, X):\n",
    "        y_pred = self.sigmoid(np.dot(X, self.W) + self.b)\n",
    "        return (y_pred >= 0.5).astype(int)"
   ]
  },
  {
   "cell_type": "markdown",
   "id": "c94b3edd",
   "metadata": {
    "papermill": {
     "duration": 0.016583,
     "end_time": "2023-11-12T21:08:13.127295",
     "exception": false,
     "start_time": "2023-11-12T21:08:13.110712",
     "status": "completed"
    },
    "tags": []
   },
   "source": [
    "## Check different hyperparameters"
   ]
  },
  {
   "cell_type": "code",
   "execution_count": 29,
   "id": "8c275637",
   "metadata": {
    "execution": {
     "iopub.execute_input": "2023-11-12T21:08:13.163755Z",
     "iopub.status.busy": "2023-11-12T21:08:13.163239Z",
     "iopub.status.idle": "2023-11-12T21:08:17.914912Z",
     "shell.execute_reply": "2023-11-12T21:08:17.912585Z"
    },
    "papermill": {
     "duration": 4.773556,
     "end_time": "2023-11-12T21:08:17.917637",
     "exception": false,
     "start_time": "2023-11-12T21:08:13.144081",
     "status": "completed"
    },
    "scrolled": true,
    "tags": []
   },
   "outputs": [
    {
     "name": "stdout",
     "output_type": "stream",
     "text": [
      "Stopping Train at Iteration No.78\n",
      "Training Complete with Binary Cross Entropy Loss of 0.5566518540336988\n",
      "Training Complete with Binary Cross Entropy Loss of 0.5563779914995787\n",
      "Stopping Train at Iteration No.77\n",
      "Training Complete with Binary Cross Entropy Loss of 0.5550160361295557\n",
      "Training Complete with Binary Cross Entropy Loss of 0.5560016172397695\n",
      "Stopping Train at Iteration No.77\n",
      "Training Complete with Binary Cross Entropy Loss of 0.5527806910969416\n",
      "Training Complete with Binary Cross Entropy Loss of 0.5532842271468729\n",
      "Stopping Train at Iteration No.77\n",
      "Training Complete with Binary Cross Entropy Loss of 0.5545112951630043\n",
      "Training Complete with Binary Cross Entropy Loss of 0.5549212866012389\n",
      "Stopping Train at Iteration No.78\n",
      "Training Complete with Binary Cross Entropy Loss of 0.5565202658827072\n",
      "Training Complete with Binary Cross Entropy Loss of 0.554279642981674\n",
      "Stopping Train at Iteration No.67\n",
      "Training Complete with Binary Cross Entropy Loss of 0.4556851466299655\n",
      "Training Complete with Binary Cross Entropy Loss of 0.4555060616761362\n",
      "Stopping Train at Iteration No.67\n",
      "Training Complete with Binary Cross Entropy Loss of 0.4553292220250214\n",
      "Training Complete with Binary Cross Entropy Loss of 0.45539279590845266\n",
      "Stopping Train at Iteration No.67\n",
      "Training Complete with Binary Cross Entropy Loss of 0.45523278269287504\n",
      "Training Complete with Binary Cross Entropy Loss of 0.4553116419158523\n",
      "Stopping Train at Iteration No.67\n",
      "Training Complete with Binary Cross Entropy Loss of 0.45557353640494724\n",
      "Training Complete with Binary Cross Entropy Loss of 0.455486751534745\n",
      "Stopping Train at Iteration No.68\n",
      "Training Complete with Binary Cross Entropy Loss of 0.4559679684906452\n",
      "Training Complete with Binary Cross Entropy Loss of 0.455400225637551\n",
      "Stopping Train at Iteration No.56\n",
      "Training Complete with Binary Cross Entropy Loss of 0.4392422123858994\n",
      "Training Complete with Binary Cross Entropy Loss of 0.4391706400252895\n",
      "Stopping Train at Iteration No.56\n",
      "Training Complete with Binary Cross Entropy Loss of 0.43930029927824765\n",
      "Training Complete with Binary Cross Entropy Loss of 0.43925165428650575\n",
      "Stopping Train at Iteration No.56\n",
      "Training Complete with Binary Cross Entropy Loss of 0.43916649191533236\n",
      "Training Complete with Binary Cross Entropy Loss of 0.43925013335765134\n",
      "Stopping Train at Iteration No.56\n",
      "Training Complete with Binary Cross Entropy Loss of 0.4393298434776387\n",
      "Training Complete with Binary Cross Entropy Loss of 0.43917352863550935\n",
      "Stopping Train at Iteration No.56\n",
      "Training Complete with Binary Cross Entropy Loss of 0.43931553498195824\n",
      "Training Complete with Binary Cross Entropy Loss of 0.4391371056906299\n",
      "Stopping Train at Iteration No.47\n",
      "Training Complete with Binary Cross Entropy Loss of 0.43532773065461944\n",
      "Training Complete with Binary Cross Entropy Loss of 0.43522830613187485\n",
      "Stopping Train at Iteration No.46\n",
      "Training Complete with Binary Cross Entropy Loss of 0.43525949726552815\n",
      "Training Complete with Binary Cross Entropy Loss of 0.4352300953660538\n",
      "Stopping Train at Iteration No.47\n",
      "Training Complete with Binary Cross Entropy Loss of 0.4352742582513175\n",
      "Training Complete with Binary Cross Entropy Loss of 0.4352680085152702\n",
      "Stopping Train at Iteration No.47\n",
      "Training Complete with Binary Cross Entropy Loss of 0.4353145848503125\n",
      "Training Complete with Binary Cross Entropy Loss of 0.43521367274730566\n",
      "Stopping Train at Iteration No.47\n",
      "Training Complete with Binary Cross Entropy Loss of 0.4353349557742861\n",
      "Training Complete with Binary Cross Entropy Loss of 0.43524447027702645\n",
      "Stopping Train at Iteration No.39\n",
      "Training Complete with Binary Cross Entropy Loss of 0.4340229213310491\n",
      "Training Complete with Binary Cross Entropy Loss of 0.43394151522764396\n",
      "Stopping Train at Iteration No.39\n",
      "Training Complete with Binary Cross Entropy Loss of 0.43403493004652177\n",
      "Training Complete with Binary Cross Entropy Loss of 0.4339166570093266\n",
      "Stopping Train at Iteration No.39\n",
      "Training Complete with Binary Cross Entropy Loss of 0.43402554034879853\n",
      "Training Complete with Binary Cross Entropy Loss of 0.43393490021615555\n",
      "Stopping Train at Iteration No.39\n",
      "Training Complete with Binary Cross Entropy Loss of 0.4340176270794936\n",
      "Training Complete with Binary Cross Entropy Loss of 0.4339299985481859\n",
      "Stopping Train at Iteration No.39\n",
      "Training Complete with Binary Cross Entropy Loss of 0.434024414803002\n",
      "Training Complete with Binary Cross Entropy Loss of 0.4339234712135789\n",
      "Stopping Train at Iteration No.33\n",
      "Training Complete with Binary Cross Entropy Loss of 0.4334927958616286\n",
      "Training Complete with Binary Cross Entropy Loss of 0.4334311006297559\n",
      "Stopping Train at Iteration No.32\n",
      "Training Complete with Binary Cross Entropy Loss of 0.4334953331226868\n",
      "Training Complete with Binary Cross Entropy Loss of 0.43339457974105106\n",
      "Stopping Train at Iteration No.33\n",
      "Training Complete with Binary Cross Entropy Loss of 0.43351664887581987\n",
      "Training Complete with Binary Cross Entropy Loss of 0.4334268811189706\n",
      "Stopping Train at Iteration No.32\n",
      "Training Complete with Binary Cross Entropy Loss of 0.4334937045065081\n",
      "Training Complete with Binary Cross Entropy Loss of 0.43338319292341304\n",
      "Stopping Train at Iteration No.33\n",
      "Training Complete with Binary Cross Entropy Loss of 0.4335060991576612\n",
      "Training Complete with Binary Cross Entropy Loss of 0.4333954953168723\n",
      "Stopping Train at Iteration No.78\n",
      "Training Complete with Binary Cross Entropy Loss of 0.5568263442589414\n",
      "Training Complete with Binary Cross Entropy Loss of 0.5546105550867683\n",
      "Stopping Train at Iteration No.77\n",
      "Training Complete with Binary Cross Entropy Loss of 0.5533655262320837\n",
      "Training Complete with Binary Cross Entropy Loss of 0.5543544587576678\n",
      "Stopping Train at Iteration No.77\n",
      "Training Complete with Binary Cross Entropy Loss of 0.5552521113431154\n",
      "Training Complete with Binary Cross Entropy Loss of 0.5554528165694882\n",
      "Stopping Train at Iteration No.78\n",
      "Training Complete with Binary Cross Entropy Loss of 0.5580270037368437\n",
      "Training Complete with Binary Cross Entropy Loss of 0.554037994126891\n",
      "Stopping Train at Iteration No.77\n",
      "Training Complete with Binary Cross Entropy Loss of 0.554036463640423\n",
      "Training Complete with Binary Cross Entropy Loss of 0.5559127261421142\n",
      "Stopping Train at Iteration No.67\n",
      "Training Complete with Binary Cross Entropy Loss of 0.4554832479459042\n",
      "Training Complete with Binary Cross Entropy Loss of 0.45623911626568786\n",
      "Stopping Train at Iteration No.68\n",
      "Training Complete with Binary Cross Entropy Loss of 0.4558987242169296\n",
      "Training Complete with Binary Cross Entropy Loss of 0.4551817282351248\n",
      "Stopping Train at Iteration No.67\n",
      "Training Complete with Binary Cross Entropy Loss of 0.4552429959861111\n",
      "Training Complete with Binary Cross Entropy Loss of 0.45525059791016714\n",
      "Stopping Train at Iteration No.67\n",
      "Training Complete with Binary Cross Entropy Loss of 0.4555657234204771\n",
      "Training Complete with Binary Cross Entropy Loss of 0.45523877034890714\n",
      "Stopping Train at Iteration No.67\n",
      "Training Complete with Binary Cross Entropy Loss of 0.455560970297707\n",
      "Training Complete with Binary Cross Entropy Loss of 0.4553889754870443\n",
      "Stopping Train at Iteration No.56\n",
      "Training Complete with Binary Cross Entropy Loss of 0.43933798709681265\n",
      "Stopping Train at Iteration No.194\n",
      "Training Complete with Binary Cross Entropy Loss of 0.43919045102841875\n",
      "Stopping Train at Iteration No.56\n",
      "Training Complete with Binary Cross Entropy Loss of 0.43922315954151464\n",
      "Stopping Train at Iteration No.194\n",
      "Training Complete with Binary Cross Entropy Loss of 0.4390955908406722\n",
      "Stopping Train at Iteration No.56\n",
      "Training Complete with Binary Cross Entropy Loss of 0.4393685379921693\n",
      "Stopping Train at Iteration No.194\n",
      "Training Complete with Binary Cross Entropy Loss of 0.4391696156895601\n",
      "Stopping Train at Iteration No.56\n",
      "Training Complete with Binary Cross Entropy Loss of 0.4392295622165589\n",
      "Stopping Train at Iteration No.194\n",
      "Training Complete with Binary Cross Entropy Loss of 0.4390178001306835\n",
      "Stopping Train at Iteration No.56\n",
      "Training Complete with Binary Cross Entropy Loss of 0.4392868479573644\n",
      "Stopping Train at Iteration No.194\n",
      "Training Complete with Binary Cross Entropy Loss of 0.43904407666328665\n",
      "Stopping Train at Iteration No.47\n",
      "Training Complete with Binary Cross Entropy Loss of 0.43528132910341477\n",
      "Stopping Train at Iteration No.184\n",
      "Training Complete with Binary Cross Entropy Loss of 0.43518624742690976\n",
      "Stopping Train at Iteration No.47\n",
      "Training Complete with Binary Cross Entropy Loss of 0.43534704861733237\n",
      "Stopping Train at Iteration No.184\n",
      "Training Complete with Binary Cross Entropy Loss of 0.4351983000754782\n",
      "Stopping Train at Iteration No.47\n",
      "Training Complete with Binary Cross Entropy Loss of 0.43537754703187065\n",
      "Stopping Train at Iteration No.184\n",
      "Training Complete with Binary Cross Entropy Loss of 0.435151621974862\n",
      "Stopping Train at Iteration No.47\n",
      "Training Complete with Binary Cross Entropy Loss of 0.4352930520285927\n",
      "Stopping Train at Iteration No.184\n",
      "Training Complete with Binary Cross Entropy Loss of 0.43523956446307044\n",
      "Stopping Train at Iteration No.47\n",
      "Training Complete with Binary Cross Entropy Loss of 0.43532653407359434\n",
      "Stopping Train at Iteration No.184\n",
      "Training Complete with Binary Cross Entropy Loss of 0.43517441642035387\n",
      "Stopping Train at Iteration No.39\n",
      "Training Complete with Binary Cross Entropy Loss of 0.4340051313548371\n",
      "Stopping Train at Iteration No.176\n",
      "Training Complete with Binary Cross Entropy Loss of 0.433924333793056\n",
      "Stopping Train at Iteration No.39\n",
      "Training Complete with Binary Cross Entropy Loss of 0.4340264952136901\n",
      "Stopping Train at Iteration No.175\n",
      "Training Complete with Binary Cross Entropy Loss of 0.43391288651763543\n",
      "Stopping Train at Iteration No.39\n",
      "Training Complete with Binary Cross Entropy Loss of 0.43401052109717914\n",
      "Stopping Train at Iteration No.175\n",
      "Training Complete with Binary Cross Entropy Loss of 0.43388884285685275\n",
      "Stopping Train at Iteration No.39\n",
      "Training Complete with Binary Cross Entropy Loss of 0.4340295056229875\n",
      "Stopping Train at Iteration No.176\n",
      "Training Complete with Binary Cross Entropy Loss of 0.4339160812482988\n",
      "Stopping Train at Iteration No.39\n",
      "Training Complete with Binary Cross Entropy Loss of 0.4339958369275505\n",
      "Stopping Train at Iteration No.176\n",
      "Training Complete with Binary Cross Entropy Loss of 0.43390360238303544\n",
      "Stopping Train at Iteration No.33\n",
      "Training Complete with Binary Cross Entropy Loss of 0.43349211847577435\n",
      "Stopping Train at Iteration No.168\n",
      "Training Complete with Binary Cross Entropy Loss of 0.43339366318516603\n",
      "Stopping Train at Iteration No.33\n",
      "Training Complete with Binary Cross Entropy Loss of 0.4335084875101054\n",
      "Stopping Train at Iteration No.168\n",
      "Training Complete with Binary Cross Entropy Loss of 0.4334072796252285\n",
      "Stopping Train at Iteration No.33\n",
      "Training Complete with Binary Cross Entropy Loss of 0.43350247564862116\n",
      "Stopping Train at Iteration No.167\n",
      "Training Complete with Binary Cross Entropy Loss of 0.433385903900435\n",
      "Stopping Train at Iteration No.32\n",
      "Training Complete with Binary Cross Entropy Loss of 0.43347929778258715\n",
      "Stopping Train at Iteration No.168\n",
      "Training Complete with Binary Cross Entropy Loss of 0.4334084351969263\n",
      "Stopping Train at Iteration No.32\n",
      "Training Complete with Binary Cross Entropy Loss of 0.433494867340707\n",
      "Stopping Train at Iteration No.168\n",
      "Training Complete with Binary Cross Entropy Loss of 0.4334128417899358\n",
      "Stopping Train at Iteration No.77\n",
      "Training Complete with Binary Cross Entropy Loss of 0.5545764701857828\n",
      "Stopping Train at Iteration No.215\n",
      "Training Complete with Binary Cross Entropy Loss of 0.5538057964137573\n",
      "Stopping Train at Iteration No.77\n",
      "Training Complete with Binary Cross Entropy Loss of 0.5550995259217072\n",
      "Stopping Train at Iteration No.215\n",
      "Training Complete with Binary Cross Entropy Loss of 0.555502856672927\n",
      "Stopping Train at Iteration No.77\n",
      "Training Complete with Binary Cross Entropy Loss of 0.556073349082595\n",
      "Stopping Train at Iteration No.215\n",
      "Training Complete with Binary Cross Entropy Loss of 0.5535844448127658\n",
      "Stopping Train at Iteration No.77\n",
      "Training Complete with Binary Cross Entropy Loss of 0.5542399077868007\n",
      "Stopping Train at Iteration No.215\n",
      "Training Complete with Binary Cross Entropy Loss of 0.5539415757385016\n",
      "Stopping Train at Iteration No.77\n",
      "Training Complete with Binary Cross Entropy Loss of 0.5560959915805593\n",
      "Stopping Train at Iteration No.215\n",
      "Training Complete with Binary Cross Entropy Loss of 0.5548628764440439\n",
      "Stopping Train at Iteration No.67\n",
      "Training Complete with Binary Cross Entropy Loss of 0.45530289981423433\n",
      "Stopping Train at Iteration No.205\n",
      "Training Complete with Binary Cross Entropy Loss of 0.455648391723102\n",
      "Stopping Train at Iteration No.67\n",
      "Training Complete with Binary Cross Entropy Loss of 0.4553429941255684\n",
      "Stopping Train at Iteration No.206\n",
      "Training Complete with Binary Cross Entropy Loss of 0.45563017523902183\n",
      "Stopping Train at Iteration No.67\n",
      "Training Complete with Binary Cross Entropy Loss of 0.455192799927586\n",
      "Stopping Train at Iteration No.205\n",
      "Training Complete with Binary Cross Entropy Loss of 0.4555793410457814\n",
      "Stopping Train at Iteration No.67\n",
      "Training Complete with Binary Cross Entropy Loss of 0.45582539422688645\n",
      "Stopping Train at Iteration No.205\n",
      "Training Complete with Binary Cross Entropy Loss of 0.4554174334751641\n",
      "Stopping Train at Iteration No.68\n",
      "Training Complete with Binary Cross Entropy Loss of 0.45602113997496135\n",
      "Stopping Train at Iteration No.206\n",
      "Training Complete with Binary Cross Entropy Loss of 0.45558117122306957\n",
      "Stopping Train at Iteration No.56\n",
      "Training Complete with Binary Cross Entropy Loss of 0.43924124733032266\n",
      "Stopping Train at Iteration No.194\n",
      "Training Complete with Binary Cross Entropy Loss of 0.438975781593738\n",
      "Stopping Train at Iteration No.56\n",
      "Training Complete with Binary Cross Entropy Loss of 0.43906785969017664\n",
      "Stopping Train at Iteration No.194\n",
      "Training Complete with Binary Cross Entropy Loss of 0.43912066511486414\n",
      "Stopping Train at Iteration No.56\n",
      "Training Complete with Binary Cross Entropy Loss of 0.43924658539473693\n",
      "Stopping Train at Iteration No.194\n",
      "Training Complete with Binary Cross Entropy Loss of 0.43905870062723296\n",
      "Stopping Train at Iteration No.56\n",
      "Training Complete with Binary Cross Entropy Loss of 0.43932326415717227\n",
      "Stopping Train at Iteration No.194\n",
      "Training Complete with Binary Cross Entropy Loss of 0.4391522772609521\n",
      "Stopping Train at Iteration No.56\n",
      "Training Complete with Binary Cross Entropy Loss of 0.43935116037545624\n",
      "Stopping Train at Iteration No.194\n",
      "Training Complete with Binary Cross Entropy Loss of 0.4390792377103855\n",
      "Stopping Train at Iteration No.47\n",
      "Training Complete with Binary Cross Entropy Loss of 0.43530679822007606\n",
      "Stopping Train at Iteration No.184\n",
      "Training Complete with Binary Cross Entropy Loss of 0.43518331147350164\n",
      "Stopping Train at Iteration No.47\n",
      "Training Complete with Binary Cross Entropy Loss of 0.4352954102812418\n",
      "Stopping Train at Iteration No.184\n",
      "Training Complete with Binary Cross Entropy Loss of 0.4352352346286171\n",
      "Stopping Train at Iteration No.47\n",
      "Training Complete with Binary Cross Entropy Loss of 0.4352541398295983\n",
      "Stopping Train at Iteration No.184\n",
      "Training Complete with Binary Cross Entropy Loss of 0.4351996030438616\n",
      "Stopping Train at Iteration No.47\n",
      "Training Complete with Binary Cross Entropy Loss of 0.4353128912210147\n",
      "Stopping Train at Iteration No.184\n",
      "Training Complete with Binary Cross Entropy Loss of 0.4352017408689563\n",
      "Stopping Train at Iteration No.47\n",
      "Training Complete with Binary Cross Entropy Loss of 0.4352944395074163\n",
      "Stopping Train at Iteration No.184\n",
      "Training Complete with Binary Cross Entropy Loss of 0.4351998262926976\n",
      "Stopping Train at Iteration No.39\n",
      "Training Complete with Binary Cross Entropy Loss of 0.43403245619301223\n",
      "Stopping Train at Iteration No.175\n",
      "Training Complete with Binary Cross Entropy Loss of 0.4338934111402149\n",
      "Stopping Train at Iteration No.39\n",
      "Training Complete with Binary Cross Entropy Loss of 0.43400974143150867\n",
      "Stopping Train at Iteration No.176\n",
      "Training Complete with Binary Cross Entropy Loss of 0.4339067647829911\n",
      "Stopping Train at Iteration No.39\n",
      "Training Complete with Binary Cross Entropy Loss of 0.43405882748700475\n",
      "Stopping Train at Iteration No.176\n",
      "Training Complete with Binary Cross Entropy Loss of 0.43391296499589954\n",
      "Stopping Train at Iteration No.39\n",
      "Training Complete with Binary Cross Entropy Loss of 0.43403755520892745\n",
      "Stopping Train at Iteration No.176\n",
      "Training Complete with Binary Cross Entropy Loss of 0.43391425038319315\n",
      "Stopping Train at Iteration No.39\n",
      "Training Complete with Binary Cross Entropy Loss of 0.43402546969410877\n",
      "Stopping Train at Iteration No.175\n",
      "Training Complete with Binary Cross Entropy Loss of 0.4338979157816503\n",
      "Stopping Train at Iteration No.33\n",
      "Training Complete with Binary Cross Entropy Loss of 0.4334925028011337\n",
      "Stopping Train at Iteration No.167\n",
      "Training Complete with Binary Cross Entropy Loss of 0.4333887753017455\n",
      "Stopping Train at Iteration No.33\n",
      "Training Complete with Binary Cross Entropy Loss of 0.4335006231621578\n",
      "Stopping Train at Iteration No.168\n",
      "Training Complete with Binary Cross Entropy Loss of 0.433404798604133\n",
      "Stopping Train at Iteration No.32\n",
      "Training Complete with Binary Cross Entropy Loss of 0.43349291119666084\n",
      "Stopping Train at Iteration No.168\n",
      "Training Complete with Binary Cross Entropy Loss of 0.4334007023201405\n",
      "Stopping Train at Iteration No.33\n",
      "Training Complete with Binary Cross Entropy Loss of 0.4335324966584084\n",
      "Stopping Train at Iteration No.168\n",
      "Training Complete with Binary Cross Entropy Loss of 0.43340266672589167\n",
      "Stopping Train at Iteration No.33\n",
      "Training Complete with Binary Cross Entropy Loss of 0.43348839322137533\n",
      "Stopping Train at Iteration No.168\n",
      "Training Complete with Binary Cross Entropy Loss of 0.433394705746528\n",
      "Stopping Train at Iteration No.77\n",
      "Training Complete with Binary Cross Entropy Loss of 0.5549733503467281\n",
      "Stopping Train at Iteration No.215\n",
      "Training Complete with Binary Cross Entropy Loss of 0.5543245791948423\n",
      "Stopping Train at Iteration No.78\n",
      "Training Complete with Binary Cross Entropy Loss of 0.5577876097750931\n",
      "Stopping Train at Iteration No.215\n",
      "Training Complete with Binary Cross Entropy Loss of 0.555945919816819\n",
      "Stopping Train at Iteration No.77\n",
      "Training Complete with Binary Cross Entropy Loss of 0.5560726432469271\n",
      "Stopping Train at Iteration No.215\n",
      "Training Complete with Binary Cross Entropy Loss of 0.5547830658675635\n",
      "Stopping Train at Iteration No.77\n",
      "Training Complete with Binary Cross Entropy Loss of 0.5556818292197859\n",
      "Stopping Train at Iteration No.216\n",
      "Training Complete with Binary Cross Entropy Loss of 0.5573995200346312\n",
      "Stopping Train at Iteration No.77\n",
      "Training Complete with Binary Cross Entropy Loss of 0.553527314205944\n",
      "Stopping Train at Iteration No.215\n",
      "Training Complete with Binary Cross Entropy Loss of 0.5542321484252987\n",
      "Stopping Train at Iteration No.67\n",
      "Training Complete with Binary Cross Entropy Loss of 0.4553779493742924\n",
      "Stopping Train at Iteration No.205\n",
      "Training Complete with Binary Cross Entropy Loss of 0.4549949377863145\n",
      "Stopping Train at Iteration No.68\n",
      "Training Complete with Binary Cross Entropy Loss of 0.45566568001281793\n",
      "Stopping Train at Iteration No.205\n",
      "Training Complete with Binary Cross Entropy Loss of 0.455482901122594\n",
      "Stopping Train at Iteration No.68\n",
      "Training Complete with Binary Cross Entropy Loss of 0.45565630007178787\n",
      "Stopping Train at Iteration No.206\n",
      "Training Complete with Binary Cross Entropy Loss of 0.4559651636705405\n",
      "Stopping Train at Iteration No.67\n",
      "Training Complete with Binary Cross Entropy Loss of 0.455645731802767\n",
      "Stopping Train at Iteration No.205\n",
      "Training Complete with Binary Cross Entropy Loss of 0.4552565708130229\n",
      "Stopping Train at Iteration No.67\n",
      "Training Complete with Binary Cross Entropy Loss of 0.45527492044467516\n",
      "Stopping Train at Iteration No.205\n",
      "Training Complete with Binary Cross Entropy Loss of 0.4554550357690356\n",
      "Stopping Train at Iteration No.56\n",
      "Training Complete with Binary Cross Entropy Loss of 0.4391850484757773\n",
      "Stopping Train at Iteration No.194\n",
      "Training Complete with Binary Cross Entropy Loss of 0.4390805247181191\n",
      "Stopping Train at Iteration No.56\n",
      "Training Complete with Binary Cross Entropy Loss of 0.43926082307666653\n",
      "Stopping Train at Iteration No.194\n",
      "Training Complete with Binary Cross Entropy Loss of 0.4390710148715615\n",
      "Stopping Train at Iteration No.56\n",
      "Training Complete with Binary Cross Entropy Loss of 0.4392276934793579\n",
      "Stopping Train at Iteration No.194\n",
      "Training Complete with Binary Cross Entropy Loss of 0.4391330775117512\n",
      "Stopping Train at Iteration No.56\n",
      "Training Complete with Binary Cross Entropy Loss of 0.4391425857856154\n",
      "Stopping Train at Iteration No.194\n",
      "Training Complete with Binary Cross Entropy Loss of 0.43914044816426745\n",
      "Stopping Train at Iteration No.56\n",
      "Training Complete with Binary Cross Entropy Loss of 0.4392173463320246\n",
      "Stopping Train at Iteration No.194\n",
      "Training Complete with Binary Cross Entropy Loss of 0.4390136824027968\n",
      "Stopping Train at Iteration No.47\n",
      "Training Complete with Binary Cross Entropy Loss of 0.43536136546056936\n",
      "Stopping Train at Iteration No.184\n",
      "Training Complete with Binary Cross Entropy Loss of 0.4352560459723916\n",
      "Stopping Train at Iteration No.47\n",
      "Training Complete with Binary Cross Entropy Loss of 0.4353470336317733\n",
      "Stopping Train at Iteration No.184\n",
      "Training Complete with Binary Cross Entropy Loss of 0.43525585274699896\n",
      "Stopping Train at Iteration No.47\n",
      "Training Complete with Binary Cross Entropy Loss of 0.4352848638366967\n",
      "Stopping Train at Iteration No.184\n",
      "Training Complete with Binary Cross Entropy Loss of 0.43512615040423913\n",
      "Stopping Train at Iteration No.47\n",
      "Training Complete with Binary Cross Entropy Loss of 0.4353197875661868\n",
      "Stopping Train at Iteration No.184\n",
      "Training Complete with Binary Cross Entropy Loss of 0.43524684026633825\n",
      "Stopping Train at Iteration No.47\n",
      "Training Complete with Binary Cross Entropy Loss of 0.4353479860160544\n",
      "Stopping Train at Iteration No.184\n",
      "Training Complete with Binary Cross Entropy Loss of 0.4352318439618957\n",
      "Stopping Train at Iteration No.39\n",
      "Training Complete with Binary Cross Entropy Loss of 0.4340192682536553\n",
      "Stopping Train at Iteration No.175\n",
      "Training Complete with Binary Cross Entropy Loss of 0.43388923770584803\n",
      "Stopping Train at Iteration No.39\n",
      "Training Complete with Binary Cross Entropy Loss of 0.4340080190096595\n",
      "Stopping Train at Iteration No.176\n",
      "Training Complete with Binary Cross Entropy Loss of 0.4339260076501972\n",
      "Stopping Train at Iteration No.39\n",
      "Training Complete with Binary Cross Entropy Loss of 0.43401243943519036\n",
      "Stopping Train at Iteration No.176\n",
      "Training Complete with Binary Cross Entropy Loss of 0.43392142302313225\n",
      "Stopping Train at Iteration No.39\n",
      "Training Complete with Binary Cross Entropy Loss of 0.4340455305291957\n",
      "Stopping Train at Iteration No.175\n",
      "Training Complete with Binary Cross Entropy Loss of 0.4338978875706827\n",
      "Stopping Train at Iteration No.39\n",
      "Training Complete with Binary Cross Entropy Loss of 0.4340303441399565\n",
      "Stopping Train at Iteration No.176\n",
      "Training Complete with Binary Cross Entropy Loss of 0.4339145205010617\n",
      "Stopping Train at Iteration No.32\n",
      "Training Complete with Binary Cross Entropy Loss of 0.4334915161800975\n",
      "Stopping Train at Iteration No.168\n",
      "Training Complete with Binary Cross Entropy Loss of 0.4334091413535455\n",
      "Stopping Train at Iteration No.33\n",
      "Training Complete with Binary Cross Entropy Loss of 0.4334977739406103\n",
      "Stopping Train at Iteration No.168\n",
      "Training Complete with Binary Cross Entropy Loss of 0.43340893606347386\n",
      "Stopping Train at Iteration No.33\n",
      "Training Complete with Binary Cross Entropy Loss of 0.433507092404145\n",
      "Stopping Train at Iteration No.168\n",
      "Training Complete with Binary Cross Entropy Loss of 0.4334059350800227\n",
      "Stopping Train at Iteration No.33\n",
      "Training Complete with Binary Cross Entropy Loss of 0.4335199222313632\n",
      "Stopping Train at Iteration No.167\n",
      "Training Complete with Binary Cross Entropy Loss of 0.43338624941495113\n",
      "Stopping Train at Iteration No.33\n",
      "Training Complete with Binary Cross Entropy Loss of 0.43351503633932564\n",
      "Stopping Train at Iteration No.168\n",
      "Training Complete with Binary Cross Entropy Loss of 0.4334081905351822\n",
      "Best Score: 6.015261016831319\n",
      "Best Hyperparameters: (100, 0.5, 0.8, 1e-05)\n"
     ]
    }
   ],
   "source": [
    "max_iterations_values = [100, 200, 500, 1000]\n",
    "learning_rate_values = [0.1, 0.5, 1.0, 1.5, 2.0, 2.5]\n",
    "decay_values = [0.8, 0.85, 0.9, 0.95, 0.99]\n",
    "epsilon_values = [1e-5, 1e-10]\n",
    "\n",
    "best_score = float('inf')\n",
    "best_hyperparameters = None\n",
    "\n",
    "for max_iterations in max_iterations_values:\n",
    "    for learning_rate in learning_rate_values:\n",
    "        for decay in decay_values:\n",
    "            for epsilon in epsilon_values:\n",
    "                lr_model_test = LogisticRegression(max_iterations, learning_rate, decay, epsilon)\n",
    "                lr_model_test.fit(X_train, Y_train)\n",
    "\n",
    "                # Evaluate the model on the validation set\n",
    "                y_val_pred = lr_model_test.predict(X_val)\n",
    "                score = lr_model_test.binary_cross_entropy(y_val_pred, Y_val)\n",
    "\n",
    "                # Check if the current combination of hyperparameters achieved a better score\n",
    "                if score < best_score:\n",
    "                    best_score = score\n",
    "                    best_hyperparameters = (max_iterations, learning_rate, decay, epsilon)\n",
    "\n",
    "print(f\"Best Score: {best_score}\")\n",
    "print(f\"Best Hyperparameters: {best_hyperparameters}\")"
   ]
  },
  {
   "cell_type": "markdown",
   "id": "4eb6cafe",
   "metadata": {
    "papermill": {
     "duration": 0.019458,
     "end_time": "2023-11-12T21:08:17.957245",
     "exception": false,
     "start_time": "2023-11-12T21:08:17.937787",
     "status": "completed"
    },
    "tags": []
   },
   "source": [
    "## Train model with best hyperparameters"
   ]
  },
  {
   "cell_type": "code",
   "execution_count": 30,
   "id": "34e88e0e",
   "metadata": {
    "execution": {
     "iopub.execute_input": "2023-11-12T21:08:17.998953Z",
     "iopub.status.busy": "2023-11-12T21:08:17.998564Z",
     "iopub.status.idle": "2023-11-12T21:08:18.008170Z",
     "shell.execute_reply": "2023-11-12T21:08:18.006591Z"
    },
    "papermill": {
     "duration": 0.034295,
     "end_time": "2023-11-12T21:08:18.011225",
     "exception": false,
     "start_time": "2023-11-12T21:08:17.976930",
     "status": "completed"
    },
    "tags": []
   },
   "outputs": [],
   "source": [
    "max_iterations, learning_rate, decay, epsilon = (max_iterations, learning_rate, decay, epsilon)\n",
    "\n",
    "model = LogisticRegression(max_iterations, learning_rate, decay, epsilon)"
   ]
  },
  {
   "cell_type": "code",
   "execution_count": 31,
   "id": "227253ec",
   "metadata": {
    "execution": {
     "iopub.execute_input": "2023-11-12T21:08:18.054118Z",
     "iopub.status.busy": "2023-11-12T21:08:18.053740Z",
     "iopub.status.idle": "2023-11-12T21:08:18.091288Z",
     "shell.execute_reply": "2023-11-12T21:08:18.089717Z"
    },
    "papermill": {
     "duration": 0.062118,
     "end_time": "2023-11-12T21:08:18.094000",
     "exception": false,
     "start_time": "2023-11-12T21:08:18.031882",
     "status": "completed"
    },
    "tags": []
   },
   "outputs": [
    {
     "name": "stdout",
     "output_type": "stream",
     "text": [
      "Stopping Train at Iteration No.168\n",
      "Training Complete with Binary Cross Entropy Loss of 0.4333968262668356\n"
     ]
    }
   ],
   "source": [
    "model.fit(X_train, Y_train)"
   ]
  },
  {
   "cell_type": "code",
   "execution_count": 32,
   "id": "e073c3c7",
   "metadata": {
    "execution": {
     "iopub.execute_input": "2023-11-12T21:08:18.135936Z",
     "iopub.status.busy": "2023-11-12T21:08:18.135573Z",
     "iopub.status.idle": "2023-11-12T21:08:18.141543Z",
     "shell.execute_reply": "2023-11-12T21:08:18.140410Z"
    },
    "papermill": {
     "duration": 0.029931,
     "end_time": "2023-11-12T21:08:18.144014",
     "exception": false,
     "start_time": "2023-11-12T21:08:18.114083",
     "status": "completed"
    },
    "tags": []
   },
   "outputs": [],
   "source": [
    "Y_pred = model.predict(X_test)"
   ]
  }
 ],
 "metadata": {
  "kernelspec": {
   "display_name": "Python 3",
   "language": "python",
   "name": "python3"
  },
  "language_info": {
   "codemirror_mode": {
    "name": "ipython",
    "version": 3
   },
   "file_extension": ".py",
   "mimetype": "text/x-python",
   "name": "python",
   "nbconvert_exporter": "python",
   "pygments_lexer": "ipython3",
   "version": "3.10.12"
  },
  "papermill": {
   "default_parameters": {},
   "duration": 11.975572,
   "end_time": "2023-11-12T21:08:18.686624",
   "environment_variables": {},
   "exception": null,
   "input_path": "__notebook__.ipynb",
   "output_path": "__notebook__.ipynb",
   "parameters": {},
   "start_time": "2023-11-12T21:08:06.711052",
   "version": "2.4.0"
  }
 },
 "nbformat": 4,
 "nbformat_minor": 5
}

{
 "cells": [
  {
   "cell_type": "markdown",
   "id": "c07d24ff",
   "metadata": {
    "papermill": {
     "duration": 0.016498,
     "end_time": "2023-11-14T12:32:14.614785",
     "exception": false,
     "start_time": "2023-11-14T12:32:14.598287",
     "status": "completed"
    },
    "tags": []
   },
   "source": [
    "# Import Required Libraraies"
   ]
  },
  {
   "cell_type": "code",
   "execution_count": 1,
   "id": "fc4d79e5",
   "metadata": {
    "execution": {
     "iopub.execute_input": "2023-11-14T12:32:14.648551Z",
     "iopub.status.busy": "2023-11-14T12:32:14.648109Z",
     "iopub.status.idle": "2023-11-14T12:32:15.572348Z",
     "shell.execute_reply": "2023-11-14T12:32:15.570567Z"
    },
    "papermill": {
     "duration": 0.945723,
     "end_time": "2023-11-14T12:32:15.576551",
     "exception": false,
     "start_time": "2023-11-14T12:32:14.630828",
     "status": "completed"
    },
    "tags": []
   },
   "outputs": [],
   "source": [
    "import re\n",
    "import numpy as np\n",
    "import pandas as pd"
   ]
  },
  {
   "cell_type": "markdown",
   "id": "92102b56",
   "metadata": {
    "papermill": {
     "duration": 0.023134,
     "end_time": "2023-11-14T12:32:15.623814",
     "exception": false,
     "start_time": "2023-11-14T12:32:15.600680",
     "status": "completed"
    },
    "tags": []
   },
   "source": [
    "# Read Data"
   ]
  },
  {
   "cell_type": "code",
   "execution_count": 2,
   "id": "54fcb2da",
   "metadata": {
    "execution": {
     "iopub.execute_input": "2023-11-14T12:32:15.665187Z",
     "iopub.status.busy": "2023-11-14T12:32:15.664270Z",
     "iopub.status.idle": "2023-11-14T12:32:15.713759Z",
     "shell.execute_reply": "2023-11-14T12:32:15.712828Z"
    },
    "papermill": {
     "duration": 0.070962,
     "end_time": "2023-11-14T12:32:15.717039",
     "exception": false,
     "start_time": "2023-11-14T12:32:15.646077",
     "status": "completed"
    },
    "tags": []
   },
   "outputs": [],
   "source": [
    "train_data = pd.read_csv('/kaggle/input/titanic/train.csv')\n",
    "test_data = pd.read_csv('/kaggle/input/titanic/test.csv')\n",
    "gender_sub = pd.read_csv('/kaggle/input/titanic/gender_submission.csv')"
   ]
  },
  {
   "cell_type": "code",
   "execution_count": 3,
   "id": "105623cc",
   "metadata": {
    "execution": {
     "iopub.execute_input": "2023-11-14T12:32:15.758002Z",
     "iopub.status.busy": "2023-11-14T12:32:15.757038Z",
     "iopub.status.idle": "2023-11-14T12:32:15.794005Z",
     "shell.execute_reply": "2023-11-14T12:32:15.792785Z"
    },
    "papermill": {
     "duration": 0.058764,
     "end_time": "2023-11-14T12:32:15.797028",
     "exception": false,
     "start_time": "2023-11-14T12:32:15.738264",
     "status": "completed"
    },
    "tags": []
   },
   "outputs": [
    {
     "data": {
      "text/html": [
       "<div>\n",
       "<style scoped>\n",
       "    .dataframe tbody tr th:only-of-type {\n",
       "        vertical-align: middle;\n",
       "    }\n",
       "\n",
       "    .dataframe tbody tr th {\n",
       "        vertical-align: top;\n",
       "    }\n",
       "\n",
       "    .dataframe thead th {\n",
       "        text-align: right;\n",
       "    }\n",
       "</style>\n",
       "<table border=\"1\" class=\"dataframe\">\n",
       "  <thead>\n",
       "    <tr style=\"text-align: right;\">\n",
       "      <th></th>\n",
       "      <th>PassengerId</th>\n",
       "      <th>Pclass</th>\n",
       "      <th>Name</th>\n",
       "      <th>Sex</th>\n",
       "      <th>Age</th>\n",
       "      <th>SibSp</th>\n",
       "      <th>Parch</th>\n",
       "      <th>Ticket</th>\n",
       "      <th>Fare</th>\n",
       "      <th>Cabin</th>\n",
       "      <th>Embarked</th>\n",
       "    </tr>\n",
       "  </thead>\n",
       "  <tbody>\n",
       "    <tr>\n",
       "      <th>0</th>\n",
       "      <td>892</td>\n",
       "      <td>3</td>\n",
       "      <td>Kelly, Mr. James</td>\n",
       "      <td>male</td>\n",
       "      <td>34.5</td>\n",
       "      <td>0</td>\n",
       "      <td>0</td>\n",
       "      <td>330911</td>\n",
       "      <td>7.8292</td>\n",
       "      <td>NaN</td>\n",
       "      <td>Q</td>\n",
       "    </tr>\n",
       "    <tr>\n",
       "      <th>1</th>\n",
       "      <td>893</td>\n",
       "      <td>3</td>\n",
       "      <td>Wilkes, Mrs. James (Ellen Needs)</td>\n",
       "      <td>female</td>\n",
       "      <td>47.0</td>\n",
       "      <td>1</td>\n",
       "      <td>0</td>\n",
       "      <td>363272</td>\n",
       "      <td>7.0000</td>\n",
       "      <td>NaN</td>\n",
       "      <td>S</td>\n",
       "    </tr>\n",
       "    <tr>\n",
       "      <th>2</th>\n",
       "      <td>894</td>\n",
       "      <td>2</td>\n",
       "      <td>Myles, Mr. Thomas Francis</td>\n",
       "      <td>male</td>\n",
       "      <td>62.0</td>\n",
       "      <td>0</td>\n",
       "      <td>0</td>\n",
       "      <td>240276</td>\n",
       "      <td>9.6875</td>\n",
       "      <td>NaN</td>\n",
       "      <td>Q</td>\n",
       "    </tr>\n",
       "    <tr>\n",
       "      <th>3</th>\n",
       "      <td>895</td>\n",
       "      <td>3</td>\n",
       "      <td>Wirz, Mr. Albert</td>\n",
       "      <td>male</td>\n",
       "      <td>27.0</td>\n",
       "      <td>0</td>\n",
       "      <td>0</td>\n",
       "      <td>315154</td>\n",
       "      <td>8.6625</td>\n",
       "      <td>NaN</td>\n",
       "      <td>S</td>\n",
       "    </tr>\n",
       "    <tr>\n",
       "      <th>4</th>\n",
       "      <td>896</td>\n",
       "      <td>3</td>\n",
       "      <td>Hirvonen, Mrs. Alexander (Helga E Lindqvist)</td>\n",
       "      <td>female</td>\n",
       "      <td>22.0</td>\n",
       "      <td>1</td>\n",
       "      <td>1</td>\n",
       "      <td>3101298</td>\n",
       "      <td>12.2875</td>\n",
       "      <td>NaN</td>\n",
       "      <td>S</td>\n",
       "    </tr>\n",
       "  </tbody>\n",
       "</table>\n",
       "</div>"
      ],
      "text/plain": [
       "   PassengerId  Pclass                                          Name     Sex  \\\n",
       "0          892       3                              Kelly, Mr. James    male   \n",
       "1          893       3              Wilkes, Mrs. James (Ellen Needs)  female   \n",
       "2          894       2                     Myles, Mr. Thomas Francis    male   \n",
       "3          895       3                              Wirz, Mr. Albert    male   \n",
       "4          896       3  Hirvonen, Mrs. Alexander (Helga E Lindqvist)  female   \n",
       "\n",
       "    Age  SibSp  Parch   Ticket     Fare Cabin Embarked  \n",
       "0  34.5      0      0   330911   7.8292   NaN        Q  \n",
       "1  47.0      1      0   363272   7.0000   NaN        S  \n",
       "2  62.0      0      0   240276   9.6875   NaN        Q  \n",
       "3  27.0      0      0   315154   8.6625   NaN        S  \n",
       "4  22.0      1      1  3101298  12.2875   NaN        S  "
      ]
     },
     "execution_count": 3,
     "metadata": {},
     "output_type": "execute_result"
    }
   ],
   "source": [
    "test_data.head()"
   ]
  },
  {
   "cell_type": "markdown",
   "id": "eebe0bdc",
   "metadata": {
    "papermill": {
     "duration": 0.016491,
     "end_time": "2023-11-14T12:32:15.830399",
     "exception": false,
     "start_time": "2023-11-14T12:32:15.813908",
     "status": "completed"
    },
    "tags": []
   },
   "source": [
    "# Data Purification and Feature Engineering"
   ]
  },
  {
   "cell_type": "markdown",
   "id": "7c91aeb6",
   "metadata": {
    "papermill": {
     "duration": 0.015906,
     "end_time": "2023-11-14T12:32:15.864750",
     "exception": false,
     "start_time": "2023-11-14T12:32:15.848844",
     "status": "completed"
    },
    "tags": []
   },
   "source": [
    "## Name\n",
    "### Extract titles from names"
   ]
  },
  {
   "cell_type": "code",
   "execution_count": 4,
   "id": "1933e3a6",
   "metadata": {
    "execution": {
     "iopub.execute_input": "2023-11-14T12:32:15.901519Z",
     "iopub.status.busy": "2023-11-14T12:32:15.900578Z",
     "iopub.status.idle": "2023-11-14T12:32:15.921969Z",
     "shell.execute_reply": "2023-11-14T12:32:15.920804Z"
    },
    "papermill": {
     "duration": 0.04303,
     "end_time": "2023-11-14T12:32:15.924794",
     "exception": false,
     "start_time": "2023-11-14T12:32:15.881764",
     "status": "completed"
    },
    "tags": []
   },
   "outputs": [
    {
     "name": "stdout",
     "output_type": "stream",
     "text": [
      "All unique titles in names (Train): ['Mr' 'Mrs' 'Miss' 'Master' 'Don' 'Rev' 'Dr' 'Mme' 'Ms' 'Major' 'Lady'\n",
      " 'Sir' 'Mlle' 'Col' 'Capt' 'Countess' 'Jonkheer']\n",
      "All unique titles in names (Test): ['Mr' 'Mrs' 'Miss' 'Master' 'Ms' 'Col' 'Rev' 'Dr' 'Dona']\n"
     ]
    }
   ],
   "source": [
    "train_data['Title'] = train_data['Name'].apply(lambda x: re.search(' ([A-Za-z]+)\\.', x).group(1))\n",
    "test_data['Title'] = test_data['Name'].apply(lambda x: re.search(' ([A-Za-z]+)\\.', x).group(1))\n",
    "\n",
    "# Display the unique titles\n",
    "print(f'All unique titles in names (Train): {train_data[\"Title\"].unique()}')\n",
    "print(f'All unique titles in names (Test): {test_data[\"Title\"].unique()}')"
   ]
  },
  {
   "cell_type": "code",
   "execution_count": 5,
   "id": "73eb7f2a",
   "metadata": {
    "execution": {
     "iopub.execute_input": "2023-11-14T12:32:15.962621Z",
     "iopub.status.busy": "2023-11-14T12:32:15.961725Z",
     "iopub.status.idle": "2023-11-14T12:32:15.976800Z",
     "shell.execute_reply": "2023-11-14T12:32:15.975803Z"
    },
    "papermill": {
     "duration": 0.037256,
     "end_time": "2023-11-14T12:32:15.979476",
     "exception": false,
     "start_time": "2023-11-14T12:32:15.942220",
     "status": "completed"
    },
    "tags": []
   },
   "outputs": [],
   "source": [
    "# Train Data\n",
    "train_data['Title'] = train_data['Title'].replace(['Lady', 'Countess', 'Capt', 'Col', 'Don', 'Dr','Major', 'Rev', 'Sir', 'Jonkheer', 'Dona'], 'Other')\n",
    "train_data['Title'] = train_data['Title'].replace(['Mlle', 'Ms'], 'Miss')\n",
    "train_data['Title'] = train_data['Title'].replace('Mme', 'Mrs')\n",
    "\n",
    "# Test Data\n",
    "test_data['Title'] = test_data['Title'].replace(['Lady', 'Countess', 'Capt', 'Col', 'Don', 'Dr','Major', 'Rev', 'Sir', 'Jonkheer', 'Dona'], 'Other')\n",
    "test_data['Title'] = test_data['Title'].replace(['Mlle', 'Ms'], 'Miss')\n",
    "test_data['Title'] = test_data['Title'].replace('Mme', 'Mrs')"
   ]
  },
  {
   "cell_type": "code",
   "execution_count": 6,
   "id": "773ad104",
   "metadata": {
    "execution": {
     "iopub.execute_input": "2023-11-14T12:32:16.021970Z",
     "iopub.status.busy": "2023-11-14T12:32:16.021211Z",
     "iopub.status.idle": "2023-11-14T12:32:16.031249Z",
     "shell.execute_reply": "2023-11-14T12:32:16.029791Z"
    },
    "papermill": {
     "duration": 0.036589,
     "end_time": "2023-11-14T12:32:16.035534",
     "exception": false,
     "start_time": "2023-11-14T12:32:15.998945",
     "status": "completed"
    },
    "tags": []
   },
   "outputs": [
    {
     "name": "stdout",
     "output_type": "stream",
     "text": [
      "Train Titles: ['Mr' 'Mrs' 'Miss' 'Master' 'Other']\n",
      "Test Titles: ['Mr' 'Mrs' 'Miss' 'Master' 'Other']\n"
     ]
    }
   ],
   "source": [
    "print(f'Train Titles: {train_data[\"Title\"].unique()}')\n",
    "print(f'Test Titles: {test_data[\"Title\"].unique()}')"
   ]
  },
  {
   "cell_type": "markdown",
   "id": "0e164de7",
   "metadata": {
    "papermill": {
     "duration": 0.018932,
     "end_time": "2023-11-14T12:32:16.078695",
     "exception": false,
     "start_time": "2023-11-14T12:32:16.059763",
     "status": "completed"
    },
    "tags": []
   },
   "source": [
    "### Drop Names"
   ]
  },
  {
   "cell_type": "code",
   "execution_count": 7,
   "id": "1d0c6023",
   "metadata": {
    "execution": {
     "iopub.execute_input": "2023-11-14T12:32:16.181008Z",
     "iopub.status.busy": "2023-11-14T12:32:16.180512Z",
     "iopub.status.idle": "2023-11-14T12:32:16.194023Z",
     "shell.execute_reply": "2023-11-14T12:32:16.193053Z"
    },
    "papermill": {
     "duration": 0.101344,
     "end_time": "2023-11-14T12:32:16.196715",
     "exception": false,
     "start_time": "2023-11-14T12:32:16.095371",
     "status": "completed"
    },
    "tags": []
   },
   "outputs": [],
   "source": [
    "train_data = train_data.drop('Name', axis=1)\n",
    "test_data = test_data.drop('Name', axis=1)"
   ]
  },
  {
   "cell_type": "markdown",
   "id": "c0ed0318",
   "metadata": {
    "papermill": {
     "duration": 0.016515,
     "end_time": "2023-11-14T12:32:16.229970",
     "exception": false,
     "start_time": "2023-11-14T12:32:16.213455",
     "status": "completed"
    },
    "tags": []
   },
   "source": [
    "### Encode Titles"
   ]
  },
  {
   "cell_type": "code",
   "execution_count": 8,
   "id": "22121ca6",
   "metadata": {
    "execution": {
     "iopub.execute_input": "2023-11-14T12:32:16.266338Z",
     "iopub.status.busy": "2023-11-14T12:32:16.265419Z",
     "iopub.status.idle": "2023-11-14T12:32:16.274764Z",
     "shell.execute_reply": "2023-11-14T12:32:16.273742Z"
    },
    "papermill": {
     "duration": 0.031135,
     "end_time": "2023-11-14T12:32:16.277831",
     "exception": false,
     "start_time": "2023-11-14T12:32:16.246696",
     "status": "completed"
    },
    "tags": []
   },
   "outputs": [],
   "source": [
    "title_to_number = {'Mr': 0, 'Mrs': 1, 'Miss': 2, 'Master': 3, 'Other': 4}\n",
    "\n",
    "train_data['Title'] = train_data['Title'].apply(lambda x: title_to_number[x])\n",
    "test_data['Title'] = test_data['Title'].apply(lambda x: title_to_number[x])"
   ]
  },
  {
   "cell_type": "markdown",
   "id": "8ad65115",
   "metadata": {
    "papermill": {
     "duration": 0.021905,
     "end_time": "2023-11-14T12:32:16.316828",
     "exception": false,
     "start_time": "2023-11-14T12:32:16.294923",
     "status": "completed"
    },
    "tags": []
   },
   "source": [
    "## Ticket\n",
    "### Drop ticket columns"
   ]
  },
  {
   "cell_type": "code",
   "execution_count": 9,
   "id": "d9c51a88",
   "metadata": {
    "execution": {
     "iopub.execute_input": "2023-11-14T12:32:16.367343Z",
     "iopub.status.busy": "2023-11-14T12:32:16.366861Z",
     "iopub.status.idle": "2023-11-14T12:32:16.375626Z",
     "shell.execute_reply": "2023-11-14T12:32:16.374392Z"
    },
    "papermill": {
     "duration": 0.039715,
     "end_time": "2023-11-14T12:32:16.379094",
     "exception": false,
     "start_time": "2023-11-14T12:32:16.339379",
     "status": "completed"
    },
    "tags": []
   },
   "outputs": [],
   "source": [
    "# Drop Ticket Column\n",
    "train_data = train_data.drop('Ticket', axis=1)\n",
    "test_data = test_data.drop('Ticket', axis=1)"
   ]
  },
  {
   "cell_type": "markdown",
   "id": "fbe2f2d4",
   "metadata": {
    "papermill": {
     "duration": 0.017572,
     "end_time": "2023-11-14T12:32:16.417471",
     "exception": false,
     "start_time": "2023-11-14T12:32:16.399899",
     "status": "completed"
    },
    "tags": []
   },
   "source": [
    "## Sex\n",
    "### Convert sexes to 0s and 1s"
   ]
  },
  {
   "cell_type": "code",
   "execution_count": 10,
   "id": "9adc02c8",
   "metadata": {
    "execution": {
     "iopub.execute_input": "2023-11-14T12:32:16.469747Z",
     "iopub.status.busy": "2023-11-14T12:32:16.469144Z",
     "iopub.status.idle": "2023-11-14T12:32:16.484138Z",
     "shell.execute_reply": "2023-11-14T12:32:16.482067Z"
    },
    "papermill": {
     "duration": 0.048263,
     "end_time": "2023-11-14T12:32:16.491928",
     "exception": false,
     "start_time": "2023-11-14T12:32:16.443665",
     "status": "completed"
    },
    "tags": []
   },
   "outputs": [
    {
     "name": "stdout",
     "output_type": "stream",
     "text": [
      "Number of distinct values for sex: {0, 1}\n"
     ]
    }
   ],
   "source": [
    "# Encode Sex\n",
    "train_data['Sex'] = train_data['Sex'].replace({'male': 0, 'female': 1})\n",
    "test_data['Sex'] = test_data['Sex'].replace({'male': 0, 'female': 1})\n",
    "print(f'Number of distinct values for sex: {set(test_data[\"Sex\"])}')"
   ]
  },
  {
   "cell_type": "markdown",
   "id": "36efc706",
   "metadata": {
    "papermill": {
     "duration": 0.022775,
     "end_time": "2023-11-14T12:32:16.543092",
     "exception": false,
     "start_time": "2023-11-14T12:32:16.520317",
     "status": "completed"
    },
    "tags": []
   },
   "source": [
    "## Cabin\n",
    "### Extract letters from Cabins"
   ]
  },
  {
   "cell_type": "code",
   "execution_count": 11,
   "id": "3838ca78",
   "metadata": {
    "execution": {
     "iopub.execute_input": "2023-11-14T12:32:16.588245Z",
     "iopub.status.busy": "2023-11-14T12:32:16.587844Z",
     "iopub.status.idle": "2023-11-14T12:32:16.601382Z",
     "shell.execute_reply": "2023-11-14T12:32:16.599969Z"
    },
    "papermill": {
     "duration": 0.036694,
     "end_time": "2023-11-14T12:32:16.604628",
     "exception": false,
     "start_time": "2023-11-14T12:32:16.567934",
     "status": "completed"
    },
    "tags": []
   },
   "outputs": [
    {
     "name": "stdout",
     "output_type": "stream",
     "text": [
      "['X' 'C' 'E' 'G' 'D' 'A' 'B' 'F' 'T']\n",
      "['X' 'B' 'E' 'A' 'C' 'D' 'F' 'G']\n"
     ]
    }
   ],
   "source": [
    "train_data['Cabin'] = train_data['Cabin'].fillna(\"X\")\n",
    "print(train_data['Cabin'].str[0].unique())\n",
    "\n",
    "test_data['Cabin'] = test_data['Cabin'].fillna(\"X\")\n",
    "print(test_data['Cabin'].str[0].unique())"
   ]
  },
  {
   "cell_type": "markdown",
   "id": "8d71f137",
   "metadata": {
    "papermill": {
     "duration": 0.021688,
     "end_time": "2023-11-14T12:32:16.651485",
     "exception": false,
     "start_time": "2023-11-14T12:32:16.629797",
     "status": "completed"
    },
    "tags": []
   },
   "source": [
    "### Encode letters"
   ]
  },
  {
   "cell_type": "code",
   "execution_count": 12,
   "id": "9f1f9640",
   "metadata": {
    "execution": {
     "iopub.execute_input": "2023-11-14T12:32:16.688091Z",
     "iopub.status.busy": "2023-11-14T12:32:16.687167Z",
     "iopub.status.idle": "2023-11-14T12:32:16.699166Z",
     "shell.execute_reply": "2023-11-14T12:32:16.698011Z"
    },
    "papermill": {
     "duration": 0.03386,
     "end_time": "2023-11-14T12:32:16.702345",
     "exception": false,
     "start_time": "2023-11-14T12:32:16.668485",
     "status": "completed"
    },
    "tags": []
   },
   "outputs": [],
   "source": [
    "cabin_to_number = {'X': 0, 'A': 1, 'B': 2, 'C': 3, 'D': 4, 'E': 5, 'F': 6, 'G': 7, 'T': 8}\n",
    "\n",
    "train_data['Cabin_Encoded'] = train_data['Cabin'].apply(lambda x: cabin_to_number[x[0]])\n",
    "test_data['Cabin_Encoded'] = test_data['Cabin'].apply(lambda x: cabin_to_number[x[0]])"
   ]
  },
  {
   "cell_type": "markdown",
   "id": "743b69c4",
   "metadata": {
    "papermill": {
     "duration": 0.018279,
     "end_time": "2023-11-14T12:32:16.738543",
     "exception": false,
     "start_time": "2023-11-14T12:32:16.720264",
     "status": "completed"
    },
    "tags": []
   },
   "source": [
    "### Drop Cabin Column"
   ]
  },
  {
   "cell_type": "code",
   "execution_count": 13,
   "id": "fca0e938",
   "metadata": {
    "execution": {
     "iopub.execute_input": "2023-11-14T12:32:16.775399Z",
     "iopub.status.busy": "2023-11-14T12:32:16.774045Z",
     "iopub.status.idle": "2023-11-14T12:32:16.782215Z",
     "shell.execute_reply": "2023-11-14T12:32:16.781259Z"
    },
    "papermill": {
     "duration": 0.029534,
     "end_time": "2023-11-14T12:32:16.784926",
     "exception": false,
     "start_time": "2023-11-14T12:32:16.755392",
     "status": "completed"
    },
    "tags": []
   },
   "outputs": [],
   "source": [
    "train_data = train_data.drop('Cabin', axis=1)\n",
    "test_data = test_data.drop('Cabin', axis=1)"
   ]
  },
  {
   "cell_type": "markdown",
   "id": "6073f46f",
   "metadata": {
    "papermill": {
     "duration": 0.022197,
     "end_time": "2023-11-14T12:32:16.828858",
     "exception": false,
     "start_time": "2023-11-14T12:32:16.806661",
     "status": "completed"
    },
    "tags": []
   },
   "source": [
    "## Embarked\n",
    "### Fill Null values with 'S'"
   ]
  },
  {
   "cell_type": "code",
   "execution_count": 14,
   "id": "86c2fb24",
   "metadata": {
    "execution": {
     "iopub.execute_input": "2023-11-14T12:32:16.867907Z",
     "iopub.status.busy": "2023-11-14T12:32:16.867442Z",
     "iopub.status.idle": "2023-11-14T12:32:16.882852Z",
     "shell.execute_reply": "2023-11-14T12:32:16.881974Z"
    },
    "papermill": {
     "duration": 0.037865,
     "end_time": "2023-11-14T12:32:16.886248",
     "exception": false,
     "start_time": "2023-11-14T12:32:16.848383",
     "status": "completed"
    },
    "tags": []
   },
   "outputs": [],
   "source": [
    "train_data['Embarked'].describe()\n",
    "\n",
    "train_data['Embarked'] = train_data['Embarked'].fillna('S')\n",
    "test_data['Embarked'] = test_data['Embarked'].fillna('S')"
   ]
  },
  {
   "cell_type": "markdown",
   "id": "ca90f1f8",
   "metadata": {
    "papermill": {
     "duration": 0.016256,
     "end_time": "2023-11-14T12:32:16.920077",
     "exception": false,
     "start_time": "2023-11-14T12:32:16.903821",
     "status": "completed"
    },
    "tags": []
   },
   "source": [
    "### Encode Embarked Values"
   ]
  },
  {
   "cell_type": "code",
   "execution_count": 15,
   "id": "b86f6a77",
   "metadata": {
    "execution": {
     "iopub.execute_input": "2023-11-14T12:32:16.955271Z",
     "iopub.status.busy": "2023-11-14T12:32:16.954832Z",
     "iopub.status.idle": "2023-11-14T12:32:16.964251Z",
     "shell.execute_reply": "2023-11-14T12:32:16.963044Z"
    },
    "papermill": {
     "duration": 0.029789,
     "end_time": "2023-11-14T12:32:16.966644",
     "exception": false,
     "start_time": "2023-11-14T12:32:16.936855",
     "status": "completed"
    },
    "tags": []
   },
   "outputs": [],
   "source": [
    "embark_to_number = {'S': 0, 'C': 1, 'Q': 2}\n",
    "\n",
    "train_data['Embarked'] = train_data['Embarked'].apply(lambda x: embark_to_number[x])\n",
    "test_data['Embarked'] = test_data['Embarked'].apply(lambda x: embark_to_number[x])"
   ]
  },
  {
   "cell_type": "markdown",
   "id": "567b3246",
   "metadata": {
    "papermill": {
     "duration": 0.01648,
     "end_time": "2023-11-14T12:32:16.999938",
     "exception": false,
     "start_time": "2023-11-14T12:32:16.983458",
     "status": "completed"
    },
    "tags": []
   },
   "source": [
    "## Age\n",
    "### Fill null values of age with mean age of train set"
   ]
  },
  {
   "cell_type": "code",
   "execution_count": 16,
   "id": "802bc10d",
   "metadata": {
    "execution": {
     "iopub.execute_input": "2023-11-14T12:32:17.035800Z",
     "iopub.status.busy": "2023-11-14T12:32:17.035370Z",
     "iopub.status.idle": "2023-11-14T12:32:17.042974Z",
     "shell.execute_reply": "2023-11-14T12:32:17.041818Z"
    },
    "papermill": {
     "duration": 0.028048,
     "end_time": "2023-11-14T12:32:17.045284",
     "exception": false,
     "start_time": "2023-11-14T12:32:17.017236",
     "status": "completed"
    },
    "tags": []
   },
   "outputs": [],
   "source": [
    "mean_age = train_data['Age'].mean()\n",
    "\n",
    "train_data['Age'] = train_data['Age'].fillna(mean_age)\n",
    "test_data['Age'] = test_data['Age'].fillna(mean_age)"
   ]
  },
  {
   "cell_type": "markdown",
   "id": "2a7c1201",
   "metadata": {
    "papermill": {
     "duration": 0.016336,
     "end_time": "2023-11-14T12:32:17.078538",
     "exception": false,
     "start_time": "2023-11-14T12:32:17.062202",
     "status": "completed"
    },
    "tags": []
   },
   "source": [
    "### Convert ages to int"
   ]
  },
  {
   "cell_type": "code",
   "execution_count": 17,
   "id": "fb39abf2",
   "metadata": {
    "execution": {
     "iopub.execute_input": "2023-11-14T12:32:17.114075Z",
     "iopub.status.busy": "2023-11-14T12:32:17.113404Z",
     "iopub.status.idle": "2023-11-14T12:32:17.120151Z",
     "shell.execute_reply": "2023-11-14T12:32:17.118954Z"
    },
    "papermill": {
     "duration": 0.027701,
     "end_time": "2023-11-14T12:32:17.122915",
     "exception": false,
     "start_time": "2023-11-14T12:32:17.095214",
     "status": "completed"
    },
    "tags": []
   },
   "outputs": [],
   "source": [
    "train_data['Age'] = train_data['Age'].astype(int)\n",
    "test_data['Age'] = test_data['Age'].astype(int)"
   ]
  },
  {
   "cell_type": "markdown",
   "id": "d84d6a84",
   "metadata": {
    "papermill": {
     "duration": 0.016363,
     "end_time": "2023-11-14T12:32:17.155899",
     "exception": false,
     "start_time": "2023-11-14T12:32:17.139536",
     "status": "completed"
    },
    "tags": []
   },
   "source": [
    "## Fare"
   ]
  },
  {
   "cell_type": "code",
   "execution_count": 18,
   "id": "7c64ab26",
   "metadata": {
    "execution": {
     "iopub.execute_input": "2023-11-14T12:32:17.191167Z",
     "iopub.status.busy": "2023-11-14T12:32:17.190665Z",
     "iopub.status.idle": "2023-11-14T12:32:17.197323Z",
     "shell.execute_reply": "2023-11-14T12:32:17.196496Z"
    },
    "papermill": {
     "duration": 0.027116,
     "end_time": "2023-11-14T12:32:17.199607",
     "exception": false,
     "start_time": "2023-11-14T12:32:17.172491",
     "status": "completed"
    },
    "tags": []
   },
   "outputs": [
    {
     "name": "stdout",
     "output_type": "stream",
     "text": [
      "number of fare null values of train set: 0\n",
      "number of fare null values of test set: 1\n"
     ]
    }
   ],
   "source": [
    "print(f'number of fare null values of train set: {train_data[\"Fare\"].isna().sum()}')\n",
    "print(f'number of fare null values of test set: {test_data[\"Fare\"].isna().sum()}')"
   ]
  },
  {
   "cell_type": "markdown",
   "id": "f3a7d9f6",
   "metadata": {
    "papermill": {
     "duration": 0.016465,
     "end_time": "2023-11-14T12:32:17.232754",
     "exception": false,
     "start_time": "2023-11-14T12:32:17.216289",
     "status": "completed"
    },
    "tags": []
   },
   "source": [
    "### Fill null values with mean fare"
   ]
  },
  {
   "cell_type": "code",
   "execution_count": 19,
   "id": "dba9cffb",
   "metadata": {
    "execution": {
     "iopub.execute_input": "2023-11-14T12:32:17.268812Z",
     "iopub.status.busy": "2023-11-14T12:32:17.267531Z",
     "iopub.status.idle": "2023-11-14T12:32:17.274421Z",
     "shell.execute_reply": "2023-11-14T12:32:17.273600Z"
    },
    "papermill": {
     "duration": 0.027118,
     "end_time": "2023-11-14T12:32:17.276613",
     "exception": false,
     "start_time": "2023-11-14T12:32:17.249495",
     "status": "completed"
    },
    "tags": []
   },
   "outputs": [],
   "source": [
    "mean_fare = train_data['Fare'].mean()\n",
    "\n",
    "train_data['Fare'] = train_data['Fare'].fillna(mean_fare)\n",
    "test_data['Fare'] = test_data['Fare'].fillna(mean_fare)"
   ]
  },
  {
   "cell_type": "markdown",
   "id": "c52aefb7",
   "metadata": {
    "papermill": {
     "duration": 0.01673,
     "end_time": "2023-11-14T12:32:17.310030",
     "exception": false,
     "start_time": "2023-11-14T12:32:17.293300",
     "status": "completed"
    },
    "tags": []
   },
   "source": [
    "### Convert fares to ints"
   ]
  },
  {
   "cell_type": "code",
   "execution_count": 20,
   "id": "639e756b",
   "metadata": {
    "execution": {
     "iopub.execute_input": "2023-11-14T12:32:17.346595Z",
     "iopub.status.busy": "2023-11-14T12:32:17.345837Z",
     "iopub.status.idle": "2023-11-14T12:32:17.352581Z",
     "shell.execute_reply": "2023-11-14T12:32:17.350789Z"
    },
    "papermill": {
     "duration": 0.030533,
     "end_time": "2023-11-14T12:32:17.357524",
     "exception": false,
     "start_time": "2023-11-14T12:32:17.326991",
     "status": "completed"
    },
    "tags": []
   },
   "outputs": [],
   "source": [
    "train_data['Fare'] = train_data['Fare'].astype(int)\n",
    "test_data['Fare'] = test_data['Fare'].astype(int)"
   ]
  },
  {
   "cell_type": "markdown",
   "id": "83676a0b",
   "metadata": {
    "papermill": {
     "duration": 0.016456,
     "end_time": "2023-11-14T12:32:17.390732",
     "exception": false,
     "start_time": "2023-11-14T12:32:17.374276",
     "status": "completed"
    },
    "tags": []
   },
   "source": [
    "## PassengerId (Train)\n",
    "### Drop column"
   ]
  },
  {
   "cell_type": "code",
   "execution_count": 21,
   "id": "844506ea",
   "metadata": {
    "execution": {
     "iopub.execute_input": "2023-11-14T12:32:17.426475Z",
     "iopub.status.busy": "2023-11-14T12:32:17.425691Z",
     "iopub.status.idle": "2023-11-14T12:32:17.431651Z",
     "shell.execute_reply": "2023-11-14T12:32:17.430791Z"
    },
    "papermill": {
     "duration": 0.026359,
     "end_time": "2023-11-14T12:32:17.433886",
     "exception": false,
     "start_time": "2023-11-14T12:32:17.407527",
     "status": "completed"
    },
    "tags": []
   },
   "outputs": [],
   "source": [
    "train_data = train_data.drop(['PassengerId'], axis=1)"
   ]
  },
  {
   "cell_type": "markdown",
   "id": "af2d6ec7",
   "metadata": {
    "papermill": {
     "duration": 0.01624,
     "end_time": "2023-11-14T12:32:17.466754",
     "exception": false,
     "start_time": "2023-11-14T12:32:17.450514",
     "status": "completed"
    },
    "tags": []
   },
   "source": [
    "### Getting data ready"
   ]
  },
  {
   "cell_type": "code",
   "execution_count": 22,
   "id": "737d0cf8",
   "metadata": {
    "execution": {
     "iopub.execute_input": "2023-11-14T12:32:17.502259Z",
     "iopub.status.busy": "2023-11-14T12:32:17.501481Z",
     "iopub.status.idle": "2023-11-14T12:32:17.510458Z",
     "shell.execute_reply": "2023-11-14T12:32:17.509010Z"
    },
    "papermill": {
     "duration": 0.030162,
     "end_time": "2023-11-14T12:32:17.513473",
     "exception": false,
     "start_time": "2023-11-14T12:32:17.483311",
     "status": "completed"
    },
    "tags": []
   },
   "outputs": [],
   "source": [
    "X_train = train_data.drop(\"Survived\", axis=1)\n",
    "Y_train = train_data[\"Survived\"]\n",
    "X_test  = test_data.drop(\"PassengerId\", axis=1).copy()\n",
    "testPassengerIds = test_data['PassengerId']"
   ]
  },
  {
   "cell_type": "markdown",
   "id": "88be1707",
   "metadata": {
    "papermill": {
     "duration": 0.016549,
     "end_time": "2023-11-14T12:32:17.547780",
     "exception": false,
     "start_time": "2023-11-14T12:32:17.531231",
     "status": "completed"
    },
    "tags": []
   },
   "source": [
    "# Data Normalization"
   ]
  },
  {
   "cell_type": "code",
   "execution_count": 23,
   "id": "bb651bde",
   "metadata": {
    "execution": {
     "iopub.execute_input": "2023-11-14T12:32:17.583777Z",
     "iopub.status.busy": "2023-11-14T12:32:17.582870Z",
     "iopub.status.idle": "2023-11-14T12:32:17.602414Z",
     "shell.execute_reply": "2023-11-14T12:32:17.601134Z"
    },
    "papermill": {
     "duration": 0.040432,
     "end_time": "2023-11-14T12:32:17.605166",
     "exception": false,
     "start_time": "2023-11-14T12:32:17.564734",
     "status": "completed"
    },
    "tags": []
   },
   "outputs": [],
   "source": [
    "for col in X_train.columns:\n",
    "    train_column = X_train[col]\n",
    "    test_column = X_test[col]\n",
    "    \n",
    "    mean_val = train_column.mean()\n",
    "    std_val = train_column.std()\n",
    "    \n",
    "    X_train[col] = (train_column - mean_val) / std_val\n",
    "    X_test[col] = (test_column - mean_val) / std_val"
   ]
  },
  {
   "cell_type": "code",
   "execution_count": 24,
   "id": "1fd0561a",
   "metadata": {
    "execution": {
     "iopub.execute_input": "2023-11-14T12:32:17.641117Z",
     "iopub.status.busy": "2023-11-14T12:32:17.640523Z",
     "iopub.status.idle": "2023-11-14T12:32:17.659257Z",
     "shell.execute_reply": "2023-11-14T12:32:17.658107Z"
    },
    "papermill": {
     "duration": 0.039748,
     "end_time": "2023-11-14T12:32:17.661764",
     "exception": false,
     "start_time": "2023-11-14T12:32:17.622016",
     "status": "completed"
    },
    "tags": []
   },
   "outputs": [
    {
     "data": {
      "text/html": [
       "<div>\n",
       "<style scoped>\n",
       "    .dataframe tbody tr th:only-of-type {\n",
       "        vertical-align: middle;\n",
       "    }\n",
       "\n",
       "    .dataframe tbody tr th {\n",
       "        vertical-align: top;\n",
       "    }\n",
       "\n",
       "    .dataframe thead th {\n",
       "        text-align: right;\n",
       "    }\n",
       "</style>\n",
       "<table border=\"1\" class=\"dataframe\">\n",
       "  <thead>\n",
       "    <tr style=\"text-align: right;\">\n",
       "      <th></th>\n",
       "      <th>Pclass</th>\n",
       "      <th>Sex</th>\n",
       "      <th>Age</th>\n",
       "      <th>SibSp</th>\n",
       "      <th>Parch</th>\n",
       "      <th>Fare</th>\n",
       "      <th>Embarked</th>\n",
       "      <th>Title</th>\n",
       "      <th>Cabin_Encoded</th>\n",
       "    </tr>\n",
       "  </thead>\n",
       "  <tbody>\n",
       "    <tr>\n",
       "      <th>0</th>\n",
       "      <td>0.826913</td>\n",
       "      <td>-0.737281</td>\n",
       "      <td>-0.579719</td>\n",
       "      <td>0.432550</td>\n",
       "      <td>-0.473408</td>\n",
       "      <td>-0.498667</td>\n",
       "      <td>-0.568518</td>\n",
       "      <td>-0.738132</td>\n",
       "      <td>-0.488186</td>\n",
       "    </tr>\n",
       "    <tr>\n",
       "      <th>1</th>\n",
       "      <td>-1.565228</td>\n",
       "      <td>1.354813</td>\n",
       "      <td>0.649747</td>\n",
       "      <td>0.432550</td>\n",
       "      <td>-0.473408</td>\n",
       "      <td>0.788962</td>\n",
       "      <td>1.004617</td>\n",
       "      <td>0.190788</td>\n",
       "      <td>1.397540</td>\n",
       "    </tr>\n",
       "    <tr>\n",
       "      <th>2</th>\n",
       "      <td>0.826913</td>\n",
       "      <td>1.354813</td>\n",
       "      <td>-0.272352</td>\n",
       "      <td>-0.474279</td>\n",
       "      <td>-0.473408</td>\n",
       "      <td>-0.498667</td>\n",
       "      <td>-0.568518</td>\n",
       "      <td>1.119709</td>\n",
       "      <td>-0.488186</td>\n",
       "    </tr>\n",
       "    <tr>\n",
       "      <th>3</th>\n",
       "      <td>-1.565228</td>\n",
       "      <td>1.354813</td>\n",
       "      <td>0.419222</td>\n",
       "      <td>0.432550</td>\n",
       "      <td>-0.473408</td>\n",
       "      <td>0.426816</td>\n",
       "      <td>-0.568518</td>\n",
       "      <td>0.190788</td>\n",
       "      <td>1.397540</td>\n",
       "    </tr>\n",
       "    <tr>\n",
       "      <th>4</th>\n",
       "      <td>0.826913</td>\n",
       "      <td>-0.737281</td>\n",
       "      <td>0.419222</td>\n",
       "      <td>-0.474279</td>\n",
       "      <td>-0.473408</td>\n",
       "      <td>-0.478548</td>\n",
       "      <td>-0.568518</td>\n",
       "      <td>-0.738132</td>\n",
       "      <td>-0.488186</td>\n",
       "    </tr>\n",
       "  </tbody>\n",
       "</table>\n",
       "</div>"
      ],
      "text/plain": [
       "     Pclass       Sex       Age     SibSp     Parch      Fare  Embarked  \\\n",
       "0  0.826913 -0.737281 -0.579719  0.432550 -0.473408 -0.498667 -0.568518   \n",
       "1 -1.565228  1.354813  0.649747  0.432550 -0.473408  0.788962  1.004617   \n",
       "2  0.826913  1.354813 -0.272352 -0.474279 -0.473408 -0.498667 -0.568518   \n",
       "3 -1.565228  1.354813  0.419222  0.432550 -0.473408  0.426816 -0.568518   \n",
       "4  0.826913 -0.737281  0.419222 -0.474279 -0.473408 -0.478548 -0.568518   \n",
       "\n",
       "      Title  Cabin_Encoded  \n",
       "0 -0.738132      -0.488186  \n",
       "1  0.190788       1.397540  \n",
       "2  1.119709      -0.488186  \n",
       "3  0.190788       1.397540  \n",
       "4 -0.738132      -0.488186  "
      ]
     },
     "execution_count": 24,
     "metadata": {},
     "output_type": "execute_result"
    }
   ],
   "source": [
    "X_train.head()"
   ]
  },
  {
   "cell_type": "code",
   "execution_count": 25,
   "id": "f5d17429",
   "metadata": {
    "execution": {
     "iopub.execute_input": "2023-11-14T12:32:17.698412Z",
     "iopub.status.busy": "2023-11-14T12:32:17.697575Z",
     "iopub.status.idle": "2023-11-14T12:32:17.714584Z",
     "shell.execute_reply": "2023-11-14T12:32:17.713541Z"
    },
    "papermill": {
     "duration": 0.038216,
     "end_time": "2023-11-14T12:32:17.717034",
     "exception": false,
     "start_time": "2023-11-14T12:32:17.678818",
     "status": "completed"
    },
    "tags": []
   },
   "outputs": [
    {
     "data": {
      "text/html": [
       "<div>\n",
       "<style scoped>\n",
       "    .dataframe tbody tr th:only-of-type {\n",
       "        vertical-align: middle;\n",
       "    }\n",
       "\n",
       "    .dataframe tbody tr th {\n",
       "        vertical-align: top;\n",
       "    }\n",
       "\n",
       "    .dataframe thead th {\n",
       "        text-align: right;\n",
       "    }\n",
       "</style>\n",
       "<table border=\"1\" class=\"dataframe\">\n",
       "  <thead>\n",
       "    <tr style=\"text-align: right;\">\n",
       "      <th></th>\n",
       "      <th>Pclass</th>\n",
       "      <th>Sex</th>\n",
       "      <th>Age</th>\n",
       "      <th>SibSp</th>\n",
       "      <th>Parch</th>\n",
       "      <th>Fare</th>\n",
       "      <th>Embarked</th>\n",
       "      <th>Title</th>\n",
       "      <th>Cabin_Encoded</th>\n",
       "    </tr>\n",
       "  </thead>\n",
       "  <tbody>\n",
       "    <tr>\n",
       "      <th>0</th>\n",
       "      <td>0.826913</td>\n",
       "      <td>-0.737281</td>\n",
       "      <td>0.342381</td>\n",
       "      <td>-0.474279</td>\n",
       "      <td>-0.473408</td>\n",
       "      <td>-0.498667</td>\n",
       "      <td>2.577752</td>\n",
       "      <td>-0.738132</td>\n",
       "      <td>-0.488186</td>\n",
       "    </tr>\n",
       "    <tr>\n",
       "      <th>1</th>\n",
       "      <td>0.826913</td>\n",
       "      <td>1.354813</td>\n",
       "      <td>1.341322</td>\n",
       "      <td>0.432550</td>\n",
       "      <td>-0.473408</td>\n",
       "      <td>-0.498667</td>\n",
       "      <td>-0.568518</td>\n",
       "      <td>0.190788</td>\n",
       "      <td>-0.488186</td>\n",
       "    </tr>\n",
       "    <tr>\n",
       "      <th>2</th>\n",
       "      <td>-0.369158</td>\n",
       "      <td>-0.737281</td>\n",
       "      <td>2.493947</td>\n",
       "      <td>-0.474279</td>\n",
       "      <td>-0.473408</td>\n",
       "      <td>-0.458429</td>\n",
       "      <td>2.577752</td>\n",
       "      <td>-0.738132</td>\n",
       "      <td>-0.488186</td>\n",
       "    </tr>\n",
       "    <tr>\n",
       "      <th>3</th>\n",
       "      <td>0.826913</td>\n",
       "      <td>-0.737281</td>\n",
       "      <td>-0.195511</td>\n",
       "      <td>-0.474279</td>\n",
       "      <td>-0.473408</td>\n",
       "      <td>-0.478548</td>\n",
       "      <td>-0.568518</td>\n",
       "      <td>-0.738132</td>\n",
       "      <td>-0.488186</td>\n",
       "    </tr>\n",
       "    <tr>\n",
       "      <th>4</th>\n",
       "      <td>0.826913</td>\n",
       "      <td>1.354813</td>\n",
       "      <td>-0.579719</td>\n",
       "      <td>0.432550</td>\n",
       "      <td>0.767199</td>\n",
       "      <td>-0.398071</td>\n",
       "      <td>-0.568518</td>\n",
       "      <td>0.190788</td>\n",
       "      <td>-0.488186</td>\n",
       "    </tr>\n",
       "  </tbody>\n",
       "</table>\n",
       "</div>"
      ],
      "text/plain": [
       "     Pclass       Sex       Age     SibSp     Parch      Fare  Embarked  \\\n",
       "0  0.826913 -0.737281  0.342381 -0.474279 -0.473408 -0.498667  2.577752   \n",
       "1  0.826913  1.354813  1.341322  0.432550 -0.473408 -0.498667 -0.568518   \n",
       "2 -0.369158 -0.737281  2.493947 -0.474279 -0.473408 -0.458429  2.577752   \n",
       "3  0.826913 -0.737281 -0.195511 -0.474279 -0.473408 -0.478548 -0.568518   \n",
       "4  0.826913  1.354813 -0.579719  0.432550  0.767199 -0.398071 -0.568518   \n",
       "\n",
       "      Title  Cabin_Encoded  \n",
       "0 -0.738132      -0.488186  \n",
       "1  0.190788      -0.488186  \n",
       "2 -0.738132      -0.488186  \n",
       "3 -0.738132      -0.488186  \n",
       "4  0.190788      -0.488186  "
      ]
     },
     "execution_count": 25,
     "metadata": {},
     "output_type": "execute_result"
    }
   ],
   "source": [
    "X_test.head()"
   ]
  },
  {
   "cell_type": "code",
   "execution_count": 26,
   "id": "33c1ebca",
   "metadata": {
    "execution": {
     "iopub.execute_input": "2023-11-14T12:32:17.755018Z",
     "iopub.status.busy": "2023-11-14T12:32:17.754563Z",
     "iopub.status.idle": "2023-11-14T12:32:17.762629Z",
     "shell.execute_reply": "2023-11-14T12:32:17.761466Z"
    },
    "papermill": {
     "duration": 0.030167,
     "end_time": "2023-11-14T12:32:17.765236",
     "exception": false,
     "start_time": "2023-11-14T12:32:17.735069",
     "status": "completed"
    },
    "tags": []
   },
   "outputs": [
    {
     "data": {
      "text/plain": [
       "0    0\n",
       "1    1\n",
       "2    1\n",
       "3    1\n",
       "4    0\n",
       "Name: Survived, dtype: int64"
      ]
     },
     "execution_count": 26,
     "metadata": {},
     "output_type": "execute_result"
    }
   ],
   "source": [
    "Y_train.head()"
   ]
  },
  {
   "cell_type": "markdown",
   "id": "6c93dc1e",
   "metadata": {
    "papermill": {
     "duration": 0.017522,
     "end_time": "2023-11-14T12:32:17.800284",
     "exception": false,
     "start_time": "2023-11-14T12:32:17.782762",
     "status": "completed"
    },
    "tags": []
   },
   "source": [
    "## Separate cross validation set from train data"
   ]
  },
  {
   "cell_type": "code",
   "execution_count": 27,
   "id": "6bc31d13",
   "metadata": {
    "execution": {
     "iopub.execute_input": "2023-11-14T12:32:17.837120Z",
     "iopub.status.busy": "2023-11-14T12:32:17.836681Z",
     "iopub.status.idle": "2023-11-14T12:32:17.845300Z",
     "shell.execute_reply": "2023-11-14T12:32:17.844072Z"
    },
    "papermill": {
     "duration": 0.029787,
     "end_time": "2023-11-14T12:32:17.847830",
     "exception": false,
     "start_time": "2023-11-14T12:32:17.818043",
     "status": "completed"
    },
    "tags": []
   },
   "outputs": [],
   "source": [
    "# Set the random seed for reproducibility\n",
    "np.random.seed(42)\n",
    "\n",
    "# Shuffle the data\n",
    "shuffle_indices = np.random.permutation(len(X_train))\n",
    "X_train_shuffled = X_train.values[shuffle_indices]\n",
    "Y_train_shuffled = Y_train.values[shuffle_indices]\n",
    "\n",
    "# Define the proportion of data to be allocated for cross-validation\n",
    "val_split = 0.2\n",
    "\n",
    "# Calculate the number of examples for the cross-validation set\n",
    "num_val = int(val_split * len(X_train_shuffled))\n",
    "\n",
    "# Split the data into training and cross-validation sets\n",
    "X_train = X_train_shuffled[:-num_val]\n",
    "Y_train = Y_train_shuffled[:-num_val]\n",
    "X_val = X_train_shuffled[-num_val:]\n",
    "Y_val = Y_train_shuffled[-num_val:]"
   ]
  },
  {
   "cell_type": "markdown",
   "id": "4de32f55",
   "metadata": {
    "papermill": {
     "duration": 0.017622,
     "end_time": "2023-11-14T12:32:17.883566",
     "exception": false,
     "start_time": "2023-11-14T12:32:17.865944",
     "status": "completed"
    },
    "tags": []
   },
   "source": [
    "# Logistic Regression"
   ]
  },
  {
   "cell_type": "code",
   "execution_count": 28,
   "id": "b62b6c53",
   "metadata": {
    "execution": {
     "iopub.execute_input": "2023-11-14T12:32:17.921443Z",
     "iopub.status.busy": "2023-11-14T12:32:17.921017Z",
     "iopub.status.idle": "2023-11-14T12:32:17.937350Z",
     "shell.execute_reply": "2023-11-14T12:32:17.936047Z"
    },
    "papermill": {
     "duration": 0.038043,
     "end_time": "2023-11-14T12:32:17.940211",
     "exception": false,
     "start_time": "2023-11-14T12:32:17.902168",
     "status": "completed"
    },
    "tags": []
   },
   "outputs": [],
   "source": [
    "class LogisticRegression:\n",
    "    def __init__(self, max_iterations=1000, learning_rate=0.01, decay=0.9, epsilon=1e-5):\n",
    "        self.max_iterations = max_iterations\n",
    "        self.learning_rate = learning_rate\n",
    "        self.epsilon = epsilon\n",
    "        self.W = None\n",
    "        self.b = None\n",
    "\n",
    "        \n",
    "    def sigmoid(self, z):\n",
    "        a = 1 / (1 + np.exp(-z))\n",
    "        return a\n",
    "\n",
    "    \n",
    "    def binary_cross_entropy(self, y_pred, y):\n",
    "        epsilon = 1e-15\n",
    "        y_pred = np.clip(y_pred, epsilon, 1 - epsilon)\n",
    "        loss = -(y * np.log(y_pred) + (1 - y) * np.log(1 - y_pred)).mean()\n",
    "        return loss\n",
    "\n",
    "    \n",
    "    def gradient_descent(self, X, y):\n",
    "        m, n = X.shape\n",
    "\n",
    "        dz = self.sigmoid(X.dot(self.W) + self.b) - y\n",
    "        dw = np.dot(X.T, dz) / m\n",
    "        db = np.sum(dz) / m\n",
    "\n",
    "        return dw, db\n",
    "\n",
    "    \n",
    "    def fit(self, X, y):\n",
    "        n_samples, n_features = X.shape\n",
    "\n",
    "        self.W = np.random.randn(n_features) * 0.01\n",
    "        self.b = 0\n",
    "        previous_loss = np.inf\n",
    "        lr = self.learning_rate\n",
    "\n",
    "        for _ in range(self.max_iterations):\n",
    "            # Calculate Gradients\n",
    "            dw, db = self.gradient_descent(X, y)\n",
    "\n",
    "            # Update Parameters\n",
    "            self.W -= lr * dw\n",
    "            self.b -= lr * db\n",
    "\n",
    "            # Check for Early Stop\n",
    "            current_loss = self.binary_cross_entropy(self.sigmoid(X.dot(self.W) + self.b), y)\n",
    "            if np.abs(current_loss - previous_loss) < self.epsilon:\n",
    "                print(f'Stopping Train at Iteration No.{_}')\n",
    "                break\n",
    "\n",
    "            previous_loss = current_loss\n",
    "            lr *= 0.92\n",
    "\n",
    "        print(f'Training Complete with Binary Cross Entropy Loss of {current_loss}')\n",
    "\n",
    "        \n",
    "    def predict(self, X):\n",
    "        y_pred = self.sigmoid(np.dot(X, self.W) + self.b)\n",
    "        return (y_pred >= 0.5).astype(int)"
   ]
  },
  {
   "cell_type": "markdown",
   "id": "3ce265f8",
   "metadata": {
    "papermill": {
     "duration": 0.017342,
     "end_time": "2023-11-14T12:32:17.975225",
     "exception": false,
     "start_time": "2023-11-14T12:32:17.957883",
     "status": "completed"
    },
    "tags": []
   },
   "source": [
    "## Check different hyperparameters"
   ]
  },
  {
   "cell_type": "code",
   "execution_count": 29,
   "id": "aea972a6",
   "metadata": {
    "execution": {
     "iopub.execute_input": "2023-11-14T12:32:18.013417Z",
     "iopub.status.busy": "2023-11-14T12:32:18.012066Z",
     "iopub.status.idle": "2023-11-14T12:32:22.664128Z",
     "shell.execute_reply": "2023-11-14T12:32:22.662513Z"
    },
    "papermill": {
     "duration": 4.674277,
     "end_time": "2023-11-14T12:32:22.666923",
     "exception": false,
     "start_time": "2023-11-14T12:32:17.992646",
     "status": "completed"
    },
    "scrolled": true,
    "tags": []
   },
   "outputs": [
    {
     "name": "stdout",
     "output_type": "stream",
     "text": [
      "Stopping Train at Iteration No.78\n",
      "Training Complete with Binary Cross Entropy Loss of 0.5566518540336988\n",
      "Training Complete with Binary Cross Entropy Loss of 0.5563779914995787\n",
      "Stopping Train at Iteration No.77\n",
      "Training Complete with Binary Cross Entropy Loss of 0.5550160361295557\n",
      "Training Complete with Binary Cross Entropy Loss of 0.5560016172397695\n",
      "Stopping Train at Iteration No.77\n",
      "Training Complete with Binary Cross Entropy Loss of 0.5527806910969416\n",
      "Training Complete with Binary Cross Entropy Loss of 0.5532842271468729\n",
      "Stopping Train at Iteration No.77\n",
      "Training Complete with Binary Cross Entropy Loss of 0.5545112951630043\n",
      "Training Complete with Binary Cross Entropy Loss of 0.5549212866012389\n",
      "Stopping Train at Iteration No.78\n",
      "Training Complete with Binary Cross Entropy Loss of 0.5565202658827072\n",
      "Training Complete with Binary Cross Entropy Loss of 0.554279642981674\n",
      "Stopping Train at Iteration No.67\n",
      "Training Complete with Binary Cross Entropy Loss of 0.4556851466299655\n",
      "Training Complete with Binary Cross Entropy Loss of 0.4555060616761362\n",
      "Stopping Train at Iteration No.67\n",
      "Training Complete with Binary Cross Entropy Loss of 0.4553292220250214\n",
      "Training Complete with Binary Cross Entropy Loss of 0.45539279590845266\n",
      "Stopping Train at Iteration No.67\n",
      "Training Complete with Binary Cross Entropy Loss of 0.45523278269287504\n",
      "Training Complete with Binary Cross Entropy Loss of 0.4553116419158523\n",
      "Stopping Train at Iteration No.67\n",
      "Training Complete with Binary Cross Entropy Loss of 0.45557353640494724\n",
      "Training Complete with Binary Cross Entropy Loss of 0.455486751534745\n",
      "Stopping Train at Iteration No.68\n",
      "Training Complete with Binary Cross Entropy Loss of 0.4559679684906452\n",
      "Training Complete with Binary Cross Entropy Loss of 0.455400225637551\n",
      "Stopping Train at Iteration No.56\n",
      "Training Complete with Binary Cross Entropy Loss of 0.4392422123858994\n",
      "Training Complete with Binary Cross Entropy Loss of 0.4391706400252895\n",
      "Stopping Train at Iteration No.56\n",
      "Training Complete with Binary Cross Entropy Loss of 0.43930029927824765\n",
      "Training Complete with Binary Cross Entropy Loss of 0.43925165428650575\n",
      "Stopping Train at Iteration No.56\n",
      "Training Complete with Binary Cross Entropy Loss of 0.43916649191533236\n",
      "Training Complete with Binary Cross Entropy Loss of 0.43925013335765134\n",
      "Stopping Train at Iteration No.56\n",
      "Training Complete with Binary Cross Entropy Loss of 0.4393298434776387\n",
      "Training Complete with Binary Cross Entropy Loss of 0.43917352863550935\n",
      "Stopping Train at Iteration No.56\n",
      "Training Complete with Binary Cross Entropy Loss of 0.43931553498195824\n",
      "Training Complete with Binary Cross Entropy Loss of 0.4391371056906299\n",
      "Stopping Train at Iteration No.47\n",
      "Training Complete with Binary Cross Entropy Loss of 0.43532773065461944\n",
      "Training Complete with Binary Cross Entropy Loss of 0.43522830613187485\n",
      "Stopping Train at Iteration No.46\n",
      "Training Complete with Binary Cross Entropy Loss of 0.43525949726552815\n",
      "Training Complete with Binary Cross Entropy Loss of 0.4352300953660538\n",
      "Stopping Train at Iteration No.47\n",
      "Training Complete with Binary Cross Entropy Loss of 0.4352742582513175\n",
      "Training Complete with Binary Cross Entropy Loss of 0.4352680085152702\n",
      "Stopping Train at Iteration No.47\n",
      "Training Complete with Binary Cross Entropy Loss of 0.4353145848503125\n",
      "Training Complete with Binary Cross Entropy Loss of 0.43521367274730566\n",
      "Stopping Train at Iteration No.47\n",
      "Training Complete with Binary Cross Entropy Loss of 0.4353349557742861\n",
      "Training Complete with Binary Cross Entropy Loss of 0.43524447027702645\n",
      "Stopping Train at Iteration No.39\n",
      "Training Complete with Binary Cross Entropy Loss of 0.4340229213310491\n",
      "Training Complete with Binary Cross Entropy Loss of 0.43394151522764396\n",
      "Stopping Train at Iteration No.39\n",
      "Training Complete with Binary Cross Entropy Loss of 0.43403493004652177\n",
      "Training Complete with Binary Cross Entropy Loss of 0.4339166570093266\n",
      "Stopping Train at Iteration No.39\n",
      "Training Complete with Binary Cross Entropy Loss of 0.43402554034879853\n",
      "Training Complete with Binary Cross Entropy Loss of 0.43393490021615555\n",
      "Stopping Train at Iteration No.39\n",
      "Training Complete with Binary Cross Entropy Loss of 0.4340176270794936\n",
      "Training Complete with Binary Cross Entropy Loss of 0.4339299985481859\n",
      "Stopping Train at Iteration No.39\n",
      "Training Complete with Binary Cross Entropy Loss of 0.434024414803002\n",
      "Training Complete with Binary Cross Entropy Loss of 0.4339234712135789\n",
      "Stopping Train at Iteration No.33\n",
      "Training Complete with Binary Cross Entropy Loss of 0.4334927958616286\n",
      "Training Complete with Binary Cross Entropy Loss of 0.4334311006297559\n",
      "Stopping Train at Iteration No.32\n",
      "Training Complete with Binary Cross Entropy Loss of 0.4334953331226868\n",
      "Training Complete with Binary Cross Entropy Loss of 0.43339457974105106\n",
      "Stopping Train at Iteration No.33\n",
      "Training Complete with Binary Cross Entropy Loss of 0.43351664887581987\n",
      "Training Complete with Binary Cross Entropy Loss of 0.4334268811189706\n",
      "Stopping Train at Iteration No.32\n",
      "Training Complete with Binary Cross Entropy Loss of 0.4334937045065081\n",
      "Training Complete with Binary Cross Entropy Loss of 0.43338319292341304\n",
      "Stopping Train at Iteration No.33\n",
      "Training Complete with Binary Cross Entropy Loss of 0.4335060991576612\n",
      "Training Complete with Binary Cross Entropy Loss of 0.4333954953168723\n",
      "Stopping Train at Iteration No.78\n",
      "Training Complete with Binary Cross Entropy Loss of 0.5568263442589414\n",
      "Training Complete with Binary Cross Entropy Loss of 0.5546105550867683\n",
      "Stopping Train at Iteration No.77\n",
      "Training Complete with Binary Cross Entropy Loss of 0.5533655262320837\n",
      "Training Complete with Binary Cross Entropy Loss of 0.5543544587576678\n",
      "Stopping Train at Iteration No.77\n",
      "Training Complete with Binary Cross Entropy Loss of 0.5552521113431154\n",
      "Training Complete with Binary Cross Entropy Loss of 0.5554528165694882\n",
      "Stopping Train at Iteration No.78\n",
      "Training Complete with Binary Cross Entropy Loss of 0.5580270037368437\n",
      "Training Complete with Binary Cross Entropy Loss of 0.554037994126891\n",
      "Stopping Train at Iteration No.77\n",
      "Training Complete with Binary Cross Entropy Loss of 0.554036463640423\n",
      "Training Complete with Binary Cross Entropy Loss of 0.5559127261421142\n",
      "Stopping Train at Iteration No.67\n",
      "Training Complete with Binary Cross Entropy Loss of 0.4554832479459042\n",
      "Training Complete with Binary Cross Entropy Loss of 0.45623911626568786\n",
      "Stopping Train at Iteration No.68\n",
      "Training Complete with Binary Cross Entropy Loss of 0.4558987242169296\n",
      "Training Complete with Binary Cross Entropy Loss of 0.4551817282351248\n",
      "Stopping Train at Iteration No.67\n",
      "Training Complete with Binary Cross Entropy Loss of 0.4552429959861111\n",
      "Training Complete with Binary Cross Entropy Loss of 0.45525059791016714\n",
      "Stopping Train at Iteration No.67\n",
      "Training Complete with Binary Cross Entropy Loss of 0.4555657234204771\n",
      "Training Complete with Binary Cross Entropy Loss of 0.45523877034890714\n",
      "Stopping Train at Iteration No.67\n",
      "Training Complete with Binary Cross Entropy Loss of 0.455560970297707\n",
      "Training Complete with Binary Cross Entropy Loss of 0.4553889754870443\n",
      "Stopping Train at Iteration No.56\n",
      "Training Complete with Binary Cross Entropy Loss of 0.43933798709681265\n",
      "Stopping Train at Iteration No.194\n",
      "Training Complete with Binary Cross Entropy Loss of 0.43919045102841875\n",
      "Stopping Train at Iteration No.56\n",
      "Training Complete with Binary Cross Entropy Loss of 0.43922315954151464\n",
      "Stopping Train at Iteration No.194\n",
      "Training Complete with Binary Cross Entropy Loss of 0.4390955908406722\n",
      "Stopping Train at Iteration No.56\n",
      "Training Complete with Binary Cross Entropy Loss of 0.4393685379921693\n",
      "Stopping Train at Iteration No.194\n",
      "Training Complete with Binary Cross Entropy Loss of 0.4391696156895601\n",
      "Stopping Train at Iteration No.56\n",
      "Training Complete with Binary Cross Entropy Loss of 0.4392295622165589\n",
      "Stopping Train at Iteration No.194\n",
      "Training Complete with Binary Cross Entropy Loss of 0.4390178001306835\n",
      "Stopping Train at Iteration No.56\n",
      "Training Complete with Binary Cross Entropy Loss of 0.4392868479573644\n",
      "Stopping Train at Iteration No.194\n",
      "Training Complete with Binary Cross Entropy Loss of 0.43904407666328665\n",
      "Stopping Train at Iteration No.47\n",
      "Training Complete with Binary Cross Entropy Loss of 0.43528132910341477\n",
      "Stopping Train at Iteration No.184\n",
      "Training Complete with Binary Cross Entropy Loss of 0.43518624742690976\n",
      "Stopping Train at Iteration No.47\n",
      "Training Complete with Binary Cross Entropy Loss of 0.43534704861733237\n",
      "Stopping Train at Iteration No.184\n",
      "Training Complete with Binary Cross Entropy Loss of 0.4351983000754782\n",
      "Stopping Train at Iteration No.47\n",
      "Training Complete with Binary Cross Entropy Loss of 0.43537754703187065\n",
      "Stopping Train at Iteration No.184\n",
      "Training Complete with Binary Cross Entropy Loss of 0.435151621974862\n",
      "Stopping Train at Iteration No.47\n",
      "Training Complete with Binary Cross Entropy Loss of 0.4352930520285927\n",
      "Stopping Train at Iteration No.184\n",
      "Training Complete with Binary Cross Entropy Loss of 0.43523956446307044\n",
      "Stopping Train at Iteration No.47\n",
      "Training Complete with Binary Cross Entropy Loss of 0.43532653407359434\n",
      "Stopping Train at Iteration No.184\n",
      "Training Complete with Binary Cross Entropy Loss of 0.43517441642035387\n",
      "Stopping Train at Iteration No.39\n",
      "Training Complete with Binary Cross Entropy Loss of 0.4340051313548371\n",
      "Stopping Train at Iteration No.176\n",
      "Training Complete with Binary Cross Entropy Loss of 0.433924333793056\n",
      "Stopping Train at Iteration No.39\n",
      "Training Complete with Binary Cross Entropy Loss of 0.4340264952136901\n",
      "Stopping Train at Iteration No.175\n",
      "Training Complete with Binary Cross Entropy Loss of 0.43391288651763543\n",
      "Stopping Train at Iteration No.39\n",
      "Training Complete with Binary Cross Entropy Loss of 0.43401052109717914\n",
      "Stopping Train at Iteration No.175\n",
      "Training Complete with Binary Cross Entropy Loss of 0.43388884285685275\n",
      "Stopping Train at Iteration No.39\n",
      "Training Complete with Binary Cross Entropy Loss of 0.4340295056229875\n",
      "Stopping Train at Iteration No.176\n",
      "Training Complete with Binary Cross Entropy Loss of 0.4339160812482988\n",
      "Stopping Train at Iteration No.39\n",
      "Training Complete with Binary Cross Entropy Loss of 0.4339958369275505\n",
      "Stopping Train at Iteration No.176\n",
      "Training Complete with Binary Cross Entropy Loss of 0.43390360238303544\n",
      "Stopping Train at Iteration No.33\n",
      "Training Complete with Binary Cross Entropy Loss of 0.43349211847577435\n",
      "Stopping Train at Iteration No.168\n",
      "Training Complete with Binary Cross Entropy Loss of 0.43339366318516603\n",
      "Stopping Train at Iteration No.33\n",
      "Training Complete with Binary Cross Entropy Loss of 0.4335084875101054\n",
      "Stopping Train at Iteration No.168\n",
      "Training Complete with Binary Cross Entropy Loss of 0.4334072796252285\n",
      "Stopping Train at Iteration No.33\n",
      "Training Complete with Binary Cross Entropy Loss of 0.43350247564862116\n",
      "Stopping Train at Iteration No.167\n",
      "Training Complete with Binary Cross Entropy Loss of 0.433385903900435\n",
      "Stopping Train at Iteration No.32\n",
      "Training Complete with Binary Cross Entropy Loss of 0.43347929778258715\n",
      "Stopping Train at Iteration No.168\n",
      "Training Complete with Binary Cross Entropy Loss of 0.4334084351969263\n",
      "Stopping Train at Iteration No.32\n",
      "Training Complete with Binary Cross Entropy Loss of 0.433494867340707\n",
      "Stopping Train at Iteration No.168\n",
      "Training Complete with Binary Cross Entropy Loss of 0.4334128417899358\n",
      "Stopping Train at Iteration No.77\n",
      "Training Complete with Binary Cross Entropy Loss of 0.5545764701857828\n",
      "Stopping Train at Iteration No.215\n",
      "Training Complete with Binary Cross Entropy Loss of 0.5538057964137573\n",
      "Stopping Train at Iteration No.77\n",
      "Training Complete with Binary Cross Entropy Loss of 0.5550995259217072\n",
      "Stopping Train at Iteration No.215\n",
      "Training Complete with Binary Cross Entropy Loss of 0.555502856672927\n",
      "Stopping Train at Iteration No.77\n",
      "Training Complete with Binary Cross Entropy Loss of 0.556073349082595\n",
      "Stopping Train at Iteration No.215\n",
      "Training Complete with Binary Cross Entropy Loss of 0.5535844448127658\n",
      "Stopping Train at Iteration No.77\n",
      "Training Complete with Binary Cross Entropy Loss of 0.5542399077868007\n",
      "Stopping Train at Iteration No.215\n",
      "Training Complete with Binary Cross Entropy Loss of 0.5539415757385016\n",
      "Stopping Train at Iteration No.77\n",
      "Training Complete with Binary Cross Entropy Loss of 0.5560959915805593\n",
      "Stopping Train at Iteration No.215\n",
      "Training Complete with Binary Cross Entropy Loss of 0.5548628764440439\n",
      "Stopping Train at Iteration No.67\n",
      "Training Complete with Binary Cross Entropy Loss of 0.45530289981423433\n",
      "Stopping Train at Iteration No.205\n",
      "Training Complete with Binary Cross Entropy Loss of 0.455648391723102\n",
      "Stopping Train at Iteration No.67\n",
      "Training Complete with Binary Cross Entropy Loss of 0.4553429941255684\n",
      "Stopping Train at Iteration No.206\n",
      "Training Complete with Binary Cross Entropy Loss of 0.45563017523902183\n",
      "Stopping Train at Iteration No.67\n",
      "Training Complete with Binary Cross Entropy Loss of 0.455192799927586\n",
      "Stopping Train at Iteration No.205\n",
      "Training Complete with Binary Cross Entropy Loss of 0.4555793410457814\n",
      "Stopping Train at Iteration No.67\n",
      "Training Complete with Binary Cross Entropy Loss of 0.45582539422688645\n",
      "Stopping Train at Iteration No.205\n",
      "Training Complete with Binary Cross Entropy Loss of 0.4554174334751641\n",
      "Stopping Train at Iteration No.68\n",
      "Training Complete with Binary Cross Entropy Loss of 0.45602113997496135\n",
      "Stopping Train at Iteration No.206\n",
      "Training Complete with Binary Cross Entropy Loss of 0.45558117122306957\n",
      "Stopping Train at Iteration No.56\n",
      "Training Complete with Binary Cross Entropy Loss of 0.43924124733032266\n",
      "Stopping Train at Iteration No.194\n",
      "Training Complete with Binary Cross Entropy Loss of 0.438975781593738\n",
      "Stopping Train at Iteration No.56\n",
      "Training Complete with Binary Cross Entropy Loss of 0.43906785969017664\n",
      "Stopping Train at Iteration No.194\n",
      "Training Complete with Binary Cross Entropy Loss of 0.43912066511486414\n",
      "Stopping Train at Iteration No.56\n",
      "Training Complete with Binary Cross Entropy Loss of 0.43924658539473693\n",
      "Stopping Train at Iteration No.194\n",
      "Training Complete with Binary Cross Entropy Loss of 0.43905870062723296\n",
      "Stopping Train at Iteration No.56\n",
      "Training Complete with Binary Cross Entropy Loss of 0.43932326415717227\n",
      "Stopping Train at Iteration No.194\n",
      "Training Complete with Binary Cross Entropy Loss of 0.4391522772609521\n",
      "Stopping Train at Iteration No.56\n",
      "Training Complete with Binary Cross Entropy Loss of 0.43935116037545624\n",
      "Stopping Train at Iteration No.194\n",
      "Training Complete with Binary Cross Entropy Loss of 0.4390792377103855\n",
      "Stopping Train at Iteration No.47\n",
      "Training Complete with Binary Cross Entropy Loss of 0.43530679822007606\n",
      "Stopping Train at Iteration No.184\n",
      "Training Complete with Binary Cross Entropy Loss of 0.43518331147350164\n",
      "Stopping Train at Iteration No.47\n",
      "Training Complete with Binary Cross Entropy Loss of 0.4352954102812418\n",
      "Stopping Train at Iteration No.184\n",
      "Training Complete with Binary Cross Entropy Loss of 0.4352352346286171\n",
      "Stopping Train at Iteration No.47\n",
      "Training Complete with Binary Cross Entropy Loss of 0.4352541398295983\n",
      "Stopping Train at Iteration No.184\n",
      "Training Complete with Binary Cross Entropy Loss of 0.4351996030438616\n",
      "Stopping Train at Iteration No.47\n",
      "Training Complete with Binary Cross Entropy Loss of 0.4353128912210147\n",
      "Stopping Train at Iteration No.184\n",
      "Training Complete with Binary Cross Entropy Loss of 0.4352017408689563\n",
      "Stopping Train at Iteration No.47\n",
      "Training Complete with Binary Cross Entropy Loss of 0.4352944395074163\n",
      "Stopping Train at Iteration No.184\n",
      "Training Complete with Binary Cross Entropy Loss of 0.4351998262926976\n",
      "Stopping Train at Iteration No.39\n",
      "Training Complete with Binary Cross Entropy Loss of 0.43403245619301223\n",
      "Stopping Train at Iteration No.175\n",
      "Training Complete with Binary Cross Entropy Loss of 0.4338934111402149\n",
      "Stopping Train at Iteration No.39\n",
      "Training Complete with Binary Cross Entropy Loss of 0.43400974143150867\n",
      "Stopping Train at Iteration No.176\n",
      "Training Complete with Binary Cross Entropy Loss of 0.4339067647829911\n",
      "Stopping Train at Iteration No.39\n",
      "Training Complete with Binary Cross Entropy Loss of 0.43405882748700475\n",
      "Stopping Train at Iteration No.176\n",
      "Training Complete with Binary Cross Entropy Loss of 0.43391296499589954\n",
      "Stopping Train at Iteration No.39\n",
      "Training Complete with Binary Cross Entropy Loss of 0.43403755520892745\n",
      "Stopping Train at Iteration No.176\n",
      "Training Complete with Binary Cross Entropy Loss of 0.43391425038319315\n",
      "Stopping Train at Iteration No.39\n",
      "Training Complete with Binary Cross Entropy Loss of 0.43402546969410877\n",
      "Stopping Train at Iteration No.175\n",
      "Training Complete with Binary Cross Entropy Loss of 0.4338979157816503\n",
      "Stopping Train at Iteration No.33\n",
      "Training Complete with Binary Cross Entropy Loss of 0.4334925028011337\n",
      "Stopping Train at Iteration No.167\n",
      "Training Complete with Binary Cross Entropy Loss of 0.4333887753017455\n",
      "Stopping Train at Iteration No.33\n",
      "Training Complete with Binary Cross Entropy Loss of 0.4335006231621578\n",
      "Stopping Train at Iteration No.168\n",
      "Training Complete with Binary Cross Entropy Loss of 0.433404798604133\n",
      "Stopping Train at Iteration No.32\n",
      "Training Complete with Binary Cross Entropy Loss of 0.43349291119666084\n",
      "Stopping Train at Iteration No.168\n",
      "Training Complete with Binary Cross Entropy Loss of 0.4334007023201405\n",
      "Stopping Train at Iteration No.33\n",
      "Training Complete with Binary Cross Entropy Loss of 0.4335324966584084\n",
      "Stopping Train at Iteration No.168\n",
      "Training Complete with Binary Cross Entropy Loss of 0.43340266672589167\n",
      "Stopping Train at Iteration No.33\n",
      "Training Complete with Binary Cross Entropy Loss of 0.43348839322137533\n",
      "Stopping Train at Iteration No.168\n",
      "Training Complete with Binary Cross Entropy Loss of 0.433394705746528\n",
      "Stopping Train at Iteration No.77\n",
      "Training Complete with Binary Cross Entropy Loss of 0.5549733503467281\n",
      "Stopping Train at Iteration No.215\n",
      "Training Complete with Binary Cross Entropy Loss of 0.5543245791948423\n",
      "Stopping Train at Iteration No.78\n",
      "Training Complete with Binary Cross Entropy Loss of 0.5577876097750931\n",
      "Stopping Train at Iteration No.215\n",
      "Training Complete with Binary Cross Entropy Loss of 0.555945919816819\n",
      "Stopping Train at Iteration No.77\n",
      "Training Complete with Binary Cross Entropy Loss of 0.5560726432469271\n",
      "Stopping Train at Iteration No.215\n",
      "Training Complete with Binary Cross Entropy Loss of 0.5547830658675635\n",
      "Stopping Train at Iteration No.77\n",
      "Training Complete with Binary Cross Entropy Loss of 0.5556818292197859\n",
      "Stopping Train at Iteration No.216\n",
      "Training Complete with Binary Cross Entropy Loss of 0.5573995200346312\n",
      "Stopping Train at Iteration No.77\n",
      "Training Complete with Binary Cross Entropy Loss of 0.553527314205944\n",
      "Stopping Train at Iteration No.215\n",
      "Training Complete with Binary Cross Entropy Loss of 0.5542321484252987\n",
      "Stopping Train at Iteration No.67\n",
      "Training Complete with Binary Cross Entropy Loss of 0.4553779493742924\n",
      "Stopping Train at Iteration No.205\n",
      "Training Complete with Binary Cross Entropy Loss of 0.4549949377863145\n",
      "Stopping Train at Iteration No.68\n",
      "Training Complete with Binary Cross Entropy Loss of 0.45566568001281793\n",
      "Stopping Train at Iteration No.205\n",
      "Training Complete with Binary Cross Entropy Loss of 0.455482901122594\n",
      "Stopping Train at Iteration No.68\n",
      "Training Complete with Binary Cross Entropy Loss of 0.45565630007178787\n",
      "Stopping Train at Iteration No.206\n",
      "Training Complete with Binary Cross Entropy Loss of 0.4559651636705405\n",
      "Stopping Train at Iteration No.67\n",
      "Training Complete with Binary Cross Entropy Loss of 0.455645731802767\n",
      "Stopping Train at Iteration No.205\n",
      "Training Complete with Binary Cross Entropy Loss of 0.4552565708130229\n",
      "Stopping Train at Iteration No.67\n",
      "Training Complete with Binary Cross Entropy Loss of 0.45527492044467516\n",
      "Stopping Train at Iteration No.205\n",
      "Training Complete with Binary Cross Entropy Loss of 0.4554550357690356\n",
      "Stopping Train at Iteration No.56\n",
      "Training Complete with Binary Cross Entropy Loss of 0.4391850484757773\n",
      "Stopping Train at Iteration No.194\n",
      "Training Complete with Binary Cross Entropy Loss of 0.4390805247181191\n",
      "Stopping Train at Iteration No.56\n",
      "Training Complete with Binary Cross Entropy Loss of 0.43926082307666653\n",
      "Stopping Train at Iteration No.194\n",
      "Training Complete with Binary Cross Entropy Loss of 0.4390710148715615\n",
      "Stopping Train at Iteration No.56\n",
      "Training Complete with Binary Cross Entropy Loss of 0.4392276934793579\n",
      "Stopping Train at Iteration No.194\n",
      "Training Complete with Binary Cross Entropy Loss of 0.4391330775117512\n",
      "Stopping Train at Iteration No.56\n",
      "Training Complete with Binary Cross Entropy Loss of 0.4391425857856154\n",
      "Stopping Train at Iteration No.194\n",
      "Training Complete with Binary Cross Entropy Loss of 0.43914044816426745\n",
      "Stopping Train at Iteration No.56\n",
      "Training Complete with Binary Cross Entropy Loss of 0.4392173463320246\n",
      "Stopping Train at Iteration No.194\n",
      "Training Complete with Binary Cross Entropy Loss of 0.4390136824027968\n",
      "Stopping Train at Iteration No.47\n",
      "Training Complete with Binary Cross Entropy Loss of 0.43536136546056936\n",
      "Stopping Train at Iteration No.184\n",
      "Training Complete with Binary Cross Entropy Loss of 0.4352560459723916\n",
      "Stopping Train at Iteration No.47\n",
      "Training Complete with Binary Cross Entropy Loss of 0.4353470336317733\n",
      "Stopping Train at Iteration No.184\n",
      "Training Complete with Binary Cross Entropy Loss of 0.43525585274699896\n",
      "Stopping Train at Iteration No.47\n",
      "Training Complete with Binary Cross Entropy Loss of 0.4352848638366967\n",
      "Stopping Train at Iteration No.184\n",
      "Training Complete with Binary Cross Entropy Loss of 0.43512615040423913\n",
      "Stopping Train at Iteration No.47\n",
      "Training Complete with Binary Cross Entropy Loss of 0.4353197875661868\n",
      "Stopping Train at Iteration No.184\n",
      "Training Complete with Binary Cross Entropy Loss of 0.43524684026633825\n",
      "Stopping Train at Iteration No.47\n",
      "Training Complete with Binary Cross Entropy Loss of 0.4353479860160544\n",
      "Stopping Train at Iteration No.184\n",
      "Training Complete with Binary Cross Entropy Loss of 0.4352318439618957\n",
      "Stopping Train at Iteration No.39\n",
      "Training Complete with Binary Cross Entropy Loss of 0.4340192682536553\n",
      "Stopping Train at Iteration No.175\n",
      "Training Complete with Binary Cross Entropy Loss of 0.43388923770584803\n",
      "Stopping Train at Iteration No.39\n",
      "Training Complete with Binary Cross Entropy Loss of 0.4340080190096595\n",
      "Stopping Train at Iteration No.176\n",
      "Training Complete with Binary Cross Entropy Loss of 0.4339260076501972\n",
      "Stopping Train at Iteration No.39\n",
      "Training Complete with Binary Cross Entropy Loss of 0.43401243943519036\n",
      "Stopping Train at Iteration No.176\n",
      "Training Complete with Binary Cross Entropy Loss of 0.43392142302313225\n",
      "Stopping Train at Iteration No.39\n",
      "Training Complete with Binary Cross Entropy Loss of 0.4340455305291957\n",
      "Stopping Train at Iteration No.175\n",
      "Training Complete with Binary Cross Entropy Loss of 0.4338978875706827\n",
      "Stopping Train at Iteration No.39\n",
      "Training Complete with Binary Cross Entropy Loss of 0.4340303441399565\n",
      "Stopping Train at Iteration No.176\n",
      "Training Complete with Binary Cross Entropy Loss of 0.4339145205010617\n",
      "Stopping Train at Iteration No.32\n",
      "Training Complete with Binary Cross Entropy Loss of 0.4334915161800975\n",
      "Stopping Train at Iteration No.168\n",
      "Training Complete with Binary Cross Entropy Loss of 0.4334091413535455\n",
      "Stopping Train at Iteration No.33\n",
      "Training Complete with Binary Cross Entropy Loss of 0.4334977739406103\n",
      "Stopping Train at Iteration No.168\n",
      "Training Complete with Binary Cross Entropy Loss of 0.43340893606347386\n",
      "Stopping Train at Iteration No.33\n",
      "Training Complete with Binary Cross Entropy Loss of 0.433507092404145\n",
      "Stopping Train at Iteration No.168\n",
      "Training Complete with Binary Cross Entropy Loss of 0.4334059350800227\n",
      "Stopping Train at Iteration No.33\n",
      "Training Complete with Binary Cross Entropy Loss of 0.4335199222313632\n",
      "Stopping Train at Iteration No.167\n",
      "Training Complete with Binary Cross Entropy Loss of 0.43338624941495113\n",
      "Stopping Train at Iteration No.33\n",
      "Training Complete with Binary Cross Entropy Loss of 0.43351503633932564\n",
      "Stopping Train at Iteration No.168\n",
      "Training Complete with Binary Cross Entropy Loss of 0.4334081905351822\n",
      "Best Score: 6.015261016831319\n",
      "Best Hyperparameters: (100, 0.5, 0.8, 1e-05)\n"
     ]
    }
   ],
   "source": [
    "max_iterations_values = [100, 200, 500, 1000]\n",
    "learning_rate_values = [0.1, 0.5, 1.0, 1.5, 2.0, 2.5]\n",
    "decay_values = [0.8, 0.85, 0.9, 0.95, 0.99]\n",
    "epsilon_values = [1e-5, 1e-10]\n",
    "\n",
    "best_score = float('inf')\n",
    "best_hyperparameters = None\n",
    "\n",
    "for max_iterations in max_iterations_values:\n",
    "    for learning_rate in learning_rate_values:\n",
    "        for decay in decay_values:\n",
    "            for epsilon in epsilon_values:\n",
    "                lr_model_test = LogisticRegression(max_iterations, learning_rate, decay, epsilon)\n",
    "                lr_model_test.fit(X_train, Y_train)\n",
    "\n",
    "                # Evaluate the model on the validation set\n",
    "                y_val_pred = lr_model_test.predict(X_val)\n",
    "                score = lr_model_test.binary_cross_entropy(y_val_pred, Y_val)\n",
    "\n",
    "                # Check if the current combination of hyperparameters achieved a better score\n",
    "                if score < best_score:\n",
    "                    best_score = score\n",
    "                    best_hyperparameters = (max_iterations, learning_rate, decay, epsilon)\n",
    "\n",
    "print(f\"Best Score: {best_score}\")\n",
    "print(f\"Best Hyperparameters: {best_hyperparameters}\")"
   ]
  },
  {
   "cell_type": "markdown",
   "id": "9008660f",
   "metadata": {
    "papermill": {
     "duration": 0.020936,
     "end_time": "2023-11-14T12:32:22.708358",
     "exception": false,
     "start_time": "2023-11-14T12:32:22.687422",
     "status": "completed"
    },
    "tags": []
   },
   "source": [
    "## Train model with best hyperparameters"
   ]
  },
  {
   "cell_type": "code",
   "execution_count": 30,
   "id": "062e57a2",
   "metadata": {
    "execution": {
     "iopub.execute_input": "2023-11-14T12:32:22.753023Z",
     "iopub.status.busy": "2023-11-14T12:32:22.751535Z",
     "iopub.status.idle": "2023-11-14T12:32:22.759436Z",
     "shell.execute_reply": "2023-11-14T12:32:22.757922Z"
    },
    "papermill": {
     "duration": 0.032143,
     "end_time": "2023-11-14T12:32:22.762044",
     "exception": false,
     "start_time": "2023-11-14T12:32:22.729901",
     "status": "completed"
    },
    "tags": []
   },
   "outputs": [
    {
     "name": "stdout",
     "output_type": "stream",
     "text": [
      "Hyper Parameters: (100, 0.5, 0.8, 1e-05)\n"
     ]
    }
   ],
   "source": [
    "print(f\"Hyper Parameters: {best_hyperparameters}\")\n",
    "max_iterations, learning_rate, decay, epsilon = best_hyperparameters\n",
    "\n",
    "model = LogisticRegression(max_iterations, learning_rate, decay, epsilon)"
   ]
  },
  {
   "cell_type": "code",
   "execution_count": 31,
   "id": "c13e1916",
   "metadata": {
    "execution": {
     "iopub.execute_input": "2023-11-14T12:32:22.805512Z",
     "iopub.status.busy": "2023-11-14T12:32:22.804529Z",
     "iopub.status.idle": "2023-11-14T12:32:22.823476Z",
     "shell.execute_reply": "2023-11-14T12:32:22.822124Z"
    },
    "papermill": {
     "duration": 0.043664,
     "end_time": "2023-11-14T12:32:22.826094",
     "exception": false,
     "start_time": "2023-11-14T12:32:22.782430",
     "status": "completed"
    },
    "tags": []
   },
   "outputs": [
    {
     "name": "stdout",
     "output_type": "stream",
     "text": [
      "Stopping Train at Iteration No.67\n",
      "Training Complete with Binary Cross Entropy Loss of 0.45551707066381547\n"
     ]
    }
   ],
   "source": [
    "model.fit(X_train, Y_train)"
   ]
  },
  {
   "cell_type": "code",
   "execution_count": 32,
   "id": "77a01beb",
   "metadata": {
    "execution": {
     "iopub.execute_input": "2023-11-14T12:32:22.869021Z",
     "iopub.status.busy": "2023-11-14T12:32:22.868601Z",
     "iopub.status.idle": "2023-11-14T12:32:22.873624Z",
     "shell.execute_reply": "2023-11-14T12:32:22.872836Z"
    },
    "papermill": {
     "duration": 0.029667,
     "end_time": "2023-11-14T12:32:22.876060",
     "exception": false,
     "start_time": "2023-11-14T12:32:22.846393",
     "status": "completed"
    },
    "tags": []
   },
   "outputs": [],
   "source": [
    "Y_pred = model.predict(X_test)"
   ]
  },
  {
   "cell_type": "markdown",
   "id": "a32e04c1",
   "metadata": {
    "papermill": {
     "duration": 0.02064,
     "end_time": "2023-11-14T12:32:22.917776",
     "exception": false,
     "start_time": "2023-11-14T12:32:22.897136",
     "status": "completed"
    },
    "tags": []
   },
   "source": [
    "### Save Results as CSV file"
   ]
  },
  {
   "cell_type": "code",
   "execution_count": 33,
   "id": "bd90b224",
   "metadata": {
    "execution": {
     "iopub.execute_input": "2023-11-14T12:32:22.961230Z",
     "iopub.status.busy": "2023-11-14T12:32:22.960447Z",
     "iopub.status.idle": "2023-11-14T12:32:22.970792Z",
     "shell.execute_reply": "2023-11-14T12:32:22.969689Z"
    },
    "papermill": {
     "duration": 0.035518,
     "end_time": "2023-11-14T12:32:22.973699",
     "exception": false,
     "start_time": "2023-11-14T12:32:22.938181",
     "status": "completed"
    },
    "tags": []
   },
   "outputs": [],
   "source": [
    "result = pd.DataFrame({'PassengerId': testPassengerIds, 'Survived': Y_pred})\n",
    "\n",
    "result.to_csv('output.csv', index=False)"
   ]
  }
 ],
 "metadata": {
  "kernelspec": {
   "display_name": "Python 3",
   "language": "python",
   "name": "python3"
  },
  "language_info": {
   "codemirror_mode": {
    "name": "ipython",
    "version": 3
   },
   "file_extension": ".py",
   "mimetype": "text/x-python",
   "name": "python",
   "nbconvert_exporter": "python",
   "pygments_lexer": "ipython3",
   "version": "3.10.12"
  },
  "papermill": {
   "default_parameters": {},
   "duration": 13.69607,
   "end_time": "2023-11-14T12:32:23.514789",
   "environment_variables": {},
   "exception": null,
   "input_path": "__notebook__.ipynb",
   "output_path": "__notebook__.ipynb",
   "parameters": {},
   "start_time": "2023-11-14T12:32:09.818719",
   "version": "2.4.0"
  }
 },
 "nbformat": 4,
 "nbformat_minor": 5
}

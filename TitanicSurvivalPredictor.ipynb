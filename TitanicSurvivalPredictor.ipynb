{
 "cells": [
  {
   "cell_type": "markdown",
   "id": "c4682fd9",
   "metadata": {
    "papermill": {
     "duration": 0.014365,
     "end_time": "2023-11-12T20:51:18.339035",
     "exception": false,
     "start_time": "2023-11-12T20:51:18.324670",
     "status": "completed"
    },
    "tags": []
   },
   "source": [
    "# Import Required Libraraies"
   ]
  },
  {
   "cell_type": "code",
   "execution_count": 1,
   "id": "93ef05ea",
   "metadata": {
    "execution": {
     "iopub.execute_input": "2023-11-12T20:51:18.370204Z",
     "iopub.status.busy": "2023-11-12T20:51:18.369728Z",
     "iopub.status.idle": "2023-11-12T20:51:18.769320Z",
     "shell.execute_reply": "2023-11-12T20:51:18.768276Z"
    },
    "papermill": {
     "duration": 0.418923,
     "end_time": "2023-11-12T20:51:18.772187",
     "exception": false,
     "start_time": "2023-11-12T20:51:18.353264",
     "status": "completed"
    },
    "tags": []
   },
   "outputs": [],
   "source": [
    "import re\n",
    "import numpy as np\n",
    "import pandas as pd"
   ]
  },
  {
   "cell_type": "markdown",
   "id": "075788a0",
   "metadata": {
    "papermill": {
     "duration": 0.013315,
     "end_time": "2023-11-12T20:51:18.799654",
     "exception": false,
     "start_time": "2023-11-12T20:51:18.786339",
     "status": "completed"
    },
    "tags": []
   },
   "source": [
    "# Read Data"
   ]
  },
  {
   "cell_type": "code",
   "execution_count": 2,
   "id": "f96eb515",
   "metadata": {
    "execution": {
     "iopub.execute_input": "2023-11-12T20:51:18.830804Z",
     "iopub.status.busy": "2023-11-12T20:51:18.830324Z",
     "iopub.status.idle": "2023-11-12T20:51:18.866295Z",
     "shell.execute_reply": "2023-11-12T20:51:18.865036Z"
    },
    "papermill": {
     "duration": 0.055401,
     "end_time": "2023-11-12T20:51:18.868979",
     "exception": false,
     "start_time": "2023-11-12T20:51:18.813578",
     "status": "completed"
    },
    "tags": []
   },
   "outputs": [],
   "source": [
    "train_data = pd.read_csv('/kaggle/input/titanic/train.csv')\n",
    "test_data = pd.read_csv('/kaggle/input/titanic/test.csv')\n",
    "gender_sub = pd.read_csv('/kaggle/input/titanic/gender_submission.csv')"
   ]
  },
  {
   "cell_type": "code",
   "execution_count": 3,
   "id": "5f3b6fd1",
   "metadata": {
    "execution": {
     "iopub.execute_input": "2023-11-12T20:51:18.899109Z",
     "iopub.status.busy": "2023-11-12T20:51:18.898710Z",
     "iopub.status.idle": "2023-11-12T20:51:18.925585Z",
     "shell.execute_reply": "2023-11-12T20:51:18.924842Z"
    },
    "papermill": {
     "duration": 0.044492,
     "end_time": "2023-11-12T20:51:18.927700",
     "exception": false,
     "start_time": "2023-11-12T20:51:18.883208",
     "status": "completed"
    },
    "tags": []
   },
   "outputs": [
    {
     "data": {
      "text/html": [
       "<div>\n",
       "<style scoped>\n",
       "    .dataframe tbody tr th:only-of-type {\n",
       "        vertical-align: middle;\n",
       "    }\n",
       "\n",
       "    .dataframe tbody tr th {\n",
       "        vertical-align: top;\n",
       "    }\n",
       "\n",
       "    .dataframe thead th {\n",
       "        text-align: right;\n",
       "    }\n",
       "</style>\n",
       "<table border=\"1\" class=\"dataframe\">\n",
       "  <thead>\n",
       "    <tr style=\"text-align: right;\">\n",
       "      <th></th>\n",
       "      <th>PassengerId</th>\n",
       "      <th>Pclass</th>\n",
       "      <th>Name</th>\n",
       "      <th>Sex</th>\n",
       "      <th>Age</th>\n",
       "      <th>SibSp</th>\n",
       "      <th>Parch</th>\n",
       "      <th>Ticket</th>\n",
       "      <th>Fare</th>\n",
       "      <th>Cabin</th>\n",
       "      <th>Embarked</th>\n",
       "    </tr>\n",
       "  </thead>\n",
       "  <tbody>\n",
       "    <tr>\n",
       "      <th>0</th>\n",
       "      <td>892</td>\n",
       "      <td>3</td>\n",
       "      <td>Kelly, Mr. James</td>\n",
       "      <td>male</td>\n",
       "      <td>34.5</td>\n",
       "      <td>0</td>\n",
       "      <td>0</td>\n",
       "      <td>330911</td>\n",
       "      <td>7.8292</td>\n",
       "      <td>NaN</td>\n",
       "      <td>Q</td>\n",
       "    </tr>\n",
       "    <tr>\n",
       "      <th>1</th>\n",
       "      <td>893</td>\n",
       "      <td>3</td>\n",
       "      <td>Wilkes, Mrs. James (Ellen Needs)</td>\n",
       "      <td>female</td>\n",
       "      <td>47.0</td>\n",
       "      <td>1</td>\n",
       "      <td>0</td>\n",
       "      <td>363272</td>\n",
       "      <td>7.0000</td>\n",
       "      <td>NaN</td>\n",
       "      <td>S</td>\n",
       "    </tr>\n",
       "    <tr>\n",
       "      <th>2</th>\n",
       "      <td>894</td>\n",
       "      <td>2</td>\n",
       "      <td>Myles, Mr. Thomas Francis</td>\n",
       "      <td>male</td>\n",
       "      <td>62.0</td>\n",
       "      <td>0</td>\n",
       "      <td>0</td>\n",
       "      <td>240276</td>\n",
       "      <td>9.6875</td>\n",
       "      <td>NaN</td>\n",
       "      <td>Q</td>\n",
       "    </tr>\n",
       "    <tr>\n",
       "      <th>3</th>\n",
       "      <td>895</td>\n",
       "      <td>3</td>\n",
       "      <td>Wirz, Mr. Albert</td>\n",
       "      <td>male</td>\n",
       "      <td>27.0</td>\n",
       "      <td>0</td>\n",
       "      <td>0</td>\n",
       "      <td>315154</td>\n",
       "      <td>8.6625</td>\n",
       "      <td>NaN</td>\n",
       "      <td>S</td>\n",
       "    </tr>\n",
       "    <tr>\n",
       "      <th>4</th>\n",
       "      <td>896</td>\n",
       "      <td>3</td>\n",
       "      <td>Hirvonen, Mrs. Alexander (Helga E Lindqvist)</td>\n",
       "      <td>female</td>\n",
       "      <td>22.0</td>\n",
       "      <td>1</td>\n",
       "      <td>1</td>\n",
       "      <td>3101298</td>\n",
       "      <td>12.2875</td>\n",
       "      <td>NaN</td>\n",
       "      <td>S</td>\n",
       "    </tr>\n",
       "  </tbody>\n",
       "</table>\n",
       "</div>"
      ],
      "text/plain": [
       "   PassengerId  Pclass                                          Name     Sex  \\\n",
       "0          892       3                              Kelly, Mr. James    male   \n",
       "1          893       3              Wilkes, Mrs. James (Ellen Needs)  female   \n",
       "2          894       2                     Myles, Mr. Thomas Francis    male   \n",
       "3          895       3                              Wirz, Mr. Albert    male   \n",
       "4          896       3  Hirvonen, Mrs. Alexander (Helga E Lindqvist)  female   \n",
       "\n",
       "    Age  SibSp  Parch   Ticket     Fare Cabin Embarked  \n",
       "0  34.5      0      0   330911   7.8292   NaN        Q  \n",
       "1  47.0      1      0   363272   7.0000   NaN        S  \n",
       "2  62.0      0      0   240276   9.6875   NaN        Q  \n",
       "3  27.0      0      0   315154   8.6625   NaN        S  \n",
       "4  22.0      1      1  3101298  12.2875   NaN        S  "
      ]
     },
     "execution_count": 3,
     "metadata": {},
     "output_type": "execute_result"
    }
   ],
   "source": [
    "test_data.head()"
   ]
  },
  {
   "cell_type": "markdown",
   "id": "f0974bfe",
   "metadata": {
    "papermill": {
     "duration": 0.014094,
     "end_time": "2023-11-12T20:51:18.956456",
     "exception": false,
     "start_time": "2023-11-12T20:51:18.942362",
     "status": "completed"
    },
    "tags": []
   },
   "source": [
    "# Data Purification and Feature Engineering"
   ]
  },
  {
   "cell_type": "markdown",
   "id": "e848158f",
   "metadata": {
    "papermill": {
     "duration": 0.01391,
     "end_time": "2023-11-12T20:51:18.984755",
     "exception": false,
     "start_time": "2023-11-12T20:51:18.970845",
     "status": "completed"
    },
    "tags": []
   },
   "source": [
    "## Name\n",
    "### Extract titles from names"
   ]
  },
  {
   "cell_type": "code",
   "execution_count": 4,
   "id": "f403d0d9",
   "metadata": {
    "execution": {
     "iopub.execute_input": "2023-11-12T20:51:19.015412Z",
     "iopub.status.busy": "2023-11-12T20:51:19.014367Z",
     "iopub.status.idle": "2023-11-12T20:51:19.034397Z",
     "shell.execute_reply": "2023-11-12T20:51:19.031366Z"
    },
    "papermill": {
     "duration": 0.038003,
     "end_time": "2023-11-12T20:51:19.036879",
     "exception": false,
     "start_time": "2023-11-12T20:51:18.998876",
     "status": "completed"
    },
    "tags": []
   },
   "outputs": [
    {
     "name": "stdout",
     "output_type": "stream",
     "text": [
      "All unique titles in names (Train): ['Mr' 'Mrs' 'Miss' 'Master' 'Don' 'Rev' 'Dr' 'Mme' 'Ms' 'Major' 'Lady'\n",
      " 'Sir' 'Mlle' 'Col' 'Capt' 'Countess' 'Jonkheer']\n",
      "All unique titles in names (Test): ['Mr' 'Mrs' 'Miss' 'Master' 'Ms' 'Col' 'Rev' 'Dr' 'Dona']\n"
     ]
    }
   ],
   "source": [
    "train_data['Title'] = train_data['Name'].apply(lambda x: re.search(' ([A-Za-z]+)\\.', x).group(1))\n",
    "test_data['Title'] = test_data['Name'].apply(lambda x: re.search(' ([A-Za-z]+)\\.', x).group(1))\n",
    "\n",
    "# Display the unique titles\n",
    "print(f'All unique titles in names (Train): {train_data[\"Title\"].unique()}')\n",
    "print(f'All unique titles in names (Test): {test_data[\"Title\"].unique()}')"
   ]
  },
  {
   "cell_type": "code",
   "execution_count": 5,
   "id": "647a9fa8",
   "metadata": {
    "execution": {
     "iopub.execute_input": "2023-11-12T20:51:19.067789Z",
     "iopub.status.busy": "2023-11-12T20:51:19.067421Z",
     "iopub.status.idle": "2023-11-12T20:51:19.082912Z",
     "shell.execute_reply": "2023-11-12T20:51:19.081913Z"
    },
    "papermill": {
     "duration": 0.033955,
     "end_time": "2023-11-12T20:51:19.085328",
     "exception": false,
     "start_time": "2023-11-12T20:51:19.051373",
     "status": "completed"
    },
    "tags": []
   },
   "outputs": [],
   "source": [
    "# Train Data\n",
    "train_data['Title'] = train_data['Title'].replace(['Lady', 'Countess', 'Capt', 'Col', 'Don', 'Dr','Major', 'Rev', 'Sir', 'Jonkheer', 'Dona'], 'Other')\n",
    "train_data['Title'] = train_data['Title'].replace(['Mlle', 'Ms'], 'Miss')\n",
    "train_data['Title'] = train_data['Title'].replace('Mme', 'Mrs')\n",
    "\n",
    "# Test Data\n",
    "test_data['Title'] = test_data['Title'].replace(['Lady', 'Countess', 'Capt', 'Col', 'Don', 'Dr','Major', 'Rev', 'Sir', 'Jonkheer', 'Dona'], 'Other')\n",
    "test_data['Title'] = test_data['Title'].replace(['Mlle', 'Ms'], 'Miss')\n",
    "test_data['Title'] = test_data['Title'].replace('Mme', 'Mrs')"
   ]
  },
  {
   "cell_type": "code",
   "execution_count": 6,
   "id": "091421a2",
   "metadata": {
    "execution": {
     "iopub.execute_input": "2023-11-12T20:51:19.116151Z",
     "iopub.status.busy": "2023-11-12T20:51:19.115738Z",
     "iopub.status.idle": "2023-11-12T20:51:19.122367Z",
     "shell.execute_reply": "2023-11-12T20:51:19.121099Z"
    },
    "papermill": {
     "duration": 0.025021,
     "end_time": "2023-11-12T20:51:19.124982",
     "exception": false,
     "start_time": "2023-11-12T20:51:19.099961",
     "status": "completed"
    },
    "tags": []
   },
   "outputs": [
    {
     "name": "stdout",
     "output_type": "stream",
     "text": [
      "Train Titles: ['Mr' 'Mrs' 'Miss' 'Master' 'Other']\n",
      "Test Titles: ['Mr' 'Mrs' 'Miss' 'Master' 'Other']\n"
     ]
    }
   ],
   "source": [
    "print(f'Train Titles: {train_data[\"Title\"].unique()}')\n",
    "print(f'Test Titles: {test_data[\"Title\"].unique()}')"
   ]
  },
  {
   "cell_type": "markdown",
   "id": "dc648e5d",
   "metadata": {
    "papermill": {
     "duration": 0.014275,
     "end_time": "2023-11-12T20:51:19.154185",
     "exception": false,
     "start_time": "2023-11-12T20:51:19.139910",
     "status": "completed"
    },
    "tags": []
   },
   "source": [
    "### Drop Names"
   ]
  },
  {
   "cell_type": "code",
   "execution_count": 7,
   "id": "dc3839f4",
   "metadata": {
    "execution": {
     "iopub.execute_input": "2023-11-12T20:51:19.244207Z",
     "iopub.status.busy": "2023-11-12T20:51:19.243560Z",
     "iopub.status.idle": "2023-11-12T20:51:19.255906Z",
     "shell.execute_reply": "2023-11-12T20:51:19.254756Z"
    },
    "papermill": {
     "duration": 0.089342,
     "end_time": "2023-11-12T20:51:19.258170",
     "exception": false,
     "start_time": "2023-11-12T20:51:19.168828",
     "status": "completed"
    },
    "tags": []
   },
   "outputs": [],
   "source": [
    "train_data = train_data.drop('Name', axis=1)\n",
    "test_data = test_data.drop('Name', axis=1)"
   ]
  },
  {
   "cell_type": "markdown",
   "id": "f82fc062",
   "metadata": {
    "papermill": {
     "duration": 0.014315,
     "end_time": "2023-11-12T20:51:19.289519",
     "exception": false,
     "start_time": "2023-11-12T20:51:19.275204",
     "status": "completed"
    },
    "tags": []
   },
   "source": [
    "### Encode Titles"
   ]
  },
  {
   "cell_type": "code",
   "execution_count": 8,
   "id": "dcda00e8",
   "metadata": {
    "execution": {
     "iopub.execute_input": "2023-11-12T20:51:19.320018Z",
     "iopub.status.busy": "2023-11-12T20:51:19.319581Z",
     "iopub.status.idle": "2023-11-12T20:51:19.328604Z",
     "shell.execute_reply": "2023-11-12T20:51:19.327618Z"
    },
    "papermill": {
     "duration": 0.027117,
     "end_time": "2023-11-12T20:51:19.331039",
     "exception": false,
     "start_time": "2023-11-12T20:51:19.303922",
     "status": "completed"
    },
    "tags": []
   },
   "outputs": [],
   "source": [
    "title_to_number = {'Mr': 0, 'Mrs': 1, 'Miss': 2, 'Master': 3, 'Other': 4}\n",
    "\n",
    "train_data['Title'] = train_data['Title'].apply(lambda x: title_to_number[x])\n",
    "test_data['Title'] = test_data['Title'].apply(lambda x: title_to_number[x])"
   ]
  },
  {
   "cell_type": "markdown",
   "id": "9c9498bd",
   "metadata": {
    "papermill": {
     "duration": 0.01399,
     "end_time": "2023-11-12T20:51:19.359519",
     "exception": false,
     "start_time": "2023-11-12T20:51:19.345529",
     "status": "completed"
    },
    "tags": []
   },
   "source": [
    "## Ticket\n",
    "### Drop ticket columns"
   ]
  },
  {
   "cell_type": "code",
   "execution_count": 9,
   "id": "0c30753a",
   "metadata": {
    "execution": {
     "iopub.execute_input": "2023-11-12T20:51:19.390323Z",
     "iopub.status.busy": "2023-11-12T20:51:19.389962Z",
     "iopub.status.idle": "2023-11-12T20:51:19.396650Z",
     "shell.execute_reply": "2023-11-12T20:51:19.395622Z"
    },
    "papermill": {
     "duration": 0.025275,
     "end_time": "2023-11-12T20:51:19.398986",
     "exception": false,
     "start_time": "2023-11-12T20:51:19.373711",
     "status": "completed"
    },
    "tags": []
   },
   "outputs": [],
   "source": [
    "# Drop Ticket Column\n",
    "train_data = train_data.drop('Ticket', axis=1)\n",
    "test_data = test_data.drop('Ticket', axis=1)"
   ]
  },
  {
   "cell_type": "markdown",
   "id": "1479e471",
   "metadata": {
    "papermill": {
     "duration": 0.013849,
     "end_time": "2023-11-12T20:51:19.427398",
     "exception": false,
     "start_time": "2023-11-12T20:51:19.413549",
     "status": "completed"
    },
    "tags": []
   },
   "source": [
    "## Sex\n",
    "### Convert sexes to 0s and 1s"
   ]
  },
  {
   "cell_type": "code",
   "execution_count": 10,
   "id": "12e55a98",
   "metadata": {
    "execution": {
     "iopub.execute_input": "2023-11-12T20:51:19.458039Z",
     "iopub.status.busy": "2023-11-12T20:51:19.457317Z",
     "iopub.status.idle": "2023-11-12T20:51:19.467717Z",
     "shell.execute_reply": "2023-11-12T20:51:19.466591Z"
    },
    "papermill": {
     "duration": 0.028193,
     "end_time": "2023-11-12T20:51:19.469902",
     "exception": false,
     "start_time": "2023-11-12T20:51:19.441709",
     "status": "completed"
    },
    "tags": []
   },
   "outputs": [
    {
     "name": "stdout",
     "output_type": "stream",
     "text": [
      "Number of distinct values for sex: {0, 1}\n"
     ]
    }
   ],
   "source": [
    "# Encode Sex\n",
    "train_data['Sex'] = train_data['Sex'].replace({'male': 0, 'female': 1})\n",
    "test_data['Sex'] = test_data['Sex'].replace({'male': 0, 'female': 1})\n",
    "print(f'Number of distinct values for sex: {set(test_data[\"Sex\"])}')"
   ]
  },
  {
   "cell_type": "markdown",
   "id": "ea8d9f80",
   "metadata": {
    "papermill": {
     "duration": 0.014133,
     "end_time": "2023-11-12T20:51:19.498265",
     "exception": false,
     "start_time": "2023-11-12T20:51:19.484132",
     "status": "completed"
    },
    "tags": []
   },
   "source": [
    "## Cabin\n",
    "### Extract letters from Cabins"
   ]
  },
  {
   "cell_type": "code",
   "execution_count": 11,
   "id": "4f6d9888",
   "metadata": {
    "execution": {
     "iopub.execute_input": "2023-11-12T20:51:19.528932Z",
     "iopub.status.busy": "2023-11-12T20:51:19.528211Z",
     "iopub.status.idle": "2023-11-12T20:51:19.540430Z",
     "shell.execute_reply": "2023-11-12T20:51:19.539374Z"
    },
    "papermill": {
     "duration": 0.030167,
     "end_time": "2023-11-12T20:51:19.542675",
     "exception": false,
     "start_time": "2023-11-12T20:51:19.512508",
     "status": "completed"
    },
    "tags": []
   },
   "outputs": [
    {
     "name": "stdout",
     "output_type": "stream",
     "text": [
      "['X' 'C' 'E' 'G' 'D' 'A' 'B' 'F' 'T']\n",
      "['X' 'B' 'E' 'A' 'C' 'D' 'F' 'G']\n"
     ]
    }
   ],
   "source": [
    "train_data['Cabin'] = train_data['Cabin'].fillna(\"X\")\n",
    "print(train_data['Cabin'].str[0].unique())\n",
    "\n",
    "test_data['Cabin'] = test_data['Cabin'].fillna(\"X\")\n",
    "print(test_data['Cabin'].str[0].unique())"
   ]
  },
  {
   "cell_type": "markdown",
   "id": "8974982b",
   "metadata": {
    "papermill": {
     "duration": 0.014242,
     "end_time": "2023-11-12T20:51:19.571571",
     "exception": false,
     "start_time": "2023-11-12T20:51:19.557329",
     "status": "completed"
    },
    "tags": []
   },
   "source": [
    "### Encode letters"
   ]
  },
  {
   "cell_type": "code",
   "execution_count": 12,
   "id": "1f06bccb",
   "metadata": {
    "execution": {
     "iopub.execute_input": "2023-11-12T20:51:19.602519Z",
     "iopub.status.busy": "2023-11-12T20:51:19.602114Z",
     "iopub.status.idle": "2023-11-12T20:51:19.611414Z",
     "shell.execute_reply": "2023-11-12T20:51:19.610646Z"
    },
    "papermill": {
     "duration": 0.027179,
     "end_time": "2023-11-12T20:51:19.613394",
     "exception": false,
     "start_time": "2023-11-12T20:51:19.586215",
     "status": "completed"
    },
    "tags": []
   },
   "outputs": [],
   "source": [
    "cabin_to_number = {'X': 0, 'A': 1, 'B': 2, 'C': 3, 'D': 4, 'E': 5, 'F': 6, 'G': 7, 'T': 8}\n",
    "\n",
    "train_data['Cabin_Encoded'] = train_data['Cabin'].apply(lambda x: cabin_to_number[x[0]])\n",
    "test_data['Cabin_Encoded'] = test_data['Cabin'].apply(lambda x: cabin_to_number[x[0]])"
   ]
  },
  {
   "cell_type": "markdown",
   "id": "7e74b37f",
   "metadata": {
    "papermill": {
     "duration": 0.014227,
     "end_time": "2023-11-12T20:51:19.642125",
     "exception": false,
     "start_time": "2023-11-12T20:51:19.627898",
     "status": "completed"
    },
    "tags": []
   },
   "source": [
    "### Drop Cabin Column"
   ]
  },
  {
   "cell_type": "code",
   "execution_count": 13,
   "id": "85be9453",
   "metadata": {
    "execution": {
     "iopub.execute_input": "2023-11-12T20:51:19.672825Z",
     "iopub.status.busy": "2023-11-12T20:51:19.672427Z",
     "iopub.status.idle": "2023-11-12T20:51:19.679090Z",
     "shell.execute_reply": "2023-11-12T20:51:19.678196Z"
    },
    "papermill": {
     "duration": 0.024621,
     "end_time": "2023-11-12T20:51:19.681211",
     "exception": false,
     "start_time": "2023-11-12T20:51:19.656590",
     "status": "completed"
    },
    "tags": []
   },
   "outputs": [],
   "source": [
    "train_data = train_data.drop('Cabin', axis=1)\n",
    "test_data = test_data.drop('Cabin', axis=1)"
   ]
  },
  {
   "cell_type": "markdown",
   "id": "5ed1f7dc",
   "metadata": {
    "papermill": {
     "duration": 0.014381,
     "end_time": "2023-11-12T20:51:19.710203",
     "exception": false,
     "start_time": "2023-11-12T20:51:19.695822",
     "status": "completed"
    },
    "tags": []
   },
   "source": [
    "## Embarked\n",
    "### Fill Null values with 'S'"
   ]
  },
  {
   "cell_type": "code",
   "execution_count": 14,
   "id": "e561b94c",
   "metadata": {
    "execution": {
     "iopub.execute_input": "2023-11-12T20:51:19.741468Z",
     "iopub.status.busy": "2023-11-12T20:51:19.740740Z",
     "iopub.status.idle": "2023-11-12T20:51:19.751144Z",
     "shell.execute_reply": "2023-11-12T20:51:19.750111Z"
    },
    "papermill": {
     "duration": 0.028684,
     "end_time": "2023-11-12T20:51:19.753576",
     "exception": false,
     "start_time": "2023-11-12T20:51:19.724892",
     "status": "completed"
    },
    "tags": []
   },
   "outputs": [],
   "source": [
    "train_data['Embarked'].describe()\n",
    "\n",
    "train_data['Embarked'] = train_data['Embarked'].fillna('S')\n",
    "test_data['Embarked'] = test_data['Embarked'].fillna('S')"
   ]
  },
  {
   "cell_type": "markdown",
   "id": "3ec5ca24",
   "metadata": {
    "papermill": {
     "duration": 0.014818,
     "end_time": "2023-11-12T20:51:19.783551",
     "exception": false,
     "start_time": "2023-11-12T20:51:19.768733",
     "status": "completed"
    },
    "tags": []
   },
   "source": [
    "### Encode Embarked Values"
   ]
  },
  {
   "cell_type": "code",
   "execution_count": 15,
   "id": "269a3f46",
   "metadata": {
    "execution": {
     "iopub.execute_input": "2023-11-12T20:51:19.814559Z",
     "iopub.status.busy": "2023-11-12T20:51:19.814159Z",
     "iopub.status.idle": "2023-11-12T20:51:19.822763Z",
     "shell.execute_reply": "2023-11-12T20:51:19.821718Z"
    },
    "papermill": {
     "duration": 0.026821,
     "end_time": "2023-11-12T20:51:19.825037",
     "exception": false,
     "start_time": "2023-11-12T20:51:19.798216",
     "status": "completed"
    },
    "tags": []
   },
   "outputs": [],
   "source": [
    "embark_to_number = {'S': 0, 'C': 1, 'Q': 2}\n",
    "\n",
    "train_data['Embarked'] = train_data['Embarked'].apply(lambda x: embark_to_number[x])\n",
    "test_data['Embarked'] = test_data['Embarked'].apply(lambda x: embark_to_number[x])"
   ]
  },
  {
   "cell_type": "markdown",
   "id": "9cac09a2",
   "metadata": {
    "papermill": {
     "duration": 0.01423,
     "end_time": "2023-11-12T20:51:19.853958",
     "exception": false,
     "start_time": "2023-11-12T20:51:19.839728",
     "status": "completed"
    },
    "tags": []
   },
   "source": [
    "## Age\n",
    "### Fill null values of age with mean age of train set"
   ]
  },
  {
   "cell_type": "code",
   "execution_count": 16,
   "id": "d1bab1f4",
   "metadata": {
    "execution": {
     "iopub.execute_input": "2023-11-12T20:51:19.884572Z",
     "iopub.status.busy": "2023-11-12T20:51:19.884174Z",
     "iopub.status.idle": "2023-11-12T20:51:19.891906Z",
     "shell.execute_reply": "2023-11-12T20:51:19.890923Z"
    },
    "papermill": {
     "duration": 0.025821,
     "end_time": "2023-11-12T20:51:19.894176",
     "exception": false,
     "start_time": "2023-11-12T20:51:19.868355",
     "status": "completed"
    },
    "tags": []
   },
   "outputs": [],
   "source": [
    "mean_age = train_data['Age'].mean()\n",
    "\n",
    "train_data['Age'] = train_data['Age'].fillna(mean_age)\n",
    "test_data['Age'] = test_data['Age'].fillna(mean_age)"
   ]
  },
  {
   "cell_type": "markdown",
   "id": "30b97279",
   "metadata": {
    "papermill": {
     "duration": 0.014172,
     "end_time": "2023-11-12T20:51:19.923117",
     "exception": false,
     "start_time": "2023-11-12T20:51:19.908945",
     "status": "completed"
    },
    "tags": []
   },
   "source": [
    "### Convert ages to int"
   ]
  },
  {
   "cell_type": "code",
   "execution_count": 17,
   "id": "acac8650",
   "metadata": {
    "execution": {
     "iopub.execute_input": "2023-11-12T20:51:19.954183Z",
     "iopub.status.busy": "2023-11-12T20:51:19.953767Z",
     "iopub.status.idle": "2023-11-12T20:51:19.960749Z",
     "shell.execute_reply": "2023-11-12T20:51:19.959946Z"
    },
    "papermill": {
     "duration": 0.025674,
     "end_time": "2023-11-12T20:51:19.963289",
     "exception": false,
     "start_time": "2023-11-12T20:51:19.937615",
     "status": "completed"
    },
    "tags": []
   },
   "outputs": [],
   "source": [
    "train_data['Age'] = train_data['Age'].astype(int)\n",
    "test_data['Age'] = test_data['Age'].astype(int)"
   ]
  },
  {
   "cell_type": "markdown",
   "id": "9f20caab",
   "metadata": {
    "papermill": {
     "duration": 0.014365,
     "end_time": "2023-11-12T20:51:19.992813",
     "exception": false,
     "start_time": "2023-11-12T20:51:19.978448",
     "status": "completed"
    },
    "tags": []
   },
   "source": [
    "## Fare"
   ]
  },
  {
   "cell_type": "code",
   "execution_count": 18,
   "id": "4bb4f728",
   "metadata": {
    "execution": {
     "iopub.execute_input": "2023-11-12T20:51:20.023752Z",
     "iopub.status.busy": "2023-11-12T20:51:20.023359Z",
     "iopub.status.idle": "2023-11-12T20:51:20.030602Z",
     "shell.execute_reply": "2023-11-12T20:51:20.029648Z"
    },
    "papermill": {
     "duration": 0.025652,
     "end_time": "2023-11-12T20:51:20.033145",
     "exception": false,
     "start_time": "2023-11-12T20:51:20.007493",
     "status": "completed"
    },
    "tags": []
   },
   "outputs": [
    {
     "name": "stdout",
     "output_type": "stream",
     "text": [
      "number of fare null values of train set: 0\n",
      "number of fare null values of test set: 1\n"
     ]
    }
   ],
   "source": [
    "print(f'number of fare null values of train set: {train_data[\"Fare\"].isna().sum()}')\n",
    "print(f'number of fare null values of test set: {test_data[\"Fare\"].isna().sum()}')"
   ]
  },
  {
   "cell_type": "markdown",
   "id": "372b843d",
   "metadata": {
    "papermill": {
     "duration": 0.014279,
     "end_time": "2023-11-12T20:51:20.062075",
     "exception": false,
     "start_time": "2023-11-12T20:51:20.047796",
     "status": "completed"
    },
    "tags": []
   },
   "source": [
    "### Fill null values with mean fare"
   ]
  },
  {
   "cell_type": "code",
   "execution_count": 19,
   "id": "8a907820",
   "metadata": {
    "execution": {
     "iopub.execute_input": "2023-11-12T20:51:20.093562Z",
     "iopub.status.busy": "2023-11-12T20:51:20.092878Z",
     "iopub.status.idle": "2023-11-12T20:51:20.100170Z",
     "shell.execute_reply": "2023-11-12T20:51:20.099327Z"
    },
    "papermill": {
     "duration": 0.025706,
     "end_time": "2023-11-12T20:51:20.102388",
     "exception": false,
     "start_time": "2023-11-12T20:51:20.076682",
     "status": "completed"
    },
    "tags": []
   },
   "outputs": [],
   "source": [
    "mean_fare = train_data['Fare'].mean()\n",
    "\n",
    "train_data['Fare'] = train_data['Fare'].fillna(mean_fare)\n",
    "test_data['Fare'] = test_data['Fare'].fillna(mean_fare)"
   ]
  },
  {
   "cell_type": "markdown",
   "id": "3808bf43",
   "metadata": {
    "papermill": {
     "duration": 0.014368,
     "end_time": "2023-11-12T20:51:20.131652",
     "exception": false,
     "start_time": "2023-11-12T20:51:20.117284",
     "status": "completed"
    },
    "tags": []
   },
   "source": [
    "### Convert fares to ints"
   ]
  },
  {
   "cell_type": "code",
   "execution_count": 20,
   "id": "2ae1be5a",
   "metadata": {
    "execution": {
     "iopub.execute_input": "2023-11-12T20:51:20.163554Z",
     "iopub.status.busy": "2023-11-12T20:51:20.162801Z",
     "iopub.status.idle": "2023-11-12T20:51:20.168789Z",
     "shell.execute_reply": "2023-11-12T20:51:20.167790Z"
    },
    "papermill": {
     "duration": 0.024844,
     "end_time": "2023-11-12T20:51:20.171175",
     "exception": false,
     "start_time": "2023-11-12T20:51:20.146331",
     "status": "completed"
    },
    "tags": []
   },
   "outputs": [],
   "source": [
    "train_data['Fare'] = train_data['Fare'].astype(int)\n",
    "test_data['Fare'] = test_data['Fare'].astype(int)"
   ]
  },
  {
   "cell_type": "markdown",
   "id": "1a4314bf",
   "metadata": {
    "papermill": {
     "duration": 0.014695,
     "end_time": "2023-11-12T20:51:20.200493",
     "exception": false,
     "start_time": "2023-11-12T20:51:20.185798",
     "status": "completed"
    },
    "tags": []
   },
   "source": [
    "## PassengerId (Train)\n",
    "### Drop column"
   ]
  },
  {
   "cell_type": "code",
   "execution_count": 21,
   "id": "36673f92",
   "metadata": {
    "execution": {
     "iopub.execute_input": "2023-11-12T20:51:20.232445Z",
     "iopub.status.busy": "2023-11-12T20:51:20.232072Z",
     "iopub.status.idle": "2023-11-12T20:51:20.238071Z",
     "shell.execute_reply": "2023-11-12T20:51:20.236914Z"
    },
    "papermill": {
     "duration": 0.024983,
     "end_time": "2023-11-12T20:51:20.240591",
     "exception": false,
     "start_time": "2023-11-12T20:51:20.215608",
     "status": "completed"
    },
    "tags": []
   },
   "outputs": [],
   "source": [
    "train_data = train_data.drop(['PassengerId'], axis=1)"
   ]
  },
  {
   "cell_type": "markdown",
   "id": "11a41d8d",
   "metadata": {
    "papermill": {
     "duration": 0.014591,
     "end_time": "2023-11-12T20:51:20.270076",
     "exception": false,
     "start_time": "2023-11-12T20:51:20.255485",
     "status": "completed"
    },
    "tags": []
   },
   "source": [
    "### Getting data ready"
   ]
  },
  {
   "cell_type": "code",
   "execution_count": 22,
   "id": "81be78ad",
   "metadata": {
    "execution": {
     "iopub.execute_input": "2023-11-12T20:51:20.303966Z",
     "iopub.status.busy": "2023-11-12T20:51:20.303530Z",
     "iopub.status.idle": "2023-11-12T20:51:20.311518Z",
     "shell.execute_reply": "2023-11-12T20:51:20.310605Z"
    },
    "papermill": {
     "duration": 0.026718,
     "end_time": "2023-11-12T20:51:20.313894",
     "exception": false,
     "start_time": "2023-11-12T20:51:20.287176",
     "status": "completed"
    },
    "tags": []
   },
   "outputs": [],
   "source": [
    "X_train = train_data.drop(\"Survived\", axis=1)\n",
    "Y_train = train_data[\"Survived\"]\n",
    "X_test  = test_data.drop(\"PassengerId\", axis=1).copy()"
   ]
  },
  {
   "cell_type": "markdown",
   "id": "3b372264",
   "metadata": {
    "papermill": {
     "duration": 0.014656,
     "end_time": "2023-11-12T20:51:20.343675",
     "exception": false,
     "start_time": "2023-11-12T20:51:20.329019",
     "status": "completed"
    },
    "tags": []
   },
   "source": [
    "# Data Normalization"
   ]
  },
  {
   "cell_type": "code",
   "execution_count": 23,
   "id": "5a7464ca",
   "metadata": {
    "execution": {
     "iopub.execute_input": "2023-11-12T20:51:20.375229Z",
     "iopub.status.busy": "2023-11-12T20:51:20.374819Z",
     "iopub.status.idle": "2023-11-12T20:51:20.395313Z",
     "shell.execute_reply": "2023-11-12T20:51:20.394357Z"
    },
    "papermill": {
     "duration": 0.03912,
     "end_time": "2023-11-12T20:51:20.397581",
     "exception": false,
     "start_time": "2023-11-12T20:51:20.358461",
     "status": "completed"
    },
    "tags": []
   },
   "outputs": [],
   "source": [
    "for col in X_train.columns:\n",
    "    train_column = X_train[col]\n",
    "    test_column = X_test[col]\n",
    "    \n",
    "    mean_val = train_column.mean()\n",
    "    std_val = train_column.std()\n",
    "    \n",
    "    X_train[col] = (train_column - mean_val) / std_val\n",
    "    X_test[col] = (test_column - mean_val) / std_val"
   ]
  },
  {
   "cell_type": "code",
   "execution_count": 24,
   "id": "d2eb385a",
   "metadata": {
    "execution": {
     "iopub.execute_input": "2023-11-12T20:51:20.429323Z",
     "iopub.status.busy": "2023-11-12T20:51:20.428536Z",
     "iopub.status.idle": "2023-11-12T20:51:20.445295Z",
     "shell.execute_reply": "2023-11-12T20:51:20.444232Z"
    },
    "papermill": {
     "duration": 0.035287,
     "end_time": "2023-11-12T20:51:20.447707",
     "exception": false,
     "start_time": "2023-11-12T20:51:20.412420",
     "status": "completed"
    },
    "tags": []
   },
   "outputs": [
    {
     "data": {
      "text/html": [
       "<div>\n",
       "<style scoped>\n",
       "    .dataframe tbody tr th:only-of-type {\n",
       "        vertical-align: middle;\n",
       "    }\n",
       "\n",
       "    .dataframe tbody tr th {\n",
       "        vertical-align: top;\n",
       "    }\n",
       "\n",
       "    .dataframe thead th {\n",
       "        text-align: right;\n",
       "    }\n",
       "</style>\n",
       "<table border=\"1\" class=\"dataframe\">\n",
       "  <thead>\n",
       "    <tr style=\"text-align: right;\">\n",
       "      <th></th>\n",
       "      <th>Pclass</th>\n",
       "      <th>Sex</th>\n",
       "      <th>Age</th>\n",
       "      <th>SibSp</th>\n",
       "      <th>Parch</th>\n",
       "      <th>Fare</th>\n",
       "      <th>Embarked</th>\n",
       "      <th>Title</th>\n",
       "      <th>Cabin_Encoded</th>\n",
       "    </tr>\n",
       "  </thead>\n",
       "  <tbody>\n",
       "    <tr>\n",
       "      <th>0</th>\n",
       "      <td>0.826913</td>\n",
       "      <td>-0.737281</td>\n",
       "      <td>-0.579719</td>\n",
       "      <td>0.432550</td>\n",
       "      <td>-0.473408</td>\n",
       "      <td>-0.498667</td>\n",
       "      <td>-0.568518</td>\n",
       "      <td>-0.738132</td>\n",
       "      <td>-0.488186</td>\n",
       "    </tr>\n",
       "    <tr>\n",
       "      <th>1</th>\n",
       "      <td>-1.565228</td>\n",
       "      <td>1.354813</td>\n",
       "      <td>0.649747</td>\n",
       "      <td>0.432550</td>\n",
       "      <td>-0.473408</td>\n",
       "      <td>0.788962</td>\n",
       "      <td>1.004617</td>\n",
       "      <td>0.190788</td>\n",
       "      <td>1.397540</td>\n",
       "    </tr>\n",
       "    <tr>\n",
       "      <th>2</th>\n",
       "      <td>0.826913</td>\n",
       "      <td>1.354813</td>\n",
       "      <td>-0.272352</td>\n",
       "      <td>-0.474279</td>\n",
       "      <td>-0.473408</td>\n",
       "      <td>-0.498667</td>\n",
       "      <td>-0.568518</td>\n",
       "      <td>1.119709</td>\n",
       "      <td>-0.488186</td>\n",
       "    </tr>\n",
       "    <tr>\n",
       "      <th>3</th>\n",
       "      <td>-1.565228</td>\n",
       "      <td>1.354813</td>\n",
       "      <td>0.419222</td>\n",
       "      <td>0.432550</td>\n",
       "      <td>-0.473408</td>\n",
       "      <td>0.426816</td>\n",
       "      <td>-0.568518</td>\n",
       "      <td>0.190788</td>\n",
       "      <td>1.397540</td>\n",
       "    </tr>\n",
       "    <tr>\n",
       "      <th>4</th>\n",
       "      <td>0.826913</td>\n",
       "      <td>-0.737281</td>\n",
       "      <td>0.419222</td>\n",
       "      <td>-0.474279</td>\n",
       "      <td>-0.473408</td>\n",
       "      <td>-0.478548</td>\n",
       "      <td>-0.568518</td>\n",
       "      <td>-0.738132</td>\n",
       "      <td>-0.488186</td>\n",
       "    </tr>\n",
       "  </tbody>\n",
       "</table>\n",
       "</div>"
      ],
      "text/plain": [
       "     Pclass       Sex       Age     SibSp     Parch      Fare  Embarked  \\\n",
       "0  0.826913 -0.737281 -0.579719  0.432550 -0.473408 -0.498667 -0.568518   \n",
       "1 -1.565228  1.354813  0.649747  0.432550 -0.473408  0.788962  1.004617   \n",
       "2  0.826913  1.354813 -0.272352 -0.474279 -0.473408 -0.498667 -0.568518   \n",
       "3 -1.565228  1.354813  0.419222  0.432550 -0.473408  0.426816 -0.568518   \n",
       "4  0.826913 -0.737281  0.419222 -0.474279 -0.473408 -0.478548 -0.568518   \n",
       "\n",
       "      Title  Cabin_Encoded  \n",
       "0 -0.738132      -0.488186  \n",
       "1  0.190788       1.397540  \n",
       "2  1.119709      -0.488186  \n",
       "3  0.190788       1.397540  \n",
       "4 -0.738132      -0.488186  "
      ]
     },
     "execution_count": 24,
     "metadata": {},
     "output_type": "execute_result"
    }
   ],
   "source": [
    "X_train.head()"
   ]
  },
  {
   "cell_type": "code",
   "execution_count": 25,
   "id": "b470be54",
   "metadata": {
    "execution": {
     "iopub.execute_input": "2023-11-12T20:51:20.480700Z",
     "iopub.status.busy": "2023-11-12T20:51:20.479666Z",
     "iopub.status.idle": "2023-11-12T20:51:20.497679Z",
     "shell.execute_reply": "2023-11-12T20:51:20.496821Z"
    },
    "papermill": {
     "duration": 0.036901,
     "end_time": "2023-11-12T20:51:20.499840",
     "exception": false,
     "start_time": "2023-11-12T20:51:20.462939",
     "status": "completed"
    },
    "tags": []
   },
   "outputs": [
    {
     "data": {
      "text/html": [
       "<div>\n",
       "<style scoped>\n",
       "    .dataframe tbody tr th:only-of-type {\n",
       "        vertical-align: middle;\n",
       "    }\n",
       "\n",
       "    .dataframe tbody tr th {\n",
       "        vertical-align: top;\n",
       "    }\n",
       "\n",
       "    .dataframe thead th {\n",
       "        text-align: right;\n",
       "    }\n",
       "</style>\n",
       "<table border=\"1\" class=\"dataframe\">\n",
       "  <thead>\n",
       "    <tr style=\"text-align: right;\">\n",
       "      <th></th>\n",
       "      <th>Pclass</th>\n",
       "      <th>Sex</th>\n",
       "      <th>Age</th>\n",
       "      <th>SibSp</th>\n",
       "      <th>Parch</th>\n",
       "      <th>Fare</th>\n",
       "      <th>Embarked</th>\n",
       "      <th>Title</th>\n",
       "      <th>Cabin_Encoded</th>\n",
       "    </tr>\n",
       "  </thead>\n",
       "  <tbody>\n",
       "    <tr>\n",
       "      <th>0</th>\n",
       "      <td>0.826913</td>\n",
       "      <td>-0.737281</td>\n",
       "      <td>0.342381</td>\n",
       "      <td>-0.474279</td>\n",
       "      <td>-0.473408</td>\n",
       "      <td>-0.498667</td>\n",
       "      <td>2.577752</td>\n",
       "      <td>-0.738132</td>\n",
       "      <td>-0.488186</td>\n",
       "    </tr>\n",
       "    <tr>\n",
       "      <th>1</th>\n",
       "      <td>0.826913</td>\n",
       "      <td>1.354813</td>\n",
       "      <td>1.341322</td>\n",
       "      <td>0.432550</td>\n",
       "      <td>-0.473408</td>\n",
       "      <td>-0.498667</td>\n",
       "      <td>-0.568518</td>\n",
       "      <td>0.190788</td>\n",
       "      <td>-0.488186</td>\n",
       "    </tr>\n",
       "    <tr>\n",
       "      <th>2</th>\n",
       "      <td>-0.369158</td>\n",
       "      <td>-0.737281</td>\n",
       "      <td>2.493947</td>\n",
       "      <td>-0.474279</td>\n",
       "      <td>-0.473408</td>\n",
       "      <td>-0.458429</td>\n",
       "      <td>2.577752</td>\n",
       "      <td>-0.738132</td>\n",
       "      <td>-0.488186</td>\n",
       "    </tr>\n",
       "    <tr>\n",
       "      <th>3</th>\n",
       "      <td>0.826913</td>\n",
       "      <td>-0.737281</td>\n",
       "      <td>-0.195511</td>\n",
       "      <td>-0.474279</td>\n",
       "      <td>-0.473408</td>\n",
       "      <td>-0.478548</td>\n",
       "      <td>-0.568518</td>\n",
       "      <td>-0.738132</td>\n",
       "      <td>-0.488186</td>\n",
       "    </tr>\n",
       "    <tr>\n",
       "      <th>4</th>\n",
       "      <td>0.826913</td>\n",
       "      <td>1.354813</td>\n",
       "      <td>-0.579719</td>\n",
       "      <td>0.432550</td>\n",
       "      <td>0.767199</td>\n",
       "      <td>-0.398071</td>\n",
       "      <td>-0.568518</td>\n",
       "      <td>0.190788</td>\n",
       "      <td>-0.488186</td>\n",
       "    </tr>\n",
       "  </tbody>\n",
       "</table>\n",
       "</div>"
      ],
      "text/plain": [
       "     Pclass       Sex       Age     SibSp     Parch      Fare  Embarked  \\\n",
       "0  0.826913 -0.737281  0.342381 -0.474279 -0.473408 -0.498667  2.577752   \n",
       "1  0.826913  1.354813  1.341322  0.432550 -0.473408 -0.498667 -0.568518   \n",
       "2 -0.369158 -0.737281  2.493947 -0.474279 -0.473408 -0.458429  2.577752   \n",
       "3  0.826913 -0.737281 -0.195511 -0.474279 -0.473408 -0.478548 -0.568518   \n",
       "4  0.826913  1.354813 -0.579719  0.432550  0.767199 -0.398071 -0.568518   \n",
       "\n",
       "      Title  Cabin_Encoded  \n",
       "0 -0.738132      -0.488186  \n",
       "1  0.190788      -0.488186  \n",
       "2 -0.738132      -0.488186  \n",
       "3 -0.738132      -0.488186  \n",
       "4  0.190788      -0.488186  "
      ]
     },
     "execution_count": 25,
     "metadata": {},
     "output_type": "execute_result"
    }
   ],
   "source": [
    "X_test.head()"
   ]
  },
  {
   "cell_type": "code",
   "execution_count": 26,
   "id": "53b38a65",
   "metadata": {
    "execution": {
     "iopub.execute_input": "2023-11-12T20:51:20.532260Z",
     "iopub.status.busy": "2023-11-12T20:51:20.531585Z",
     "iopub.status.idle": "2023-11-12T20:51:20.539550Z",
     "shell.execute_reply": "2023-11-12T20:51:20.538489Z"
    },
    "papermill": {
     "duration": 0.02684,
     "end_time": "2023-11-12T20:51:20.541916",
     "exception": false,
     "start_time": "2023-11-12T20:51:20.515076",
     "status": "completed"
    },
    "tags": []
   },
   "outputs": [
    {
     "data": {
      "text/plain": [
       "0    0\n",
       "1    1\n",
       "2    1\n",
       "3    1\n",
       "4    0\n",
       "Name: Survived, dtype: int64"
      ]
     },
     "execution_count": 26,
     "metadata": {},
     "output_type": "execute_result"
    }
   ],
   "source": [
    "Y_train.head()"
   ]
  },
  {
   "cell_type": "markdown",
   "id": "ca35664e",
   "metadata": {
    "papermill": {
     "duration": 0.015187,
     "end_time": "2023-11-12T20:51:20.572434",
     "exception": false,
     "start_time": "2023-11-12T20:51:20.557247",
     "status": "completed"
    },
    "tags": []
   },
   "source": [
    "# Logistic Regression"
   ]
  },
  {
   "cell_type": "code",
   "execution_count": 27,
   "id": "eada4b68",
   "metadata": {
    "execution": {
     "iopub.execute_input": "2023-11-12T20:51:20.605434Z",
     "iopub.status.busy": "2023-11-12T20:51:20.605026Z",
     "iopub.status.idle": "2023-11-12T20:51:20.620506Z",
     "shell.execute_reply": "2023-11-12T20:51:20.619707Z"
    },
    "papermill": {
     "duration": 0.034816,
     "end_time": "2023-11-12T20:51:20.622651",
     "exception": false,
     "start_time": "2023-11-12T20:51:20.587835",
     "status": "completed"
    },
    "tags": []
   },
   "outputs": [],
   "source": [
    "class LogisticRegression:\n",
    "    def __init__(self, max_iterations=1000, learning_rate=0.01, decay=0.9, epsilon=1e-5):\n",
    "        self.max_iterations = max_iterations\n",
    "        self.learning_rate = learning_rate\n",
    "        self.epsilon = epsilon\n",
    "        self.W = None\n",
    "        self.b = None\n",
    "\n",
    "        \n",
    "    def sigmoid(self, z):\n",
    "        a = 1 / (1 + np.exp(-z))\n",
    "        return a\n",
    "\n",
    "    \n",
    "    def binary_cross_entropy(self, y_pred, y):\n",
    "        epsilon = 1e-15\n",
    "        y_pred = np.clip(y_pred, epsilon, 1 - epsilon)\n",
    "        loss = -(y * np.log(y_pred) + (1 - y) * np.log(1 - y_pred)).mean()\n",
    "        return loss\n",
    "\n",
    "    \n",
    "    def gradient_descent(self, X, y):\n",
    "        m, n = X.shape\n",
    "\n",
    "        dz = self.sigmoid(X.dot(self.W) + self.b) - y\n",
    "        dw = np.dot(X.T, dz) / m\n",
    "        db = np.sum(dz) / m\n",
    "\n",
    "        return dw, db\n",
    "\n",
    "    \n",
    "    def fit(self, X, y):\n",
    "        n_samples, n_features = X.shape\n",
    "\n",
    "        self.W = np.random.randn(n_features) * 0.01\n",
    "        self.b = 0\n",
    "        previous_loss = np.inf\n",
    "        lr = self.learning_rate\n",
    "\n",
    "        for _ in range(self.max_iterations):\n",
    "            # Calculate Gradients\n",
    "            dw, db = self.gradient_descent(X, y)\n",
    "\n",
    "            # Update Parameters\n",
    "            self.W -= lr * dw\n",
    "            self.b -= lr * db\n",
    "\n",
    "            # Check for Early Stop\n",
    "            current_loss = self.binary_cross_entropy(self.sigmoid(X.dot(self.W) + self.b), y)\n",
    "            if np.abs(current_loss - previous_loss) < self.epsilon:\n",
    "                print(f'Stopping Train at Iteration No.{_}')\n",
    "                break\n",
    "\n",
    "            previous_loss = current_loss\n",
    "            lr *= 0.92\n",
    "\n",
    "        print(f'Training Complete with Binary Cross Entropy Loss of {current_loss}')\n",
    "\n",
    "        \n",
    "    def predict(self, X):\n",
    "        y_pred = self.sigmoid(np.dot(X, self.W) + self.b)\n",
    "        return (y_pred >= 0.5).astype(int)"
   ]
  },
  {
   "cell_type": "code",
   "execution_count": 28,
   "id": "4c6eeb2a",
   "metadata": {
    "execution": {
     "iopub.execute_input": "2023-11-12T20:51:20.656479Z",
     "iopub.status.busy": "2023-11-12T20:51:20.655503Z",
     "iopub.status.idle": "2023-11-12T20:51:20.660822Z",
     "shell.execute_reply": "2023-11-12T20:51:20.660067Z"
    },
    "papermill": {
     "duration": 0.024308,
     "end_time": "2023-11-12T20:51:20.662922",
     "exception": false,
     "start_time": "2023-11-12T20:51:20.638614",
     "status": "completed"
    },
    "tags": []
   },
   "outputs": [],
   "source": [
    "max_iterations = 500\n",
    "learning_rate = 0.5\n",
    "decay = 0.95\n",
    "epsilon = 1e-8\n",
    "\n",
    "model = LogisticRegression(max_iterations, learning_rate, decay, epsilon)"
   ]
  },
  {
   "cell_type": "code",
   "execution_count": 29,
   "id": "47a2399c",
   "metadata": {
    "execution": {
     "iopub.execute_input": "2023-11-12T20:51:20.696113Z",
     "iopub.status.busy": "2023-11-12T20:51:20.695669Z",
     "iopub.status.idle": "2023-11-12T20:51:21.395071Z",
     "shell.execute_reply": "2023-11-12T20:51:21.393654Z"
    },
    "papermill": {
     "duration": 0.719082,
     "end_time": "2023-11-12T20:51:21.397662",
     "exception": false,
     "start_time": "2023-11-12T20:51:20.678580",
     "status": "completed"
    },
    "tags": []
   },
   "outputs": [
    {
     "name": "stdout",
     "output_type": "stream",
     "text": [
      "Stopping Train at Iteration No.150\n",
      "Training Complete with Binary Cross Entropy Loss of 0.45186149505220435\n"
     ]
    }
   ],
   "source": [
    "model.fit(X_train, Y_train)"
   ]
  },
  {
   "cell_type": "code",
   "execution_count": 30,
   "id": "8af14fa4",
   "metadata": {
    "execution": {
     "iopub.execute_input": "2023-11-12T20:51:21.430431Z",
     "iopub.status.busy": "2023-11-12T20:51:21.430030Z",
     "iopub.status.idle": "2023-11-12T20:51:21.437241Z",
     "shell.execute_reply": "2023-11-12T20:51:21.435940Z"
    },
    "papermill": {
     "duration": 0.026385,
     "end_time": "2023-11-12T20:51:21.439558",
     "exception": false,
     "start_time": "2023-11-12T20:51:21.413173",
     "status": "completed"
    },
    "tags": []
   },
   "outputs": [
    {
     "name": "stdout",
     "output_type": "stream",
     "text": [
      "[-0.37205264  0.70269145 -0.15974514 -0.18994451 -0.0282968   0.21504381\n",
      "  0.11069656  0.41601819  0.28152796]\n"
     ]
    }
   ],
   "source": [
    "print(model.W)\n",
    "Y_pred = model.predict(X_test)"
   ]
  }
 ],
 "metadata": {
  "kernelspec": {
   "display_name": "Python 3",
   "language": "python",
   "name": "python3"
  },
  "language_info": {
   "codemirror_mode": {
    "name": "ipython",
    "version": 3
   },
   "file_extension": ".py",
   "mimetype": "text/x-python",
   "name": "python",
   "nbconvert_exporter": "python",
   "pygments_lexer": "ipython3",
   "version": "3.10.12"
  },
  "papermill": {
   "default_parameters": {},
   "duration": 6.933711,
   "end_time": "2023-11-12T20:51:21.874905",
   "environment_variables": {},
   "exception": null,
   "input_path": "__notebook__.ipynb",
   "output_path": "__notebook__.ipynb",
   "parameters": {},
   "start_time": "2023-11-12T20:51:14.941194",
   "version": "2.4.0"
  }
 },
 "nbformat": 4,
 "nbformat_minor": 5
}

{
 "cells": [
  {
   "cell_type": "markdown",
   "id": "e0c1993f",
   "metadata": {
    "papermill": {
     "duration": 0.00888,
     "end_time": "2023-11-12T16:42:29.763760",
     "exception": false,
     "start_time": "2023-11-12T16:42:29.754880",
     "status": "completed"
    },
    "tags": []
   },
   "source": [
    "# Import Required Libraraies"
   ]
  },
  {
   "cell_type": "code",
   "execution_count": 1,
   "id": "70fb5c51",
   "metadata": {
    "execution": {
     "iopub.execute_input": "2023-11-12T16:42:29.782640Z",
     "iopub.status.busy": "2023-11-12T16:42:29.782134Z",
     "iopub.status.idle": "2023-11-12T16:42:30.214520Z",
     "shell.execute_reply": "2023-11-12T16:42:30.213266Z"
    },
    "papermill": {
     "duration": 0.445626,
     "end_time": "2023-11-12T16:42:30.217755",
     "exception": false,
     "start_time": "2023-11-12T16:42:29.772129",
     "status": "completed"
    },
    "tags": []
   },
   "outputs": [],
   "source": [
    "import re\n",
    "import numpy as np\n",
    "import pandas as pd"
   ]
  },
  {
   "cell_type": "markdown",
   "id": "98dc785d",
   "metadata": {
    "papermill": {
     "duration": 0.008418,
     "end_time": "2023-11-12T16:42:30.234459",
     "exception": false,
     "start_time": "2023-11-12T16:42:30.226041",
     "status": "completed"
    },
    "tags": []
   },
   "source": [
    "# Read Data"
   ]
  },
  {
   "cell_type": "code",
   "execution_count": 2,
   "id": "dcf319f2",
   "metadata": {
    "execution": {
     "iopub.execute_input": "2023-11-12T16:42:30.253272Z",
     "iopub.status.busy": "2023-11-12T16:42:30.252609Z",
     "iopub.status.idle": "2023-11-12T16:42:30.294486Z",
     "shell.execute_reply": "2023-11-12T16:42:30.293119Z"
    },
    "papermill": {
     "duration": 0.054565,
     "end_time": "2023-11-12T16:42:30.297366",
     "exception": false,
     "start_time": "2023-11-12T16:42:30.242801",
     "status": "completed"
    },
    "tags": []
   },
   "outputs": [],
   "source": [
    "train_data = pd.read_csv('/kaggle/input/titanic/train.csv')\n",
    "test_data = pd.read_csv('/kaggle/input/titanic/test.csv')\n",
    "gender_sub = pd.read_csv('/kaggle/input/titanic/gender_submission.csv')"
   ]
  },
  {
   "cell_type": "code",
   "execution_count": 3,
   "id": "5dcf3dc1",
   "metadata": {
    "execution": {
     "iopub.execute_input": "2023-11-12T16:42:30.317024Z",
     "iopub.status.busy": "2023-11-12T16:42:30.316159Z",
     "iopub.status.idle": "2023-11-12T16:42:30.347188Z",
     "shell.execute_reply": "2023-11-12T16:42:30.345952Z"
    },
    "papermill": {
     "duration": 0.043825,
     "end_time": "2023-11-12T16:42:30.349837",
     "exception": false,
     "start_time": "2023-11-12T16:42:30.306012",
     "status": "completed"
    },
    "tags": []
   },
   "outputs": [
    {
     "data": {
      "text/html": [
       "<div>\n",
       "<style scoped>\n",
       "    .dataframe tbody tr th:only-of-type {\n",
       "        vertical-align: middle;\n",
       "    }\n",
       "\n",
       "    .dataframe tbody tr th {\n",
       "        vertical-align: top;\n",
       "    }\n",
       "\n",
       "    .dataframe thead th {\n",
       "        text-align: right;\n",
       "    }\n",
       "</style>\n",
       "<table border=\"1\" class=\"dataframe\">\n",
       "  <thead>\n",
       "    <tr style=\"text-align: right;\">\n",
       "      <th></th>\n",
       "      <th>PassengerId</th>\n",
       "      <th>Pclass</th>\n",
       "      <th>Name</th>\n",
       "      <th>Sex</th>\n",
       "      <th>Age</th>\n",
       "      <th>SibSp</th>\n",
       "      <th>Parch</th>\n",
       "      <th>Ticket</th>\n",
       "      <th>Fare</th>\n",
       "      <th>Cabin</th>\n",
       "      <th>Embarked</th>\n",
       "    </tr>\n",
       "  </thead>\n",
       "  <tbody>\n",
       "    <tr>\n",
       "      <th>0</th>\n",
       "      <td>892</td>\n",
       "      <td>3</td>\n",
       "      <td>Kelly, Mr. James</td>\n",
       "      <td>male</td>\n",
       "      <td>34.5</td>\n",
       "      <td>0</td>\n",
       "      <td>0</td>\n",
       "      <td>330911</td>\n",
       "      <td>7.8292</td>\n",
       "      <td>NaN</td>\n",
       "      <td>Q</td>\n",
       "    </tr>\n",
       "    <tr>\n",
       "      <th>1</th>\n",
       "      <td>893</td>\n",
       "      <td>3</td>\n",
       "      <td>Wilkes, Mrs. James (Ellen Needs)</td>\n",
       "      <td>female</td>\n",
       "      <td>47.0</td>\n",
       "      <td>1</td>\n",
       "      <td>0</td>\n",
       "      <td>363272</td>\n",
       "      <td>7.0000</td>\n",
       "      <td>NaN</td>\n",
       "      <td>S</td>\n",
       "    </tr>\n",
       "    <tr>\n",
       "      <th>2</th>\n",
       "      <td>894</td>\n",
       "      <td>2</td>\n",
       "      <td>Myles, Mr. Thomas Francis</td>\n",
       "      <td>male</td>\n",
       "      <td>62.0</td>\n",
       "      <td>0</td>\n",
       "      <td>0</td>\n",
       "      <td>240276</td>\n",
       "      <td>9.6875</td>\n",
       "      <td>NaN</td>\n",
       "      <td>Q</td>\n",
       "    </tr>\n",
       "    <tr>\n",
       "      <th>3</th>\n",
       "      <td>895</td>\n",
       "      <td>3</td>\n",
       "      <td>Wirz, Mr. Albert</td>\n",
       "      <td>male</td>\n",
       "      <td>27.0</td>\n",
       "      <td>0</td>\n",
       "      <td>0</td>\n",
       "      <td>315154</td>\n",
       "      <td>8.6625</td>\n",
       "      <td>NaN</td>\n",
       "      <td>S</td>\n",
       "    </tr>\n",
       "    <tr>\n",
       "      <th>4</th>\n",
       "      <td>896</td>\n",
       "      <td>3</td>\n",
       "      <td>Hirvonen, Mrs. Alexander (Helga E Lindqvist)</td>\n",
       "      <td>female</td>\n",
       "      <td>22.0</td>\n",
       "      <td>1</td>\n",
       "      <td>1</td>\n",
       "      <td>3101298</td>\n",
       "      <td>12.2875</td>\n",
       "      <td>NaN</td>\n",
       "      <td>S</td>\n",
       "    </tr>\n",
       "  </tbody>\n",
       "</table>\n",
       "</div>"
      ],
      "text/plain": [
       "   PassengerId  Pclass                                          Name     Sex  \\\n",
       "0          892       3                              Kelly, Mr. James    male   \n",
       "1          893       3              Wilkes, Mrs. James (Ellen Needs)  female   \n",
       "2          894       2                     Myles, Mr. Thomas Francis    male   \n",
       "3          895       3                              Wirz, Mr. Albert    male   \n",
       "4          896       3  Hirvonen, Mrs. Alexander (Helga E Lindqvist)  female   \n",
       "\n",
       "    Age  SibSp  Parch   Ticket     Fare Cabin Embarked  \n",
       "0  34.5      0      0   330911   7.8292   NaN        Q  \n",
       "1  47.0      1      0   363272   7.0000   NaN        S  \n",
       "2  62.0      0      0   240276   9.6875   NaN        Q  \n",
       "3  27.0      0      0   315154   8.6625   NaN        S  \n",
       "4  22.0      1      1  3101298  12.2875   NaN        S  "
      ]
     },
     "execution_count": 3,
     "metadata": {},
     "output_type": "execute_result"
    }
   ],
   "source": [
    "test_data.head()"
   ]
  },
  {
   "cell_type": "markdown",
   "id": "94769465",
   "metadata": {
    "papermill": {
     "duration": 0.00888,
     "end_time": "2023-11-12T16:42:30.367454",
     "exception": false,
     "start_time": "2023-11-12T16:42:30.358574",
     "status": "completed"
    },
    "tags": []
   },
   "source": [
    "# Data Purification and Feature Engineering"
   ]
  },
  {
   "cell_type": "markdown",
   "id": "7f0bde10",
   "metadata": {
    "papermill": {
     "duration": 0.008284,
     "end_time": "2023-11-12T16:42:30.384346",
     "exception": false,
     "start_time": "2023-11-12T16:42:30.376062",
     "status": "completed"
    },
    "tags": []
   },
   "source": [
    "## Name\n",
    "### Extract titles from names"
   ]
  },
  {
   "cell_type": "code",
   "execution_count": 4,
   "id": "7e387c44",
   "metadata": {
    "execution": {
     "iopub.execute_input": "2023-11-12T16:42:30.403424Z",
     "iopub.status.busy": "2023-11-12T16:42:30.402998Z",
     "iopub.status.idle": "2023-11-12T16:42:30.423654Z",
     "shell.execute_reply": "2023-11-12T16:42:30.422498Z"
    },
    "papermill": {
     "duration": 0.033179,
     "end_time": "2023-11-12T16:42:30.426151",
     "exception": false,
     "start_time": "2023-11-12T16:42:30.392972",
     "status": "completed"
    },
    "tags": []
   },
   "outputs": [
    {
     "name": "stdout",
     "output_type": "stream",
     "text": [
      "All unique titles in names (Train): ['Mr' 'Mrs' 'Miss' 'Master' 'Don' 'Rev' 'Dr' 'Mme' 'Ms' 'Major' 'Lady'\n",
      " 'Sir' 'Mlle' 'Col' 'Capt' 'Countess' 'Jonkheer']\n",
      "All unique titles in names (Test): ['Mr' 'Mrs' 'Miss' 'Master' 'Ms' 'Col' 'Rev' 'Dr' 'Dona']\n"
     ]
    }
   ],
   "source": [
    "train_data['Title'] = train_data['Name'].apply(lambda x: re.search(' ([A-Za-z]+)\\.', x).group(1))\n",
    "test_data['Title'] = test_data['Name'].apply(lambda x: re.search(' ([A-Za-z]+)\\.', x).group(1))\n",
    "\n",
    "# Display the unique titles\n",
    "print(f'All unique titles in names (Train): {train_data[\"Title\"].unique()}')\n",
    "print(f'All unique titles in names (Test): {test_data[\"Title\"].unique()}')"
   ]
  },
  {
   "cell_type": "code",
   "execution_count": 5,
   "id": "43825312",
   "metadata": {
    "execution": {
     "iopub.execute_input": "2023-11-12T16:42:30.445390Z",
     "iopub.status.busy": "2023-11-12T16:42:30.444936Z",
     "iopub.status.idle": "2023-11-12T16:42:30.459939Z",
     "shell.execute_reply": "2023-11-12T16:42:30.459009Z"
    },
    "papermill": {
     "duration": 0.027637,
     "end_time": "2023-11-12T16:42:30.462507",
     "exception": false,
     "start_time": "2023-11-12T16:42:30.434870",
     "status": "completed"
    },
    "tags": []
   },
   "outputs": [],
   "source": [
    "# Train Data\n",
    "train_data['Title'] = train_data['Title'].replace(['Lady', 'Countess', 'Capt', 'Col', 'Don', 'Dr','Major', 'Rev', 'Sir', 'Jonkheer', 'Dona'], 'Other')\n",
    "train_data['Title'] = train_data['Title'].replace(['Mlle', 'Ms'], 'Miss')\n",
    "train_data['Title'] = train_data['Title'].replace('Mme', 'Mrs')\n",
    "\n",
    "# Test Data\n",
    "test_data['Title'] = test_data['Title'].replace(['Lady', 'Countess', 'Capt', 'Col', 'Don', 'Dr','Major', 'Rev', 'Sir', 'Jonkheer', 'Dona'], 'Other')\n",
    "test_data['Title'] = test_data['Title'].replace(['Mlle', 'Ms'], 'Miss')\n",
    "test_data['Title'] = test_data['Title'].replace('Mme', 'Mrs')"
   ]
  },
  {
   "cell_type": "code",
   "execution_count": 6,
   "id": "67554ff8",
   "metadata": {
    "execution": {
     "iopub.execute_input": "2023-11-12T16:42:30.481854Z",
     "iopub.status.busy": "2023-11-12T16:42:30.481424Z",
     "iopub.status.idle": "2023-11-12T16:42:30.488882Z",
     "shell.execute_reply": "2023-11-12T16:42:30.487633Z"
    },
    "papermill": {
     "duration": 0.020632,
     "end_time": "2023-11-12T16:42:30.491771",
     "exception": false,
     "start_time": "2023-11-12T16:42:30.471139",
     "status": "completed"
    },
    "tags": []
   },
   "outputs": [
    {
     "name": "stdout",
     "output_type": "stream",
     "text": [
      "Train Titles: ['Mr' 'Mrs' 'Miss' 'Master' 'Other']\n",
      "Test Titles: ['Mr' 'Mrs' 'Miss' 'Master' 'Other']\n"
     ]
    }
   ],
   "source": [
    "print(f'Train Titles: {train_data[\"Title\"].unique()}')\n",
    "print(f'Test Titles: {test_data[\"Title\"].unique()}')"
   ]
  },
  {
   "cell_type": "markdown",
   "id": "c2020c91",
   "metadata": {
    "papermill": {
     "duration": 0.008647,
     "end_time": "2023-11-12T16:42:30.509396",
     "exception": false,
     "start_time": "2023-11-12T16:42:30.500749",
     "status": "completed"
    },
    "tags": []
   },
   "source": [
    "### Drop Names"
   ]
  },
  {
   "cell_type": "code",
   "execution_count": 7,
   "id": "b3d05f1e",
   "metadata": {
    "execution": {
     "iopub.execute_input": "2023-11-12T16:42:30.529805Z",
     "iopub.status.busy": "2023-11-12T16:42:30.528429Z",
     "iopub.status.idle": "2023-11-12T16:42:30.543590Z",
     "shell.execute_reply": "2023-11-12T16:42:30.542604Z"
    },
    "papermill": {
     "duration": 0.027833,
     "end_time": "2023-11-12T16:42:30.546063",
     "exception": false,
     "start_time": "2023-11-12T16:42:30.518230",
     "status": "completed"
    },
    "tags": []
   },
   "outputs": [],
   "source": [
    "train_data = train_data.drop('Name', axis=1)\n",
    "test_data = test_data.drop('Name', axis=1)"
   ]
  },
  {
   "cell_type": "markdown",
   "id": "c0bb9641",
   "metadata": {
    "papermill": {
     "duration": 0.008527,
     "end_time": "2023-11-12T16:42:30.563551",
     "exception": false,
     "start_time": "2023-11-12T16:42:30.555024",
     "status": "completed"
    },
    "tags": []
   },
   "source": [
    "## Ticket\n",
    "### Drop ticket columns"
   ]
  },
  {
   "cell_type": "code",
   "execution_count": 8,
   "id": "4e3915bd",
   "metadata": {
    "execution": {
     "iopub.execute_input": "2023-11-12T16:42:30.582966Z",
     "iopub.status.busy": "2023-11-12T16:42:30.582557Z",
     "iopub.status.idle": "2023-11-12T16:42:30.590495Z",
     "shell.execute_reply": "2023-11-12T16:42:30.589397Z"
    },
    "papermill": {
     "duration": 0.020464,
     "end_time": "2023-11-12T16:42:30.592748",
     "exception": false,
     "start_time": "2023-11-12T16:42:30.572284",
     "status": "completed"
    },
    "tags": []
   },
   "outputs": [],
   "source": [
    "# Drop Ticket Column\n",
    "train_data = train_data.drop('Ticket', axis=1)\n",
    "test_data = test_data.drop('Ticket', axis=1)"
   ]
  },
  {
   "cell_type": "markdown",
   "id": "d1aafddc",
   "metadata": {
    "papermill": {
     "duration": 0.008758,
     "end_time": "2023-11-12T16:42:30.610517",
     "exception": false,
     "start_time": "2023-11-12T16:42:30.601759",
     "status": "completed"
    },
    "tags": []
   },
   "source": [
    "## Sex\n",
    "### Convert sexes to 0s and 1s"
   ]
  },
  {
   "cell_type": "code",
   "execution_count": 9,
   "id": "e7c89249",
   "metadata": {
    "execution": {
     "iopub.execute_input": "2023-11-12T16:42:30.630279Z",
     "iopub.status.busy": "2023-11-12T16:42:30.629639Z",
     "iopub.status.idle": "2023-11-12T16:42:30.639992Z",
     "shell.execute_reply": "2023-11-12T16:42:30.638608Z"
    },
    "papermill": {
     "duration": 0.023051,
     "end_time": "2023-11-12T16:42:30.642339",
     "exception": false,
     "start_time": "2023-11-12T16:42:30.619288",
     "status": "completed"
    },
    "tags": []
   },
   "outputs": [
    {
     "name": "stdout",
     "output_type": "stream",
     "text": [
      "Number of distinct values for sex: {0, 1}\n"
     ]
    }
   ],
   "source": [
    "# Encode Sex\n",
    "train_data['Sex'] = train_data['Sex'].replace({'male': 0, 'female': 1})\n",
    "test_data['Sex'] = test_data['Sex'].replace({'male': 0, 'female': 1})\n",
    "print(f'Number of distinct values for sex: {set(test_data[\"Sex\"])}')"
   ]
  },
  {
   "cell_type": "markdown",
   "id": "109f5654",
   "metadata": {
    "papermill": {
     "duration": 0.008789,
     "end_time": "2023-11-12T16:42:30.660037",
     "exception": false,
     "start_time": "2023-11-12T16:42:30.651248",
     "status": "completed"
    },
    "tags": []
   },
   "source": [
    "## Cabin\n",
    "### Extract letters from Cabins"
   ]
  },
  {
   "cell_type": "code",
   "execution_count": 10,
   "id": "8862d111",
   "metadata": {
    "execution": {
     "iopub.execute_input": "2023-11-12T16:42:30.680415Z",
     "iopub.status.busy": "2023-11-12T16:42:30.679434Z",
     "iopub.status.idle": "2023-11-12T16:42:30.694501Z",
     "shell.execute_reply": "2023-11-12T16:42:30.693118Z"
    },
    "papermill": {
     "duration": 0.028255,
     "end_time": "2023-11-12T16:42:30.697144",
     "exception": false,
     "start_time": "2023-11-12T16:42:30.668889",
     "status": "completed"
    },
    "tags": []
   },
   "outputs": [
    {
     "name": "stdout",
     "output_type": "stream",
     "text": [
      "['X' 'C' 'E' 'G' 'D' 'A' 'B' 'F' 'T']\n",
      "['X' 'B' 'E' 'A' 'C' 'D' 'F' 'G']\n"
     ]
    }
   ],
   "source": [
    "train_data['Cabin'] = train_data['Cabin'].fillna(\"X\")\n",
    "print(train_data['Cabin'].str[0].unique())\n",
    "\n",
    "test_data['Cabin'] = test_data['Cabin'].fillna(\"X\")\n",
    "print(test_data['Cabin'].str[0].unique())"
   ]
  },
  {
   "cell_type": "markdown",
   "id": "6e81ea19",
   "metadata": {
    "papermill": {
     "duration": 0.008792,
     "end_time": "2023-11-12T16:42:30.716532",
     "exception": false,
     "start_time": "2023-11-12T16:42:30.707740",
     "status": "completed"
    },
    "tags": []
   },
   "source": [
    "### Encode letters"
   ]
  },
  {
   "cell_type": "code",
   "execution_count": 11,
   "id": "9d68e63e",
   "metadata": {
    "execution": {
     "iopub.execute_input": "2023-11-12T16:42:30.737146Z",
     "iopub.status.busy": "2023-11-12T16:42:30.736715Z",
     "iopub.status.idle": "2023-11-12T16:42:30.747500Z",
     "shell.execute_reply": "2023-11-12T16:42:30.746359Z"
    },
    "papermill": {
     "duration": 0.024175,
     "end_time": "2023-11-12T16:42:30.750160",
     "exception": false,
     "start_time": "2023-11-12T16:42:30.725985",
     "status": "completed"
    },
    "tags": []
   },
   "outputs": [],
   "source": [
    "cabin_to_number = {'X': 0, 'A': 1, 'B': 2, 'C': 3, 'D': 4, 'E': 5, 'F': 6, 'G': 7, 'T': 8}\n",
    "\n",
    "train_data['Cabin_Encoded'] = train_data['Cabin'].apply(lambda x: cabin_to_number[x[0]])\n",
    "test_data['Cabin_Encoded'] = test_data['Cabin'].apply(lambda x: cabin_to_number[x[0]])"
   ]
  },
  {
   "cell_type": "markdown",
   "id": "b661f82d",
   "metadata": {
    "papermill": {
     "duration": 0.008772,
     "end_time": "2023-11-12T16:42:30.768120",
     "exception": false,
     "start_time": "2023-11-12T16:42:30.759348",
     "status": "completed"
    },
    "tags": []
   },
   "source": [
    "### Drop Cabin Column"
   ]
  },
  {
   "cell_type": "code",
   "execution_count": 12,
   "id": "b6e33805",
   "metadata": {
    "execution": {
     "iopub.execute_input": "2023-11-12T16:42:30.788101Z",
     "iopub.status.busy": "2023-11-12T16:42:30.787666Z",
     "iopub.status.idle": "2023-11-12T16:42:30.795563Z",
     "shell.execute_reply": "2023-11-12T16:42:30.794399Z"
    },
    "papermill": {
     "duration": 0.020518,
     "end_time": "2023-11-12T16:42:30.797768",
     "exception": false,
     "start_time": "2023-11-12T16:42:30.777250",
     "status": "completed"
    },
    "tags": []
   },
   "outputs": [],
   "source": [
    "train_data = train_data.drop('Cabin', axis=1)\n",
    "test_data = test_data.drop('Cabin', axis=1)"
   ]
  },
  {
   "cell_type": "markdown",
   "id": "665c2197",
   "metadata": {
    "papermill": {
     "duration": 0.008692,
     "end_time": "2023-11-12T16:42:30.816081",
     "exception": false,
     "start_time": "2023-11-12T16:42:30.807389",
     "status": "completed"
    },
    "tags": []
   },
   "source": [
    "## Embarked\n",
    "### Fill Null values with 'S'"
   ]
  },
  {
   "cell_type": "code",
   "execution_count": 13,
   "id": "ea076237",
   "metadata": {
    "execution": {
     "iopub.execute_input": "2023-11-12T16:42:30.836226Z",
     "iopub.status.busy": "2023-11-12T16:42:30.835784Z",
     "iopub.status.idle": "2023-11-12T16:42:30.847957Z",
     "shell.execute_reply": "2023-11-12T16:42:30.846747Z"
    },
    "papermill": {
     "duration": 0.025316,
     "end_time": "2023-11-12T16:42:30.850433",
     "exception": false,
     "start_time": "2023-11-12T16:42:30.825117",
     "status": "completed"
    },
    "tags": []
   },
   "outputs": [],
   "source": [
    "train_data['Embarked'].describe()\n",
    "\n",
    "train_data['Embarked'] = train_data['Embarked'].fillna('S')\n",
    "test_data['Embarked'] = test_data['Embarked'].fillna('S')"
   ]
  },
  {
   "cell_type": "markdown",
   "id": "dfe77910",
   "metadata": {
    "papermill": {
     "duration": 0.008769,
     "end_time": "2023-11-12T16:42:30.868488",
     "exception": false,
     "start_time": "2023-11-12T16:42:30.859719",
     "status": "completed"
    },
    "tags": []
   },
   "source": [
    "### Encode Embarked Values"
   ]
  },
  {
   "cell_type": "code",
   "execution_count": 14,
   "id": "4442f925",
   "metadata": {
    "execution": {
     "iopub.execute_input": "2023-11-12T16:42:30.888708Z",
     "iopub.status.busy": "2023-11-12T16:42:30.888274Z",
     "iopub.status.idle": "2023-11-12T16:42:30.897438Z",
     "shell.execute_reply": "2023-11-12T16:42:30.896185Z"
    },
    "papermill": {
     "duration": 0.022462,
     "end_time": "2023-11-12T16:42:30.900289",
     "exception": false,
     "start_time": "2023-11-12T16:42:30.877827",
     "status": "completed"
    },
    "tags": []
   },
   "outputs": [],
   "source": [
    "embark_to_number = {'S': 0, 'C': 1, 'Q': 2}\n",
    "\n",
    "train_data['Embarked'] = train_data['Embarked'].apply(lambda x: embark_to_number[x[0]])\n",
    "test_data['Embarked'] = test_data['Embarked'].apply(lambda x: embark_to_number[x[0]])"
   ]
  },
  {
   "cell_type": "code",
   "execution_count": 15,
   "id": "eb59fa02",
   "metadata": {
    "execution": {
     "iopub.execute_input": "2023-11-12T16:42:30.920580Z",
     "iopub.status.busy": "2023-11-12T16:42:30.920135Z",
     "iopub.status.idle": "2023-11-12T16:42:30.937543Z",
     "shell.execute_reply": "2023-11-12T16:42:30.936258Z"
    },
    "papermill": {
     "duration": 0.030548,
     "end_time": "2023-11-12T16:42:30.940152",
     "exception": false,
     "start_time": "2023-11-12T16:42:30.909604",
     "status": "completed"
    },
    "tags": []
   },
   "outputs": [
    {
     "data": {
      "text/html": [
       "<div>\n",
       "<style scoped>\n",
       "    .dataframe tbody tr th:only-of-type {\n",
       "        vertical-align: middle;\n",
       "    }\n",
       "\n",
       "    .dataframe tbody tr th {\n",
       "        vertical-align: top;\n",
       "    }\n",
       "\n",
       "    .dataframe thead th {\n",
       "        text-align: right;\n",
       "    }\n",
       "</style>\n",
       "<table border=\"1\" class=\"dataframe\">\n",
       "  <thead>\n",
       "    <tr style=\"text-align: right;\">\n",
       "      <th></th>\n",
       "      <th>PassengerId</th>\n",
       "      <th>Survived</th>\n",
       "      <th>Pclass</th>\n",
       "      <th>Sex</th>\n",
       "      <th>Age</th>\n",
       "      <th>SibSp</th>\n",
       "      <th>Parch</th>\n",
       "      <th>Fare</th>\n",
       "      <th>Embarked</th>\n",
       "      <th>Title</th>\n",
       "      <th>Cabin_Encoded</th>\n",
       "    </tr>\n",
       "  </thead>\n",
       "  <tbody>\n",
       "    <tr>\n",
       "      <th>0</th>\n",
       "      <td>1</td>\n",
       "      <td>0</td>\n",
       "      <td>3</td>\n",
       "      <td>0</td>\n",
       "      <td>22.0</td>\n",
       "      <td>1</td>\n",
       "      <td>0</td>\n",
       "      <td>7.2500</td>\n",
       "      <td>0</td>\n",
       "      <td>Mr</td>\n",
       "      <td>0</td>\n",
       "    </tr>\n",
       "    <tr>\n",
       "      <th>1</th>\n",
       "      <td>2</td>\n",
       "      <td>1</td>\n",
       "      <td>1</td>\n",
       "      <td>1</td>\n",
       "      <td>38.0</td>\n",
       "      <td>1</td>\n",
       "      <td>0</td>\n",
       "      <td>71.2833</td>\n",
       "      <td>1</td>\n",
       "      <td>Mrs</td>\n",
       "      <td>3</td>\n",
       "    </tr>\n",
       "    <tr>\n",
       "      <th>2</th>\n",
       "      <td>3</td>\n",
       "      <td>1</td>\n",
       "      <td>3</td>\n",
       "      <td>1</td>\n",
       "      <td>26.0</td>\n",
       "      <td>0</td>\n",
       "      <td>0</td>\n",
       "      <td>7.9250</td>\n",
       "      <td>0</td>\n",
       "      <td>Miss</td>\n",
       "      <td>0</td>\n",
       "    </tr>\n",
       "    <tr>\n",
       "      <th>3</th>\n",
       "      <td>4</td>\n",
       "      <td>1</td>\n",
       "      <td>1</td>\n",
       "      <td>1</td>\n",
       "      <td>35.0</td>\n",
       "      <td>1</td>\n",
       "      <td>0</td>\n",
       "      <td>53.1000</td>\n",
       "      <td>0</td>\n",
       "      <td>Mrs</td>\n",
       "      <td>3</td>\n",
       "    </tr>\n",
       "    <tr>\n",
       "      <th>4</th>\n",
       "      <td>5</td>\n",
       "      <td>0</td>\n",
       "      <td>3</td>\n",
       "      <td>0</td>\n",
       "      <td>35.0</td>\n",
       "      <td>0</td>\n",
       "      <td>0</td>\n",
       "      <td>8.0500</td>\n",
       "      <td>0</td>\n",
       "      <td>Mr</td>\n",
       "      <td>0</td>\n",
       "    </tr>\n",
       "  </tbody>\n",
       "</table>\n",
       "</div>"
      ],
      "text/plain": [
       "   PassengerId  Survived  Pclass  Sex   Age  SibSp  Parch     Fare  Embarked  \\\n",
       "0            1         0       3    0  22.0      1      0   7.2500         0   \n",
       "1            2         1       1    1  38.0      1      0  71.2833         1   \n",
       "2            3         1       3    1  26.0      0      0   7.9250         0   \n",
       "3            4         1       1    1  35.0      1      0  53.1000         0   \n",
       "4            5         0       3    0  35.0      0      0   8.0500         0   \n",
       "\n",
       "  Title  Cabin_Encoded  \n",
       "0    Mr              0  \n",
       "1   Mrs              3  \n",
       "2  Miss              0  \n",
       "3   Mrs              3  \n",
       "4    Mr              0  "
      ]
     },
     "execution_count": 15,
     "metadata": {},
     "output_type": "execute_result"
    }
   ],
   "source": [
    "train_data.head()"
   ]
  },
  {
   "cell_type": "code",
   "execution_count": 16,
   "id": "ec5f3fd0",
   "metadata": {
    "execution": {
     "iopub.execute_input": "2023-11-12T16:42:30.960644Z",
     "iopub.status.busy": "2023-11-12T16:42:30.960217Z",
     "iopub.status.idle": "2023-11-12T16:42:30.976611Z",
     "shell.execute_reply": "2023-11-12T16:42:30.975302Z"
    },
    "papermill": {
     "duration": 0.029897,
     "end_time": "2023-11-12T16:42:30.979472",
     "exception": false,
     "start_time": "2023-11-12T16:42:30.949575",
     "status": "completed"
    },
    "tags": []
   },
   "outputs": [
    {
     "data": {
      "text/html": [
       "<div>\n",
       "<style scoped>\n",
       "    .dataframe tbody tr th:only-of-type {\n",
       "        vertical-align: middle;\n",
       "    }\n",
       "\n",
       "    .dataframe tbody tr th {\n",
       "        vertical-align: top;\n",
       "    }\n",
       "\n",
       "    .dataframe thead th {\n",
       "        text-align: right;\n",
       "    }\n",
       "</style>\n",
       "<table border=\"1\" class=\"dataframe\">\n",
       "  <thead>\n",
       "    <tr style=\"text-align: right;\">\n",
       "      <th></th>\n",
       "      <th>PassengerId</th>\n",
       "      <th>Pclass</th>\n",
       "      <th>Sex</th>\n",
       "      <th>Age</th>\n",
       "      <th>SibSp</th>\n",
       "      <th>Parch</th>\n",
       "      <th>Fare</th>\n",
       "      <th>Embarked</th>\n",
       "      <th>Title</th>\n",
       "      <th>Cabin_Encoded</th>\n",
       "    </tr>\n",
       "  </thead>\n",
       "  <tbody>\n",
       "    <tr>\n",
       "      <th>0</th>\n",
       "      <td>892</td>\n",
       "      <td>3</td>\n",
       "      <td>0</td>\n",
       "      <td>34.5</td>\n",
       "      <td>0</td>\n",
       "      <td>0</td>\n",
       "      <td>7.8292</td>\n",
       "      <td>2</td>\n",
       "      <td>Mr</td>\n",
       "      <td>0</td>\n",
       "    </tr>\n",
       "    <tr>\n",
       "      <th>1</th>\n",
       "      <td>893</td>\n",
       "      <td>3</td>\n",
       "      <td>1</td>\n",
       "      <td>47.0</td>\n",
       "      <td>1</td>\n",
       "      <td>0</td>\n",
       "      <td>7.0000</td>\n",
       "      <td>0</td>\n",
       "      <td>Mrs</td>\n",
       "      <td>0</td>\n",
       "    </tr>\n",
       "    <tr>\n",
       "      <th>2</th>\n",
       "      <td>894</td>\n",
       "      <td>2</td>\n",
       "      <td>0</td>\n",
       "      <td>62.0</td>\n",
       "      <td>0</td>\n",
       "      <td>0</td>\n",
       "      <td>9.6875</td>\n",
       "      <td>2</td>\n",
       "      <td>Mr</td>\n",
       "      <td>0</td>\n",
       "    </tr>\n",
       "    <tr>\n",
       "      <th>3</th>\n",
       "      <td>895</td>\n",
       "      <td>3</td>\n",
       "      <td>0</td>\n",
       "      <td>27.0</td>\n",
       "      <td>0</td>\n",
       "      <td>0</td>\n",
       "      <td>8.6625</td>\n",
       "      <td>0</td>\n",
       "      <td>Mr</td>\n",
       "      <td>0</td>\n",
       "    </tr>\n",
       "    <tr>\n",
       "      <th>4</th>\n",
       "      <td>896</td>\n",
       "      <td>3</td>\n",
       "      <td>1</td>\n",
       "      <td>22.0</td>\n",
       "      <td>1</td>\n",
       "      <td>1</td>\n",
       "      <td>12.2875</td>\n",
       "      <td>0</td>\n",
       "      <td>Mrs</td>\n",
       "      <td>0</td>\n",
       "    </tr>\n",
       "  </tbody>\n",
       "</table>\n",
       "</div>"
      ],
      "text/plain": [
       "   PassengerId  Pclass  Sex   Age  SibSp  Parch     Fare  Embarked Title  \\\n",
       "0          892       3    0  34.5      0      0   7.8292         2    Mr   \n",
       "1          893       3    1  47.0      1      0   7.0000         0   Mrs   \n",
       "2          894       2    0  62.0      0      0   9.6875         2    Mr   \n",
       "3          895       3    0  27.0      0      0   8.6625         0    Mr   \n",
       "4          896       3    1  22.0      1      1  12.2875         0   Mrs   \n",
       "\n",
       "   Cabin_Encoded  \n",
       "0              0  \n",
       "1              0  \n",
       "2              0  \n",
       "3              0  \n",
       "4              0  "
      ]
     },
     "execution_count": 16,
     "metadata": {},
     "output_type": "execute_result"
    }
   ],
   "source": [
    "test_data.head()"
   ]
  }
 ],
 "metadata": {
  "kernelspec": {
   "display_name": "Python 3",
   "language": "python",
   "name": "python3"
  },
  "language_info": {
   "codemirror_mode": {
    "name": "ipython",
    "version": 3
   },
   "file_extension": ".py",
   "mimetype": "text/x-python",
   "name": "python",
   "nbconvert_exporter": "python",
   "pygments_lexer": "ipython3",
   "version": "3.10.12"
  },
  "papermill": {
   "default_parameters": {},
   "duration": 5.278735,
   "end_time": "2023-11-12T16:42:31.511544",
   "environment_variables": {},
   "exception": null,
   "input_path": "__notebook__.ipynb",
   "output_path": "__notebook__.ipynb",
   "parameters": {},
   "start_time": "2023-11-12T16:42:26.232809",
   "version": "2.4.0"
  }
 },
 "nbformat": 4,
 "nbformat_minor": 5
}

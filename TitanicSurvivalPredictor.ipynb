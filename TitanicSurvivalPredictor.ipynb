{
 "cells": [
  {
   "cell_type": "markdown",
   "id": "beac9004",
   "metadata": {
    "papermill": {
     "duration": 0.007913,
     "end_time": "2023-11-12T16:25:21.124631",
     "exception": false,
     "start_time": "2023-11-12T16:25:21.116718",
     "status": "completed"
    },
    "tags": []
   },
   "source": [
    "# Import Required Libraraies"
   ]
  },
  {
   "cell_type": "code",
   "execution_count": 1,
   "id": "4b811294",
   "metadata": {
    "execution": {
     "iopub.execute_input": "2023-11-12T16:25:21.142126Z",
     "iopub.status.busy": "2023-11-12T16:25:21.141288Z",
     "iopub.status.idle": "2023-11-12T16:25:22.042342Z",
     "shell.execute_reply": "2023-11-12T16:25:22.040982Z"
    },
    "papermill": {
     "duration": 0.913297,
     "end_time": "2023-11-12T16:25:22.045402",
     "exception": false,
     "start_time": "2023-11-12T16:25:21.132105",
     "status": "completed"
    },
    "tags": []
   },
   "outputs": [],
   "source": [
    "import re\n",
    "import numpy as np\n",
    "import pandas as pd"
   ]
  },
  {
   "cell_type": "markdown",
   "id": "104a64ce",
   "metadata": {
    "papermill": {
     "duration": 0.007249,
     "end_time": "2023-11-12T16:25:22.060194",
     "exception": false,
     "start_time": "2023-11-12T16:25:22.052945",
     "status": "completed"
    },
    "tags": []
   },
   "source": [
    "# Read Data"
   ]
  },
  {
   "cell_type": "code",
   "execution_count": 2,
   "id": "1e1944aa",
   "metadata": {
    "execution": {
     "iopub.execute_input": "2023-11-12T16:25:22.079958Z",
     "iopub.status.busy": "2023-11-12T16:25:22.079269Z",
     "iopub.status.idle": "2023-11-12T16:25:22.120053Z",
     "shell.execute_reply": "2023-11-12T16:25:22.118627Z"
    },
    "papermill": {
     "duration": 0.055282,
     "end_time": "2023-11-12T16:25:22.123263",
     "exception": false,
     "start_time": "2023-11-12T16:25:22.067981",
     "status": "completed"
    },
    "tags": []
   },
   "outputs": [],
   "source": [
    "train_data = pd.read_csv('/kaggle/input/titanic/train.csv')\n",
    "test_data = pd.read_csv('/kaggle/input/titanic/test.csv')\n",
    "gender_sub = pd.read_csv('/kaggle/input/titanic/gender_submission.csv')"
   ]
  },
  {
   "cell_type": "code",
   "execution_count": 3,
   "id": "861f3927",
   "metadata": {
    "execution": {
     "iopub.execute_input": "2023-11-12T16:25:22.141179Z",
     "iopub.status.busy": "2023-11-12T16:25:22.139867Z",
     "iopub.status.idle": "2023-11-12T16:25:22.173232Z",
     "shell.execute_reply": "2023-11-12T16:25:22.171813Z"
    },
    "papermill": {
     "duration": 0.044839,
     "end_time": "2023-11-12T16:25:22.175760",
     "exception": false,
     "start_time": "2023-11-12T16:25:22.130921",
     "status": "completed"
    },
    "tags": []
   },
   "outputs": [
    {
     "data": {
      "text/html": [
       "<div>\n",
       "<style scoped>\n",
       "    .dataframe tbody tr th:only-of-type {\n",
       "        vertical-align: middle;\n",
       "    }\n",
       "\n",
       "    .dataframe tbody tr th {\n",
       "        vertical-align: top;\n",
       "    }\n",
       "\n",
       "    .dataframe thead th {\n",
       "        text-align: right;\n",
       "    }\n",
       "</style>\n",
       "<table border=\"1\" class=\"dataframe\">\n",
       "  <thead>\n",
       "    <tr style=\"text-align: right;\">\n",
       "      <th></th>\n",
       "      <th>PassengerId</th>\n",
       "      <th>Pclass</th>\n",
       "      <th>Name</th>\n",
       "      <th>Sex</th>\n",
       "      <th>Age</th>\n",
       "      <th>SibSp</th>\n",
       "      <th>Parch</th>\n",
       "      <th>Ticket</th>\n",
       "      <th>Fare</th>\n",
       "      <th>Cabin</th>\n",
       "      <th>Embarked</th>\n",
       "    </tr>\n",
       "  </thead>\n",
       "  <tbody>\n",
       "    <tr>\n",
       "      <th>0</th>\n",
       "      <td>892</td>\n",
       "      <td>3</td>\n",
       "      <td>Kelly, Mr. James</td>\n",
       "      <td>male</td>\n",
       "      <td>34.5</td>\n",
       "      <td>0</td>\n",
       "      <td>0</td>\n",
       "      <td>330911</td>\n",
       "      <td>7.8292</td>\n",
       "      <td>NaN</td>\n",
       "      <td>Q</td>\n",
       "    </tr>\n",
       "    <tr>\n",
       "      <th>1</th>\n",
       "      <td>893</td>\n",
       "      <td>3</td>\n",
       "      <td>Wilkes, Mrs. James (Ellen Needs)</td>\n",
       "      <td>female</td>\n",
       "      <td>47.0</td>\n",
       "      <td>1</td>\n",
       "      <td>0</td>\n",
       "      <td>363272</td>\n",
       "      <td>7.0000</td>\n",
       "      <td>NaN</td>\n",
       "      <td>S</td>\n",
       "    </tr>\n",
       "    <tr>\n",
       "      <th>2</th>\n",
       "      <td>894</td>\n",
       "      <td>2</td>\n",
       "      <td>Myles, Mr. Thomas Francis</td>\n",
       "      <td>male</td>\n",
       "      <td>62.0</td>\n",
       "      <td>0</td>\n",
       "      <td>0</td>\n",
       "      <td>240276</td>\n",
       "      <td>9.6875</td>\n",
       "      <td>NaN</td>\n",
       "      <td>Q</td>\n",
       "    </tr>\n",
       "    <tr>\n",
       "      <th>3</th>\n",
       "      <td>895</td>\n",
       "      <td>3</td>\n",
       "      <td>Wirz, Mr. Albert</td>\n",
       "      <td>male</td>\n",
       "      <td>27.0</td>\n",
       "      <td>0</td>\n",
       "      <td>0</td>\n",
       "      <td>315154</td>\n",
       "      <td>8.6625</td>\n",
       "      <td>NaN</td>\n",
       "      <td>S</td>\n",
       "    </tr>\n",
       "    <tr>\n",
       "      <th>4</th>\n",
       "      <td>896</td>\n",
       "      <td>3</td>\n",
       "      <td>Hirvonen, Mrs. Alexander (Helga E Lindqvist)</td>\n",
       "      <td>female</td>\n",
       "      <td>22.0</td>\n",
       "      <td>1</td>\n",
       "      <td>1</td>\n",
       "      <td>3101298</td>\n",
       "      <td>12.2875</td>\n",
       "      <td>NaN</td>\n",
       "      <td>S</td>\n",
       "    </tr>\n",
       "  </tbody>\n",
       "</table>\n",
       "</div>"
      ],
      "text/plain": [
       "   PassengerId  Pclass                                          Name     Sex  \\\n",
       "0          892       3                              Kelly, Mr. James    male   \n",
       "1          893       3              Wilkes, Mrs. James (Ellen Needs)  female   \n",
       "2          894       2                     Myles, Mr. Thomas Francis    male   \n",
       "3          895       3                              Wirz, Mr. Albert    male   \n",
       "4          896       3  Hirvonen, Mrs. Alexander (Helga E Lindqvist)  female   \n",
       "\n",
       "    Age  SibSp  Parch   Ticket     Fare Cabin Embarked  \n",
       "0  34.5      0      0   330911   7.8292   NaN        Q  \n",
       "1  47.0      1      0   363272   7.0000   NaN        S  \n",
       "2  62.0      0      0   240276   9.6875   NaN        Q  \n",
       "3  27.0      0      0   315154   8.6625   NaN        S  \n",
       "4  22.0      1      1  3101298  12.2875   NaN        S  "
      ]
     },
     "execution_count": 3,
     "metadata": {},
     "output_type": "execute_result"
    }
   ],
   "source": [
    "test_data.head()"
   ]
  },
  {
   "cell_type": "markdown",
   "id": "921ddab7",
   "metadata": {
    "papermill": {
     "duration": 0.007339,
     "end_time": "2023-11-12T16:25:22.190856",
     "exception": false,
     "start_time": "2023-11-12T16:25:22.183517",
     "status": "completed"
    },
    "tags": []
   },
   "source": [
    "# Data Purification"
   ]
  },
  {
   "cell_type": "markdown",
   "id": "1fe9b2cc",
   "metadata": {
    "papermill": {
     "duration": 0.008582,
     "end_time": "2023-11-12T16:25:22.207622",
     "exception": false,
     "start_time": "2023-11-12T16:25:22.199040",
     "status": "completed"
    },
    "tags": []
   },
   "source": [
    "## Name\n",
    "### Extract titles from names"
   ]
  },
  {
   "cell_type": "code",
   "execution_count": 4,
   "id": "5a769460",
   "metadata": {
    "execution": {
     "iopub.execute_input": "2023-11-12T16:25:22.225609Z",
     "iopub.status.busy": "2023-11-12T16:25:22.224619Z",
     "iopub.status.idle": "2023-11-12T16:25:22.245104Z",
     "shell.execute_reply": "2023-11-12T16:25:22.243947Z"
    },
    "papermill": {
     "duration": 0.032337,
     "end_time": "2023-11-12T16:25:22.247759",
     "exception": false,
     "start_time": "2023-11-12T16:25:22.215422",
     "status": "completed"
    },
    "tags": []
   },
   "outputs": [
    {
     "name": "stdout",
     "output_type": "stream",
     "text": [
      "All unique titles in names (Train): ['Mr' 'Mrs' 'Miss' 'Master' 'Don' 'Rev' 'Dr' 'Mme' 'Ms' 'Major' 'Lady'\n",
      " 'Sir' 'Mlle' 'Col' 'Capt' 'Countess' 'Jonkheer']\n",
      "All unique titles in names (Test): ['Mr' 'Mrs' 'Miss' 'Master' 'Ms' 'Col' 'Rev' 'Dr' 'Dona']\n"
     ]
    }
   ],
   "source": [
    "train_data['Title'] = train_data['Name'].apply(lambda x: re.search(' ([A-Za-z]+)\\.', x).group(1))\n",
    "test_data['Title'] = test_data['Name'].apply(lambda x: re.search(' ([A-Za-z]+)\\.', x).group(1))\n",
    "\n",
    "# Display the unique titles\n",
    "print(f'All unique titles in names (Train): {train_data[\"Title\"].unique()}')\n",
    "print(f'All unique titles in names (Test): {test_data[\"Title\"].unique()}')"
   ]
  },
  {
   "cell_type": "code",
   "execution_count": 5,
   "id": "063c73c8",
   "metadata": {
    "execution": {
     "iopub.execute_input": "2023-11-12T16:25:22.265636Z",
     "iopub.status.busy": "2023-11-12T16:25:22.265164Z",
     "iopub.status.idle": "2023-11-12T16:25:22.282713Z",
     "shell.execute_reply": "2023-11-12T16:25:22.281483Z"
    },
    "papermill": {
     "duration": 0.029784,
     "end_time": "2023-11-12T16:25:22.285440",
     "exception": false,
     "start_time": "2023-11-12T16:25:22.255656",
     "status": "completed"
    },
    "tags": []
   },
   "outputs": [],
   "source": [
    "# Train Data\n",
    "train_data['Title'] = train_data['Title'].replace(['Lady', 'Countess', 'Capt', 'Col', 'Don', 'Dr','Major', 'Rev', 'Sir', 'Jonkheer', 'Dona'], 'Other')\n",
    "train_data['Title'] = train_data['Title'].replace(['Mlle', 'Ms'], 'Miss')\n",
    "train_data['Title'] = train_data['Title'].replace('Mme', 'Mrs')\n",
    "\n",
    "# Test Data\n",
    "test_data['Title'] = test_data['Title'].replace(['Lady', 'Countess', 'Capt', 'Col', 'Don', 'Dr','Major', 'Rev', 'Sir', 'Jonkheer', 'Dona'], 'Other')\n",
    "test_data['Title'] = test_data['Title'].replace(['Mlle', 'Ms'], 'Miss')\n",
    "test_data['Title'] = test_data['Title'].replace('Mme', 'Mrs')"
   ]
  },
  {
   "cell_type": "code",
   "execution_count": 6,
   "id": "92234b65",
   "metadata": {
    "execution": {
     "iopub.execute_input": "2023-11-12T16:25:22.304314Z",
     "iopub.status.busy": "2023-11-12T16:25:22.303805Z",
     "iopub.status.idle": "2023-11-12T16:25:22.311944Z",
     "shell.execute_reply": "2023-11-12T16:25:22.310261Z"
    },
    "papermill": {
     "duration": 0.021259,
     "end_time": "2023-11-12T16:25:22.314530",
     "exception": false,
     "start_time": "2023-11-12T16:25:22.293271",
     "status": "completed"
    },
    "tags": []
   },
   "outputs": [
    {
     "name": "stdout",
     "output_type": "stream",
     "text": [
      "Train Titles: ['Mr' 'Mrs' 'Miss' 'Master' 'Other']\n",
      "Test Titles: ['Mr' 'Mrs' 'Miss' 'Master' 'Other']\n"
     ]
    }
   ],
   "source": [
    "print(f'Train Titles: {train_data[\"Title\"].unique()}')\n",
    "print(f'Test Titles: {test_data[\"Title\"].unique()}')"
   ]
  },
  {
   "cell_type": "markdown",
   "id": "c33ef120",
   "metadata": {
    "papermill": {
     "duration": 0.008005,
     "end_time": "2023-11-12T16:25:22.330418",
     "exception": false,
     "start_time": "2023-11-12T16:25:22.322413",
     "status": "completed"
    },
    "tags": []
   },
   "source": [
    "### Drop Names"
   ]
  },
  {
   "cell_type": "code",
   "execution_count": 7,
   "id": "232b1903",
   "metadata": {
    "execution": {
     "iopub.execute_input": "2023-11-12T16:25:22.348616Z",
     "iopub.status.busy": "2023-11-12T16:25:22.348138Z",
     "iopub.status.idle": "2023-11-12T16:25:22.362433Z",
     "shell.execute_reply": "2023-11-12T16:25:22.361444Z"
    },
    "papermill": {
     "duration": 0.026658,
     "end_time": "2023-11-12T16:25:22.364947",
     "exception": false,
     "start_time": "2023-11-12T16:25:22.338289",
     "status": "completed"
    },
    "tags": []
   },
   "outputs": [],
   "source": [
    "train_data = train_data.drop('Name', axis=1)\n",
    "test_data = test_data.drop('Name', axis=1)"
   ]
  },
  {
   "cell_type": "markdown",
   "id": "9ac5e00a",
   "metadata": {
    "papermill": {
     "duration": 0.007805,
     "end_time": "2023-11-12T16:25:22.380918",
     "exception": false,
     "start_time": "2023-11-12T16:25:22.373113",
     "status": "completed"
    },
    "tags": []
   },
   "source": [
    "## Ticket\n",
    "### Drop ticket columns"
   ]
  },
  {
   "cell_type": "code",
   "execution_count": 8,
   "id": "2da97efd",
   "metadata": {
    "execution": {
     "iopub.execute_input": "2023-11-12T16:25:22.399563Z",
     "iopub.status.busy": "2023-11-12T16:25:22.399109Z",
     "iopub.status.idle": "2023-11-12T16:25:22.407030Z",
     "shell.execute_reply": "2023-11-12T16:25:22.405750Z"
    },
    "papermill": {
     "duration": 0.020371,
     "end_time": "2023-11-12T16:25:22.409547",
     "exception": false,
     "start_time": "2023-11-12T16:25:22.389176",
     "status": "completed"
    },
    "tags": []
   },
   "outputs": [],
   "source": [
    "# Drop Ticket Column\n",
    "train_data = train_data.drop('Ticket', axis=1)\n",
    "test_data = test_data.drop('Ticket', axis=1)"
   ]
  },
  {
   "cell_type": "markdown",
   "id": "88a408fa",
   "metadata": {
    "papermill": {
     "duration": 0.00787,
     "end_time": "2023-11-12T16:25:22.425663",
     "exception": false,
     "start_time": "2023-11-12T16:25:22.417793",
     "status": "completed"
    },
    "tags": []
   },
   "source": [
    "## Sex\n",
    "### Convert sexes to 0s and 1s"
   ]
  },
  {
   "cell_type": "code",
   "execution_count": 9,
   "id": "ebeb03c6",
   "metadata": {
    "execution": {
     "iopub.execute_input": "2023-11-12T16:25:22.444396Z",
     "iopub.status.busy": "2023-11-12T16:25:22.443942Z",
     "iopub.status.idle": "2023-11-12T16:25:22.454413Z",
     "shell.execute_reply": "2023-11-12T16:25:22.452993Z"
    },
    "papermill": {
     "duration": 0.02375,
     "end_time": "2023-11-12T16:25:22.457537",
     "exception": false,
     "start_time": "2023-11-12T16:25:22.433787",
     "status": "completed"
    },
    "tags": []
   },
   "outputs": [
    {
     "name": "stdout",
     "output_type": "stream",
     "text": [
      "Number of distinct values for sex: {0, 1}\n"
     ]
    }
   ],
   "source": [
    "# Encode Sex\n",
    "train_data['Sex'] = train_data['Sex'].replace({'male': 0, 'female': 1})\n",
    "test_data['Sex'] = test_data['Sex'].replace({'male': 0, 'female': 1})\n",
    "print(f'Number of distinct values for sex: {set(test_data[\"Sex\"])}')"
   ]
  },
  {
   "cell_type": "markdown",
   "id": "f1612a84",
   "metadata": {
    "papermill": {
     "duration": 0.008024,
     "end_time": "2023-11-12T16:25:22.473859",
     "exception": false,
     "start_time": "2023-11-12T16:25:22.465835",
     "status": "completed"
    },
    "tags": []
   },
   "source": [
    "## Cabin\n",
    "### Extract letters from Cabins"
   ]
  },
  {
   "cell_type": "code",
   "execution_count": 10,
   "id": "16b3888b",
   "metadata": {
    "execution": {
     "iopub.execute_input": "2023-11-12T16:25:22.492448Z",
     "iopub.status.busy": "2023-11-12T16:25:22.492015Z",
     "iopub.status.idle": "2023-11-12T16:25:22.506187Z",
     "shell.execute_reply": "2023-11-12T16:25:22.504878Z"
    },
    "papermill": {
     "duration": 0.026766,
     "end_time": "2023-11-12T16:25:22.508781",
     "exception": false,
     "start_time": "2023-11-12T16:25:22.482015",
     "status": "completed"
    },
    "tags": []
   },
   "outputs": [
    {
     "name": "stdout",
     "output_type": "stream",
     "text": [
      "['X' 'C' 'E' 'G' 'D' 'A' 'B' 'F' 'T']\n",
      "['X' 'B' 'E' 'A' 'C' 'D' 'F' 'G']\n"
     ]
    }
   ],
   "source": [
    "train_data['Cabin'] = train_data['Cabin'].fillna(\"X\")\n",
    "print(train_data['Cabin'].str[0].unique())\n",
    "\n",
    "test_data['Cabin'] = test_data['Cabin'].fillna(\"X\")\n",
    "print(test_data['Cabin'].str[0].unique())"
   ]
  },
  {
   "cell_type": "markdown",
   "id": "f4a6a980",
   "metadata": {
    "papermill": {
     "duration": 0.008205,
     "end_time": "2023-11-12T16:25:22.526819",
     "exception": false,
     "start_time": "2023-11-12T16:25:22.518614",
     "status": "completed"
    },
    "tags": []
   },
   "source": [
    "### Encode letters"
   ]
  },
  {
   "cell_type": "code",
   "execution_count": 11,
   "id": "3efa5794",
   "metadata": {
    "execution": {
     "iopub.execute_input": "2023-11-12T16:25:22.545635Z",
     "iopub.status.busy": "2023-11-12T16:25:22.545211Z",
     "iopub.status.idle": "2023-11-12T16:25:22.556256Z",
     "shell.execute_reply": "2023-11-12T16:25:22.554853Z"
    },
    "papermill": {
     "duration": 0.023293,
     "end_time": "2023-11-12T16:25:22.558661",
     "exception": false,
     "start_time": "2023-11-12T16:25:22.535368",
     "status": "completed"
    },
    "tags": []
   },
   "outputs": [],
   "source": [
    "letter_to_number = {'X': 0, 'A': 1, 'B': 2, 'C': 3, 'D': 4, 'E': 5, 'F': 6, 'G': 7, 'T': 8}\n",
    "\n",
    "train_data['Cabin_Encoded'] = train_data['Cabin'].apply(lambda x: letter_to_number[x[0]])\n",
    "test_data['Cabin_Encoded'] = test_data['Cabin'].apply(lambda x: letter_to_number[x[0]])"
   ]
  },
  {
   "cell_type": "markdown",
   "id": "30ef74b0",
   "metadata": {
    "papermill": {
     "duration": 0.008019,
     "end_time": "2023-11-12T16:25:22.575143",
     "exception": false,
     "start_time": "2023-11-12T16:25:22.567124",
     "status": "completed"
    },
    "tags": []
   },
   "source": [
    "### Drop Cabin Ticket"
   ]
  },
  {
   "cell_type": "code",
   "execution_count": 12,
   "id": "c3ad2a3f",
   "metadata": {
    "execution": {
     "iopub.execute_input": "2023-11-12T16:25:22.593686Z",
     "iopub.status.busy": "2023-11-12T16:25:22.593284Z",
     "iopub.status.idle": "2023-11-12T16:25:22.601954Z",
     "shell.execute_reply": "2023-11-12T16:25:22.600530Z"
    },
    "papermill": {
     "duration": 0.021095,
     "end_time": "2023-11-12T16:25:22.604456",
     "exception": false,
     "start_time": "2023-11-12T16:25:22.583361",
     "status": "completed"
    },
    "tags": []
   },
   "outputs": [],
   "source": [
    "train_data = train_data.drop('Cabin', axis=1)\n",
    "test_data = test_data.drop('Cabin', axis=1)"
   ]
  },
  {
   "cell_type": "code",
   "execution_count": 13,
   "id": "5d747652",
   "metadata": {
    "execution": {
     "iopub.execute_input": "2023-11-12T16:25:22.623594Z",
     "iopub.status.busy": "2023-11-12T16:25:22.622695Z",
     "iopub.status.idle": "2023-11-12T16:25:22.641730Z",
     "shell.execute_reply": "2023-11-12T16:25:22.640413Z"
    },
    "papermill": {
     "duration": 0.031493,
     "end_time": "2023-11-12T16:25:22.644346",
     "exception": false,
     "start_time": "2023-11-12T16:25:22.612853",
     "status": "completed"
    },
    "tags": []
   },
   "outputs": [
    {
     "data": {
      "text/html": [
       "<div>\n",
       "<style scoped>\n",
       "    .dataframe tbody tr th:only-of-type {\n",
       "        vertical-align: middle;\n",
       "    }\n",
       "\n",
       "    .dataframe tbody tr th {\n",
       "        vertical-align: top;\n",
       "    }\n",
       "\n",
       "    .dataframe thead th {\n",
       "        text-align: right;\n",
       "    }\n",
       "</style>\n",
       "<table border=\"1\" class=\"dataframe\">\n",
       "  <thead>\n",
       "    <tr style=\"text-align: right;\">\n",
       "      <th></th>\n",
       "      <th>PassengerId</th>\n",
       "      <th>Survived</th>\n",
       "      <th>Pclass</th>\n",
       "      <th>Sex</th>\n",
       "      <th>Age</th>\n",
       "      <th>SibSp</th>\n",
       "      <th>Parch</th>\n",
       "      <th>Fare</th>\n",
       "      <th>Embarked</th>\n",
       "      <th>Title</th>\n",
       "      <th>Cabin_Encoded</th>\n",
       "    </tr>\n",
       "  </thead>\n",
       "  <tbody>\n",
       "    <tr>\n",
       "      <th>0</th>\n",
       "      <td>1</td>\n",
       "      <td>0</td>\n",
       "      <td>3</td>\n",
       "      <td>0</td>\n",
       "      <td>22.0</td>\n",
       "      <td>1</td>\n",
       "      <td>0</td>\n",
       "      <td>7.2500</td>\n",
       "      <td>S</td>\n",
       "      <td>Mr</td>\n",
       "      <td>0</td>\n",
       "    </tr>\n",
       "    <tr>\n",
       "      <th>1</th>\n",
       "      <td>2</td>\n",
       "      <td>1</td>\n",
       "      <td>1</td>\n",
       "      <td>1</td>\n",
       "      <td>38.0</td>\n",
       "      <td>1</td>\n",
       "      <td>0</td>\n",
       "      <td>71.2833</td>\n",
       "      <td>C</td>\n",
       "      <td>Mrs</td>\n",
       "      <td>3</td>\n",
       "    </tr>\n",
       "    <tr>\n",
       "      <th>2</th>\n",
       "      <td>3</td>\n",
       "      <td>1</td>\n",
       "      <td>3</td>\n",
       "      <td>1</td>\n",
       "      <td>26.0</td>\n",
       "      <td>0</td>\n",
       "      <td>0</td>\n",
       "      <td>7.9250</td>\n",
       "      <td>S</td>\n",
       "      <td>Miss</td>\n",
       "      <td>0</td>\n",
       "    </tr>\n",
       "    <tr>\n",
       "      <th>3</th>\n",
       "      <td>4</td>\n",
       "      <td>1</td>\n",
       "      <td>1</td>\n",
       "      <td>1</td>\n",
       "      <td>35.0</td>\n",
       "      <td>1</td>\n",
       "      <td>0</td>\n",
       "      <td>53.1000</td>\n",
       "      <td>S</td>\n",
       "      <td>Mrs</td>\n",
       "      <td>3</td>\n",
       "    </tr>\n",
       "    <tr>\n",
       "      <th>4</th>\n",
       "      <td>5</td>\n",
       "      <td>0</td>\n",
       "      <td>3</td>\n",
       "      <td>0</td>\n",
       "      <td>35.0</td>\n",
       "      <td>0</td>\n",
       "      <td>0</td>\n",
       "      <td>8.0500</td>\n",
       "      <td>S</td>\n",
       "      <td>Mr</td>\n",
       "      <td>0</td>\n",
       "    </tr>\n",
       "  </tbody>\n",
       "</table>\n",
       "</div>"
      ],
      "text/plain": [
       "   PassengerId  Survived  Pclass  Sex   Age  SibSp  Parch     Fare Embarked  \\\n",
       "0            1         0       3    0  22.0      1      0   7.2500        S   \n",
       "1            2         1       1    1  38.0      1      0  71.2833        C   \n",
       "2            3         1       3    1  26.0      0      0   7.9250        S   \n",
       "3            4         1       1    1  35.0      1      0  53.1000        S   \n",
       "4            5         0       3    0  35.0      0      0   8.0500        S   \n",
       "\n",
       "  Title  Cabin_Encoded  \n",
       "0    Mr              0  \n",
       "1   Mrs              3  \n",
       "2  Miss              0  \n",
       "3   Mrs              3  \n",
       "4    Mr              0  "
      ]
     },
     "execution_count": 13,
     "metadata": {},
     "output_type": "execute_result"
    }
   ],
   "source": [
    "train_data.head()"
   ]
  },
  {
   "cell_type": "code",
   "execution_count": 14,
   "id": "87f8b73d",
   "metadata": {
    "execution": {
     "iopub.execute_input": "2023-11-12T16:25:22.664065Z",
     "iopub.status.busy": "2023-11-12T16:25:22.663165Z",
     "iopub.status.idle": "2023-11-12T16:25:22.680214Z",
     "shell.execute_reply": "2023-11-12T16:25:22.678925Z"
    },
    "papermill": {
     "duration": 0.029502,
     "end_time": "2023-11-12T16:25:22.682674",
     "exception": false,
     "start_time": "2023-11-12T16:25:22.653172",
     "status": "completed"
    },
    "tags": []
   },
   "outputs": [
    {
     "data": {
      "text/html": [
       "<div>\n",
       "<style scoped>\n",
       "    .dataframe tbody tr th:only-of-type {\n",
       "        vertical-align: middle;\n",
       "    }\n",
       "\n",
       "    .dataframe tbody tr th {\n",
       "        vertical-align: top;\n",
       "    }\n",
       "\n",
       "    .dataframe thead th {\n",
       "        text-align: right;\n",
       "    }\n",
       "</style>\n",
       "<table border=\"1\" class=\"dataframe\">\n",
       "  <thead>\n",
       "    <tr style=\"text-align: right;\">\n",
       "      <th></th>\n",
       "      <th>PassengerId</th>\n",
       "      <th>Pclass</th>\n",
       "      <th>Sex</th>\n",
       "      <th>Age</th>\n",
       "      <th>SibSp</th>\n",
       "      <th>Parch</th>\n",
       "      <th>Fare</th>\n",
       "      <th>Embarked</th>\n",
       "      <th>Title</th>\n",
       "      <th>Cabin_Encoded</th>\n",
       "    </tr>\n",
       "  </thead>\n",
       "  <tbody>\n",
       "    <tr>\n",
       "      <th>0</th>\n",
       "      <td>892</td>\n",
       "      <td>3</td>\n",
       "      <td>0</td>\n",
       "      <td>34.5</td>\n",
       "      <td>0</td>\n",
       "      <td>0</td>\n",
       "      <td>7.8292</td>\n",
       "      <td>Q</td>\n",
       "      <td>Mr</td>\n",
       "      <td>0</td>\n",
       "    </tr>\n",
       "    <tr>\n",
       "      <th>1</th>\n",
       "      <td>893</td>\n",
       "      <td>3</td>\n",
       "      <td>1</td>\n",
       "      <td>47.0</td>\n",
       "      <td>1</td>\n",
       "      <td>0</td>\n",
       "      <td>7.0000</td>\n",
       "      <td>S</td>\n",
       "      <td>Mrs</td>\n",
       "      <td>0</td>\n",
       "    </tr>\n",
       "    <tr>\n",
       "      <th>2</th>\n",
       "      <td>894</td>\n",
       "      <td>2</td>\n",
       "      <td>0</td>\n",
       "      <td>62.0</td>\n",
       "      <td>0</td>\n",
       "      <td>0</td>\n",
       "      <td>9.6875</td>\n",
       "      <td>Q</td>\n",
       "      <td>Mr</td>\n",
       "      <td>0</td>\n",
       "    </tr>\n",
       "    <tr>\n",
       "      <th>3</th>\n",
       "      <td>895</td>\n",
       "      <td>3</td>\n",
       "      <td>0</td>\n",
       "      <td>27.0</td>\n",
       "      <td>0</td>\n",
       "      <td>0</td>\n",
       "      <td>8.6625</td>\n",
       "      <td>S</td>\n",
       "      <td>Mr</td>\n",
       "      <td>0</td>\n",
       "    </tr>\n",
       "    <tr>\n",
       "      <th>4</th>\n",
       "      <td>896</td>\n",
       "      <td>3</td>\n",
       "      <td>1</td>\n",
       "      <td>22.0</td>\n",
       "      <td>1</td>\n",
       "      <td>1</td>\n",
       "      <td>12.2875</td>\n",
       "      <td>S</td>\n",
       "      <td>Mrs</td>\n",
       "      <td>0</td>\n",
       "    </tr>\n",
       "  </tbody>\n",
       "</table>\n",
       "</div>"
      ],
      "text/plain": [
       "   PassengerId  Pclass  Sex   Age  SibSp  Parch     Fare Embarked Title  \\\n",
       "0          892       3    0  34.5      0      0   7.8292        Q    Mr   \n",
       "1          893       3    1  47.0      1      0   7.0000        S   Mrs   \n",
       "2          894       2    0  62.0      0      0   9.6875        Q    Mr   \n",
       "3          895       3    0  27.0      0      0   8.6625        S    Mr   \n",
       "4          896       3    1  22.0      1      1  12.2875        S   Mrs   \n",
       "\n",
       "   Cabin_Encoded  \n",
       "0              0  \n",
       "1              0  \n",
       "2              0  \n",
       "3              0  \n",
       "4              0  "
      ]
     },
     "execution_count": 14,
     "metadata": {},
     "output_type": "execute_result"
    }
   ],
   "source": [
    "test_data.head()"
   ]
  }
 ],
 "metadata": {
  "kernelspec": {
   "display_name": "Python 3",
   "language": "python",
   "name": "python3"
  },
  "language_info": {
   "codemirror_mode": {
    "name": "ipython",
    "version": 3
   },
   "file_extension": ".py",
   "mimetype": "text/x-python",
   "name": "python",
   "nbconvert_exporter": "python",
   "pygments_lexer": "ipython3",
   "version": "3.10.12"
  },
  "papermill": {
   "default_parameters": {},
   "duration": 7.167172,
   "end_time": "2023-11-12T16:25:23.414956",
   "environment_variables": {},
   "exception": null,
   "input_path": "__notebook__.ipynb",
   "output_path": "__notebook__.ipynb",
   "parameters": {},
   "start_time": "2023-11-12T16:25:16.247784",
   "version": "2.4.0"
  }
 },
 "nbformat": 4,
 "nbformat_minor": 5
}

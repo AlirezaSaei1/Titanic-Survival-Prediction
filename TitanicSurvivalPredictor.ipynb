{
 "cells": [
  {
   "cell_type": "markdown",
   "id": "eb3c2b4a",
   "metadata": {
    "papermill": {
     "duration": 0.006902,
     "end_time": "2023-11-12T17:36:04.402563",
     "exception": false,
     "start_time": "2023-11-12T17:36:04.395661",
     "status": "completed"
    },
    "tags": []
   },
   "source": [
    "# Import Required Libraraies"
   ]
  },
  {
   "cell_type": "code",
   "execution_count": 1,
   "id": "e78ee092",
   "metadata": {
    "execution": {
     "iopub.execute_input": "2023-11-12T17:36:04.418283Z",
     "iopub.status.busy": "2023-11-12T17:36:04.417703Z",
     "iopub.status.idle": "2023-11-12T17:36:04.704285Z",
     "shell.execute_reply": "2023-11-12T17:36:04.703242Z"
    },
    "papermill": {
     "duration": 0.297397,
     "end_time": "2023-11-12T17:36:04.707079",
     "exception": false,
     "start_time": "2023-11-12T17:36:04.409682",
     "status": "completed"
    },
    "tags": []
   },
   "outputs": [],
   "source": [
    "import re\n",
    "import numpy as np\n",
    "import pandas as pd"
   ]
  },
  {
   "cell_type": "markdown",
   "id": "8ca4e2f7",
   "metadata": {
    "papermill": {
     "duration": 0.006081,
     "end_time": "2023-11-12T17:36:04.720007",
     "exception": false,
     "start_time": "2023-11-12T17:36:04.713926",
     "status": "completed"
    },
    "tags": []
   },
   "source": [
    "# Read Data"
   ]
  },
  {
   "cell_type": "code",
   "execution_count": 2,
   "id": "e322f097",
   "metadata": {
    "execution": {
     "iopub.execute_input": "2023-11-12T17:36:04.734234Z",
     "iopub.status.busy": "2023-11-12T17:36:04.733765Z",
     "iopub.status.idle": "2023-11-12T17:36:04.768240Z",
     "shell.execute_reply": "2023-11-12T17:36:04.767371Z"
    },
    "papermill": {
     "duration": 0.044619,
     "end_time": "2023-11-12T17:36:04.770822",
     "exception": false,
     "start_time": "2023-11-12T17:36:04.726203",
     "status": "completed"
    },
    "tags": []
   },
   "outputs": [],
   "source": [
    "train_data = pd.read_csv('/kaggle/input/titanic/train.csv')\n",
    "test_data = pd.read_csv('/kaggle/input/titanic/test.csv')\n",
    "gender_sub = pd.read_csv('/kaggle/input/titanic/gender_submission.csv')"
   ]
  },
  {
   "cell_type": "code",
   "execution_count": 3,
   "id": "c8791e27",
   "metadata": {
    "execution": {
     "iopub.execute_input": "2023-11-12T17:36:04.786721Z",
     "iopub.status.busy": "2023-11-12T17:36:04.786091Z",
     "iopub.status.idle": "2023-11-12T17:36:04.810419Z",
     "shell.execute_reply": "2023-11-12T17:36:04.809331Z"
    },
    "papermill": {
     "duration": 0.034559,
     "end_time": "2023-11-12T17:36:04.812498",
     "exception": false,
     "start_time": "2023-11-12T17:36:04.777939",
     "status": "completed"
    },
    "tags": []
   },
   "outputs": [
    {
     "data": {
      "text/html": [
       "<div>\n",
       "<style scoped>\n",
       "    .dataframe tbody tr th:only-of-type {\n",
       "        vertical-align: middle;\n",
       "    }\n",
       "\n",
       "    .dataframe tbody tr th {\n",
       "        vertical-align: top;\n",
       "    }\n",
       "\n",
       "    .dataframe thead th {\n",
       "        text-align: right;\n",
       "    }\n",
       "</style>\n",
       "<table border=\"1\" class=\"dataframe\">\n",
       "  <thead>\n",
       "    <tr style=\"text-align: right;\">\n",
       "      <th></th>\n",
       "      <th>PassengerId</th>\n",
       "      <th>Pclass</th>\n",
       "      <th>Name</th>\n",
       "      <th>Sex</th>\n",
       "      <th>Age</th>\n",
       "      <th>SibSp</th>\n",
       "      <th>Parch</th>\n",
       "      <th>Ticket</th>\n",
       "      <th>Fare</th>\n",
       "      <th>Cabin</th>\n",
       "      <th>Embarked</th>\n",
       "    </tr>\n",
       "  </thead>\n",
       "  <tbody>\n",
       "    <tr>\n",
       "      <th>0</th>\n",
       "      <td>892</td>\n",
       "      <td>3</td>\n",
       "      <td>Kelly, Mr. James</td>\n",
       "      <td>male</td>\n",
       "      <td>34.5</td>\n",
       "      <td>0</td>\n",
       "      <td>0</td>\n",
       "      <td>330911</td>\n",
       "      <td>7.8292</td>\n",
       "      <td>NaN</td>\n",
       "      <td>Q</td>\n",
       "    </tr>\n",
       "    <tr>\n",
       "      <th>1</th>\n",
       "      <td>893</td>\n",
       "      <td>3</td>\n",
       "      <td>Wilkes, Mrs. James (Ellen Needs)</td>\n",
       "      <td>female</td>\n",
       "      <td>47.0</td>\n",
       "      <td>1</td>\n",
       "      <td>0</td>\n",
       "      <td>363272</td>\n",
       "      <td>7.0000</td>\n",
       "      <td>NaN</td>\n",
       "      <td>S</td>\n",
       "    </tr>\n",
       "    <tr>\n",
       "      <th>2</th>\n",
       "      <td>894</td>\n",
       "      <td>2</td>\n",
       "      <td>Myles, Mr. Thomas Francis</td>\n",
       "      <td>male</td>\n",
       "      <td>62.0</td>\n",
       "      <td>0</td>\n",
       "      <td>0</td>\n",
       "      <td>240276</td>\n",
       "      <td>9.6875</td>\n",
       "      <td>NaN</td>\n",
       "      <td>Q</td>\n",
       "    </tr>\n",
       "    <tr>\n",
       "      <th>3</th>\n",
       "      <td>895</td>\n",
       "      <td>3</td>\n",
       "      <td>Wirz, Mr. Albert</td>\n",
       "      <td>male</td>\n",
       "      <td>27.0</td>\n",
       "      <td>0</td>\n",
       "      <td>0</td>\n",
       "      <td>315154</td>\n",
       "      <td>8.6625</td>\n",
       "      <td>NaN</td>\n",
       "      <td>S</td>\n",
       "    </tr>\n",
       "    <tr>\n",
       "      <th>4</th>\n",
       "      <td>896</td>\n",
       "      <td>3</td>\n",
       "      <td>Hirvonen, Mrs. Alexander (Helga E Lindqvist)</td>\n",
       "      <td>female</td>\n",
       "      <td>22.0</td>\n",
       "      <td>1</td>\n",
       "      <td>1</td>\n",
       "      <td>3101298</td>\n",
       "      <td>12.2875</td>\n",
       "      <td>NaN</td>\n",
       "      <td>S</td>\n",
       "    </tr>\n",
       "  </tbody>\n",
       "</table>\n",
       "</div>"
      ],
      "text/plain": [
       "   PassengerId  Pclass                                          Name     Sex  \\\n",
       "0          892       3                              Kelly, Mr. James    male   \n",
       "1          893       3              Wilkes, Mrs. James (Ellen Needs)  female   \n",
       "2          894       2                     Myles, Mr. Thomas Francis    male   \n",
       "3          895       3                              Wirz, Mr. Albert    male   \n",
       "4          896       3  Hirvonen, Mrs. Alexander (Helga E Lindqvist)  female   \n",
       "\n",
       "    Age  SibSp  Parch   Ticket     Fare Cabin Embarked  \n",
       "0  34.5      0      0   330911   7.8292   NaN        Q  \n",
       "1  47.0      1      0   363272   7.0000   NaN        S  \n",
       "2  62.0      0      0   240276   9.6875   NaN        Q  \n",
       "3  27.0      0      0   315154   8.6625   NaN        S  \n",
       "4  22.0      1      1  3101298  12.2875   NaN        S  "
      ]
     },
     "execution_count": 3,
     "metadata": {},
     "output_type": "execute_result"
    }
   ],
   "source": [
    "test_data.head()"
   ]
  },
  {
   "cell_type": "markdown",
   "id": "83855a2e",
   "metadata": {
    "papermill": {
     "duration": 0.005761,
     "end_time": "2023-11-12T17:36:04.824518",
     "exception": false,
     "start_time": "2023-11-12T17:36:04.818757",
     "status": "completed"
    },
    "tags": []
   },
   "source": [
    "# Data Purification and Feature Engineering"
   ]
  },
  {
   "cell_type": "markdown",
   "id": "8d1bd008",
   "metadata": {
    "papermill": {
     "duration": 0.00572,
     "end_time": "2023-11-12T17:36:04.836150",
     "exception": false,
     "start_time": "2023-11-12T17:36:04.830430",
     "status": "completed"
    },
    "tags": []
   },
   "source": [
    "## Name\n",
    "### Extract titles from names"
   ]
  },
  {
   "cell_type": "code",
   "execution_count": 4,
   "id": "1b206ce2",
   "metadata": {
    "execution": {
     "iopub.execute_input": "2023-11-12T17:36:04.849467Z",
     "iopub.status.busy": "2023-11-12T17:36:04.849137Z",
     "iopub.status.idle": "2023-11-12T17:36:04.865238Z",
     "shell.execute_reply": "2023-11-12T17:36:04.863683Z"
    },
    "papermill": {
     "duration": 0.026407,
     "end_time": "2023-11-12T17:36:04.868347",
     "exception": false,
     "start_time": "2023-11-12T17:36:04.841940",
     "status": "completed"
    },
    "tags": []
   },
   "outputs": [
    {
     "name": "stdout",
     "output_type": "stream",
     "text": [
      "All unique titles in names (Train): ['Mr' 'Mrs' 'Miss' 'Master' 'Don' 'Rev' 'Dr' 'Mme' 'Ms' 'Major' 'Lady'\n",
      " 'Sir' 'Mlle' 'Col' 'Capt' 'Countess' 'Jonkheer']\n",
      "All unique titles in names (Test): ['Mr' 'Mrs' 'Miss' 'Master' 'Ms' 'Col' 'Rev' 'Dr' 'Dona']\n"
     ]
    }
   ],
   "source": [
    "train_data['Title'] = train_data['Name'].apply(lambda x: re.search(' ([A-Za-z]+)\\.', x).group(1))\n",
    "test_data['Title'] = test_data['Name'].apply(lambda x: re.search(' ([A-Za-z]+)\\.', x).group(1))\n",
    "\n",
    "# Display the unique titles\n",
    "print(f'All unique titles in names (Train): {train_data[\"Title\"].unique()}')\n",
    "print(f'All unique titles in names (Test): {test_data[\"Title\"].unique()}')"
   ]
  },
  {
   "cell_type": "code",
   "execution_count": 5,
   "id": "ad52fec1",
   "metadata": {
    "execution": {
     "iopub.execute_input": "2023-11-12T17:36:04.884486Z",
     "iopub.status.busy": "2023-11-12T17:36:04.884002Z",
     "iopub.status.idle": "2023-11-12T17:36:04.898544Z",
     "shell.execute_reply": "2023-11-12T17:36:04.897587Z"
    },
    "papermill": {
     "duration": 0.024766,
     "end_time": "2023-11-12T17:36:04.900426",
     "exception": false,
     "start_time": "2023-11-12T17:36:04.875660",
     "status": "completed"
    },
    "tags": []
   },
   "outputs": [],
   "source": [
    "# Train Data\n",
    "train_data['Title'] = train_data['Title'].replace(['Lady', 'Countess', 'Capt', 'Col', 'Don', 'Dr','Major', 'Rev', 'Sir', 'Jonkheer', 'Dona'], 'Other')\n",
    "train_data['Title'] = train_data['Title'].replace(['Mlle', 'Ms'], 'Miss')\n",
    "train_data['Title'] = train_data['Title'].replace('Mme', 'Mrs')\n",
    "\n",
    "# Test Data\n",
    "test_data['Title'] = test_data['Title'].replace(['Lady', 'Countess', 'Capt', 'Col', 'Don', 'Dr','Major', 'Rev', 'Sir', 'Jonkheer', 'Dona'], 'Other')\n",
    "test_data['Title'] = test_data['Title'].replace(['Mlle', 'Ms'], 'Miss')\n",
    "test_data['Title'] = test_data['Title'].replace('Mme', 'Mrs')"
   ]
  },
  {
   "cell_type": "code",
   "execution_count": 6,
   "id": "afbd2b4f",
   "metadata": {
    "execution": {
     "iopub.execute_input": "2023-11-12T17:36:04.914563Z",
     "iopub.status.busy": "2023-11-12T17:36:04.914166Z",
     "iopub.status.idle": "2023-11-12T17:36:04.921515Z",
     "shell.execute_reply": "2023-11-12T17:36:04.919882Z"
    },
    "papermill": {
     "duration": 0.017669,
     "end_time": "2023-11-12T17:36:04.924573",
     "exception": false,
     "start_time": "2023-11-12T17:36:04.906904",
     "status": "completed"
    },
    "tags": []
   },
   "outputs": [
    {
     "name": "stdout",
     "output_type": "stream",
     "text": [
      "Train Titles: ['Mr' 'Mrs' 'Miss' 'Master' 'Other']\n",
      "Test Titles: ['Mr' 'Mrs' 'Miss' 'Master' 'Other']\n"
     ]
    }
   ],
   "source": [
    "print(f'Train Titles: {train_data[\"Title\"].unique()}')\n",
    "print(f'Test Titles: {test_data[\"Title\"].unique()}')"
   ]
  },
  {
   "cell_type": "markdown",
   "id": "fff647fc",
   "metadata": {
    "papermill": {
     "duration": 0.007148,
     "end_time": "2023-11-12T17:36:04.939915",
     "exception": false,
     "start_time": "2023-11-12T17:36:04.932767",
     "status": "completed"
    },
    "tags": []
   },
   "source": [
    "### Drop Names"
   ]
  },
  {
   "cell_type": "code",
   "execution_count": 7,
   "id": "ea79ea9c",
   "metadata": {
    "execution": {
     "iopub.execute_input": "2023-11-12T17:36:04.957339Z",
     "iopub.status.busy": "2023-11-12T17:36:04.956971Z",
     "iopub.status.idle": "2023-11-12T17:36:04.969355Z",
     "shell.execute_reply": "2023-11-12T17:36:04.968657Z"
    },
    "papermill": {
     "duration": 0.024736,
     "end_time": "2023-11-12T17:36:04.972083",
     "exception": false,
     "start_time": "2023-11-12T17:36:04.947347",
     "status": "completed"
    },
    "tags": []
   },
   "outputs": [],
   "source": [
    "train_data = train_data.drop('Name', axis=1)\n",
    "test_data = test_data.drop('Name', axis=1)"
   ]
  },
  {
   "cell_type": "markdown",
   "id": "837315f3",
   "metadata": {
    "papermill": {
     "duration": 0.007506,
     "end_time": "2023-11-12T17:36:04.986992",
     "exception": false,
     "start_time": "2023-11-12T17:36:04.979486",
     "status": "completed"
    },
    "tags": []
   },
   "source": [
    "### Encode Titles"
   ]
  },
  {
   "cell_type": "code",
   "execution_count": 8,
   "id": "916d72ff",
   "metadata": {
    "execution": {
     "iopub.execute_input": "2023-11-12T17:36:05.003493Z",
     "iopub.status.busy": "2023-11-12T17:36:05.002897Z",
     "iopub.status.idle": "2023-11-12T17:36:05.013713Z",
     "shell.execute_reply": "2023-11-12T17:36:05.012129Z"
    },
    "papermill": {
     "duration": 0.022111,
     "end_time": "2023-11-12T17:36:05.016554",
     "exception": false,
     "start_time": "2023-11-12T17:36:04.994443",
     "status": "completed"
    },
    "tags": []
   },
   "outputs": [],
   "source": [
    "title_to_number = {'Mr': 0, 'Mrs': 1, 'Miss': 2, 'Master': 3, 'Other': 4}\n",
    "\n",
    "train_data['Title'] = train_data['Title'].apply(lambda x: title_to_number[x])\n",
    "test_data['Title'] = test_data['Title'].apply(lambda x: title_to_number[x])"
   ]
  },
  {
   "cell_type": "markdown",
   "id": "00a7c4ef",
   "metadata": {
    "papermill": {
     "duration": 0.006081,
     "end_time": "2023-11-12T17:36:05.029425",
     "exception": false,
     "start_time": "2023-11-12T17:36:05.023344",
     "status": "completed"
    },
    "tags": []
   },
   "source": [
    "## Ticket\n",
    "### Drop ticket columns"
   ]
  },
  {
   "cell_type": "code",
   "execution_count": 9,
   "id": "3cd25a27",
   "metadata": {
    "execution": {
     "iopub.execute_input": "2023-11-12T17:36:05.043445Z",
     "iopub.status.busy": "2023-11-12T17:36:05.043094Z",
     "iopub.status.idle": "2023-11-12T17:36:05.050436Z",
     "shell.execute_reply": "2023-11-12T17:36:05.049385Z"
    },
    "papermill": {
     "duration": 0.016425,
     "end_time": "2023-11-12T17:36:05.052121",
     "exception": false,
     "start_time": "2023-11-12T17:36:05.035696",
     "status": "completed"
    },
    "tags": []
   },
   "outputs": [],
   "source": [
    "# Drop Ticket Column\n",
    "train_data = train_data.drop('Ticket', axis=1)\n",
    "test_data = test_data.drop('Ticket', axis=1)"
   ]
  },
  {
   "cell_type": "markdown",
   "id": "05778851",
   "metadata": {
    "papermill": {
     "duration": 0.006052,
     "end_time": "2023-11-12T17:36:05.064371",
     "exception": false,
     "start_time": "2023-11-12T17:36:05.058319",
     "status": "completed"
    },
    "tags": []
   },
   "source": [
    "## Sex\n",
    "### Convert sexes to 0s and 1s"
   ]
  },
  {
   "cell_type": "code",
   "execution_count": 10,
   "id": "d7182d43",
   "metadata": {
    "execution": {
     "iopub.execute_input": "2023-11-12T17:36:05.078023Z",
     "iopub.status.busy": "2023-11-12T17:36:05.077686Z",
     "iopub.status.idle": "2023-11-12T17:36:05.088549Z",
     "shell.execute_reply": "2023-11-12T17:36:05.086917Z"
    },
    "papermill": {
     "duration": 0.021538,
     "end_time": "2023-11-12T17:36:05.091876",
     "exception": false,
     "start_time": "2023-11-12T17:36:05.070338",
     "status": "completed"
    },
    "tags": []
   },
   "outputs": [
    {
     "name": "stdout",
     "output_type": "stream",
     "text": [
      "Number of distinct values for sex: {0, 1}\n"
     ]
    }
   ],
   "source": [
    "# Encode Sex\n",
    "train_data['Sex'] = train_data['Sex'].replace({'male': 0, 'female': 1})\n",
    "test_data['Sex'] = test_data['Sex'].replace({'male': 0, 'female': 1})\n",
    "print(f'Number of distinct values for sex: {set(test_data[\"Sex\"])}')"
   ]
  },
  {
   "cell_type": "markdown",
   "id": "aa0269cf",
   "metadata": {
    "papermill": {
     "duration": 0.007959,
     "end_time": "2023-11-12T17:36:05.107277",
     "exception": false,
     "start_time": "2023-11-12T17:36:05.099318",
     "status": "completed"
    },
    "tags": []
   },
   "source": [
    "## Cabin\n",
    "### Extract letters from Cabins"
   ]
  },
  {
   "cell_type": "code",
   "execution_count": 11,
   "id": "e7a4eb82",
   "metadata": {
    "execution": {
     "iopub.execute_input": "2023-11-12T17:36:05.124775Z",
     "iopub.status.busy": "2023-11-12T17:36:05.124361Z",
     "iopub.status.idle": "2023-11-12T17:36:05.134505Z",
     "shell.execute_reply": "2023-11-12T17:36:05.133297Z"
    },
    "papermill": {
     "duration": 0.021134,
     "end_time": "2023-11-12T17:36:05.136972",
     "exception": false,
     "start_time": "2023-11-12T17:36:05.115838",
     "status": "completed"
    },
    "tags": []
   },
   "outputs": [
    {
     "name": "stdout",
     "output_type": "stream",
     "text": [
      "['X' 'C' 'E' 'G' 'D' 'A' 'B' 'F' 'T']\n",
      "['X' 'B' 'E' 'A' 'C' 'D' 'F' 'G']\n"
     ]
    }
   ],
   "source": [
    "train_data['Cabin'] = train_data['Cabin'].fillna(\"X\")\n",
    "print(train_data['Cabin'].str[0].unique())\n",
    "\n",
    "test_data['Cabin'] = test_data['Cabin'].fillna(\"X\")\n",
    "print(test_data['Cabin'].str[0].unique())"
   ]
  },
  {
   "cell_type": "markdown",
   "id": "cf424010",
   "metadata": {
    "papermill": {
     "duration": 0.00603,
     "end_time": "2023-11-12T17:36:05.149842",
     "exception": false,
     "start_time": "2023-11-12T17:36:05.143812",
     "status": "completed"
    },
    "tags": []
   },
   "source": [
    "### Encode letters"
   ]
  },
  {
   "cell_type": "code",
   "execution_count": 12,
   "id": "6673d646",
   "metadata": {
    "execution": {
     "iopub.execute_input": "2023-11-12T17:36:05.165415Z",
     "iopub.status.busy": "2023-11-12T17:36:05.163973Z",
     "iopub.status.idle": "2023-11-12T17:36:05.173500Z",
     "shell.execute_reply": "2023-11-12T17:36:05.172507Z"
    },
    "papermill": {
     "duration": 0.019185,
     "end_time": "2023-11-12T17:36:05.175305",
     "exception": false,
     "start_time": "2023-11-12T17:36:05.156120",
     "status": "completed"
    },
    "tags": []
   },
   "outputs": [],
   "source": [
    "cabin_to_number = {'X': 0, 'A': 1, 'B': 2, 'C': 3, 'D': 4, 'E': 5, 'F': 6, 'G': 7, 'T': 8}\n",
    "\n",
    "train_data['Cabin_Encoded'] = train_data['Cabin'].apply(lambda x: cabin_to_number[x[0]])\n",
    "test_data['Cabin_Encoded'] = test_data['Cabin'].apply(lambda x: cabin_to_number[x[0]])"
   ]
  },
  {
   "cell_type": "markdown",
   "id": "b25f61ac",
   "metadata": {
    "papermill": {
     "duration": 0.006179,
     "end_time": "2023-11-12T17:36:05.188032",
     "exception": false,
     "start_time": "2023-11-12T17:36:05.181853",
     "status": "completed"
    },
    "tags": []
   },
   "source": [
    "### Drop Cabin Column"
   ]
  },
  {
   "cell_type": "code",
   "execution_count": 13,
   "id": "68c4930b",
   "metadata": {
    "execution": {
     "iopub.execute_input": "2023-11-12T17:36:05.202996Z",
     "iopub.status.busy": "2023-11-12T17:36:05.202538Z",
     "iopub.status.idle": "2023-11-12T17:36:05.209234Z",
     "shell.execute_reply": "2023-11-12T17:36:05.208316Z"
    },
    "papermill": {
     "duration": 0.017525,
     "end_time": "2023-11-12T17:36:05.211722",
     "exception": false,
     "start_time": "2023-11-12T17:36:05.194197",
     "status": "completed"
    },
    "tags": []
   },
   "outputs": [],
   "source": [
    "train_data = train_data.drop('Cabin', axis=1)\n",
    "test_data = test_data.drop('Cabin', axis=1)"
   ]
  },
  {
   "cell_type": "markdown",
   "id": "aee3bcf2",
   "metadata": {
    "papermill": {
     "duration": 0.006358,
     "end_time": "2023-11-12T17:36:05.225400",
     "exception": false,
     "start_time": "2023-11-12T17:36:05.219042",
     "status": "completed"
    },
    "tags": []
   },
   "source": [
    "## Embarked\n",
    "### Fill Null values with 'S'"
   ]
  },
  {
   "cell_type": "code",
   "execution_count": 14,
   "id": "28d5856b",
   "metadata": {
    "execution": {
     "iopub.execute_input": "2023-11-12T17:36:05.240927Z",
     "iopub.status.busy": "2023-11-12T17:36:05.240241Z",
     "iopub.status.idle": "2023-11-12T17:36:05.254313Z",
     "shell.execute_reply": "2023-11-12T17:36:05.252517Z"
    },
    "papermill": {
     "duration": 0.025556,
     "end_time": "2023-11-12T17:36:05.257485",
     "exception": false,
     "start_time": "2023-11-12T17:36:05.231929",
     "status": "completed"
    },
    "tags": []
   },
   "outputs": [],
   "source": [
    "train_data['Embarked'].describe()\n",
    "\n",
    "train_data['Embarked'] = train_data['Embarked'].fillna('S')\n",
    "test_data['Embarked'] = test_data['Embarked'].fillna('S')"
   ]
  },
  {
   "cell_type": "markdown",
   "id": "2d4ab684",
   "metadata": {
    "papermill": {
     "duration": 0.005987,
     "end_time": "2023-11-12T17:36:05.270744",
     "exception": false,
     "start_time": "2023-11-12T17:36:05.264757",
     "status": "completed"
    },
    "tags": []
   },
   "source": [
    "### Encode Embarked Values"
   ]
  },
  {
   "cell_type": "code",
   "execution_count": 15,
   "id": "9317be6d",
   "metadata": {
    "execution": {
     "iopub.execute_input": "2023-11-12T17:36:05.287307Z",
     "iopub.status.busy": "2023-11-12T17:36:05.286963Z",
     "iopub.status.idle": "2023-11-12T17:36:05.294914Z",
     "shell.execute_reply": "2023-11-12T17:36:05.293674Z"
    },
    "papermill": {
     "duration": 0.020019,
     "end_time": "2023-11-12T17:36:05.297006",
     "exception": false,
     "start_time": "2023-11-12T17:36:05.276987",
     "status": "completed"
    },
    "tags": []
   },
   "outputs": [],
   "source": [
    "embark_to_number = {'S': 0, 'C': 1, 'Q': 2}\n",
    "\n",
    "train_data['Embarked'] = train_data['Embarked'].apply(lambda x: embark_to_number[x])\n",
    "test_data['Embarked'] = test_data['Embarked'].apply(lambda x: embark_to_number[x])"
   ]
  },
  {
   "cell_type": "markdown",
   "id": "f9db3398",
   "metadata": {
    "papermill": {
     "duration": 0.006253,
     "end_time": "2023-11-12T17:36:05.310367",
     "exception": false,
     "start_time": "2023-11-12T17:36:05.304114",
     "status": "completed"
    },
    "tags": []
   },
   "source": [
    "## Age\n",
    "### Fill null values of age with mean age of train set"
   ]
  },
  {
   "cell_type": "code",
   "execution_count": 16,
   "id": "323092d0",
   "metadata": {
    "execution": {
     "iopub.execute_input": "2023-11-12T17:36:05.324952Z",
     "iopub.status.busy": "2023-11-12T17:36:05.324527Z",
     "iopub.status.idle": "2023-11-12T17:36:05.332954Z",
     "shell.execute_reply": "2023-11-12T17:36:05.331903Z"
    },
    "papermill": {
     "duration": 0.019493,
     "end_time": "2023-11-12T17:36:05.336181",
     "exception": false,
     "start_time": "2023-11-12T17:36:05.316688",
     "status": "completed"
    },
    "tags": []
   },
   "outputs": [],
   "source": [
    "mean_age = train_data['Age'].mean()\n",
    "\n",
    "train_data['Age'] = train_data['Age'].fillna(mean_age)\n",
    "test_data['Age'] = test_data['Age'].fillna(mean_age)"
   ]
  },
  {
   "cell_type": "markdown",
   "id": "c70b3a2d",
   "metadata": {
    "papermill": {
     "duration": 0.006729,
     "end_time": "2023-11-12T17:36:05.350762",
     "exception": false,
     "start_time": "2023-11-12T17:36:05.344033",
     "status": "completed"
    },
    "tags": []
   },
   "source": [
    "### Convert ages to int"
   ]
  },
  {
   "cell_type": "code",
   "execution_count": 17,
   "id": "ddc57557",
   "metadata": {
    "execution": {
     "iopub.execute_input": "2023-11-12T17:36:05.366365Z",
     "iopub.status.busy": "2023-11-12T17:36:05.366002Z",
     "iopub.status.idle": "2023-11-12T17:36:05.372487Z",
     "shell.execute_reply": "2023-11-12T17:36:05.370664Z"
    },
    "papermill": {
     "duration": 0.017157,
     "end_time": "2023-11-12T17:36:05.374818",
     "exception": false,
     "start_time": "2023-11-12T17:36:05.357661",
     "status": "completed"
    },
    "tags": []
   },
   "outputs": [],
   "source": [
    "train_data['Age'] = train_data['Age'].astype(int)\n",
    "test_data['Age'] = test_data['Age'].astype(int)"
   ]
  },
  {
   "cell_type": "code",
   "execution_count": 18,
   "id": "75632034",
   "metadata": {
    "execution": {
     "iopub.execute_input": "2023-11-12T17:36:05.391259Z",
     "iopub.status.busy": "2023-11-12T17:36:05.389905Z",
     "iopub.status.idle": "2023-11-12T17:36:05.406342Z",
     "shell.execute_reply": "2023-11-12T17:36:05.404515Z"
    },
    "papermill": {
     "duration": 0.02656,
     "end_time": "2023-11-12T17:36:05.408335",
     "exception": false,
     "start_time": "2023-11-12T17:36:05.381775",
     "status": "completed"
    },
    "tags": []
   },
   "outputs": [
    {
     "data": {
      "text/html": [
       "<div>\n",
       "<style scoped>\n",
       "    .dataframe tbody tr th:only-of-type {\n",
       "        vertical-align: middle;\n",
       "    }\n",
       "\n",
       "    .dataframe tbody tr th {\n",
       "        vertical-align: top;\n",
       "    }\n",
       "\n",
       "    .dataframe thead th {\n",
       "        text-align: right;\n",
       "    }\n",
       "</style>\n",
       "<table border=\"1\" class=\"dataframe\">\n",
       "  <thead>\n",
       "    <tr style=\"text-align: right;\">\n",
       "      <th></th>\n",
       "      <th>PassengerId</th>\n",
       "      <th>Survived</th>\n",
       "      <th>Pclass</th>\n",
       "      <th>Sex</th>\n",
       "      <th>Age</th>\n",
       "      <th>SibSp</th>\n",
       "      <th>Parch</th>\n",
       "      <th>Fare</th>\n",
       "      <th>Embarked</th>\n",
       "      <th>Title</th>\n",
       "      <th>Cabin_Encoded</th>\n",
       "    </tr>\n",
       "  </thead>\n",
       "  <tbody>\n",
       "    <tr>\n",
       "      <th>0</th>\n",
       "      <td>1</td>\n",
       "      <td>0</td>\n",
       "      <td>3</td>\n",
       "      <td>0</td>\n",
       "      <td>22</td>\n",
       "      <td>1</td>\n",
       "      <td>0</td>\n",
       "      <td>7.2500</td>\n",
       "      <td>0</td>\n",
       "      <td>0</td>\n",
       "      <td>0</td>\n",
       "    </tr>\n",
       "    <tr>\n",
       "      <th>1</th>\n",
       "      <td>2</td>\n",
       "      <td>1</td>\n",
       "      <td>1</td>\n",
       "      <td>1</td>\n",
       "      <td>38</td>\n",
       "      <td>1</td>\n",
       "      <td>0</td>\n",
       "      <td>71.2833</td>\n",
       "      <td>1</td>\n",
       "      <td>1</td>\n",
       "      <td>3</td>\n",
       "    </tr>\n",
       "    <tr>\n",
       "      <th>2</th>\n",
       "      <td>3</td>\n",
       "      <td>1</td>\n",
       "      <td>3</td>\n",
       "      <td>1</td>\n",
       "      <td>26</td>\n",
       "      <td>0</td>\n",
       "      <td>0</td>\n",
       "      <td>7.9250</td>\n",
       "      <td>0</td>\n",
       "      <td>2</td>\n",
       "      <td>0</td>\n",
       "    </tr>\n",
       "    <tr>\n",
       "      <th>3</th>\n",
       "      <td>4</td>\n",
       "      <td>1</td>\n",
       "      <td>1</td>\n",
       "      <td>1</td>\n",
       "      <td>35</td>\n",
       "      <td>1</td>\n",
       "      <td>0</td>\n",
       "      <td>53.1000</td>\n",
       "      <td>0</td>\n",
       "      <td>1</td>\n",
       "      <td>3</td>\n",
       "    </tr>\n",
       "    <tr>\n",
       "      <th>4</th>\n",
       "      <td>5</td>\n",
       "      <td>0</td>\n",
       "      <td>3</td>\n",
       "      <td>0</td>\n",
       "      <td>35</td>\n",
       "      <td>0</td>\n",
       "      <td>0</td>\n",
       "      <td>8.0500</td>\n",
       "      <td>0</td>\n",
       "      <td>0</td>\n",
       "      <td>0</td>\n",
       "    </tr>\n",
       "  </tbody>\n",
       "</table>\n",
       "</div>"
      ],
      "text/plain": [
       "   PassengerId  Survived  Pclass  Sex  Age  SibSp  Parch     Fare  Embarked  \\\n",
       "0            1         0       3    0   22      1      0   7.2500         0   \n",
       "1            2         1       1    1   38      1      0  71.2833         1   \n",
       "2            3         1       3    1   26      0      0   7.9250         0   \n",
       "3            4         1       1    1   35      1      0  53.1000         0   \n",
       "4            5         0       3    0   35      0      0   8.0500         0   \n",
       "\n",
       "   Title  Cabin_Encoded  \n",
       "0      0              0  \n",
       "1      1              3  \n",
       "2      2              0  \n",
       "3      1              3  \n",
       "4      0              0  "
      ]
     },
     "execution_count": 18,
     "metadata": {},
     "output_type": "execute_result"
    }
   ],
   "source": [
    "train_data.head()"
   ]
  },
  {
   "cell_type": "code",
   "execution_count": 19,
   "id": "e0159007",
   "metadata": {
    "execution": {
     "iopub.execute_input": "2023-11-12T17:36:05.476026Z",
     "iopub.status.busy": "2023-11-12T17:36:05.475724Z",
     "iopub.status.idle": "2023-11-12T17:36:05.489929Z",
     "shell.execute_reply": "2023-11-12T17:36:05.488063Z"
    },
    "papermill": {
     "duration": 0.025481,
     "end_time": "2023-11-12T17:36:05.493174",
     "exception": false,
     "start_time": "2023-11-12T17:36:05.467693",
     "status": "completed"
    },
    "tags": []
   },
   "outputs": [
    {
     "data": {
      "text/html": [
       "<div>\n",
       "<style scoped>\n",
       "    .dataframe tbody tr th:only-of-type {\n",
       "        vertical-align: middle;\n",
       "    }\n",
       "\n",
       "    .dataframe tbody tr th {\n",
       "        vertical-align: top;\n",
       "    }\n",
       "\n",
       "    .dataframe thead th {\n",
       "        text-align: right;\n",
       "    }\n",
       "</style>\n",
       "<table border=\"1\" class=\"dataframe\">\n",
       "  <thead>\n",
       "    <tr style=\"text-align: right;\">\n",
       "      <th></th>\n",
       "      <th>PassengerId</th>\n",
       "      <th>Pclass</th>\n",
       "      <th>Sex</th>\n",
       "      <th>Age</th>\n",
       "      <th>SibSp</th>\n",
       "      <th>Parch</th>\n",
       "      <th>Fare</th>\n",
       "      <th>Embarked</th>\n",
       "      <th>Title</th>\n",
       "      <th>Cabin_Encoded</th>\n",
       "    </tr>\n",
       "  </thead>\n",
       "  <tbody>\n",
       "    <tr>\n",
       "      <th>0</th>\n",
       "      <td>892</td>\n",
       "      <td>3</td>\n",
       "      <td>0</td>\n",
       "      <td>34</td>\n",
       "      <td>0</td>\n",
       "      <td>0</td>\n",
       "      <td>7.8292</td>\n",
       "      <td>2</td>\n",
       "      <td>0</td>\n",
       "      <td>0</td>\n",
       "    </tr>\n",
       "    <tr>\n",
       "      <th>1</th>\n",
       "      <td>893</td>\n",
       "      <td>3</td>\n",
       "      <td>1</td>\n",
       "      <td>47</td>\n",
       "      <td>1</td>\n",
       "      <td>0</td>\n",
       "      <td>7.0000</td>\n",
       "      <td>0</td>\n",
       "      <td>1</td>\n",
       "      <td>0</td>\n",
       "    </tr>\n",
       "    <tr>\n",
       "      <th>2</th>\n",
       "      <td>894</td>\n",
       "      <td>2</td>\n",
       "      <td>0</td>\n",
       "      <td>62</td>\n",
       "      <td>0</td>\n",
       "      <td>0</td>\n",
       "      <td>9.6875</td>\n",
       "      <td>2</td>\n",
       "      <td>0</td>\n",
       "      <td>0</td>\n",
       "    </tr>\n",
       "    <tr>\n",
       "      <th>3</th>\n",
       "      <td>895</td>\n",
       "      <td>3</td>\n",
       "      <td>0</td>\n",
       "      <td>27</td>\n",
       "      <td>0</td>\n",
       "      <td>0</td>\n",
       "      <td>8.6625</td>\n",
       "      <td>0</td>\n",
       "      <td>0</td>\n",
       "      <td>0</td>\n",
       "    </tr>\n",
       "    <tr>\n",
       "      <th>4</th>\n",
       "      <td>896</td>\n",
       "      <td>3</td>\n",
       "      <td>1</td>\n",
       "      <td>22</td>\n",
       "      <td>1</td>\n",
       "      <td>1</td>\n",
       "      <td>12.2875</td>\n",
       "      <td>0</td>\n",
       "      <td>1</td>\n",
       "      <td>0</td>\n",
       "    </tr>\n",
       "  </tbody>\n",
       "</table>\n",
       "</div>"
      ],
      "text/plain": [
       "   PassengerId  Pclass  Sex  Age  SibSp  Parch     Fare  Embarked  Title  \\\n",
       "0          892       3    0   34      0      0   7.8292         2      0   \n",
       "1          893       3    1   47      1      0   7.0000         0      1   \n",
       "2          894       2    0   62      0      0   9.6875         2      0   \n",
       "3          895       3    0   27      0      0   8.6625         0      0   \n",
       "4          896       3    1   22      1      1  12.2875         0      1   \n",
       "\n",
       "   Cabin_Encoded  \n",
       "0              0  \n",
       "1              0  \n",
       "2              0  \n",
       "3              0  \n",
       "4              0  "
      ]
     },
     "execution_count": 19,
     "metadata": {},
     "output_type": "execute_result"
    }
   ],
   "source": [
    "test_data.head()"
   ]
  }
 ],
 "metadata": {
  "kernelspec": {
   "display_name": "Python 3",
   "language": "python",
   "name": "python3"
  },
  "language_info": {
   "codemirror_mode": {
    "name": "ipython",
    "version": 3
   },
   "file_extension": ".py",
   "mimetype": "text/x-python",
   "name": "python",
   "nbconvert_exporter": "python",
   "pygments_lexer": "ipython3",
   "version": "3.10.12"
  },
  "papermill": {
   "default_parameters": {},
   "duration": 4.033559,
   "end_time": "2023-11-12T17:36:05.924438",
   "environment_variables": {},
   "exception": null,
   "input_path": "__notebook__.ipynb",
   "output_path": "__notebook__.ipynb",
   "parameters": {},
   "start_time": "2023-11-12T17:36:01.890879",
   "version": "2.4.0"
  }
 },
 "nbformat": 4,
 "nbformat_minor": 5
}

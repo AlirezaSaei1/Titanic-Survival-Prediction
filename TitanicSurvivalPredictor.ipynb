{
 "cells": [
  {
   "cell_type": "markdown",
   "id": "48f10909",
   "metadata": {
    "papermill": {
     "duration": 0.006543,
     "end_time": "2023-11-10T19:48:54.902148",
     "exception": false,
     "start_time": "2023-11-10T19:48:54.895605",
     "status": "completed"
    },
    "tags": []
   },
   "source": [
    "# Import Required Libraraies"
   ]
  },
  {
   "cell_type": "code",
   "execution_count": 1,
   "id": "7ec2d234",
   "metadata": {
    "execution": {
     "iopub.execute_input": "2023-11-10T19:48:54.916493Z",
     "iopub.status.busy": "2023-11-10T19:48:54.915927Z",
     "iopub.status.idle": "2023-11-10T19:48:56.667248Z",
     "shell.execute_reply": "2023-11-10T19:48:56.666005Z"
    },
    "papermill": {
     "duration": 1.762426,
     "end_time": "2023-11-10T19:48:56.670787",
     "exception": false,
     "start_time": "2023-11-10T19:48:54.908361",
     "status": "completed"
    },
    "tags": []
   },
   "outputs": [],
   "source": [
    "import numpy as np\n",
    "import pandas as pd\n",
    "from sklearn.preprocessing import LabelEncoder"
   ]
  },
  {
   "cell_type": "markdown",
   "id": "11814235",
   "metadata": {
    "papermill": {
     "duration": 0.00575,
     "end_time": "2023-11-10T19:48:56.682727",
     "exception": false,
     "start_time": "2023-11-10T19:48:56.676977",
     "status": "completed"
    },
    "tags": []
   },
   "source": [
    "# Read Data"
   ]
  },
  {
   "cell_type": "code",
   "execution_count": 2,
   "id": "e2fd3954",
   "metadata": {
    "execution": {
     "iopub.execute_input": "2023-11-10T19:48:56.697494Z",
     "iopub.status.busy": "2023-11-10T19:48:56.696245Z",
     "iopub.status.idle": "2023-11-10T19:48:56.740149Z",
     "shell.execute_reply": "2023-11-10T19:48:56.738855Z"
    },
    "papermill": {
     "duration": 0.054366,
     "end_time": "2023-11-10T19:48:56.743138",
     "exception": false,
     "start_time": "2023-11-10T19:48:56.688772",
     "status": "completed"
    },
    "tags": []
   },
   "outputs": [],
   "source": [
    "train_data = pd.read_csv('/kaggle/input/titanic/train.csv')\n",
    "test_data = pd.read_csv('/kaggle/input/titanic/test.csv')\n",
    "gender_sub = pd.read_csv('/kaggle/input/titanic/gender_submission.csv')"
   ]
  },
  {
   "cell_type": "code",
   "execution_count": 3,
   "id": "7db662b5",
   "metadata": {
    "execution": {
     "iopub.execute_input": "2023-11-10T19:48:56.757783Z",
     "iopub.status.busy": "2023-11-10T19:48:56.757236Z",
     "iopub.status.idle": "2023-11-10T19:48:56.789213Z",
     "shell.execute_reply": "2023-11-10T19:48:56.788005Z"
    },
    "papermill": {
     "duration": 0.042736,
     "end_time": "2023-11-10T19:48:56.792143",
     "exception": false,
     "start_time": "2023-11-10T19:48:56.749407",
     "status": "completed"
    },
    "tags": []
   },
   "outputs": [
    {
     "data": {
      "text/html": [
       "<div>\n",
       "<style scoped>\n",
       "    .dataframe tbody tr th:only-of-type {\n",
       "        vertical-align: middle;\n",
       "    }\n",
       "\n",
       "    .dataframe tbody tr th {\n",
       "        vertical-align: top;\n",
       "    }\n",
       "\n",
       "    .dataframe thead th {\n",
       "        text-align: right;\n",
       "    }\n",
       "</style>\n",
       "<table border=\"1\" class=\"dataframe\">\n",
       "  <thead>\n",
       "    <tr style=\"text-align: right;\">\n",
       "      <th></th>\n",
       "      <th>PassengerId</th>\n",
       "      <th>Pclass</th>\n",
       "      <th>Name</th>\n",
       "      <th>Sex</th>\n",
       "      <th>Age</th>\n",
       "      <th>SibSp</th>\n",
       "      <th>Parch</th>\n",
       "      <th>Ticket</th>\n",
       "      <th>Fare</th>\n",
       "      <th>Cabin</th>\n",
       "      <th>Embarked</th>\n",
       "    </tr>\n",
       "  </thead>\n",
       "  <tbody>\n",
       "    <tr>\n",
       "      <th>0</th>\n",
       "      <td>892</td>\n",
       "      <td>3</td>\n",
       "      <td>Kelly, Mr. James</td>\n",
       "      <td>male</td>\n",
       "      <td>34.5</td>\n",
       "      <td>0</td>\n",
       "      <td>0</td>\n",
       "      <td>330911</td>\n",
       "      <td>7.8292</td>\n",
       "      <td>NaN</td>\n",
       "      <td>Q</td>\n",
       "    </tr>\n",
       "    <tr>\n",
       "      <th>1</th>\n",
       "      <td>893</td>\n",
       "      <td>3</td>\n",
       "      <td>Wilkes, Mrs. James (Ellen Needs)</td>\n",
       "      <td>female</td>\n",
       "      <td>47.0</td>\n",
       "      <td>1</td>\n",
       "      <td>0</td>\n",
       "      <td>363272</td>\n",
       "      <td>7.0000</td>\n",
       "      <td>NaN</td>\n",
       "      <td>S</td>\n",
       "    </tr>\n",
       "    <tr>\n",
       "      <th>2</th>\n",
       "      <td>894</td>\n",
       "      <td>2</td>\n",
       "      <td>Myles, Mr. Thomas Francis</td>\n",
       "      <td>male</td>\n",
       "      <td>62.0</td>\n",
       "      <td>0</td>\n",
       "      <td>0</td>\n",
       "      <td>240276</td>\n",
       "      <td>9.6875</td>\n",
       "      <td>NaN</td>\n",
       "      <td>Q</td>\n",
       "    </tr>\n",
       "    <tr>\n",
       "      <th>3</th>\n",
       "      <td>895</td>\n",
       "      <td>3</td>\n",
       "      <td>Wirz, Mr. Albert</td>\n",
       "      <td>male</td>\n",
       "      <td>27.0</td>\n",
       "      <td>0</td>\n",
       "      <td>0</td>\n",
       "      <td>315154</td>\n",
       "      <td>8.6625</td>\n",
       "      <td>NaN</td>\n",
       "      <td>S</td>\n",
       "    </tr>\n",
       "    <tr>\n",
       "      <th>4</th>\n",
       "      <td>896</td>\n",
       "      <td>3</td>\n",
       "      <td>Hirvonen, Mrs. Alexander (Helga E Lindqvist)</td>\n",
       "      <td>female</td>\n",
       "      <td>22.0</td>\n",
       "      <td>1</td>\n",
       "      <td>1</td>\n",
       "      <td>3101298</td>\n",
       "      <td>12.2875</td>\n",
       "      <td>NaN</td>\n",
       "      <td>S</td>\n",
       "    </tr>\n",
       "  </tbody>\n",
       "</table>\n",
       "</div>"
      ],
      "text/plain": [
       "   PassengerId  Pclass                                          Name     Sex  \\\n",
       "0          892       3                              Kelly, Mr. James    male   \n",
       "1          893       3              Wilkes, Mrs. James (Ellen Needs)  female   \n",
       "2          894       2                     Myles, Mr. Thomas Francis    male   \n",
       "3          895       3                              Wirz, Mr. Albert    male   \n",
       "4          896       3  Hirvonen, Mrs. Alexander (Helga E Lindqvist)  female   \n",
       "\n",
       "    Age  SibSp  Parch   Ticket     Fare Cabin Embarked  \n",
       "0  34.5      0      0   330911   7.8292   NaN        Q  \n",
       "1  47.0      1      0   363272   7.0000   NaN        S  \n",
       "2  62.0      0      0   240276   9.6875   NaN        Q  \n",
       "3  27.0      0      0   315154   8.6625   NaN        S  \n",
       "4  22.0      1      1  3101298  12.2875   NaN        S  "
      ]
     },
     "execution_count": 3,
     "metadata": {},
     "output_type": "execute_result"
    }
   ],
   "source": [
    "test_data.head()"
   ]
  },
  {
   "cell_type": "markdown",
   "id": "aa76ae47",
   "metadata": {
    "papermill": {
     "duration": 0.005908,
     "end_time": "2023-11-10T19:48:56.804410",
     "exception": false,
     "start_time": "2023-11-10T19:48:56.798502",
     "status": "completed"
    },
    "tags": []
   },
   "source": [
    "# Data Purification"
   ]
  },
  {
   "cell_type": "markdown",
   "id": "83cf1cf8",
   "metadata": {
    "papermill": {
     "duration": 0.005923,
     "end_time": "2023-11-10T19:48:56.816667",
     "exception": false,
     "start_time": "2023-11-10T19:48:56.810744",
     "status": "completed"
    },
    "tags": []
   },
   "source": [
    "## Name\n",
    "### Extract titles from names"
   ]
  },
  {
   "cell_type": "code",
   "execution_count": 4,
   "id": "432e8440",
   "metadata": {
    "execution": {
     "iopub.execute_input": "2023-11-10T19:48:56.831098Z",
     "iopub.status.busy": "2023-11-10T19:48:56.830662Z",
     "iopub.status.idle": "2023-11-10T19:48:56.851058Z",
     "shell.execute_reply": "2023-11-10T19:48:56.849748Z"
    },
    "papermill": {
     "duration": 0.031011,
     "end_time": "2023-11-10T19:48:56.853975",
     "exception": false,
     "start_time": "2023-11-10T19:48:56.822964",
     "status": "completed"
    },
    "tags": []
   },
   "outputs": [
    {
     "name": "stdout",
     "output_type": "stream",
     "text": [
      "All unique titles in names (Train): ['Mr' 'Mrs' 'Miss' 'Master' 'Don' 'Rev' 'Dr' 'Mme' 'Ms' 'Major' 'Lady'\n",
      " 'Sir' 'Mlle' 'Col' 'Capt' 'Countess' 'Jonkheer']\n",
      "All unique titles in names (Test): ['Mr' 'Mrs' 'Miss' 'Master' 'Ms' 'Col' 'Rev' 'Dr' 'Dona']\n"
     ]
    }
   ],
   "source": [
    "import re\n",
    "train_data['Title'] = train_data['Name'].apply(lambda x: re.search(' ([A-Za-z]+)\\.', x).group(1))\n",
    "test_data['Title'] = test_data['Name'].apply(lambda x: re.search(' ([A-Za-z]+)\\.', x).group(1))\n",
    "\n",
    "# Display the unique titles\n",
    "print(f'All unique titles in names (Train): {train_data[\"Title\"].unique()}')\n",
    "print(f'All unique titles in names (Test): {test_data[\"Title\"].unique()}')"
   ]
  },
  {
   "cell_type": "code",
   "execution_count": 5,
   "id": "5c0fb88f",
   "metadata": {
    "execution": {
     "iopub.execute_input": "2023-11-10T19:48:56.869926Z",
     "iopub.status.busy": "2023-11-10T19:48:56.869003Z",
     "iopub.status.idle": "2023-11-10T19:48:56.887421Z",
     "shell.execute_reply": "2023-11-10T19:48:56.886198Z"
    },
    "papermill": {
     "duration": 0.029519,
     "end_time": "2023-11-10T19:48:56.890087",
     "exception": false,
     "start_time": "2023-11-10T19:48:56.860568",
     "status": "completed"
    },
    "tags": []
   },
   "outputs": [],
   "source": [
    "# Train Data\n",
    "train_data['Title'] = train_data['Title'].replace(['Lady', 'Countess', 'Capt', 'Col', 'Don', 'Dr','Major', 'Rev', 'Sir', 'Jonkheer', 'Dona'], 'Other')\n",
    "train_data['Title'] = train_data['Title'].replace(['Mlle', 'Ms'], 'Miss')\n",
    "train_data['Title'] = train_data['Title'].replace('Mme', 'Mrs')\n",
    "\n",
    "# Test Data\n",
    "test_data['Title'] = test_data['Title'].replace(['Lady', 'Countess', 'Capt', 'Col', 'Don', 'Dr','Major', 'Rev', 'Sir', 'Jonkheer', 'Dona'], 'Other')\n",
    "test_data['Title'] = test_data['Title'].replace(['Mlle', 'Ms'], 'Miss')\n",
    "test_data['Title'] = test_data['Title'].replace('Mme', 'Mrs')"
   ]
  },
  {
   "cell_type": "code",
   "execution_count": 6,
   "id": "b4bd1d37",
   "metadata": {
    "execution": {
     "iopub.execute_input": "2023-11-10T19:48:56.905420Z",
     "iopub.status.busy": "2023-11-10T19:48:56.904942Z",
     "iopub.status.idle": "2023-11-10T19:48:56.911876Z",
     "shell.execute_reply": "2023-11-10T19:48:56.910720Z"
    },
    "papermill": {
     "duration": 0.017588,
     "end_time": "2023-11-10T19:48:56.914325",
     "exception": false,
     "start_time": "2023-11-10T19:48:56.896737",
     "status": "completed"
    },
    "tags": []
   },
   "outputs": [
    {
     "name": "stdout",
     "output_type": "stream",
     "text": [
      "Train Titles: ['Mr' 'Mrs' 'Miss' 'Master' 'Other']\n",
      "Test Titles: ['Mr' 'Mrs' 'Miss' 'Master' 'Other']\n"
     ]
    }
   ],
   "source": [
    "print(f'Train Titles: {train_data[\"Title\"].unique()}')\n",
    "print(f'Test Titles: {test_data[\"Title\"].unique()}')"
   ]
  },
  {
   "cell_type": "markdown",
   "id": "27c12daa",
   "metadata": {
    "papermill": {
     "duration": 0.00611,
     "end_time": "2023-11-10T19:48:56.926987",
     "exception": false,
     "start_time": "2023-11-10T19:48:56.920877",
     "status": "completed"
    },
    "tags": []
   },
   "source": [
    "### Drop Names"
   ]
  },
  {
   "cell_type": "code",
   "execution_count": 7,
   "id": "23a4ecde",
   "metadata": {
    "execution": {
     "iopub.execute_input": "2023-11-10T19:48:56.942959Z",
     "iopub.status.busy": "2023-11-10T19:48:56.942095Z",
     "iopub.status.idle": "2023-11-10T19:48:56.956504Z",
     "shell.execute_reply": "2023-11-10T19:48:56.955261Z"
    },
    "papermill": {
     "duration": 0.025619,
     "end_time": "2023-11-10T19:48:56.959099",
     "exception": false,
     "start_time": "2023-11-10T19:48:56.933480",
     "status": "completed"
    },
    "tags": []
   },
   "outputs": [],
   "source": [
    "train_data = train_data.drop('Name', axis=1)\n",
    "test_data = test_data.drop('Name', axis=1)"
   ]
  },
  {
   "cell_type": "markdown",
   "id": "e7722358",
   "metadata": {
    "papermill": {
     "duration": 0.006289,
     "end_time": "2023-11-10T19:48:56.972417",
     "exception": false,
     "start_time": "2023-11-10T19:48:56.966128",
     "status": "completed"
    },
    "tags": []
   },
   "source": [
    "## Ticket\n",
    "### Drop ticket columns"
   ]
  },
  {
   "cell_type": "code",
   "execution_count": 8,
   "id": "ad8aa984",
   "metadata": {
    "execution": {
     "iopub.execute_input": "2023-11-10T19:48:56.987502Z",
     "iopub.status.busy": "2023-11-10T19:48:56.987029Z",
     "iopub.status.idle": "2023-11-10T19:48:56.995728Z",
     "shell.execute_reply": "2023-11-10T19:48:56.994377Z"
    },
    "papermill": {
     "duration": 0.019116,
     "end_time": "2023-11-10T19:48:56.998129",
     "exception": false,
     "start_time": "2023-11-10T19:48:56.979013",
     "status": "completed"
    },
    "tags": []
   },
   "outputs": [],
   "source": [
    "# Drop Ticket Column\n",
    "train_data = train_data.drop('Ticket', axis=1)\n",
    "test_data = test_data.drop('Ticket', axis=1)"
   ]
  },
  {
   "cell_type": "markdown",
   "id": "f7772c11",
   "metadata": {
    "papermill": {
     "duration": 0.006152,
     "end_time": "2023-11-10T19:48:57.010817",
     "exception": false,
     "start_time": "2023-11-10T19:48:57.004665",
     "status": "completed"
    },
    "tags": []
   },
   "source": [
    "## Sex\n",
    "### Encode sexes to 0s and 1s"
   ]
  },
  {
   "cell_type": "code",
   "execution_count": 9,
   "id": "acfb15c0",
   "metadata": {
    "execution": {
     "iopub.execute_input": "2023-11-10T19:48:57.025588Z",
     "iopub.status.busy": "2023-11-10T19:48:57.025096Z",
     "iopub.status.idle": "2023-11-10T19:48:57.035202Z",
     "shell.execute_reply": "2023-11-10T19:48:57.033969Z"
    },
    "papermill": {
     "duration": 0.021269,
     "end_time": "2023-11-10T19:48:57.038446",
     "exception": false,
     "start_time": "2023-11-10T19:48:57.017177",
     "status": "completed"
    },
    "tags": []
   },
   "outputs": [
    {
     "name": "stdout",
     "output_type": "stream",
     "text": [
      "Number of distinct values for sex: {0, 1}\n"
     ]
    }
   ],
   "source": [
    "# Encode Sex\n",
    "encoder = LabelEncoder()\n",
    "train_data['Sex'] = encoder.fit_transform(train_data['Sex'])\n",
    "test_data['Sex'] = encoder.fit_transform(test_data['Sex'])\n",
    "print(f'Number of distinct values for sex: {set(test_data[\"Sex\"])}')"
   ]
  },
  {
   "cell_type": "code",
   "execution_count": 10,
   "id": "dec1eec3",
   "metadata": {
    "execution": {
     "iopub.execute_input": "2023-11-10T19:48:57.054155Z",
     "iopub.status.busy": "2023-11-10T19:48:57.053316Z",
     "iopub.status.idle": "2023-11-10T19:48:57.070254Z",
     "shell.execute_reply": "2023-11-10T19:48:57.069245Z"
    },
    "papermill": {
     "duration": 0.027097,
     "end_time": "2023-11-10T19:48:57.072322",
     "exception": false,
     "start_time": "2023-11-10T19:48:57.045225",
     "status": "completed"
    },
    "tags": []
   },
   "outputs": [
    {
     "data": {
      "text/html": [
       "<div>\n",
       "<style scoped>\n",
       "    .dataframe tbody tr th:only-of-type {\n",
       "        vertical-align: middle;\n",
       "    }\n",
       "\n",
       "    .dataframe tbody tr th {\n",
       "        vertical-align: top;\n",
       "    }\n",
       "\n",
       "    .dataframe thead th {\n",
       "        text-align: right;\n",
       "    }\n",
       "</style>\n",
       "<table border=\"1\" class=\"dataframe\">\n",
       "  <thead>\n",
       "    <tr style=\"text-align: right;\">\n",
       "      <th></th>\n",
       "      <th>PassengerId</th>\n",
       "      <th>Survived</th>\n",
       "      <th>Pclass</th>\n",
       "      <th>Sex</th>\n",
       "      <th>Age</th>\n",
       "      <th>SibSp</th>\n",
       "      <th>Parch</th>\n",
       "      <th>Fare</th>\n",
       "      <th>Cabin</th>\n",
       "      <th>Embarked</th>\n",
       "      <th>Title</th>\n",
       "    </tr>\n",
       "  </thead>\n",
       "  <tbody>\n",
       "    <tr>\n",
       "      <th>0</th>\n",
       "      <td>1</td>\n",
       "      <td>0</td>\n",
       "      <td>3</td>\n",
       "      <td>1</td>\n",
       "      <td>22.0</td>\n",
       "      <td>1</td>\n",
       "      <td>0</td>\n",
       "      <td>7.2500</td>\n",
       "      <td>NaN</td>\n",
       "      <td>S</td>\n",
       "      <td>Mr</td>\n",
       "    </tr>\n",
       "    <tr>\n",
       "      <th>1</th>\n",
       "      <td>2</td>\n",
       "      <td>1</td>\n",
       "      <td>1</td>\n",
       "      <td>0</td>\n",
       "      <td>38.0</td>\n",
       "      <td>1</td>\n",
       "      <td>0</td>\n",
       "      <td>71.2833</td>\n",
       "      <td>C85</td>\n",
       "      <td>C</td>\n",
       "      <td>Mrs</td>\n",
       "    </tr>\n",
       "    <tr>\n",
       "      <th>2</th>\n",
       "      <td>3</td>\n",
       "      <td>1</td>\n",
       "      <td>3</td>\n",
       "      <td>0</td>\n",
       "      <td>26.0</td>\n",
       "      <td>0</td>\n",
       "      <td>0</td>\n",
       "      <td>7.9250</td>\n",
       "      <td>NaN</td>\n",
       "      <td>S</td>\n",
       "      <td>Miss</td>\n",
       "    </tr>\n",
       "    <tr>\n",
       "      <th>3</th>\n",
       "      <td>4</td>\n",
       "      <td>1</td>\n",
       "      <td>1</td>\n",
       "      <td>0</td>\n",
       "      <td>35.0</td>\n",
       "      <td>1</td>\n",
       "      <td>0</td>\n",
       "      <td>53.1000</td>\n",
       "      <td>C123</td>\n",
       "      <td>S</td>\n",
       "      <td>Mrs</td>\n",
       "    </tr>\n",
       "    <tr>\n",
       "      <th>4</th>\n",
       "      <td>5</td>\n",
       "      <td>0</td>\n",
       "      <td>3</td>\n",
       "      <td>1</td>\n",
       "      <td>35.0</td>\n",
       "      <td>0</td>\n",
       "      <td>0</td>\n",
       "      <td>8.0500</td>\n",
       "      <td>NaN</td>\n",
       "      <td>S</td>\n",
       "      <td>Mr</td>\n",
       "    </tr>\n",
       "  </tbody>\n",
       "</table>\n",
       "</div>"
      ],
      "text/plain": [
       "   PassengerId  Survived  Pclass  Sex   Age  SibSp  Parch     Fare Cabin  \\\n",
       "0            1         0       3    1  22.0      1      0   7.2500   NaN   \n",
       "1            2         1       1    0  38.0      1      0  71.2833   C85   \n",
       "2            3         1       3    0  26.0      0      0   7.9250   NaN   \n",
       "3            4         1       1    0  35.0      1      0  53.1000  C123   \n",
       "4            5         0       3    1  35.0      0      0   8.0500   NaN   \n",
       "\n",
       "  Embarked Title  \n",
       "0        S    Mr  \n",
       "1        C   Mrs  \n",
       "2        S  Miss  \n",
       "3        S   Mrs  \n",
       "4        S    Mr  "
      ]
     },
     "execution_count": 10,
     "metadata": {},
     "output_type": "execute_result"
    }
   ],
   "source": [
    "train_data.head()"
   ]
  },
  {
   "cell_type": "code",
   "execution_count": 11,
   "id": "62ea66b6",
   "metadata": {
    "execution": {
     "iopub.execute_input": "2023-11-10T19:48:57.088300Z",
     "iopub.status.busy": "2023-11-10T19:48:57.087832Z",
     "iopub.status.idle": "2023-11-10T19:48:57.104467Z",
     "shell.execute_reply": "2023-11-10T19:48:57.103346Z"
    },
    "papermill": {
     "duration": 0.027533,
     "end_time": "2023-11-10T19:48:57.106737",
     "exception": false,
     "start_time": "2023-11-10T19:48:57.079204",
     "status": "completed"
    },
    "tags": []
   },
   "outputs": [
    {
     "data": {
      "text/html": [
       "<div>\n",
       "<style scoped>\n",
       "    .dataframe tbody tr th:only-of-type {\n",
       "        vertical-align: middle;\n",
       "    }\n",
       "\n",
       "    .dataframe tbody tr th {\n",
       "        vertical-align: top;\n",
       "    }\n",
       "\n",
       "    .dataframe thead th {\n",
       "        text-align: right;\n",
       "    }\n",
       "</style>\n",
       "<table border=\"1\" class=\"dataframe\">\n",
       "  <thead>\n",
       "    <tr style=\"text-align: right;\">\n",
       "      <th></th>\n",
       "      <th>PassengerId</th>\n",
       "      <th>Pclass</th>\n",
       "      <th>Sex</th>\n",
       "      <th>Age</th>\n",
       "      <th>SibSp</th>\n",
       "      <th>Parch</th>\n",
       "      <th>Fare</th>\n",
       "      <th>Cabin</th>\n",
       "      <th>Embarked</th>\n",
       "      <th>Title</th>\n",
       "    </tr>\n",
       "  </thead>\n",
       "  <tbody>\n",
       "    <tr>\n",
       "      <th>0</th>\n",
       "      <td>892</td>\n",
       "      <td>3</td>\n",
       "      <td>1</td>\n",
       "      <td>34.5</td>\n",
       "      <td>0</td>\n",
       "      <td>0</td>\n",
       "      <td>7.8292</td>\n",
       "      <td>NaN</td>\n",
       "      <td>Q</td>\n",
       "      <td>Mr</td>\n",
       "    </tr>\n",
       "    <tr>\n",
       "      <th>1</th>\n",
       "      <td>893</td>\n",
       "      <td>3</td>\n",
       "      <td>0</td>\n",
       "      <td>47.0</td>\n",
       "      <td>1</td>\n",
       "      <td>0</td>\n",
       "      <td>7.0000</td>\n",
       "      <td>NaN</td>\n",
       "      <td>S</td>\n",
       "      <td>Mrs</td>\n",
       "    </tr>\n",
       "    <tr>\n",
       "      <th>2</th>\n",
       "      <td>894</td>\n",
       "      <td>2</td>\n",
       "      <td>1</td>\n",
       "      <td>62.0</td>\n",
       "      <td>0</td>\n",
       "      <td>0</td>\n",
       "      <td>9.6875</td>\n",
       "      <td>NaN</td>\n",
       "      <td>Q</td>\n",
       "      <td>Mr</td>\n",
       "    </tr>\n",
       "    <tr>\n",
       "      <th>3</th>\n",
       "      <td>895</td>\n",
       "      <td>3</td>\n",
       "      <td>1</td>\n",
       "      <td>27.0</td>\n",
       "      <td>0</td>\n",
       "      <td>0</td>\n",
       "      <td>8.6625</td>\n",
       "      <td>NaN</td>\n",
       "      <td>S</td>\n",
       "      <td>Mr</td>\n",
       "    </tr>\n",
       "    <tr>\n",
       "      <th>4</th>\n",
       "      <td>896</td>\n",
       "      <td>3</td>\n",
       "      <td>0</td>\n",
       "      <td>22.0</td>\n",
       "      <td>1</td>\n",
       "      <td>1</td>\n",
       "      <td>12.2875</td>\n",
       "      <td>NaN</td>\n",
       "      <td>S</td>\n",
       "      <td>Mrs</td>\n",
       "    </tr>\n",
       "  </tbody>\n",
       "</table>\n",
       "</div>"
      ],
      "text/plain": [
       "   PassengerId  Pclass  Sex   Age  SibSp  Parch     Fare Cabin Embarked Title\n",
       "0          892       3    1  34.5      0      0   7.8292   NaN        Q    Mr\n",
       "1          893       3    0  47.0      1      0   7.0000   NaN        S   Mrs\n",
       "2          894       2    1  62.0      0      0   9.6875   NaN        Q    Mr\n",
       "3          895       3    1  27.0      0      0   8.6625   NaN        S    Mr\n",
       "4          896       3    0  22.0      1      1  12.2875   NaN        S   Mrs"
      ]
     },
     "execution_count": 11,
     "metadata": {},
     "output_type": "execute_result"
    }
   ],
   "source": [
    "test_data.head()"
   ]
  }
 ],
 "metadata": {
  "kernelspec": {
   "display_name": "Python 3",
   "language": "python",
   "name": "python3"
  },
  "language_info": {
   "codemirror_mode": {
    "name": "ipython",
    "version": 3
   },
   "file_extension": ".py",
   "mimetype": "text/x-python",
   "name": "python",
   "nbconvert_exporter": "python",
   "pygments_lexer": "ipython3",
   "version": "3.10.12"
  },
  "papermill": {
   "default_parameters": {},
   "duration": 6.589194,
   "end_time": "2023-11-10T19:48:57.835525",
   "environment_variables": {},
   "exception": null,
   "input_path": "__notebook__.ipynb",
   "output_path": "__notebook__.ipynb",
   "parameters": {},
   "start_time": "2023-11-10T19:48:51.246331",
   "version": "2.4.0"
  }
 },
 "nbformat": 4,
 "nbformat_minor": 5
}

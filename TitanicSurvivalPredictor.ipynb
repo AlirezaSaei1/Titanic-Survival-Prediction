{
 "cells": [
  {
   "cell_type": "markdown",
   "id": "13b0f97c",
   "metadata": {
    "papermill": {
     "duration": 0.002387,
     "end_time": "2023-11-10T18:57:11.607206",
     "exception": false,
     "start_time": "2023-11-10T18:57:11.604819",
     "status": "completed"
    },
    "tags": []
   },
   "source": [
    "### Import Required Libraraies"
   ]
  },
  {
   "cell_type": "code",
   "execution_count": 1,
   "id": "8b50725a",
   "metadata": {
    "execution": {
     "iopub.execute_input": "2023-11-10T18:57:11.613035Z",
     "iopub.status.busy": "2023-11-10T18:57:11.612614Z",
     "iopub.status.idle": "2023-11-10T18:57:13.228134Z",
     "shell.execute_reply": "2023-11-10T18:57:13.226661Z"
    },
    "papermill": {
     "duration": 1.621549,
     "end_time": "2023-11-10T18:57:13.230824",
     "exception": false,
     "start_time": "2023-11-10T18:57:11.609275",
     "status": "completed"
    },
    "tags": []
   },
   "outputs": [],
   "source": [
    "import numpy as np\n",
    "import pandas as pd\n",
    "from sklearn.preprocessing import LabelEncoder"
   ]
  },
  {
   "cell_type": "markdown",
   "id": "a173267c",
   "metadata": {
    "papermill": {
     "duration": 0.001881,
     "end_time": "2023-11-10T18:57:13.235022",
     "exception": false,
     "start_time": "2023-11-10T18:57:13.233141",
     "status": "completed"
    },
    "tags": []
   },
   "source": [
    "### Read Data"
   ]
  },
  {
   "cell_type": "code",
   "execution_count": 2,
   "id": "dd3e8a9e",
   "metadata": {
    "execution": {
     "iopub.execute_input": "2023-11-10T18:57:13.241180Z",
     "iopub.status.busy": "2023-11-10T18:57:13.240457Z",
     "iopub.status.idle": "2023-11-10T18:57:13.276394Z",
     "shell.execute_reply": "2023-11-10T18:57:13.275348Z"
    },
    "papermill": {
     "duration": 0.041656,
     "end_time": "2023-11-10T18:57:13.278644",
     "exception": false,
     "start_time": "2023-11-10T18:57:13.236988",
     "status": "completed"
    },
    "tags": []
   },
   "outputs": [],
   "source": [
    "train_data = pd.read_csv('/kaggle/input/titanic/train.csv')\n",
    "test_data = pd.read_csv('/kaggle/input/titanic/test.csv')\n",
    "gender_sub = pd.read_csv('/kaggle/input/titanic/gender_submission.csv')"
   ]
  },
  {
   "cell_type": "code",
   "execution_count": 3,
   "id": "3b547544",
   "metadata": {
    "execution": {
     "iopub.execute_input": "2023-11-10T18:57:13.284988Z",
     "iopub.status.busy": "2023-11-10T18:57:13.284324Z",
     "iopub.status.idle": "2023-11-10T18:57:13.311726Z",
     "shell.execute_reply": "2023-11-10T18:57:13.310815Z"
    },
    "papermill": {
     "duration": 0.032918,
     "end_time": "2023-11-10T18:57:13.313896",
     "exception": false,
     "start_time": "2023-11-10T18:57:13.280978",
     "status": "completed"
    },
    "tags": []
   },
   "outputs": [
    {
     "data": {
      "text/html": [
       "<div>\n",
       "<style scoped>\n",
       "    .dataframe tbody tr th:only-of-type {\n",
       "        vertical-align: middle;\n",
       "    }\n",
       "\n",
       "    .dataframe tbody tr th {\n",
       "        vertical-align: top;\n",
       "    }\n",
       "\n",
       "    .dataframe thead th {\n",
       "        text-align: right;\n",
       "    }\n",
       "</style>\n",
       "<table border=\"1\" class=\"dataframe\">\n",
       "  <thead>\n",
       "    <tr style=\"text-align: right;\">\n",
       "      <th></th>\n",
       "      <th>PassengerId</th>\n",
       "      <th>Pclass</th>\n",
       "      <th>Name</th>\n",
       "      <th>Sex</th>\n",
       "      <th>Age</th>\n",
       "      <th>SibSp</th>\n",
       "      <th>Parch</th>\n",
       "      <th>Ticket</th>\n",
       "      <th>Fare</th>\n",
       "      <th>Cabin</th>\n",
       "      <th>Embarked</th>\n",
       "    </tr>\n",
       "  </thead>\n",
       "  <tbody>\n",
       "    <tr>\n",
       "      <th>0</th>\n",
       "      <td>892</td>\n",
       "      <td>3</td>\n",
       "      <td>Kelly, Mr. James</td>\n",
       "      <td>male</td>\n",
       "      <td>34.5</td>\n",
       "      <td>0</td>\n",
       "      <td>0</td>\n",
       "      <td>330911</td>\n",
       "      <td>7.8292</td>\n",
       "      <td>NaN</td>\n",
       "      <td>Q</td>\n",
       "    </tr>\n",
       "    <tr>\n",
       "      <th>1</th>\n",
       "      <td>893</td>\n",
       "      <td>3</td>\n",
       "      <td>Wilkes, Mrs. James (Ellen Needs)</td>\n",
       "      <td>female</td>\n",
       "      <td>47.0</td>\n",
       "      <td>1</td>\n",
       "      <td>0</td>\n",
       "      <td>363272</td>\n",
       "      <td>7.0000</td>\n",
       "      <td>NaN</td>\n",
       "      <td>S</td>\n",
       "    </tr>\n",
       "    <tr>\n",
       "      <th>2</th>\n",
       "      <td>894</td>\n",
       "      <td>2</td>\n",
       "      <td>Myles, Mr. Thomas Francis</td>\n",
       "      <td>male</td>\n",
       "      <td>62.0</td>\n",
       "      <td>0</td>\n",
       "      <td>0</td>\n",
       "      <td>240276</td>\n",
       "      <td>9.6875</td>\n",
       "      <td>NaN</td>\n",
       "      <td>Q</td>\n",
       "    </tr>\n",
       "    <tr>\n",
       "      <th>3</th>\n",
       "      <td>895</td>\n",
       "      <td>3</td>\n",
       "      <td>Wirz, Mr. Albert</td>\n",
       "      <td>male</td>\n",
       "      <td>27.0</td>\n",
       "      <td>0</td>\n",
       "      <td>0</td>\n",
       "      <td>315154</td>\n",
       "      <td>8.6625</td>\n",
       "      <td>NaN</td>\n",
       "      <td>S</td>\n",
       "    </tr>\n",
       "    <tr>\n",
       "      <th>4</th>\n",
       "      <td>896</td>\n",
       "      <td>3</td>\n",
       "      <td>Hirvonen, Mrs. Alexander (Helga E Lindqvist)</td>\n",
       "      <td>female</td>\n",
       "      <td>22.0</td>\n",
       "      <td>1</td>\n",
       "      <td>1</td>\n",
       "      <td>3101298</td>\n",
       "      <td>12.2875</td>\n",
       "      <td>NaN</td>\n",
       "      <td>S</td>\n",
       "    </tr>\n",
       "  </tbody>\n",
       "</table>\n",
       "</div>"
      ],
      "text/plain": [
       "   PassengerId  Pclass                                          Name     Sex  \\\n",
       "0          892       3                              Kelly, Mr. James    male   \n",
       "1          893       3              Wilkes, Mrs. James (Ellen Needs)  female   \n",
       "2          894       2                     Myles, Mr. Thomas Francis    male   \n",
       "3          895       3                              Wirz, Mr. Albert    male   \n",
       "4          896       3  Hirvonen, Mrs. Alexander (Helga E Lindqvist)  female   \n",
       "\n",
       "    Age  SibSp  Parch   Ticket     Fare Cabin Embarked  \n",
       "0  34.5      0      0   330911   7.8292   NaN        Q  \n",
       "1  47.0      1      0   363272   7.0000   NaN        S  \n",
       "2  62.0      0      0   240276   9.6875   NaN        Q  \n",
       "3  27.0      0      0   315154   8.6625   NaN        S  \n",
       "4  22.0      1      1  3101298  12.2875   NaN        S  "
      ]
     },
     "execution_count": 3,
     "metadata": {},
     "output_type": "execute_result"
    }
   ],
   "source": [
    "test_data.head()"
   ]
  },
  {
   "cell_type": "markdown",
   "id": "12819124",
   "metadata": {
    "papermill": {
     "duration": 0.002083,
     "end_time": "2023-11-10T18:57:13.318545",
     "exception": false,
     "start_time": "2023-11-10T18:57:13.316462",
     "status": "completed"
    },
    "tags": []
   },
   "source": [
    "### Data Purification"
   ]
  },
  {
   "cell_type": "code",
   "execution_count": 4,
   "id": "4b4516f7",
   "metadata": {
    "execution": {
     "iopub.execute_input": "2023-11-10T18:57:13.325100Z",
     "iopub.status.busy": "2023-11-10T18:57:13.324499Z",
     "iopub.status.idle": "2023-11-10T18:57:13.342634Z",
     "shell.execute_reply": "2023-11-10T18:57:13.341028Z"
    },
    "papermill": {
     "duration": 0.024227,
     "end_time": "2023-11-10T18:57:13.345061",
     "exception": false,
     "start_time": "2023-11-10T18:57:13.320834",
     "status": "completed"
    },
    "tags": []
   },
   "outputs": [],
   "source": [
    "# Drop Name Column\n",
    "train_data = train_data.drop('Name', axis=1)\n",
    "test_data = test_data.drop('Name', axis=1)\n",
    "\n",
    "# Drop Ticket Column\n",
    "train_data = train_data.drop('Ticket', axis=1)\n",
    "test_data = test_data.drop('Ticket', axis=1)"
   ]
  }
 ],
 "metadata": {
  "kernelspec": {
   "display_name": "Python 3",
   "language": "python",
   "name": "python3"
  },
  "language_info": {
   "codemirror_mode": {
    "name": "ipython",
    "version": 3
   },
   "file_extension": ".py",
   "mimetype": "text/x-python",
   "name": "python",
   "nbconvert_exporter": "python",
   "pygments_lexer": "ipython3",
   "version": "3.10.12"
  },
  "papermill": {
   "default_parameters": {},
   "duration": 4.981146,
   "end_time": "2023-11-10T18:57:13.867931",
   "environment_variables": {},
   "exception": null,
   "input_path": "__notebook__.ipynb",
   "output_path": "__notebook__.ipynb",
   "parameters": {},
   "start_time": "2023-11-10T18:57:08.886785",
   "version": "2.4.0"
  }
 },
 "nbformat": 4,
 "nbformat_minor": 5
}

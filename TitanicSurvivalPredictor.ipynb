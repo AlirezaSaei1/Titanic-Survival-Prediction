{
 "cells": [
  {
   "cell_type": "markdown",
   "id": "7a7b4539",
   "metadata": {
    "papermill": {
     "duration": 0.009156,
     "end_time": "2023-11-12T20:42:39.382775",
     "exception": false,
     "start_time": "2023-11-12T20:42:39.373619",
     "status": "completed"
    },
    "tags": []
   },
   "source": [
    "# Import Required Libraraies"
   ]
  },
  {
   "cell_type": "code",
   "execution_count": 1,
   "id": "d370f7db",
   "metadata": {
    "execution": {
     "iopub.execute_input": "2023-11-12T20:42:39.402126Z",
     "iopub.status.busy": "2023-11-12T20:42:39.401537Z",
     "iopub.status.idle": "2023-11-12T20:42:39.698318Z",
     "shell.execute_reply": "2023-11-12T20:42:39.696875Z"
    },
    "papermill": {
     "duration": 0.309411,
     "end_time": "2023-11-12T20:42:39.700785",
     "exception": false,
     "start_time": "2023-11-12T20:42:39.391374",
     "status": "completed"
    },
    "tags": []
   },
   "outputs": [],
   "source": [
    "import re\n",
    "import numpy as np\n",
    "import pandas as pd"
   ]
  },
  {
   "cell_type": "markdown",
   "id": "13db7667",
   "metadata": {
    "papermill": {
     "duration": 0.008223,
     "end_time": "2023-11-12T20:42:39.717529",
     "exception": false,
     "start_time": "2023-11-12T20:42:39.709306",
     "status": "completed"
    },
    "tags": []
   },
   "source": [
    "# Read Data"
   ]
  },
  {
   "cell_type": "code",
   "execution_count": 2,
   "id": "26584e14",
   "metadata": {
    "execution": {
     "iopub.execute_input": "2023-11-12T20:42:39.735745Z",
     "iopub.status.busy": "2023-11-12T20:42:39.735237Z",
     "iopub.status.idle": "2023-11-12T20:42:39.769006Z",
     "shell.execute_reply": "2023-11-12T20:42:39.767516Z"
    },
    "papermill": {
     "duration": 0.046415,
     "end_time": "2023-11-12T20:42:39.772254",
     "exception": false,
     "start_time": "2023-11-12T20:42:39.725839",
     "status": "completed"
    },
    "tags": []
   },
   "outputs": [],
   "source": [
    "train_data = pd.read_csv('/kaggle/input/titanic/train.csv')\n",
    "test_data = pd.read_csv('/kaggle/input/titanic/test.csv')\n",
    "gender_sub = pd.read_csv('/kaggle/input/titanic/gender_submission.csv')"
   ]
  },
  {
   "cell_type": "code",
   "execution_count": 3,
   "id": "8182349b",
   "metadata": {
    "execution": {
     "iopub.execute_input": "2023-11-12T20:42:39.791178Z",
     "iopub.status.busy": "2023-11-12T20:42:39.790810Z",
     "iopub.status.idle": "2023-11-12T20:42:39.819769Z",
     "shell.execute_reply": "2023-11-12T20:42:39.818658Z"
    },
    "papermill": {
     "duration": 0.041291,
     "end_time": "2023-11-12T20:42:39.822381",
     "exception": false,
     "start_time": "2023-11-12T20:42:39.781090",
     "status": "completed"
    },
    "tags": []
   },
   "outputs": [
    {
     "data": {
      "text/html": [
       "<div>\n",
       "<style scoped>\n",
       "    .dataframe tbody tr th:only-of-type {\n",
       "        vertical-align: middle;\n",
       "    }\n",
       "\n",
       "    .dataframe tbody tr th {\n",
       "        vertical-align: top;\n",
       "    }\n",
       "\n",
       "    .dataframe thead th {\n",
       "        text-align: right;\n",
       "    }\n",
       "</style>\n",
       "<table border=\"1\" class=\"dataframe\">\n",
       "  <thead>\n",
       "    <tr style=\"text-align: right;\">\n",
       "      <th></th>\n",
       "      <th>PassengerId</th>\n",
       "      <th>Pclass</th>\n",
       "      <th>Name</th>\n",
       "      <th>Sex</th>\n",
       "      <th>Age</th>\n",
       "      <th>SibSp</th>\n",
       "      <th>Parch</th>\n",
       "      <th>Ticket</th>\n",
       "      <th>Fare</th>\n",
       "      <th>Cabin</th>\n",
       "      <th>Embarked</th>\n",
       "    </tr>\n",
       "  </thead>\n",
       "  <tbody>\n",
       "    <tr>\n",
       "      <th>0</th>\n",
       "      <td>892</td>\n",
       "      <td>3</td>\n",
       "      <td>Kelly, Mr. James</td>\n",
       "      <td>male</td>\n",
       "      <td>34.5</td>\n",
       "      <td>0</td>\n",
       "      <td>0</td>\n",
       "      <td>330911</td>\n",
       "      <td>7.8292</td>\n",
       "      <td>NaN</td>\n",
       "      <td>Q</td>\n",
       "    </tr>\n",
       "    <tr>\n",
       "      <th>1</th>\n",
       "      <td>893</td>\n",
       "      <td>3</td>\n",
       "      <td>Wilkes, Mrs. James (Ellen Needs)</td>\n",
       "      <td>female</td>\n",
       "      <td>47.0</td>\n",
       "      <td>1</td>\n",
       "      <td>0</td>\n",
       "      <td>363272</td>\n",
       "      <td>7.0000</td>\n",
       "      <td>NaN</td>\n",
       "      <td>S</td>\n",
       "    </tr>\n",
       "    <tr>\n",
       "      <th>2</th>\n",
       "      <td>894</td>\n",
       "      <td>2</td>\n",
       "      <td>Myles, Mr. Thomas Francis</td>\n",
       "      <td>male</td>\n",
       "      <td>62.0</td>\n",
       "      <td>0</td>\n",
       "      <td>0</td>\n",
       "      <td>240276</td>\n",
       "      <td>9.6875</td>\n",
       "      <td>NaN</td>\n",
       "      <td>Q</td>\n",
       "    </tr>\n",
       "    <tr>\n",
       "      <th>3</th>\n",
       "      <td>895</td>\n",
       "      <td>3</td>\n",
       "      <td>Wirz, Mr. Albert</td>\n",
       "      <td>male</td>\n",
       "      <td>27.0</td>\n",
       "      <td>0</td>\n",
       "      <td>0</td>\n",
       "      <td>315154</td>\n",
       "      <td>8.6625</td>\n",
       "      <td>NaN</td>\n",
       "      <td>S</td>\n",
       "    </tr>\n",
       "    <tr>\n",
       "      <th>4</th>\n",
       "      <td>896</td>\n",
       "      <td>3</td>\n",
       "      <td>Hirvonen, Mrs. Alexander (Helga E Lindqvist)</td>\n",
       "      <td>female</td>\n",
       "      <td>22.0</td>\n",
       "      <td>1</td>\n",
       "      <td>1</td>\n",
       "      <td>3101298</td>\n",
       "      <td>12.2875</td>\n",
       "      <td>NaN</td>\n",
       "      <td>S</td>\n",
       "    </tr>\n",
       "  </tbody>\n",
       "</table>\n",
       "</div>"
      ],
      "text/plain": [
       "   PassengerId  Pclass                                          Name     Sex  \\\n",
       "0          892       3                              Kelly, Mr. James    male   \n",
       "1          893       3              Wilkes, Mrs. James (Ellen Needs)  female   \n",
       "2          894       2                     Myles, Mr. Thomas Francis    male   \n",
       "3          895       3                              Wirz, Mr. Albert    male   \n",
       "4          896       3  Hirvonen, Mrs. Alexander (Helga E Lindqvist)  female   \n",
       "\n",
       "    Age  SibSp  Parch   Ticket     Fare Cabin Embarked  \n",
       "0  34.5      0      0   330911   7.8292   NaN        Q  \n",
       "1  47.0      1      0   363272   7.0000   NaN        S  \n",
       "2  62.0      0      0   240276   9.6875   NaN        Q  \n",
       "3  27.0      0      0   315154   8.6625   NaN        S  \n",
       "4  22.0      1      1  3101298  12.2875   NaN        S  "
      ]
     },
     "execution_count": 3,
     "metadata": {},
     "output_type": "execute_result"
    }
   ],
   "source": [
    "test_data.head()"
   ]
  },
  {
   "cell_type": "markdown",
   "id": "c42b79b8",
   "metadata": {
    "papermill": {
     "duration": 0.008716,
     "end_time": "2023-11-12T20:42:39.840307",
     "exception": false,
     "start_time": "2023-11-12T20:42:39.831591",
     "status": "completed"
    },
    "tags": []
   },
   "source": [
    "# Data Purification and Feature Engineering"
   ]
  },
  {
   "cell_type": "markdown",
   "id": "404885cd",
   "metadata": {
    "papermill": {
     "duration": 0.008797,
     "end_time": "2023-11-12T20:42:39.857909",
     "exception": false,
     "start_time": "2023-11-12T20:42:39.849112",
     "status": "completed"
    },
    "tags": []
   },
   "source": [
    "## Name\n",
    "### Extract titles from names"
   ]
  },
  {
   "cell_type": "code",
   "execution_count": 4,
   "id": "573148ad",
   "metadata": {
    "execution": {
     "iopub.execute_input": "2023-11-12T20:42:39.877624Z",
     "iopub.status.busy": "2023-11-12T20:42:39.877264Z",
     "iopub.status.idle": "2023-11-12T20:42:39.895614Z",
     "shell.execute_reply": "2023-11-12T20:42:39.894131Z"
    },
    "papermill": {
     "duration": 0.030951,
     "end_time": "2023-11-12T20:42:39.897769",
     "exception": false,
     "start_time": "2023-11-12T20:42:39.866818",
     "status": "completed"
    },
    "tags": []
   },
   "outputs": [
    {
     "name": "stdout",
     "output_type": "stream",
     "text": [
      "All unique titles in names (Train): ['Mr' 'Mrs' 'Miss' 'Master' 'Don' 'Rev' 'Dr' 'Mme' 'Ms' 'Major' 'Lady'\n",
      " 'Sir' 'Mlle' 'Col' 'Capt' 'Countess' 'Jonkheer']\n",
      "All unique titles in names (Test): ['Mr' 'Mrs' 'Miss' 'Master' 'Ms' 'Col' 'Rev' 'Dr' 'Dona']\n"
     ]
    }
   ],
   "source": [
    "train_data['Title'] = train_data['Name'].apply(lambda x: re.search(' ([A-Za-z]+)\\.', x).group(1))\n",
    "test_data['Title'] = test_data['Name'].apply(lambda x: re.search(' ([A-Za-z]+)\\.', x).group(1))\n",
    "\n",
    "# Display the unique titles\n",
    "print(f'All unique titles in names (Train): {train_data[\"Title\"].unique()}')\n",
    "print(f'All unique titles in names (Test): {test_data[\"Title\"].unique()}')"
   ]
  },
  {
   "cell_type": "code",
   "execution_count": 5,
   "id": "9595495e",
   "metadata": {
    "execution": {
     "iopub.execute_input": "2023-11-12T20:42:39.918896Z",
     "iopub.status.busy": "2023-11-12T20:42:39.918033Z",
     "iopub.status.idle": "2023-11-12T20:42:39.928956Z",
     "shell.execute_reply": "2023-11-12T20:42:39.927984Z"
    },
    "papermill": {
     "duration": 0.024435,
     "end_time": "2023-11-12T20:42:39.931309",
     "exception": false,
     "start_time": "2023-11-12T20:42:39.906874",
     "status": "completed"
    },
    "tags": []
   },
   "outputs": [],
   "source": [
    "# Train Data\n",
    "train_data['Title'] = train_data['Title'].replace(['Lady', 'Countess', 'Capt', 'Col', 'Don', 'Dr','Major', 'Rev', 'Sir', 'Jonkheer', 'Dona'], 'Other')\n",
    "train_data['Title'] = train_data['Title'].replace(['Mlle', 'Ms'], 'Miss')\n",
    "train_data['Title'] = train_data['Title'].replace('Mme', 'Mrs')\n",
    "\n",
    "# Test Data\n",
    "test_data['Title'] = test_data['Title'].replace(['Lady', 'Countess', 'Capt', 'Col', 'Don', 'Dr','Major', 'Rev', 'Sir', 'Jonkheer', 'Dona'], 'Other')\n",
    "test_data['Title'] = test_data['Title'].replace(['Mlle', 'Ms'], 'Miss')\n",
    "test_data['Title'] = test_data['Title'].replace('Mme', 'Mrs')"
   ]
  },
  {
   "cell_type": "code",
   "execution_count": 6,
   "id": "2c67446d",
   "metadata": {
    "execution": {
     "iopub.execute_input": "2023-11-12T20:42:39.951351Z",
     "iopub.status.busy": "2023-11-12T20:42:39.950954Z",
     "iopub.status.idle": "2023-11-12T20:42:39.956997Z",
     "shell.execute_reply": "2023-11-12T20:42:39.955856Z"
    },
    "papermill": {
     "duration": 0.018858,
     "end_time": "2023-11-12T20:42:39.959549",
     "exception": false,
     "start_time": "2023-11-12T20:42:39.940691",
     "status": "completed"
    },
    "tags": []
   },
   "outputs": [
    {
     "name": "stdout",
     "output_type": "stream",
     "text": [
      "Train Titles: ['Mr' 'Mrs' 'Miss' 'Master' 'Other']\n",
      "Test Titles: ['Mr' 'Mrs' 'Miss' 'Master' 'Other']\n"
     ]
    }
   ],
   "source": [
    "print(f'Train Titles: {train_data[\"Title\"].unique()}')\n",
    "print(f'Test Titles: {test_data[\"Title\"].unique()}')"
   ]
  },
  {
   "cell_type": "markdown",
   "id": "71e51356",
   "metadata": {
    "papermill": {
     "duration": 0.008417,
     "end_time": "2023-11-12T20:42:39.977071",
     "exception": false,
     "start_time": "2023-11-12T20:42:39.968654",
     "status": "completed"
    },
    "tags": []
   },
   "source": [
    "### Drop Names"
   ]
  },
  {
   "cell_type": "code",
   "execution_count": 7,
   "id": "349fb835",
   "metadata": {
    "execution": {
     "iopub.execute_input": "2023-11-12T20:42:39.995510Z",
     "iopub.status.busy": "2023-11-12T20:42:39.995166Z",
     "iopub.status.idle": "2023-11-12T20:42:40.008298Z",
     "shell.execute_reply": "2023-11-12T20:42:40.006703Z"
    },
    "papermill": {
     "duration": 0.024903,
     "end_time": "2023-11-12T20:42:40.010276",
     "exception": false,
     "start_time": "2023-11-12T20:42:39.985373",
     "status": "completed"
    },
    "tags": []
   },
   "outputs": [],
   "source": [
    "train_data = train_data.drop('Name', axis=1)\n",
    "test_data = test_data.drop('Name', axis=1)"
   ]
  },
  {
   "cell_type": "markdown",
   "id": "155b3be6",
   "metadata": {
    "papermill": {
     "duration": 0.00904,
     "end_time": "2023-11-12T20:42:40.028574",
     "exception": false,
     "start_time": "2023-11-12T20:42:40.019534",
     "status": "completed"
    },
    "tags": []
   },
   "source": [
    "### Encode Titles"
   ]
  },
  {
   "cell_type": "code",
   "execution_count": 8,
   "id": "9712c3de",
   "metadata": {
    "execution": {
     "iopub.execute_input": "2023-11-12T20:42:40.047636Z",
     "iopub.status.busy": "2023-11-12T20:42:40.047278Z",
     "iopub.status.idle": "2023-11-12T20:42:40.055294Z",
     "shell.execute_reply": "2023-11-12T20:42:40.053879Z"
    },
    "papermill": {
     "duration": 0.020292,
     "end_time": "2023-11-12T20:42:40.057427",
     "exception": false,
     "start_time": "2023-11-12T20:42:40.037135",
     "status": "completed"
    },
    "tags": []
   },
   "outputs": [],
   "source": [
    "title_to_number = {'Mr': 0, 'Mrs': 1, 'Miss': 2, 'Master': 3, 'Other': 4}\n",
    "\n",
    "train_data['Title'] = train_data['Title'].apply(lambda x: title_to_number[x])\n",
    "test_data['Title'] = test_data['Title'].apply(lambda x: title_to_number[x])"
   ]
  },
  {
   "cell_type": "markdown",
   "id": "0cb705f3",
   "metadata": {
    "papermill": {
     "duration": 0.008844,
     "end_time": "2023-11-12T20:42:40.075325",
     "exception": false,
     "start_time": "2023-11-12T20:42:40.066481",
     "status": "completed"
    },
    "tags": []
   },
   "source": [
    "## Ticket\n",
    "### Drop ticket columns"
   ]
  },
  {
   "cell_type": "code",
   "execution_count": 9,
   "id": "81877b8c",
   "metadata": {
    "execution": {
     "iopub.execute_input": "2023-11-12T20:42:40.094997Z",
     "iopub.status.busy": "2023-11-12T20:42:40.094637Z",
     "iopub.status.idle": "2023-11-12T20:42:40.100756Z",
     "shell.execute_reply": "2023-11-12T20:42:40.099970Z"
    },
    "papermill": {
     "duration": 0.018414,
     "end_time": "2023-11-12T20:42:40.102623",
     "exception": false,
     "start_time": "2023-11-12T20:42:40.084209",
     "status": "completed"
    },
    "tags": []
   },
   "outputs": [],
   "source": [
    "# Drop Ticket Column\n",
    "train_data = train_data.drop('Ticket', axis=1)\n",
    "test_data = test_data.drop('Ticket', axis=1)"
   ]
  },
  {
   "cell_type": "markdown",
   "id": "97446278",
   "metadata": {
    "papermill": {
     "duration": 0.009555,
     "end_time": "2023-11-12T20:42:40.122054",
     "exception": false,
     "start_time": "2023-11-12T20:42:40.112499",
     "status": "completed"
    },
    "tags": []
   },
   "source": [
    "## Sex\n",
    "### Convert sexes to 0s and 1s"
   ]
  },
  {
   "cell_type": "code",
   "execution_count": 10,
   "id": "d58e6748",
   "metadata": {
    "execution": {
     "iopub.execute_input": "2023-11-12T20:42:40.143412Z",
     "iopub.status.busy": "2023-11-12T20:42:40.142768Z",
     "iopub.status.idle": "2023-11-12T20:42:40.149891Z",
     "shell.execute_reply": "2023-11-12T20:42:40.149214Z"
    },
    "papermill": {
     "duration": 0.019988,
     "end_time": "2023-11-12T20:42:40.152254",
     "exception": false,
     "start_time": "2023-11-12T20:42:40.132266",
     "status": "completed"
    },
    "tags": []
   },
   "outputs": [
    {
     "name": "stdout",
     "output_type": "stream",
     "text": [
      "Number of distinct values for sex: {0, 1}\n"
     ]
    }
   ],
   "source": [
    "# Encode Sex\n",
    "train_data['Sex'] = train_data['Sex'].replace({'male': 0, 'female': 1})\n",
    "test_data['Sex'] = test_data['Sex'].replace({'male': 0, 'female': 1})\n",
    "print(f'Number of distinct values for sex: {set(test_data[\"Sex\"])}')"
   ]
  },
  {
   "cell_type": "markdown",
   "id": "fbaaf76c",
   "metadata": {
    "papermill": {
     "duration": 0.059294,
     "end_time": "2023-11-12T20:42:40.220624",
     "exception": false,
     "start_time": "2023-11-12T20:42:40.161330",
     "status": "completed"
    },
    "tags": []
   },
   "source": [
    "## Cabin\n",
    "### Extract letters from Cabins"
   ]
  },
  {
   "cell_type": "code",
   "execution_count": 11,
   "id": "c8a7582c",
   "metadata": {
    "execution": {
     "iopub.execute_input": "2023-11-12T20:42:40.240251Z",
     "iopub.status.busy": "2023-11-12T20:42:40.239874Z",
     "iopub.status.idle": "2023-11-12T20:42:40.250509Z",
     "shell.execute_reply": "2023-11-12T20:42:40.249107Z"
    },
    "papermill": {
     "duration": 0.022783,
     "end_time": "2023-11-12T20:42:40.252443",
     "exception": false,
     "start_time": "2023-11-12T20:42:40.229660",
     "status": "completed"
    },
    "tags": []
   },
   "outputs": [
    {
     "name": "stdout",
     "output_type": "stream",
     "text": [
      "['X' 'C' 'E' 'G' 'D' 'A' 'B' 'F' 'T']\n",
      "['X' 'B' 'E' 'A' 'C' 'D' 'F' 'G']\n"
     ]
    }
   ],
   "source": [
    "train_data['Cabin'] = train_data['Cabin'].fillna(\"X\")\n",
    "print(train_data['Cabin'].str[0].unique())\n",
    "\n",
    "test_data['Cabin'] = test_data['Cabin'].fillna(\"X\")\n",
    "print(test_data['Cabin'].str[0].unique())"
   ]
  },
  {
   "cell_type": "markdown",
   "id": "af3fceeb",
   "metadata": {
    "papermill": {
     "duration": 0.008625,
     "end_time": "2023-11-12T20:42:40.270178",
     "exception": false,
     "start_time": "2023-11-12T20:42:40.261553",
     "status": "completed"
    },
    "tags": []
   },
   "source": [
    "### Encode letters"
   ]
  },
  {
   "cell_type": "code",
   "execution_count": 12,
   "id": "186ae120",
   "metadata": {
    "execution": {
     "iopub.execute_input": "2023-11-12T20:42:40.291629Z",
     "iopub.status.busy": "2023-11-12T20:42:40.291245Z",
     "iopub.status.idle": "2023-11-12T20:42:40.298548Z",
     "shell.execute_reply": "2023-11-12T20:42:40.297800Z"
    },
    "papermill": {
     "duration": 0.01994,
     "end_time": "2023-11-12T20:42:40.300801",
     "exception": false,
     "start_time": "2023-11-12T20:42:40.280861",
     "status": "completed"
    },
    "tags": []
   },
   "outputs": [],
   "source": [
    "cabin_to_number = {'X': 0, 'A': 1, 'B': 2, 'C': 3, 'D': 4, 'E': 5, 'F': 6, 'G': 7, 'T': 8}\n",
    "\n",
    "train_data['Cabin_Encoded'] = train_data['Cabin'].apply(lambda x: cabin_to_number[x[0]])\n",
    "test_data['Cabin_Encoded'] = test_data['Cabin'].apply(lambda x: cabin_to_number[x[0]])"
   ]
  },
  {
   "cell_type": "markdown",
   "id": "036b8754",
   "metadata": {
    "papermill": {
     "duration": 0.00939,
     "end_time": "2023-11-12T20:42:40.319805",
     "exception": false,
     "start_time": "2023-11-12T20:42:40.310415",
     "status": "completed"
    },
    "tags": []
   },
   "source": [
    "### Drop Cabin Column"
   ]
  },
  {
   "cell_type": "code",
   "execution_count": 13,
   "id": "ba173eb4",
   "metadata": {
    "execution": {
     "iopub.execute_input": "2023-11-12T20:42:40.340068Z",
     "iopub.status.busy": "2023-11-12T20:42:40.339428Z",
     "iopub.status.idle": "2023-11-12T20:42:40.345520Z",
     "shell.execute_reply": "2023-11-12T20:42:40.344503Z"
    },
    "papermill": {
     "duration": 0.018612,
     "end_time": "2023-11-12T20:42:40.347658",
     "exception": false,
     "start_time": "2023-11-12T20:42:40.329046",
     "status": "completed"
    },
    "tags": []
   },
   "outputs": [],
   "source": [
    "train_data = train_data.drop('Cabin', axis=1)\n",
    "test_data = test_data.drop('Cabin', axis=1)"
   ]
  },
  {
   "cell_type": "markdown",
   "id": "e3794a90",
   "metadata": {
    "papermill": {
     "duration": 0.008629,
     "end_time": "2023-11-12T20:42:40.365663",
     "exception": false,
     "start_time": "2023-11-12T20:42:40.357034",
     "status": "completed"
    },
    "tags": []
   },
   "source": [
    "## Embarked\n",
    "### Fill Null values with 'S'"
   ]
  },
  {
   "cell_type": "code",
   "execution_count": 14,
   "id": "ef65afe5",
   "metadata": {
    "execution": {
     "iopub.execute_input": "2023-11-12T20:42:40.385606Z",
     "iopub.status.busy": "2023-11-12T20:42:40.384963Z",
     "iopub.status.idle": "2023-11-12T20:42:40.395573Z",
     "shell.execute_reply": "2023-11-12T20:42:40.394592Z"
    },
    "papermill": {
     "duration": 0.023223,
     "end_time": "2023-11-12T20:42:40.397884",
     "exception": false,
     "start_time": "2023-11-12T20:42:40.374661",
     "status": "completed"
    },
    "tags": []
   },
   "outputs": [],
   "source": [
    "train_data['Embarked'].describe()\n",
    "\n",
    "train_data['Embarked'] = train_data['Embarked'].fillna('S')\n",
    "test_data['Embarked'] = test_data['Embarked'].fillna('S')"
   ]
  },
  {
   "cell_type": "markdown",
   "id": "11fac2a6",
   "metadata": {
    "papermill": {
     "duration": 0.008939,
     "end_time": "2023-11-12T20:42:40.416107",
     "exception": false,
     "start_time": "2023-11-12T20:42:40.407168",
     "status": "completed"
    },
    "tags": []
   },
   "source": [
    "### Encode Embarked Values"
   ]
  },
  {
   "cell_type": "code",
   "execution_count": 15,
   "id": "682b3949",
   "metadata": {
    "execution": {
     "iopub.execute_input": "2023-11-12T20:42:40.435773Z",
     "iopub.status.busy": "2023-11-12T20:42:40.435435Z",
     "iopub.status.idle": "2023-11-12T20:42:40.441822Z",
     "shell.execute_reply": "2023-11-12T20:42:40.440969Z"
    },
    "papermill": {
     "duration": 0.017921,
     "end_time": "2023-11-12T20:42:40.443397",
     "exception": false,
     "start_time": "2023-11-12T20:42:40.425476",
     "status": "completed"
    },
    "tags": []
   },
   "outputs": [],
   "source": [
    "embark_to_number = {'S': 0, 'C': 1, 'Q': 2}\n",
    "\n",
    "train_data['Embarked'] = train_data['Embarked'].apply(lambda x: embark_to_number[x])\n",
    "test_data['Embarked'] = test_data['Embarked'].apply(lambda x: embark_to_number[x])"
   ]
  },
  {
   "cell_type": "markdown",
   "id": "5abcab92",
   "metadata": {
    "papermill": {
     "duration": 0.008577,
     "end_time": "2023-11-12T20:42:40.461213",
     "exception": false,
     "start_time": "2023-11-12T20:42:40.452636",
     "status": "completed"
    },
    "tags": []
   },
   "source": [
    "## Age\n",
    "### Fill null values of age with mean age of train set"
   ]
  },
  {
   "cell_type": "code",
   "execution_count": 16,
   "id": "11f76281",
   "metadata": {
    "execution": {
     "iopub.execute_input": "2023-11-12T20:42:40.480715Z",
     "iopub.status.busy": "2023-11-12T20:42:40.480372Z",
     "iopub.status.idle": "2023-11-12T20:42:40.486983Z",
     "shell.execute_reply": "2023-11-12T20:42:40.486104Z"
    },
    "papermill": {
     "duration": 0.01833,
     "end_time": "2023-11-12T20:42:40.488703",
     "exception": false,
     "start_time": "2023-11-12T20:42:40.470373",
     "status": "completed"
    },
    "tags": []
   },
   "outputs": [],
   "source": [
    "mean_age = train_data['Age'].mean()\n",
    "\n",
    "train_data['Age'] = train_data['Age'].fillna(mean_age)\n",
    "test_data['Age'] = test_data['Age'].fillna(mean_age)"
   ]
  },
  {
   "cell_type": "markdown",
   "id": "f9d9a3ec",
   "metadata": {
    "papermill": {
     "duration": 0.008919,
     "end_time": "2023-11-12T20:42:40.507126",
     "exception": false,
     "start_time": "2023-11-12T20:42:40.498207",
     "status": "completed"
    },
    "tags": []
   },
   "source": [
    "### Convert ages to int"
   ]
  },
  {
   "cell_type": "code",
   "execution_count": 17,
   "id": "5b276947",
   "metadata": {
    "execution": {
     "iopub.execute_input": "2023-11-12T20:42:40.527319Z",
     "iopub.status.busy": "2023-11-12T20:42:40.526979Z",
     "iopub.status.idle": "2023-11-12T20:42:40.533173Z",
     "shell.execute_reply": "2023-11-12T20:42:40.531889Z"
    },
    "papermill": {
     "duration": 0.019001,
     "end_time": "2023-11-12T20:42:40.535553",
     "exception": false,
     "start_time": "2023-11-12T20:42:40.516552",
     "status": "completed"
    },
    "tags": []
   },
   "outputs": [],
   "source": [
    "train_data['Age'] = train_data['Age'].astype(int)\n",
    "test_data['Age'] = test_data['Age'].astype(int)"
   ]
  },
  {
   "cell_type": "markdown",
   "id": "f5a2594e",
   "metadata": {
    "papermill": {
     "duration": 0.008428,
     "end_time": "2023-11-12T20:42:40.553299",
     "exception": false,
     "start_time": "2023-11-12T20:42:40.544871",
     "status": "completed"
    },
    "tags": []
   },
   "source": [
    "## Fare"
   ]
  },
  {
   "cell_type": "code",
   "execution_count": 18,
   "id": "f94036ba",
   "metadata": {
    "execution": {
     "iopub.execute_input": "2023-11-12T20:42:40.572672Z",
     "iopub.status.busy": "2023-11-12T20:42:40.572322Z",
     "iopub.status.idle": "2023-11-12T20:42:40.578279Z",
     "shell.execute_reply": "2023-11-12T20:42:40.577410Z"
    },
    "papermill": {
     "duration": 0.017717,
     "end_time": "2023-11-12T20:42:40.580118",
     "exception": false,
     "start_time": "2023-11-12T20:42:40.562401",
     "status": "completed"
    },
    "tags": []
   },
   "outputs": [
    {
     "name": "stdout",
     "output_type": "stream",
     "text": [
      "number of fare null values of train set: 0\n",
      "number of fare null values of test set: 1\n"
     ]
    }
   ],
   "source": [
    "print(f'number of fare null values of train set: {train_data[\"Fare\"].isna().sum()}')\n",
    "print(f'number of fare null values of test set: {test_data[\"Fare\"].isna().sum()}')"
   ]
  },
  {
   "cell_type": "markdown",
   "id": "0e5bf85c",
   "metadata": {
    "papermill": {
     "duration": 0.008663,
     "end_time": "2023-11-12T20:42:40.597915",
     "exception": false,
     "start_time": "2023-11-12T20:42:40.589252",
     "status": "completed"
    },
    "tags": []
   },
   "source": [
    "### Fill null values with mean fare"
   ]
  },
  {
   "cell_type": "code",
   "execution_count": 19,
   "id": "1fd437d6",
   "metadata": {
    "execution": {
     "iopub.execute_input": "2023-11-12T20:42:40.619711Z",
     "iopub.status.busy": "2023-11-12T20:42:40.619355Z",
     "iopub.status.idle": "2023-11-12T20:42:40.624895Z",
     "shell.execute_reply": "2023-11-12T20:42:40.623983Z"
    },
    "papermill": {
     "duration": 0.019016,
     "end_time": "2023-11-12T20:42:40.627276",
     "exception": false,
     "start_time": "2023-11-12T20:42:40.608260",
     "status": "completed"
    },
    "tags": []
   },
   "outputs": [],
   "source": [
    "mean_fare = train_data['Fare'].mean()\n",
    "\n",
    "train_data['Fare'] = train_data['Fare'].fillna(mean_fare)\n",
    "test_data['Fare'] = test_data['Fare'].fillna(mean_fare)"
   ]
  },
  {
   "cell_type": "markdown",
   "id": "1bb20b5f",
   "metadata": {
    "papermill": {
     "duration": 0.008852,
     "end_time": "2023-11-12T20:42:40.645665",
     "exception": false,
     "start_time": "2023-11-12T20:42:40.636813",
     "status": "completed"
    },
    "tags": []
   },
   "source": [
    "### Convert fares to ints"
   ]
  },
  {
   "cell_type": "code",
   "execution_count": 20,
   "id": "10008767",
   "metadata": {
    "execution": {
     "iopub.execute_input": "2023-11-12T20:42:40.665516Z",
     "iopub.status.busy": "2023-11-12T20:42:40.665197Z",
     "iopub.status.idle": "2023-11-12T20:42:40.670646Z",
     "shell.execute_reply": "2023-11-12T20:42:40.669665Z"
    },
    "papermill": {
     "duration": 0.01747,
     "end_time": "2023-11-12T20:42:40.672477",
     "exception": false,
     "start_time": "2023-11-12T20:42:40.655007",
     "status": "completed"
    },
    "tags": []
   },
   "outputs": [],
   "source": [
    "train_data['Fare'] = train_data['Fare'].astype(int)\n",
    "test_data['Fare'] = test_data['Fare'].astype(int)"
   ]
  },
  {
   "cell_type": "markdown",
   "id": "b6e53a67",
   "metadata": {
    "papermill": {
     "duration": 0.008723,
     "end_time": "2023-11-12T20:42:40.690293",
     "exception": false,
     "start_time": "2023-11-12T20:42:40.681570",
     "status": "completed"
    },
    "tags": []
   },
   "source": [
    "## PassengerId (Train)\n",
    "### Drop column"
   ]
  },
  {
   "cell_type": "code",
   "execution_count": 21,
   "id": "3fc03b91",
   "metadata": {
    "execution": {
     "iopub.execute_input": "2023-11-12T20:42:40.709636Z",
     "iopub.status.busy": "2023-11-12T20:42:40.709334Z",
     "iopub.status.idle": "2023-11-12T20:42:40.713975Z",
     "shell.execute_reply": "2023-11-12T20:42:40.713101Z"
    },
    "papermill": {
     "duration": 0.016352,
     "end_time": "2023-11-12T20:42:40.715565",
     "exception": false,
     "start_time": "2023-11-12T20:42:40.699213",
     "status": "completed"
    },
    "tags": []
   },
   "outputs": [],
   "source": [
    "train_data = train_data.drop(['PassengerId'], axis=1)"
   ]
  },
  {
   "cell_type": "markdown",
   "id": "677008bb",
   "metadata": {
    "papermill": {
     "duration": 0.008505,
     "end_time": "2023-11-12T20:42:40.732823",
     "exception": false,
     "start_time": "2023-11-12T20:42:40.724318",
     "status": "completed"
    },
    "tags": []
   },
   "source": [
    "### Getting data ready"
   ]
  },
  {
   "cell_type": "code",
   "execution_count": 22,
   "id": "be2d31cf",
   "metadata": {
    "execution": {
     "iopub.execute_input": "2023-11-12T20:42:40.752408Z",
     "iopub.status.busy": "2023-11-12T20:42:40.752057Z",
     "iopub.status.idle": "2023-11-12T20:42:40.759543Z",
     "shell.execute_reply": "2023-11-12T20:42:40.758267Z"
    },
    "papermill": {
     "duration": 0.020206,
     "end_time": "2023-11-12T20:42:40.762040",
     "exception": false,
     "start_time": "2023-11-12T20:42:40.741834",
     "status": "completed"
    },
    "tags": []
   },
   "outputs": [],
   "source": [
    "X_train = train_data.drop(\"Survived\", axis=1)\n",
    "Y_train = train_data[\"Survived\"]\n",
    "X_test  = test_data.drop(\"PassengerId\", axis=1).copy()"
   ]
  },
  {
   "cell_type": "markdown",
   "id": "9b117be6",
   "metadata": {
    "papermill": {
     "duration": 0.008924,
     "end_time": "2023-11-12T20:42:40.780914",
     "exception": false,
     "start_time": "2023-11-12T20:42:40.771990",
     "status": "completed"
    },
    "tags": []
   },
   "source": [
    "# Data Normalization"
   ]
  },
  {
   "cell_type": "code",
   "execution_count": 23,
   "id": "de696e9d",
   "metadata": {
    "execution": {
     "iopub.execute_input": "2023-11-12T20:42:40.801103Z",
     "iopub.status.busy": "2023-11-12T20:42:40.800739Z",
     "iopub.status.idle": "2023-11-12T20:42:40.817123Z",
     "shell.execute_reply": "2023-11-12T20:42:40.816095Z"
    },
    "papermill": {
     "duration": 0.029429,
     "end_time": "2023-11-12T20:42:40.819512",
     "exception": false,
     "start_time": "2023-11-12T20:42:40.790083",
     "status": "completed"
    },
    "tags": []
   },
   "outputs": [],
   "source": [
    "for col in X_train.columns:\n",
    "    train_column = X_train[col]\n",
    "    test_column = X_test[col]\n",
    "    \n",
    "    mean_val = train_column.mean()\n",
    "    std_val = train_column.std()\n",
    "    \n",
    "    X_train[col] = (train_column - mean_val) / std_val\n",
    "    X_test[col] = (test_column - mean_val) / std_val"
   ]
  },
  {
   "cell_type": "code",
   "execution_count": 24,
   "id": "031ec077",
   "metadata": {
    "execution": {
     "iopub.execute_input": "2023-11-12T20:42:40.841358Z",
     "iopub.status.busy": "2023-11-12T20:42:40.840775Z",
     "iopub.status.idle": "2023-11-12T20:42:40.854410Z",
     "shell.execute_reply": "2023-11-12T20:42:40.853102Z"
    },
    "papermill": {
     "duration": 0.026813,
     "end_time": "2023-11-12T20:42:40.856672",
     "exception": false,
     "start_time": "2023-11-12T20:42:40.829859",
     "status": "completed"
    },
    "tags": []
   },
   "outputs": [
    {
     "data": {
      "text/html": [
       "<div>\n",
       "<style scoped>\n",
       "    .dataframe tbody tr th:only-of-type {\n",
       "        vertical-align: middle;\n",
       "    }\n",
       "\n",
       "    .dataframe tbody tr th {\n",
       "        vertical-align: top;\n",
       "    }\n",
       "\n",
       "    .dataframe thead th {\n",
       "        text-align: right;\n",
       "    }\n",
       "</style>\n",
       "<table border=\"1\" class=\"dataframe\">\n",
       "  <thead>\n",
       "    <tr style=\"text-align: right;\">\n",
       "      <th></th>\n",
       "      <th>Pclass</th>\n",
       "      <th>Sex</th>\n",
       "      <th>Age</th>\n",
       "      <th>SibSp</th>\n",
       "      <th>Parch</th>\n",
       "      <th>Fare</th>\n",
       "      <th>Embarked</th>\n",
       "      <th>Title</th>\n",
       "      <th>Cabin_Encoded</th>\n",
       "    </tr>\n",
       "  </thead>\n",
       "  <tbody>\n",
       "    <tr>\n",
       "      <th>0</th>\n",
       "      <td>0.826913</td>\n",
       "      <td>-0.737281</td>\n",
       "      <td>-0.579719</td>\n",
       "      <td>0.432550</td>\n",
       "      <td>-0.473408</td>\n",
       "      <td>-0.498667</td>\n",
       "      <td>-0.568518</td>\n",
       "      <td>-0.738132</td>\n",
       "      <td>-0.488186</td>\n",
       "    </tr>\n",
       "    <tr>\n",
       "      <th>1</th>\n",
       "      <td>-1.565228</td>\n",
       "      <td>1.354813</td>\n",
       "      <td>0.649747</td>\n",
       "      <td>0.432550</td>\n",
       "      <td>-0.473408</td>\n",
       "      <td>0.788962</td>\n",
       "      <td>1.004617</td>\n",
       "      <td>0.190788</td>\n",
       "      <td>1.397540</td>\n",
       "    </tr>\n",
       "    <tr>\n",
       "      <th>2</th>\n",
       "      <td>0.826913</td>\n",
       "      <td>1.354813</td>\n",
       "      <td>-0.272352</td>\n",
       "      <td>-0.474279</td>\n",
       "      <td>-0.473408</td>\n",
       "      <td>-0.498667</td>\n",
       "      <td>-0.568518</td>\n",
       "      <td>1.119709</td>\n",
       "      <td>-0.488186</td>\n",
       "    </tr>\n",
       "    <tr>\n",
       "      <th>3</th>\n",
       "      <td>-1.565228</td>\n",
       "      <td>1.354813</td>\n",
       "      <td>0.419222</td>\n",
       "      <td>0.432550</td>\n",
       "      <td>-0.473408</td>\n",
       "      <td>0.426816</td>\n",
       "      <td>-0.568518</td>\n",
       "      <td>0.190788</td>\n",
       "      <td>1.397540</td>\n",
       "    </tr>\n",
       "    <tr>\n",
       "      <th>4</th>\n",
       "      <td>0.826913</td>\n",
       "      <td>-0.737281</td>\n",
       "      <td>0.419222</td>\n",
       "      <td>-0.474279</td>\n",
       "      <td>-0.473408</td>\n",
       "      <td>-0.478548</td>\n",
       "      <td>-0.568518</td>\n",
       "      <td>-0.738132</td>\n",
       "      <td>-0.488186</td>\n",
       "    </tr>\n",
       "  </tbody>\n",
       "</table>\n",
       "</div>"
      ],
      "text/plain": [
       "     Pclass       Sex       Age     SibSp     Parch      Fare  Embarked  \\\n",
       "0  0.826913 -0.737281 -0.579719  0.432550 -0.473408 -0.498667 -0.568518   \n",
       "1 -1.565228  1.354813  0.649747  0.432550 -0.473408  0.788962  1.004617   \n",
       "2  0.826913  1.354813 -0.272352 -0.474279 -0.473408 -0.498667 -0.568518   \n",
       "3 -1.565228  1.354813  0.419222  0.432550 -0.473408  0.426816 -0.568518   \n",
       "4  0.826913 -0.737281  0.419222 -0.474279 -0.473408 -0.478548 -0.568518   \n",
       "\n",
       "      Title  Cabin_Encoded  \n",
       "0 -0.738132      -0.488186  \n",
       "1  0.190788       1.397540  \n",
       "2  1.119709      -0.488186  \n",
       "3  0.190788       1.397540  \n",
       "4 -0.738132      -0.488186  "
      ]
     },
     "execution_count": 24,
     "metadata": {},
     "output_type": "execute_result"
    }
   ],
   "source": [
    "X_train.head()"
   ]
  },
  {
   "cell_type": "code",
   "execution_count": 25,
   "id": "4fa83ae0",
   "metadata": {
    "execution": {
     "iopub.execute_input": "2023-11-12T20:42:40.876925Z",
     "iopub.status.busy": "2023-11-12T20:42:40.876567Z",
     "iopub.status.idle": "2023-11-12T20:42:40.892527Z",
     "shell.execute_reply": "2023-11-12T20:42:40.891312Z"
    },
    "papermill": {
     "duration": 0.02828,
     "end_time": "2023-11-12T20:42:40.894427",
     "exception": false,
     "start_time": "2023-11-12T20:42:40.866147",
     "status": "completed"
    },
    "tags": []
   },
   "outputs": [
    {
     "data": {
      "text/html": [
       "<div>\n",
       "<style scoped>\n",
       "    .dataframe tbody tr th:only-of-type {\n",
       "        vertical-align: middle;\n",
       "    }\n",
       "\n",
       "    .dataframe tbody tr th {\n",
       "        vertical-align: top;\n",
       "    }\n",
       "\n",
       "    .dataframe thead th {\n",
       "        text-align: right;\n",
       "    }\n",
       "</style>\n",
       "<table border=\"1\" class=\"dataframe\">\n",
       "  <thead>\n",
       "    <tr style=\"text-align: right;\">\n",
       "      <th></th>\n",
       "      <th>Pclass</th>\n",
       "      <th>Sex</th>\n",
       "      <th>Age</th>\n",
       "      <th>SibSp</th>\n",
       "      <th>Parch</th>\n",
       "      <th>Fare</th>\n",
       "      <th>Embarked</th>\n",
       "      <th>Title</th>\n",
       "      <th>Cabin_Encoded</th>\n",
       "    </tr>\n",
       "  </thead>\n",
       "  <tbody>\n",
       "    <tr>\n",
       "      <th>0</th>\n",
       "      <td>0.826913</td>\n",
       "      <td>-0.737281</td>\n",
       "      <td>0.342381</td>\n",
       "      <td>-0.474279</td>\n",
       "      <td>-0.473408</td>\n",
       "      <td>-0.498667</td>\n",
       "      <td>2.577752</td>\n",
       "      <td>-0.738132</td>\n",
       "      <td>-0.488186</td>\n",
       "    </tr>\n",
       "    <tr>\n",
       "      <th>1</th>\n",
       "      <td>0.826913</td>\n",
       "      <td>1.354813</td>\n",
       "      <td>1.341322</td>\n",
       "      <td>0.432550</td>\n",
       "      <td>-0.473408</td>\n",
       "      <td>-0.498667</td>\n",
       "      <td>-0.568518</td>\n",
       "      <td>0.190788</td>\n",
       "      <td>-0.488186</td>\n",
       "    </tr>\n",
       "    <tr>\n",
       "      <th>2</th>\n",
       "      <td>-0.369158</td>\n",
       "      <td>-0.737281</td>\n",
       "      <td>2.493947</td>\n",
       "      <td>-0.474279</td>\n",
       "      <td>-0.473408</td>\n",
       "      <td>-0.458429</td>\n",
       "      <td>2.577752</td>\n",
       "      <td>-0.738132</td>\n",
       "      <td>-0.488186</td>\n",
       "    </tr>\n",
       "    <tr>\n",
       "      <th>3</th>\n",
       "      <td>0.826913</td>\n",
       "      <td>-0.737281</td>\n",
       "      <td>-0.195511</td>\n",
       "      <td>-0.474279</td>\n",
       "      <td>-0.473408</td>\n",
       "      <td>-0.478548</td>\n",
       "      <td>-0.568518</td>\n",
       "      <td>-0.738132</td>\n",
       "      <td>-0.488186</td>\n",
       "    </tr>\n",
       "    <tr>\n",
       "      <th>4</th>\n",
       "      <td>0.826913</td>\n",
       "      <td>1.354813</td>\n",
       "      <td>-0.579719</td>\n",
       "      <td>0.432550</td>\n",
       "      <td>0.767199</td>\n",
       "      <td>-0.398071</td>\n",
       "      <td>-0.568518</td>\n",
       "      <td>0.190788</td>\n",
       "      <td>-0.488186</td>\n",
       "    </tr>\n",
       "  </tbody>\n",
       "</table>\n",
       "</div>"
      ],
      "text/plain": [
       "     Pclass       Sex       Age     SibSp     Parch      Fare  Embarked  \\\n",
       "0  0.826913 -0.737281  0.342381 -0.474279 -0.473408 -0.498667  2.577752   \n",
       "1  0.826913  1.354813  1.341322  0.432550 -0.473408 -0.498667 -0.568518   \n",
       "2 -0.369158 -0.737281  2.493947 -0.474279 -0.473408 -0.458429  2.577752   \n",
       "3  0.826913 -0.737281 -0.195511 -0.474279 -0.473408 -0.478548 -0.568518   \n",
       "4  0.826913  1.354813 -0.579719  0.432550  0.767199 -0.398071 -0.568518   \n",
       "\n",
       "      Title  Cabin_Encoded  \n",
       "0 -0.738132      -0.488186  \n",
       "1  0.190788      -0.488186  \n",
       "2 -0.738132      -0.488186  \n",
       "3 -0.738132      -0.488186  \n",
       "4  0.190788      -0.488186  "
      ]
     },
     "execution_count": 25,
     "metadata": {},
     "output_type": "execute_result"
    }
   ],
   "source": [
    "X_test.head()"
   ]
  },
  {
   "cell_type": "code",
   "execution_count": 26,
   "id": "a3ba6c1b",
   "metadata": {
    "execution": {
     "iopub.execute_input": "2023-11-12T20:42:40.916383Z",
     "iopub.status.busy": "2023-11-12T20:42:40.915142Z",
     "iopub.status.idle": "2023-11-12T20:42:40.922560Z",
     "shell.execute_reply": "2023-11-12T20:42:40.921774Z"
    },
    "papermill": {
     "duration": 0.020156,
     "end_time": "2023-11-12T20:42:40.924453",
     "exception": false,
     "start_time": "2023-11-12T20:42:40.904297",
     "status": "completed"
    },
    "tags": []
   },
   "outputs": [
    {
     "data": {
      "text/plain": [
       "0    0\n",
       "1    1\n",
       "2    1\n",
       "3    1\n",
       "4    0\n",
       "Name: Survived, dtype: int64"
      ]
     },
     "execution_count": 26,
     "metadata": {},
     "output_type": "execute_result"
    }
   ],
   "source": [
    "Y_train.head()"
   ]
  },
  {
   "cell_type": "markdown",
   "id": "a7e97d2d",
   "metadata": {
    "papermill": {
     "duration": 0.009795,
     "end_time": "2023-11-12T20:42:40.944562",
     "exception": false,
     "start_time": "2023-11-12T20:42:40.934767",
     "status": "completed"
    },
    "tags": []
   },
   "source": [
    "# Logistic Regression"
   ]
  },
  {
   "cell_type": "code",
   "execution_count": 27,
   "id": "05fe957d",
   "metadata": {
    "execution": {
     "iopub.execute_input": "2023-11-12T20:42:40.966151Z",
     "iopub.status.busy": "2023-11-12T20:42:40.965751Z",
     "iopub.status.idle": "2023-11-12T20:42:40.978181Z",
     "shell.execute_reply": "2023-11-12T20:42:40.976994Z"
    },
    "papermill": {
     "duration": 0.025581,
     "end_time": "2023-11-12T20:42:40.980371",
     "exception": false,
     "start_time": "2023-11-12T20:42:40.954790",
     "status": "completed"
    },
    "tags": []
   },
   "outputs": [],
   "source": [
    "class LogisticRegression:\n",
    "    def __init__(self, max_iterations=1000, learning_rate=0.01, decay=0.9, epsilon=1e-5):\n",
    "        self.max_iterations = max_iterations\n",
    "        self.learning_rate = learning_rate\n",
    "        self.epsilon = epsilon\n",
    "        self.W = None\n",
    "        self.b = None\n",
    "\n",
    "        \n",
    "    def sigmoid(self, z):\n",
    "        a = 1 / (1 + np.exp(-z))\n",
    "        return a\n",
    "\n",
    "    \n",
    "    def binary_cross_entropy(self, y_pred, y):\n",
    "        epsilon = 1e-15\n",
    "        y_pred = np.clip(y_pred, epsilon, 1 - epsilon)\n",
    "        loss = -(y * np.log(y_pred) + (1 - y) * np.log(1 - y_pred)).mean()\n",
    "        return loss\n",
    "\n",
    "    \n",
    "    def gradient_descent(self, X, y):\n",
    "        m, n = X.shape\n",
    "\n",
    "        dz = self.sigmoid(X.dot(self.W) + self.b) - y\n",
    "        dw = np.dot(X.T, dz) / m\n",
    "        db = np.sum(dz) / m\n",
    "\n",
    "        return dw, db\n",
    "\n",
    "    \n",
    "    def fit(self, X, y):\n",
    "        n_samples, n_features = X.shape\n",
    "\n",
    "        self.W = np.random.randn(n_features) * 0.01\n",
    "        self.b = 0\n",
    "        previous_loss = np.inf\n",
    "        lr = self.learning_rate\n",
    "\n",
    "        for _ in range(self.max_iterations):\n",
    "            # Calculate Gradients\n",
    "            dw, db = self.gradient_descent(X, y)\n",
    "\n",
    "            # Update Parameters\n",
    "            self.W -= lr * dw\n",
    "            self.b -= lr * db\n",
    "\n",
    "            # Check for Early Stop\n",
    "            current_loss = self.binary_cross_entropy(self.sigmoid(X.dot(self.W) + self.b), y)\n",
    "            if np.abs(current_loss - previous_loss) < self.epsilon:\n",
    "                print(f'Stopping Train at Iteration No.{_}')\n",
    "                break\n",
    "\n",
    "            previous_loss = current_loss\n",
    "            lr *= 0.92\n",
    "\n",
    "        print(f'Training Complete with Binary Cross Entropy Loss of {current_loss}')\n",
    "\n",
    "        \n",
    "    def predict(self, X):\n",
    "        y_pred = self.sigmoid(np.dot(X, self.W) + self.b)\n",
    "        return (y_pred >= 0.5).astype(int)"
   ]
  },
  {
   "cell_type": "code",
   "execution_count": 28,
   "id": "18d771dd",
   "metadata": {
    "execution": {
     "iopub.execute_input": "2023-11-12T20:42:41.002253Z",
     "iopub.status.busy": "2023-11-12T20:42:41.001897Z",
     "iopub.status.idle": "2023-11-12T20:42:41.007519Z",
     "shell.execute_reply": "2023-11-12T20:42:41.006146Z"
    },
    "papermill": {
     "duration": 0.019981,
     "end_time": "2023-11-12T20:42:41.010228",
     "exception": false,
     "start_time": "2023-11-12T20:42:40.990247",
     "status": "completed"
    },
    "tags": []
   },
   "outputs": [],
   "source": [
    "max_iterations = 500\n",
    "learning_rate = 3.5\n",
    "decay = 0.85\n",
    "epsilon = 1e-8\n",
    "\n",
    "model = LogisticRegression(max_iterations, learning_rate, decay, epsilon)"
   ]
  }
 ],
 "metadata": {
  "kernelspec": {
   "display_name": "Python 3",
   "language": "python",
   "name": "python3"
  },
  "language_info": {
   "codemirror_mode": {
    "name": "ipython",
    "version": 3
   },
   "file_extension": ".py",
   "mimetype": "text/x-python",
   "name": "python",
   "nbconvert_exporter": "python",
   "pygments_lexer": "ipython3",
   "version": "3.10.12"
  },
  "papermill": {
   "default_parameters": {},
   "duration": 4.755772,
   "end_time": "2023-11-12T20:42:41.440956",
   "environment_variables": {},
   "exception": null,
   "input_path": "__notebook__.ipynb",
   "output_path": "__notebook__.ipynb",
   "parameters": {},
   "start_time": "2023-11-12T20:42:36.685184",
   "version": "2.4.0"
  }
 },
 "nbformat": 4,
 "nbformat_minor": 5
}

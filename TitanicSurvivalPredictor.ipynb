{
 "cells": [
  {
   "cell_type": "markdown",
   "id": "c8ab5bf8",
   "metadata": {
    "papermill": {
     "duration": 0.013531,
     "end_time": "2023-11-12T20:19:31.820557",
     "exception": false,
     "start_time": "2023-11-12T20:19:31.807026",
     "status": "completed"
    },
    "tags": []
   },
   "source": [
    "# Import Required Libraraies"
   ]
  },
  {
   "cell_type": "code",
   "execution_count": 1,
   "id": "049926dc",
   "metadata": {
    "execution": {
     "iopub.execute_input": "2023-11-12T20:19:31.849621Z",
     "iopub.status.busy": "2023-11-12T20:19:31.848805Z",
     "iopub.status.idle": "2023-11-12T20:19:32.275802Z",
     "shell.execute_reply": "2023-11-12T20:19:32.274766Z"
    },
    "papermill": {
     "duration": 0.444853,
     "end_time": "2023-11-12T20:19:32.278787",
     "exception": false,
     "start_time": "2023-11-12T20:19:31.833934",
     "status": "completed"
    },
    "tags": []
   },
   "outputs": [],
   "source": [
    "import re\n",
    "import numpy as np\n",
    "import pandas as pd"
   ]
  },
  {
   "cell_type": "markdown",
   "id": "1a704209",
   "metadata": {
    "papermill": {
     "duration": 0.012954,
     "end_time": "2023-11-12T20:19:32.305433",
     "exception": false,
     "start_time": "2023-11-12T20:19:32.292479",
     "status": "completed"
    },
    "tags": []
   },
   "source": [
    "# Read Data"
   ]
  },
  {
   "cell_type": "code",
   "execution_count": 2,
   "id": "c6edb37c",
   "metadata": {
    "execution": {
     "iopub.execute_input": "2023-11-12T20:19:32.334780Z",
     "iopub.status.busy": "2023-11-12T20:19:32.333834Z",
     "iopub.status.idle": "2023-11-12T20:19:32.368713Z",
     "shell.execute_reply": "2023-11-12T20:19:32.367730Z"
    },
    "papermill": {
     "duration": 0.05273,
     "end_time": "2023-11-12T20:19:32.371495",
     "exception": false,
     "start_time": "2023-11-12T20:19:32.318765",
     "status": "completed"
    },
    "tags": []
   },
   "outputs": [],
   "source": [
    "train_data = pd.read_csv('/kaggle/input/titanic/train.csv')\n",
    "test_data = pd.read_csv('/kaggle/input/titanic/test.csv')\n",
    "gender_sub = pd.read_csv('/kaggle/input/titanic/gender_submission.csv')"
   ]
  },
  {
   "cell_type": "code",
   "execution_count": 3,
   "id": "3c3bcbd0",
   "metadata": {
    "execution": {
     "iopub.execute_input": "2023-11-12T20:19:32.400565Z",
     "iopub.status.busy": "2023-11-12T20:19:32.399751Z",
     "iopub.status.idle": "2023-11-12T20:19:32.431394Z",
     "shell.execute_reply": "2023-11-12T20:19:32.430217Z"
    },
    "papermill": {
     "duration": 0.049134,
     "end_time": "2023-11-12T20:19:32.434123",
     "exception": false,
     "start_time": "2023-11-12T20:19:32.384989",
     "status": "completed"
    },
    "tags": []
   },
   "outputs": [
    {
     "data": {
      "text/html": [
       "<div>\n",
       "<style scoped>\n",
       "    .dataframe tbody tr th:only-of-type {\n",
       "        vertical-align: middle;\n",
       "    }\n",
       "\n",
       "    .dataframe tbody tr th {\n",
       "        vertical-align: top;\n",
       "    }\n",
       "\n",
       "    .dataframe thead th {\n",
       "        text-align: right;\n",
       "    }\n",
       "</style>\n",
       "<table border=\"1\" class=\"dataframe\">\n",
       "  <thead>\n",
       "    <tr style=\"text-align: right;\">\n",
       "      <th></th>\n",
       "      <th>PassengerId</th>\n",
       "      <th>Pclass</th>\n",
       "      <th>Name</th>\n",
       "      <th>Sex</th>\n",
       "      <th>Age</th>\n",
       "      <th>SibSp</th>\n",
       "      <th>Parch</th>\n",
       "      <th>Ticket</th>\n",
       "      <th>Fare</th>\n",
       "      <th>Cabin</th>\n",
       "      <th>Embarked</th>\n",
       "    </tr>\n",
       "  </thead>\n",
       "  <tbody>\n",
       "    <tr>\n",
       "      <th>0</th>\n",
       "      <td>892</td>\n",
       "      <td>3</td>\n",
       "      <td>Kelly, Mr. James</td>\n",
       "      <td>male</td>\n",
       "      <td>34.5</td>\n",
       "      <td>0</td>\n",
       "      <td>0</td>\n",
       "      <td>330911</td>\n",
       "      <td>7.8292</td>\n",
       "      <td>NaN</td>\n",
       "      <td>Q</td>\n",
       "    </tr>\n",
       "    <tr>\n",
       "      <th>1</th>\n",
       "      <td>893</td>\n",
       "      <td>3</td>\n",
       "      <td>Wilkes, Mrs. James (Ellen Needs)</td>\n",
       "      <td>female</td>\n",
       "      <td>47.0</td>\n",
       "      <td>1</td>\n",
       "      <td>0</td>\n",
       "      <td>363272</td>\n",
       "      <td>7.0000</td>\n",
       "      <td>NaN</td>\n",
       "      <td>S</td>\n",
       "    </tr>\n",
       "    <tr>\n",
       "      <th>2</th>\n",
       "      <td>894</td>\n",
       "      <td>2</td>\n",
       "      <td>Myles, Mr. Thomas Francis</td>\n",
       "      <td>male</td>\n",
       "      <td>62.0</td>\n",
       "      <td>0</td>\n",
       "      <td>0</td>\n",
       "      <td>240276</td>\n",
       "      <td>9.6875</td>\n",
       "      <td>NaN</td>\n",
       "      <td>Q</td>\n",
       "    </tr>\n",
       "    <tr>\n",
       "      <th>3</th>\n",
       "      <td>895</td>\n",
       "      <td>3</td>\n",
       "      <td>Wirz, Mr. Albert</td>\n",
       "      <td>male</td>\n",
       "      <td>27.0</td>\n",
       "      <td>0</td>\n",
       "      <td>0</td>\n",
       "      <td>315154</td>\n",
       "      <td>8.6625</td>\n",
       "      <td>NaN</td>\n",
       "      <td>S</td>\n",
       "    </tr>\n",
       "    <tr>\n",
       "      <th>4</th>\n",
       "      <td>896</td>\n",
       "      <td>3</td>\n",
       "      <td>Hirvonen, Mrs. Alexander (Helga E Lindqvist)</td>\n",
       "      <td>female</td>\n",
       "      <td>22.0</td>\n",
       "      <td>1</td>\n",
       "      <td>1</td>\n",
       "      <td>3101298</td>\n",
       "      <td>12.2875</td>\n",
       "      <td>NaN</td>\n",
       "      <td>S</td>\n",
       "    </tr>\n",
       "  </tbody>\n",
       "</table>\n",
       "</div>"
      ],
      "text/plain": [
       "   PassengerId  Pclass                                          Name     Sex  \\\n",
       "0          892       3                              Kelly, Mr. James    male   \n",
       "1          893       3              Wilkes, Mrs. James (Ellen Needs)  female   \n",
       "2          894       2                     Myles, Mr. Thomas Francis    male   \n",
       "3          895       3                              Wirz, Mr. Albert    male   \n",
       "4          896       3  Hirvonen, Mrs. Alexander (Helga E Lindqvist)  female   \n",
       "\n",
       "    Age  SibSp  Parch   Ticket     Fare Cabin Embarked  \n",
       "0  34.5      0      0   330911   7.8292   NaN        Q  \n",
       "1  47.0      1      0   363272   7.0000   NaN        S  \n",
       "2  62.0      0      0   240276   9.6875   NaN        Q  \n",
       "3  27.0      0      0   315154   8.6625   NaN        S  \n",
       "4  22.0      1      1  3101298  12.2875   NaN        S  "
      ]
     },
     "execution_count": 3,
     "metadata": {},
     "output_type": "execute_result"
    }
   ],
   "source": [
    "test_data.head()"
   ]
  },
  {
   "cell_type": "markdown",
   "id": "bd47c985",
   "metadata": {
    "papermill": {
     "duration": 0.013664,
     "end_time": "2023-11-12T20:19:32.461366",
     "exception": false,
     "start_time": "2023-11-12T20:19:32.447702",
     "status": "completed"
    },
    "tags": []
   },
   "source": [
    "# Data Purification and Feature Engineering"
   ]
  },
  {
   "cell_type": "markdown",
   "id": "5033c15f",
   "metadata": {
    "papermill": {
     "duration": 0.013567,
     "end_time": "2023-11-12T20:19:32.488399",
     "exception": false,
     "start_time": "2023-11-12T20:19:32.474832",
     "status": "completed"
    },
    "tags": []
   },
   "source": [
    "## Name\n",
    "### Extract titles from names"
   ]
  },
  {
   "cell_type": "code",
   "execution_count": 4,
   "id": "5d2fbc8a",
   "metadata": {
    "execution": {
     "iopub.execute_input": "2023-11-12T20:19:32.517998Z",
     "iopub.status.busy": "2023-11-12T20:19:32.517139Z",
     "iopub.status.idle": "2023-11-12T20:19:32.538449Z",
     "shell.execute_reply": "2023-11-12T20:19:32.537121Z"
    },
    "papermill": {
     "duration": 0.038942,
     "end_time": "2023-11-12T20:19:32.540948",
     "exception": false,
     "start_time": "2023-11-12T20:19:32.502006",
     "status": "completed"
    },
    "tags": []
   },
   "outputs": [
    {
     "name": "stdout",
     "output_type": "stream",
     "text": [
      "All unique titles in names (Train): ['Mr' 'Mrs' 'Miss' 'Master' 'Don' 'Rev' 'Dr' 'Mme' 'Ms' 'Major' 'Lady'\n",
      " 'Sir' 'Mlle' 'Col' 'Capt' 'Countess' 'Jonkheer']\n",
      "All unique titles in names (Test): ['Mr' 'Mrs' 'Miss' 'Master' 'Ms' 'Col' 'Rev' 'Dr' 'Dona']\n"
     ]
    }
   ],
   "source": [
    "train_data['Title'] = train_data['Name'].apply(lambda x: re.search(' ([A-Za-z]+)\\.', x).group(1))\n",
    "test_data['Title'] = test_data['Name'].apply(lambda x: re.search(' ([A-Za-z]+)\\.', x).group(1))\n",
    "\n",
    "# Display the unique titles\n",
    "print(f'All unique titles in names (Train): {train_data[\"Title\"].unique()}')\n",
    "print(f'All unique titles in names (Test): {test_data[\"Title\"].unique()}')"
   ]
  },
  {
   "cell_type": "code",
   "execution_count": 5,
   "id": "35447973",
   "metadata": {
    "execution": {
     "iopub.execute_input": "2023-11-12T20:19:32.570498Z",
     "iopub.status.busy": "2023-11-12T20:19:32.569683Z",
     "iopub.status.idle": "2023-11-12T20:19:32.584057Z",
     "shell.execute_reply": "2023-11-12T20:19:32.583084Z"
    },
    "papermill": {
     "duration": 0.032284,
     "end_time": "2023-11-12T20:19:32.586690",
     "exception": false,
     "start_time": "2023-11-12T20:19:32.554406",
     "status": "completed"
    },
    "tags": []
   },
   "outputs": [],
   "source": [
    "# Train Data\n",
    "train_data['Title'] = train_data['Title'].replace(['Lady', 'Countess', 'Capt', 'Col', 'Don', 'Dr','Major', 'Rev', 'Sir', 'Jonkheer', 'Dona'], 'Other')\n",
    "train_data['Title'] = train_data['Title'].replace(['Mlle', 'Ms'], 'Miss')\n",
    "train_data['Title'] = train_data['Title'].replace('Mme', 'Mrs')\n",
    "\n",
    "# Test Data\n",
    "test_data['Title'] = test_data['Title'].replace(['Lady', 'Countess', 'Capt', 'Col', 'Don', 'Dr','Major', 'Rev', 'Sir', 'Jonkheer', 'Dona'], 'Other')\n",
    "test_data['Title'] = test_data['Title'].replace(['Mlle', 'Ms'], 'Miss')\n",
    "test_data['Title'] = test_data['Title'].replace('Mme', 'Mrs')"
   ]
  },
  {
   "cell_type": "code",
   "execution_count": 6,
   "id": "88371847",
   "metadata": {
    "execution": {
     "iopub.execute_input": "2023-11-12T20:19:32.616234Z",
     "iopub.status.busy": "2023-11-12T20:19:32.615438Z",
     "iopub.status.idle": "2023-11-12T20:19:32.622945Z",
     "shell.execute_reply": "2023-11-12T20:19:32.621576Z"
    },
    "papermill": {
     "duration": 0.025304,
     "end_time": "2023-11-12T20:19:32.625525",
     "exception": false,
     "start_time": "2023-11-12T20:19:32.600221",
     "status": "completed"
    },
    "tags": []
   },
   "outputs": [
    {
     "name": "stdout",
     "output_type": "stream",
     "text": [
      "Train Titles: ['Mr' 'Mrs' 'Miss' 'Master' 'Other']\n",
      "Test Titles: ['Mr' 'Mrs' 'Miss' 'Master' 'Other']\n"
     ]
    }
   ],
   "source": [
    "print(f'Train Titles: {train_data[\"Title\"].unique()}')\n",
    "print(f'Test Titles: {test_data[\"Title\"].unique()}')"
   ]
  },
  {
   "cell_type": "markdown",
   "id": "fb57d344",
   "metadata": {
    "papermill": {
     "duration": 0.013439,
     "end_time": "2023-11-12T20:19:32.653485",
     "exception": false,
     "start_time": "2023-11-12T20:19:32.640046",
     "status": "completed"
    },
    "tags": []
   },
   "source": [
    "### Drop Names"
   ]
  },
  {
   "cell_type": "code",
   "execution_count": 7,
   "id": "924969d5",
   "metadata": {
    "execution": {
     "iopub.execute_input": "2023-11-12T20:19:32.682549Z",
     "iopub.status.busy": "2023-11-12T20:19:32.682129Z",
     "iopub.status.idle": "2023-11-12T20:19:32.695190Z",
     "shell.execute_reply": "2023-11-12T20:19:32.694283Z"
    },
    "papermill": {
     "duration": 0.030678,
     "end_time": "2023-11-12T20:19:32.697819",
     "exception": false,
     "start_time": "2023-11-12T20:19:32.667141",
     "status": "completed"
    },
    "tags": []
   },
   "outputs": [],
   "source": [
    "train_data = train_data.drop('Name', axis=1)\n",
    "test_data = test_data.drop('Name', axis=1)"
   ]
  },
  {
   "cell_type": "markdown",
   "id": "c2f28584",
   "metadata": {
    "papermill": {
     "duration": 0.013567,
     "end_time": "2023-11-12T20:19:32.725607",
     "exception": false,
     "start_time": "2023-11-12T20:19:32.712040",
     "status": "completed"
    },
    "tags": []
   },
   "source": [
    "### Encode Titles"
   ]
  },
  {
   "cell_type": "code",
   "execution_count": 8,
   "id": "12240a13",
   "metadata": {
    "execution": {
     "iopub.execute_input": "2023-11-12T20:19:32.755605Z",
     "iopub.status.busy": "2023-11-12T20:19:32.754840Z",
     "iopub.status.idle": "2023-11-12T20:19:32.763849Z",
     "shell.execute_reply": "2023-11-12T20:19:32.762785Z"
    },
    "papermill": {
     "duration": 0.02703,
     "end_time": "2023-11-12T20:19:32.766503",
     "exception": false,
     "start_time": "2023-11-12T20:19:32.739473",
     "status": "completed"
    },
    "tags": []
   },
   "outputs": [],
   "source": [
    "title_to_number = {'Mr': 0, 'Mrs': 1, 'Miss': 2, 'Master': 3, 'Other': 4}\n",
    "\n",
    "train_data['Title'] = train_data['Title'].apply(lambda x: title_to_number[x])\n",
    "test_data['Title'] = test_data['Title'].apply(lambda x: title_to_number[x])"
   ]
  },
  {
   "cell_type": "markdown",
   "id": "2b539b12",
   "metadata": {
    "papermill": {
     "duration": 0.013311,
     "end_time": "2023-11-12T20:19:32.794109",
     "exception": false,
     "start_time": "2023-11-12T20:19:32.780798",
     "status": "completed"
    },
    "tags": []
   },
   "source": [
    "## Ticket\n",
    "### Drop ticket columns"
   ]
  },
  {
   "cell_type": "code",
   "execution_count": 9,
   "id": "f089bb9c",
   "metadata": {
    "execution": {
     "iopub.execute_input": "2023-11-12T20:19:32.823396Z",
     "iopub.status.busy": "2023-11-12T20:19:32.823013Z",
     "iopub.status.idle": "2023-11-12T20:19:32.830160Z",
     "shell.execute_reply": "2023-11-12T20:19:32.829141Z"
    },
    "papermill": {
     "duration": 0.024809,
     "end_time": "2023-11-12T20:19:32.832471",
     "exception": false,
     "start_time": "2023-11-12T20:19:32.807662",
     "status": "completed"
    },
    "tags": []
   },
   "outputs": [],
   "source": [
    "# Drop Ticket Column\n",
    "train_data = train_data.drop('Ticket', axis=1)\n",
    "test_data = test_data.drop('Ticket', axis=1)"
   ]
  },
  {
   "cell_type": "markdown",
   "id": "5bec0317",
   "metadata": {
    "papermill": {
     "duration": 0.013347,
     "end_time": "2023-11-12T20:19:32.859665",
     "exception": false,
     "start_time": "2023-11-12T20:19:32.846318",
     "status": "completed"
    },
    "tags": []
   },
   "source": [
    "## Sex\n",
    "### Convert sexes to 0s and 1s"
   ]
  },
  {
   "cell_type": "code",
   "execution_count": 10,
   "id": "7b49df1e",
   "metadata": {
    "execution": {
     "iopub.execute_input": "2023-11-12T20:19:32.889046Z",
     "iopub.status.busy": "2023-11-12T20:19:32.888353Z",
     "iopub.status.idle": "2023-11-12T20:19:32.898841Z",
     "shell.execute_reply": "2023-11-12T20:19:32.897234Z"
    },
    "papermill": {
     "duration": 0.028591,
     "end_time": "2023-11-12T20:19:32.901714",
     "exception": false,
     "start_time": "2023-11-12T20:19:32.873123",
     "status": "completed"
    },
    "tags": []
   },
   "outputs": [
    {
     "name": "stdout",
     "output_type": "stream",
     "text": [
      "Number of distinct values for sex: {0, 1}\n"
     ]
    }
   ],
   "source": [
    "# Encode Sex\n",
    "train_data['Sex'] = train_data['Sex'].replace({'male': 0, 'female': 1})\n",
    "test_data['Sex'] = test_data['Sex'].replace({'male': 0, 'female': 1})\n",
    "print(f'Number of distinct values for sex: {set(test_data[\"Sex\"])}')"
   ]
  },
  {
   "cell_type": "markdown",
   "id": "293412ff",
   "metadata": {
    "papermill": {
     "duration": 0.077921,
     "end_time": "2023-11-12T20:19:32.993499",
     "exception": false,
     "start_time": "2023-11-12T20:19:32.915578",
     "status": "completed"
    },
    "tags": []
   },
   "source": [
    "## Cabin\n",
    "### Extract letters from Cabins"
   ]
  },
  {
   "cell_type": "code",
   "execution_count": 11,
   "id": "e65fa573",
   "metadata": {
    "execution": {
     "iopub.execute_input": "2023-11-12T20:19:33.023739Z",
     "iopub.status.busy": "2023-11-12T20:19:33.022735Z",
     "iopub.status.idle": "2023-11-12T20:19:33.035659Z",
     "shell.execute_reply": "2023-11-12T20:19:33.034553Z"
    },
    "papermill": {
     "duration": 0.03066,
     "end_time": "2023-11-12T20:19:33.038099",
     "exception": false,
     "start_time": "2023-11-12T20:19:33.007439",
     "status": "completed"
    },
    "tags": []
   },
   "outputs": [
    {
     "name": "stdout",
     "output_type": "stream",
     "text": [
      "['X' 'C' 'E' 'G' 'D' 'A' 'B' 'F' 'T']\n",
      "['X' 'B' 'E' 'A' 'C' 'D' 'F' 'G']\n"
     ]
    }
   ],
   "source": [
    "train_data['Cabin'] = train_data['Cabin'].fillna(\"X\")\n",
    "print(train_data['Cabin'].str[0].unique())\n",
    "\n",
    "test_data['Cabin'] = test_data['Cabin'].fillna(\"X\")\n",
    "print(test_data['Cabin'].str[0].unique())"
   ]
  },
  {
   "cell_type": "markdown",
   "id": "8bbf9110",
   "metadata": {
    "papermill": {
     "duration": 0.01368,
     "end_time": "2023-11-12T20:19:33.065755",
     "exception": false,
     "start_time": "2023-11-12T20:19:33.052075",
     "status": "completed"
    },
    "tags": []
   },
   "source": [
    "### Encode letters"
   ]
  },
  {
   "cell_type": "code",
   "execution_count": 12,
   "id": "c1c98c6f",
   "metadata": {
    "execution": {
     "iopub.execute_input": "2023-11-12T20:19:33.095533Z",
     "iopub.status.busy": "2023-11-12T20:19:33.095097Z",
     "iopub.status.idle": "2023-11-12T20:19:33.105482Z",
     "shell.execute_reply": "2023-11-12T20:19:33.104334Z"
    },
    "papermill": {
     "duration": 0.028243,
     "end_time": "2023-11-12T20:19:33.107956",
     "exception": false,
     "start_time": "2023-11-12T20:19:33.079713",
     "status": "completed"
    },
    "tags": []
   },
   "outputs": [],
   "source": [
    "cabin_to_number = {'X': 0, 'A': 1, 'B': 2, 'C': 3, 'D': 4, 'E': 5, 'F': 6, 'G': 7, 'T': 8}\n",
    "\n",
    "train_data['Cabin_Encoded'] = train_data['Cabin'].apply(lambda x: cabin_to_number[x[0]])\n",
    "test_data['Cabin_Encoded'] = test_data['Cabin'].apply(lambda x: cabin_to_number[x[0]])"
   ]
  },
  {
   "cell_type": "markdown",
   "id": "e9a1d9bf",
   "metadata": {
    "papermill": {
     "duration": 0.013873,
     "end_time": "2023-11-12T20:19:33.136223",
     "exception": false,
     "start_time": "2023-11-12T20:19:33.122350",
     "status": "completed"
    },
    "tags": []
   },
   "source": [
    "### Drop Cabin Column"
   ]
  },
  {
   "cell_type": "code",
   "execution_count": 13,
   "id": "1be703e4",
   "metadata": {
    "execution": {
     "iopub.execute_input": "2023-11-12T20:19:33.166329Z",
     "iopub.status.busy": "2023-11-12T20:19:33.165884Z",
     "iopub.status.idle": "2023-11-12T20:19:33.173476Z",
     "shell.execute_reply": "2023-11-12T20:19:33.172331Z"
    },
    "papermill": {
     "duration": 0.025782,
     "end_time": "2023-11-12T20:19:33.176154",
     "exception": false,
     "start_time": "2023-11-12T20:19:33.150372",
     "status": "completed"
    },
    "tags": []
   },
   "outputs": [],
   "source": [
    "train_data = train_data.drop('Cabin', axis=1)\n",
    "test_data = test_data.drop('Cabin', axis=1)"
   ]
  },
  {
   "cell_type": "markdown",
   "id": "e4f2d6b0",
   "metadata": {
    "papermill": {
     "duration": 0.013849,
     "end_time": "2023-11-12T20:19:33.204219",
     "exception": false,
     "start_time": "2023-11-12T20:19:33.190370",
     "status": "completed"
    },
    "tags": []
   },
   "source": [
    "## Embarked\n",
    "### Fill Null values with 'S'"
   ]
  },
  {
   "cell_type": "code",
   "execution_count": 14,
   "id": "c48357a9",
   "metadata": {
    "execution": {
     "iopub.execute_input": "2023-11-12T20:19:33.234848Z",
     "iopub.status.busy": "2023-11-12T20:19:33.234455Z",
     "iopub.status.idle": "2023-11-12T20:19:33.246848Z",
     "shell.execute_reply": "2023-11-12T20:19:33.245901Z"
    },
    "papermill": {
     "duration": 0.030862,
     "end_time": "2023-11-12T20:19:33.249513",
     "exception": false,
     "start_time": "2023-11-12T20:19:33.218651",
     "status": "completed"
    },
    "tags": []
   },
   "outputs": [],
   "source": [
    "train_data['Embarked'].describe()\n",
    "\n",
    "train_data['Embarked'] = train_data['Embarked'].fillna('S')\n",
    "test_data['Embarked'] = test_data['Embarked'].fillna('S')"
   ]
  },
  {
   "cell_type": "markdown",
   "id": "73be1a6b",
   "metadata": {
    "papermill": {
     "duration": 0.014009,
     "end_time": "2023-11-12T20:19:33.278010",
     "exception": false,
     "start_time": "2023-11-12T20:19:33.264001",
     "status": "completed"
    },
    "tags": []
   },
   "source": [
    "### Encode Embarked Values"
   ]
  },
  {
   "cell_type": "code",
   "execution_count": 15,
   "id": "e99aca85",
   "metadata": {
    "execution": {
     "iopub.execute_input": "2023-11-12T20:19:33.310081Z",
     "iopub.status.busy": "2023-11-12T20:19:33.309165Z",
     "iopub.status.idle": "2023-11-12T20:19:33.318155Z",
     "shell.execute_reply": "2023-11-12T20:19:33.316941Z"
    },
    "papermill": {
     "duration": 0.027977,
     "end_time": "2023-11-12T20:19:33.320711",
     "exception": false,
     "start_time": "2023-11-12T20:19:33.292734",
     "status": "completed"
    },
    "tags": []
   },
   "outputs": [],
   "source": [
    "embark_to_number = {'S': 0, 'C': 1, 'Q': 2}\n",
    "\n",
    "train_data['Embarked'] = train_data['Embarked'].apply(lambda x: embark_to_number[x])\n",
    "test_data['Embarked'] = test_data['Embarked'].apply(lambda x: embark_to_number[x])"
   ]
  },
  {
   "cell_type": "markdown",
   "id": "74117fbe",
   "metadata": {
    "papermill": {
     "duration": 0.014072,
     "end_time": "2023-11-12T20:19:33.349771",
     "exception": false,
     "start_time": "2023-11-12T20:19:33.335699",
     "status": "completed"
    },
    "tags": []
   },
   "source": [
    "## Age\n",
    "### Fill null values of age with mean age of train set"
   ]
  },
  {
   "cell_type": "code",
   "execution_count": 16,
   "id": "f4ea66cc",
   "metadata": {
    "execution": {
     "iopub.execute_input": "2023-11-12T20:19:33.379944Z",
     "iopub.status.busy": "2023-11-12T20:19:33.379553Z",
     "iopub.status.idle": "2023-11-12T20:19:33.386782Z",
     "shell.execute_reply": "2023-11-12T20:19:33.385954Z"
    },
    "papermill": {
     "duration": 0.025389,
     "end_time": "2023-11-12T20:19:33.389419",
     "exception": false,
     "start_time": "2023-11-12T20:19:33.364030",
     "status": "completed"
    },
    "tags": []
   },
   "outputs": [],
   "source": [
    "mean_age = train_data['Age'].mean()\n",
    "\n",
    "train_data['Age'] = train_data['Age'].fillna(mean_age)\n",
    "test_data['Age'] = test_data['Age'].fillna(mean_age)"
   ]
  },
  {
   "cell_type": "markdown",
   "id": "d7a721fa",
   "metadata": {
    "papermill": {
     "duration": 0.013862,
     "end_time": "2023-11-12T20:19:33.417468",
     "exception": false,
     "start_time": "2023-11-12T20:19:33.403606",
     "status": "completed"
    },
    "tags": []
   },
   "source": [
    "### Convert ages to int"
   ]
  },
  {
   "cell_type": "code",
   "execution_count": 17,
   "id": "deb681be",
   "metadata": {
    "execution": {
     "iopub.execute_input": "2023-11-12T20:19:33.448129Z",
     "iopub.status.busy": "2023-11-12T20:19:33.447450Z",
     "iopub.status.idle": "2023-11-12T20:19:33.453440Z",
     "shell.execute_reply": "2023-11-12T20:19:33.452348Z"
    },
    "papermill": {
     "duration": 0.025689,
     "end_time": "2023-11-12T20:19:33.457474",
     "exception": false,
     "start_time": "2023-11-12T20:19:33.431785",
     "status": "completed"
    },
    "tags": []
   },
   "outputs": [],
   "source": [
    "train_data['Age'] = train_data['Age'].astype(int)\n",
    "test_data['Age'] = test_data['Age'].astype(int)"
   ]
  },
  {
   "cell_type": "markdown",
   "id": "efe7357b",
   "metadata": {
    "papermill": {
     "duration": 0.013909,
     "end_time": "2023-11-12T20:19:33.486478",
     "exception": false,
     "start_time": "2023-11-12T20:19:33.472569",
     "status": "completed"
    },
    "tags": []
   },
   "source": [
    "## Fare"
   ]
  },
  {
   "cell_type": "code",
   "execution_count": 18,
   "id": "9a8ff1a5",
   "metadata": {
    "execution": {
     "iopub.execute_input": "2023-11-12T20:19:33.516624Z",
     "iopub.status.busy": "2023-11-12T20:19:33.516217Z",
     "iopub.status.idle": "2023-11-12T20:19:33.522847Z",
     "shell.execute_reply": "2023-11-12T20:19:33.521730Z"
    },
    "papermill": {
     "duration": 0.025029,
     "end_time": "2023-11-12T20:19:33.525757",
     "exception": false,
     "start_time": "2023-11-12T20:19:33.500728",
     "status": "completed"
    },
    "tags": []
   },
   "outputs": [
    {
     "name": "stdout",
     "output_type": "stream",
     "text": [
      "number of fare null values of train set: 0\n",
      "number of fare null values of test set: 1\n"
     ]
    }
   ],
   "source": [
    "print(f'number of fare null values of train set: {train_data[\"Fare\"].isna().sum()}')\n",
    "print(f'number of fare null values of test set: {test_data[\"Fare\"].isna().sum()}')"
   ]
  },
  {
   "cell_type": "markdown",
   "id": "a87448fe",
   "metadata": {
    "papermill": {
     "duration": 0.013758,
     "end_time": "2023-11-12T20:19:33.553838",
     "exception": false,
     "start_time": "2023-11-12T20:19:33.540080",
     "status": "completed"
    },
    "tags": []
   },
   "source": [
    "### Fill null values with mean fare"
   ]
  },
  {
   "cell_type": "code",
   "execution_count": 19,
   "id": "3ac810b4",
   "metadata": {
    "execution": {
     "iopub.execute_input": "2023-11-12T20:19:33.584195Z",
     "iopub.status.busy": "2023-11-12T20:19:33.583770Z",
     "iopub.status.idle": "2023-11-12T20:19:33.591264Z",
     "shell.execute_reply": "2023-11-12T20:19:33.590109Z"
    },
    "papermill": {
     "duration": 0.025525,
     "end_time": "2023-11-12T20:19:33.593829",
     "exception": false,
     "start_time": "2023-11-12T20:19:33.568304",
     "status": "completed"
    },
    "tags": []
   },
   "outputs": [],
   "source": [
    "mean_fare = train_data['Fare'].mean()\n",
    "\n",
    "train_data['Fare'] = train_data['Fare'].fillna(mean_fare)\n",
    "test_data['Fare'] = test_data['Fare'].fillna(mean_fare)"
   ]
  },
  {
   "cell_type": "markdown",
   "id": "7ba0ae7d",
   "metadata": {
    "papermill": {
     "duration": 0.013995,
     "end_time": "2023-11-12T20:19:33.622597",
     "exception": false,
     "start_time": "2023-11-12T20:19:33.608602",
     "status": "completed"
    },
    "tags": []
   },
   "source": [
    "### Convert fares to ints"
   ]
  },
  {
   "cell_type": "code",
   "execution_count": 20,
   "id": "7b985dca",
   "metadata": {
    "execution": {
     "iopub.execute_input": "2023-11-12T20:19:33.653941Z",
     "iopub.status.busy": "2023-11-12T20:19:33.653180Z",
     "iopub.status.idle": "2023-11-12T20:19:33.659649Z",
     "shell.execute_reply": "2023-11-12T20:19:33.658636Z"
    },
    "papermill": {
     "duration": 0.024756,
     "end_time": "2023-11-12T20:19:33.662198",
     "exception": false,
     "start_time": "2023-11-12T20:19:33.637442",
     "status": "completed"
    },
    "tags": []
   },
   "outputs": [],
   "source": [
    "train_data['Fare'] = train_data['Fare'].astype(int)\n",
    "test_data['Fare'] = test_data['Fare'].astype(int)"
   ]
  },
  {
   "cell_type": "markdown",
   "id": "e6a6bbcc",
   "metadata": {
    "papermill": {
     "duration": 0.013784,
     "end_time": "2023-11-12T20:19:33.690649",
     "exception": false,
     "start_time": "2023-11-12T20:19:33.676865",
     "status": "completed"
    },
    "tags": []
   },
   "source": [
    "## PassengerId (Train)\n",
    "### Drop column"
   ]
  },
  {
   "cell_type": "code",
   "execution_count": 21,
   "id": "b836035e",
   "metadata": {
    "execution": {
     "iopub.execute_input": "2023-11-12T20:19:33.721338Z",
     "iopub.status.busy": "2023-11-12T20:19:33.720610Z",
     "iopub.status.idle": "2023-11-12T20:19:33.726779Z",
     "shell.execute_reply": "2023-11-12T20:19:33.725983Z"
    },
    "papermill": {
     "duration": 0.024411,
     "end_time": "2023-11-12T20:19:33.729365",
     "exception": false,
     "start_time": "2023-11-12T20:19:33.704954",
     "status": "completed"
    },
    "tags": []
   },
   "outputs": [],
   "source": [
    "train_data = train_data.drop(['PassengerId'], axis=1)"
   ]
  },
  {
   "cell_type": "markdown",
   "id": "bd73bb59",
   "metadata": {
    "papermill": {
     "duration": 0.013756,
     "end_time": "2023-11-12T20:19:33.757376",
     "exception": false,
     "start_time": "2023-11-12T20:19:33.743620",
     "status": "completed"
    },
    "tags": []
   },
   "source": [
    "### Getting data ready"
   ]
  },
  {
   "cell_type": "code",
   "execution_count": 22,
   "id": "9355cba7",
   "metadata": {
    "execution": {
     "iopub.execute_input": "2023-11-12T20:19:33.788858Z",
     "iopub.status.busy": "2023-11-12T20:19:33.788181Z",
     "iopub.status.idle": "2023-11-12T20:19:33.796060Z",
     "shell.execute_reply": "2023-11-12T20:19:33.795256Z"
    },
    "papermill": {
     "duration": 0.026523,
     "end_time": "2023-11-12T20:19:33.798493",
     "exception": false,
     "start_time": "2023-11-12T20:19:33.771970",
     "status": "completed"
    },
    "tags": []
   },
   "outputs": [],
   "source": [
    "X_train = train_data.drop(\"Survived\", axis=1)\n",
    "Y_train = train_data[\"Survived\"]\n",
    "X_test  = test_data.drop(\"PassengerId\", axis=1).copy()"
   ]
  },
  {
   "cell_type": "markdown",
   "id": "87424005",
   "metadata": {
    "papermill": {
     "duration": 0.013806,
     "end_time": "2023-11-12T20:19:33.826424",
     "exception": false,
     "start_time": "2023-11-12T20:19:33.812618",
     "status": "completed"
    },
    "tags": []
   },
   "source": [
    "# Data Normalization"
   ]
  },
  {
   "cell_type": "code",
   "execution_count": 23,
   "id": "eac6c712",
   "metadata": {
    "execution": {
     "iopub.execute_input": "2023-11-12T20:19:33.857473Z",
     "iopub.status.busy": "2023-11-12T20:19:33.856757Z",
     "iopub.status.idle": "2023-11-12T20:19:33.875599Z",
     "shell.execute_reply": "2023-11-12T20:19:33.874665Z"
    },
    "papermill": {
     "duration": 0.037885,
     "end_time": "2023-11-12T20:19:33.878446",
     "exception": false,
     "start_time": "2023-11-12T20:19:33.840561",
     "status": "completed"
    },
    "tags": []
   },
   "outputs": [],
   "source": [
    "for col in X_train.columns:\n",
    "    train_column = X_train[col]\n",
    "    test_column = X_test[col]\n",
    "    \n",
    "    mean_val = train_column.mean()\n",
    "    std_val = train_column.std()\n",
    "    \n",
    "    X_train[col] = (train_column - mean_val) / std_val\n",
    "    X_test[col] = (test_column - mean_val) / std_val"
   ]
  },
  {
   "cell_type": "code",
   "execution_count": 24,
   "id": "2f6701d4",
   "metadata": {
    "execution": {
     "iopub.execute_input": "2023-11-12T20:19:33.908679Z",
     "iopub.status.busy": "2023-11-12T20:19:33.908297Z",
     "iopub.status.idle": "2023-11-12T20:19:33.924769Z",
     "shell.execute_reply": "2023-11-12T20:19:33.923687Z"
    },
    "papermill": {
     "duration": 0.034623,
     "end_time": "2023-11-12T20:19:33.927263",
     "exception": false,
     "start_time": "2023-11-12T20:19:33.892640",
     "status": "completed"
    },
    "tags": []
   },
   "outputs": [
    {
     "data": {
      "text/html": [
       "<div>\n",
       "<style scoped>\n",
       "    .dataframe tbody tr th:only-of-type {\n",
       "        vertical-align: middle;\n",
       "    }\n",
       "\n",
       "    .dataframe tbody tr th {\n",
       "        vertical-align: top;\n",
       "    }\n",
       "\n",
       "    .dataframe thead th {\n",
       "        text-align: right;\n",
       "    }\n",
       "</style>\n",
       "<table border=\"1\" class=\"dataframe\">\n",
       "  <thead>\n",
       "    <tr style=\"text-align: right;\">\n",
       "      <th></th>\n",
       "      <th>Pclass</th>\n",
       "      <th>Sex</th>\n",
       "      <th>Age</th>\n",
       "      <th>SibSp</th>\n",
       "      <th>Parch</th>\n",
       "      <th>Fare</th>\n",
       "      <th>Embarked</th>\n",
       "      <th>Title</th>\n",
       "      <th>Cabin_Encoded</th>\n",
       "    </tr>\n",
       "  </thead>\n",
       "  <tbody>\n",
       "    <tr>\n",
       "      <th>0</th>\n",
       "      <td>0.826913</td>\n",
       "      <td>-0.737281</td>\n",
       "      <td>-0.579719</td>\n",
       "      <td>0.432550</td>\n",
       "      <td>-0.473408</td>\n",
       "      <td>-0.498667</td>\n",
       "      <td>-0.568518</td>\n",
       "      <td>-0.738132</td>\n",
       "      <td>-0.488186</td>\n",
       "    </tr>\n",
       "    <tr>\n",
       "      <th>1</th>\n",
       "      <td>-1.565228</td>\n",
       "      <td>1.354813</td>\n",
       "      <td>0.649747</td>\n",
       "      <td>0.432550</td>\n",
       "      <td>-0.473408</td>\n",
       "      <td>0.788962</td>\n",
       "      <td>1.004617</td>\n",
       "      <td>0.190788</td>\n",
       "      <td>1.397540</td>\n",
       "    </tr>\n",
       "    <tr>\n",
       "      <th>2</th>\n",
       "      <td>0.826913</td>\n",
       "      <td>1.354813</td>\n",
       "      <td>-0.272352</td>\n",
       "      <td>-0.474279</td>\n",
       "      <td>-0.473408</td>\n",
       "      <td>-0.498667</td>\n",
       "      <td>-0.568518</td>\n",
       "      <td>1.119709</td>\n",
       "      <td>-0.488186</td>\n",
       "    </tr>\n",
       "    <tr>\n",
       "      <th>3</th>\n",
       "      <td>-1.565228</td>\n",
       "      <td>1.354813</td>\n",
       "      <td>0.419222</td>\n",
       "      <td>0.432550</td>\n",
       "      <td>-0.473408</td>\n",
       "      <td>0.426816</td>\n",
       "      <td>-0.568518</td>\n",
       "      <td>0.190788</td>\n",
       "      <td>1.397540</td>\n",
       "    </tr>\n",
       "    <tr>\n",
       "      <th>4</th>\n",
       "      <td>0.826913</td>\n",
       "      <td>-0.737281</td>\n",
       "      <td>0.419222</td>\n",
       "      <td>-0.474279</td>\n",
       "      <td>-0.473408</td>\n",
       "      <td>-0.478548</td>\n",
       "      <td>-0.568518</td>\n",
       "      <td>-0.738132</td>\n",
       "      <td>-0.488186</td>\n",
       "    </tr>\n",
       "  </tbody>\n",
       "</table>\n",
       "</div>"
      ],
      "text/plain": [
       "     Pclass       Sex       Age     SibSp     Parch      Fare  Embarked  \\\n",
       "0  0.826913 -0.737281 -0.579719  0.432550 -0.473408 -0.498667 -0.568518   \n",
       "1 -1.565228  1.354813  0.649747  0.432550 -0.473408  0.788962  1.004617   \n",
       "2  0.826913  1.354813 -0.272352 -0.474279 -0.473408 -0.498667 -0.568518   \n",
       "3 -1.565228  1.354813  0.419222  0.432550 -0.473408  0.426816 -0.568518   \n",
       "4  0.826913 -0.737281  0.419222 -0.474279 -0.473408 -0.478548 -0.568518   \n",
       "\n",
       "      Title  Cabin_Encoded  \n",
       "0 -0.738132      -0.488186  \n",
       "1  0.190788       1.397540  \n",
       "2  1.119709      -0.488186  \n",
       "3  0.190788       1.397540  \n",
       "4 -0.738132      -0.488186  "
      ]
     },
     "execution_count": 24,
     "metadata": {},
     "output_type": "execute_result"
    }
   ],
   "source": [
    "X_train.head()"
   ]
  },
  {
   "cell_type": "code",
   "execution_count": 25,
   "id": "4f8a3ada",
   "metadata": {
    "execution": {
     "iopub.execute_input": "2023-11-12T20:19:33.958122Z",
     "iopub.status.busy": "2023-11-12T20:19:33.957739Z",
     "iopub.status.idle": "2023-11-12T20:19:33.974675Z",
     "shell.execute_reply": "2023-11-12T20:19:33.973526Z"
    },
    "papermill": {
     "duration": 0.035622,
     "end_time": "2023-11-12T20:19:33.977363",
     "exception": false,
     "start_time": "2023-11-12T20:19:33.941741",
     "status": "completed"
    },
    "tags": []
   },
   "outputs": [
    {
     "data": {
      "text/html": [
       "<div>\n",
       "<style scoped>\n",
       "    .dataframe tbody tr th:only-of-type {\n",
       "        vertical-align: middle;\n",
       "    }\n",
       "\n",
       "    .dataframe tbody tr th {\n",
       "        vertical-align: top;\n",
       "    }\n",
       "\n",
       "    .dataframe thead th {\n",
       "        text-align: right;\n",
       "    }\n",
       "</style>\n",
       "<table border=\"1\" class=\"dataframe\">\n",
       "  <thead>\n",
       "    <tr style=\"text-align: right;\">\n",
       "      <th></th>\n",
       "      <th>Pclass</th>\n",
       "      <th>Sex</th>\n",
       "      <th>Age</th>\n",
       "      <th>SibSp</th>\n",
       "      <th>Parch</th>\n",
       "      <th>Fare</th>\n",
       "      <th>Embarked</th>\n",
       "      <th>Title</th>\n",
       "      <th>Cabin_Encoded</th>\n",
       "    </tr>\n",
       "  </thead>\n",
       "  <tbody>\n",
       "    <tr>\n",
       "      <th>0</th>\n",
       "      <td>0.826913</td>\n",
       "      <td>-0.737281</td>\n",
       "      <td>0.342381</td>\n",
       "      <td>-0.474279</td>\n",
       "      <td>-0.473408</td>\n",
       "      <td>-0.498667</td>\n",
       "      <td>2.577752</td>\n",
       "      <td>-0.738132</td>\n",
       "      <td>-0.488186</td>\n",
       "    </tr>\n",
       "    <tr>\n",
       "      <th>1</th>\n",
       "      <td>0.826913</td>\n",
       "      <td>1.354813</td>\n",
       "      <td>1.341322</td>\n",
       "      <td>0.432550</td>\n",
       "      <td>-0.473408</td>\n",
       "      <td>-0.498667</td>\n",
       "      <td>-0.568518</td>\n",
       "      <td>0.190788</td>\n",
       "      <td>-0.488186</td>\n",
       "    </tr>\n",
       "    <tr>\n",
       "      <th>2</th>\n",
       "      <td>-0.369158</td>\n",
       "      <td>-0.737281</td>\n",
       "      <td>2.493947</td>\n",
       "      <td>-0.474279</td>\n",
       "      <td>-0.473408</td>\n",
       "      <td>-0.458429</td>\n",
       "      <td>2.577752</td>\n",
       "      <td>-0.738132</td>\n",
       "      <td>-0.488186</td>\n",
       "    </tr>\n",
       "    <tr>\n",
       "      <th>3</th>\n",
       "      <td>0.826913</td>\n",
       "      <td>-0.737281</td>\n",
       "      <td>-0.195511</td>\n",
       "      <td>-0.474279</td>\n",
       "      <td>-0.473408</td>\n",
       "      <td>-0.478548</td>\n",
       "      <td>-0.568518</td>\n",
       "      <td>-0.738132</td>\n",
       "      <td>-0.488186</td>\n",
       "    </tr>\n",
       "    <tr>\n",
       "      <th>4</th>\n",
       "      <td>0.826913</td>\n",
       "      <td>1.354813</td>\n",
       "      <td>-0.579719</td>\n",
       "      <td>0.432550</td>\n",
       "      <td>0.767199</td>\n",
       "      <td>-0.398071</td>\n",
       "      <td>-0.568518</td>\n",
       "      <td>0.190788</td>\n",
       "      <td>-0.488186</td>\n",
       "    </tr>\n",
       "  </tbody>\n",
       "</table>\n",
       "</div>"
      ],
      "text/plain": [
       "     Pclass       Sex       Age     SibSp     Parch      Fare  Embarked  \\\n",
       "0  0.826913 -0.737281  0.342381 -0.474279 -0.473408 -0.498667  2.577752   \n",
       "1  0.826913  1.354813  1.341322  0.432550 -0.473408 -0.498667 -0.568518   \n",
       "2 -0.369158 -0.737281  2.493947 -0.474279 -0.473408 -0.458429  2.577752   \n",
       "3  0.826913 -0.737281 -0.195511 -0.474279 -0.473408 -0.478548 -0.568518   \n",
       "4  0.826913  1.354813 -0.579719  0.432550  0.767199 -0.398071 -0.568518   \n",
       "\n",
       "      Title  Cabin_Encoded  \n",
       "0 -0.738132      -0.488186  \n",
       "1  0.190788      -0.488186  \n",
       "2 -0.738132      -0.488186  \n",
       "3 -0.738132      -0.488186  \n",
       "4  0.190788      -0.488186  "
      ]
     },
     "execution_count": 25,
     "metadata": {},
     "output_type": "execute_result"
    }
   ],
   "source": [
    "X_test.head()"
   ]
  },
  {
   "cell_type": "code",
   "execution_count": 26,
   "id": "bfd4f782",
   "metadata": {
    "execution": {
     "iopub.execute_input": "2023-11-12T20:19:34.009236Z",
     "iopub.status.busy": "2023-11-12T20:19:34.008787Z",
     "iopub.status.idle": "2023-11-12T20:19:34.016953Z",
     "shell.execute_reply": "2023-11-12T20:19:34.015751Z"
    },
    "papermill": {
     "duration": 0.027395,
     "end_time": "2023-11-12T20:19:34.019773",
     "exception": false,
     "start_time": "2023-11-12T20:19:33.992378",
     "status": "completed"
    },
    "tags": []
   },
   "outputs": [
    {
     "data": {
      "text/plain": [
       "0    0\n",
       "1    1\n",
       "2    1\n",
       "3    1\n",
       "4    0\n",
       "Name: Survived, dtype: int64"
      ]
     },
     "execution_count": 26,
     "metadata": {},
     "output_type": "execute_result"
    }
   ],
   "source": [
    "Y_train.head()"
   ]
  },
  {
   "cell_type": "markdown",
   "id": "fe4e6fae",
   "metadata": {
    "papermill": {
     "duration": 0.014594,
     "end_time": "2023-11-12T20:19:34.049363",
     "exception": false,
     "start_time": "2023-11-12T20:19:34.034769",
     "status": "completed"
    },
    "tags": []
   },
   "source": [
    "# Logistic Regression"
   ]
  },
  {
   "cell_type": "code",
   "execution_count": 27,
   "id": "3098b27c",
   "metadata": {
    "execution": {
     "iopub.execute_input": "2023-11-12T20:19:34.081363Z",
     "iopub.status.busy": "2023-11-12T20:19:34.080911Z",
     "iopub.status.idle": "2023-11-12T20:19:34.089729Z",
     "shell.execute_reply": "2023-11-12T20:19:34.088478Z"
    },
    "papermill": {
     "duration": 0.027654,
     "end_time": "2023-11-12T20:19:34.091978",
     "exception": false,
     "start_time": "2023-11-12T20:19:34.064324",
     "status": "completed"
    },
    "tags": []
   },
   "outputs": [],
   "source": [
    "class LogisticRegression:\n",
    "    def __init__(self, max_iterations=1000, learning_rate=0.01, decay=0.9, epsilon=1e-5):\n",
    "        self.max_iterations = max_iterations\n",
    "        self.learning_rate = learning_rate\n",
    "        self.epsilon = epsilon\n",
    "        self.W = None\n",
    "        self.b = None\n",
    "\n",
    "    def sigmoid(self, z):\n",
    "        a = 1 / (1 + np.exp(-z))\n",
    "        return a\n",
    "\n",
    "    def binary_cross_entropy(self, y_pred, y):\n",
    "        pass\n",
    "\n",
    "    def gradient_descent(self, X, y):\n",
    "        pass\n",
    "\n",
    "    def fit(self, X, y):\n",
    "        pass\n",
    "\n",
    "    def predict(self, X):\n",
    "        pass\n"
   ]
  }
 ],
 "metadata": {
  "kernelspec": {
   "display_name": "Python 3",
   "language": "python",
   "name": "python3"
  },
  "language_info": {
   "codemirror_mode": {
    "name": "ipython",
    "version": 3
   },
   "file_extension": ".py",
   "mimetype": "text/x-python",
   "name": "python",
   "nbconvert_exporter": "python",
   "pygments_lexer": "ipython3",
   "version": "3.10.12"
  },
  "papermill": {
   "default_parameters": {},
   "duration": 6.387603,
   "end_time": "2023-11-12T20:19:34.628169",
   "environment_variables": {},
   "exception": null,
   "input_path": "__notebook__.ipynb",
   "output_path": "__notebook__.ipynb",
   "parameters": {},
   "start_time": "2023-11-12T20:19:28.240566",
   "version": "2.4.0"
  }
 },
 "nbformat": 4,
 "nbformat_minor": 5
}

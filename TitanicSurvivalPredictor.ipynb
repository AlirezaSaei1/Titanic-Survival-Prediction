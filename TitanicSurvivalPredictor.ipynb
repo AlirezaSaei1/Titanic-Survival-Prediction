{
 "cells": [
  {
   "cell_type": "markdown",
   "id": "70507245",
   "metadata": {
    "papermill": {
     "duration": 0.011372,
     "end_time": "2023-11-12T18:29:57.673155",
     "exception": false,
     "start_time": "2023-11-12T18:29:57.661783",
     "status": "completed"
    },
    "tags": []
   },
   "source": [
    "# Import Required Libraraies"
   ]
  },
  {
   "cell_type": "code",
   "execution_count": 1,
   "id": "7556b57b",
   "metadata": {
    "execution": {
     "iopub.execute_input": "2023-11-12T18:29:57.697687Z",
     "iopub.status.busy": "2023-11-12T18:29:57.696560Z",
     "iopub.status.idle": "2023-11-12T18:29:58.167380Z",
     "shell.execute_reply": "2023-11-12T18:29:58.165980Z"
    },
    "papermill": {
     "duration": 0.486393,
     "end_time": "2023-11-12T18:29:58.170755",
     "exception": false,
     "start_time": "2023-11-12T18:29:57.684362",
     "status": "completed"
    },
    "tags": []
   },
   "outputs": [],
   "source": [
    "import re\n",
    "import numpy as np\n",
    "import pandas as pd"
   ]
  },
  {
   "cell_type": "markdown",
   "id": "764df5a8",
   "metadata": {
    "papermill": {
     "duration": 0.010856,
     "end_time": "2023-11-12T18:29:58.193706",
     "exception": false,
     "start_time": "2023-11-12T18:29:58.182850",
     "status": "completed"
    },
    "tags": []
   },
   "source": [
    "# Read Data"
   ]
  },
  {
   "cell_type": "code",
   "execution_count": 2,
   "id": "71a76d20",
   "metadata": {
    "execution": {
     "iopub.execute_input": "2023-11-12T18:29:58.218992Z",
     "iopub.status.busy": "2023-11-12T18:29:58.217961Z",
     "iopub.status.idle": "2023-11-12T18:29:58.256931Z",
     "shell.execute_reply": "2023-11-12T18:29:58.255673Z"
    },
    "papermill": {
     "duration": 0.0554,
     "end_time": "2023-11-12T18:29:58.260243",
     "exception": false,
     "start_time": "2023-11-12T18:29:58.204843",
     "status": "completed"
    },
    "tags": []
   },
   "outputs": [],
   "source": [
    "train_data = pd.read_csv('/kaggle/input/titanic/train.csv')\n",
    "test_data = pd.read_csv('/kaggle/input/titanic/test.csv')\n",
    "gender_sub = pd.read_csv('/kaggle/input/titanic/gender_submission.csv')"
   ]
  },
  {
   "cell_type": "code",
   "execution_count": 3,
   "id": "bbf93045",
   "metadata": {
    "execution": {
     "iopub.execute_input": "2023-11-12T18:29:58.286183Z",
     "iopub.status.busy": "2023-11-12T18:29:58.285447Z",
     "iopub.status.idle": "2023-11-12T18:29:58.319787Z",
     "shell.execute_reply": "2023-11-12T18:29:58.318247Z"
    },
    "papermill": {
     "duration": 0.050472,
     "end_time": "2023-11-12T18:29:58.322755",
     "exception": false,
     "start_time": "2023-11-12T18:29:58.272283",
     "status": "completed"
    },
    "tags": []
   },
   "outputs": [
    {
     "data": {
      "text/html": [
       "<div>\n",
       "<style scoped>\n",
       "    .dataframe tbody tr th:only-of-type {\n",
       "        vertical-align: middle;\n",
       "    }\n",
       "\n",
       "    .dataframe tbody tr th {\n",
       "        vertical-align: top;\n",
       "    }\n",
       "\n",
       "    .dataframe thead th {\n",
       "        text-align: right;\n",
       "    }\n",
       "</style>\n",
       "<table border=\"1\" class=\"dataframe\">\n",
       "  <thead>\n",
       "    <tr style=\"text-align: right;\">\n",
       "      <th></th>\n",
       "      <th>PassengerId</th>\n",
       "      <th>Pclass</th>\n",
       "      <th>Name</th>\n",
       "      <th>Sex</th>\n",
       "      <th>Age</th>\n",
       "      <th>SibSp</th>\n",
       "      <th>Parch</th>\n",
       "      <th>Ticket</th>\n",
       "      <th>Fare</th>\n",
       "      <th>Cabin</th>\n",
       "      <th>Embarked</th>\n",
       "    </tr>\n",
       "  </thead>\n",
       "  <tbody>\n",
       "    <tr>\n",
       "      <th>0</th>\n",
       "      <td>892</td>\n",
       "      <td>3</td>\n",
       "      <td>Kelly, Mr. James</td>\n",
       "      <td>male</td>\n",
       "      <td>34.5</td>\n",
       "      <td>0</td>\n",
       "      <td>0</td>\n",
       "      <td>330911</td>\n",
       "      <td>7.8292</td>\n",
       "      <td>NaN</td>\n",
       "      <td>Q</td>\n",
       "    </tr>\n",
       "    <tr>\n",
       "      <th>1</th>\n",
       "      <td>893</td>\n",
       "      <td>3</td>\n",
       "      <td>Wilkes, Mrs. James (Ellen Needs)</td>\n",
       "      <td>female</td>\n",
       "      <td>47.0</td>\n",
       "      <td>1</td>\n",
       "      <td>0</td>\n",
       "      <td>363272</td>\n",
       "      <td>7.0000</td>\n",
       "      <td>NaN</td>\n",
       "      <td>S</td>\n",
       "    </tr>\n",
       "    <tr>\n",
       "      <th>2</th>\n",
       "      <td>894</td>\n",
       "      <td>2</td>\n",
       "      <td>Myles, Mr. Thomas Francis</td>\n",
       "      <td>male</td>\n",
       "      <td>62.0</td>\n",
       "      <td>0</td>\n",
       "      <td>0</td>\n",
       "      <td>240276</td>\n",
       "      <td>9.6875</td>\n",
       "      <td>NaN</td>\n",
       "      <td>Q</td>\n",
       "    </tr>\n",
       "    <tr>\n",
       "      <th>3</th>\n",
       "      <td>895</td>\n",
       "      <td>3</td>\n",
       "      <td>Wirz, Mr. Albert</td>\n",
       "      <td>male</td>\n",
       "      <td>27.0</td>\n",
       "      <td>0</td>\n",
       "      <td>0</td>\n",
       "      <td>315154</td>\n",
       "      <td>8.6625</td>\n",
       "      <td>NaN</td>\n",
       "      <td>S</td>\n",
       "    </tr>\n",
       "    <tr>\n",
       "      <th>4</th>\n",
       "      <td>896</td>\n",
       "      <td>3</td>\n",
       "      <td>Hirvonen, Mrs. Alexander (Helga E Lindqvist)</td>\n",
       "      <td>female</td>\n",
       "      <td>22.0</td>\n",
       "      <td>1</td>\n",
       "      <td>1</td>\n",
       "      <td>3101298</td>\n",
       "      <td>12.2875</td>\n",
       "      <td>NaN</td>\n",
       "      <td>S</td>\n",
       "    </tr>\n",
       "  </tbody>\n",
       "</table>\n",
       "</div>"
      ],
      "text/plain": [
       "   PassengerId  Pclass                                          Name     Sex  \\\n",
       "0          892       3                              Kelly, Mr. James    male   \n",
       "1          893       3              Wilkes, Mrs. James (Ellen Needs)  female   \n",
       "2          894       2                     Myles, Mr. Thomas Francis    male   \n",
       "3          895       3                              Wirz, Mr. Albert    male   \n",
       "4          896       3  Hirvonen, Mrs. Alexander (Helga E Lindqvist)  female   \n",
       "\n",
       "    Age  SibSp  Parch   Ticket     Fare Cabin Embarked  \n",
       "0  34.5      0      0   330911   7.8292   NaN        Q  \n",
       "1  47.0      1      0   363272   7.0000   NaN        S  \n",
       "2  62.0      0      0   240276   9.6875   NaN        Q  \n",
       "3  27.0      0      0   315154   8.6625   NaN        S  \n",
       "4  22.0      1      1  3101298  12.2875   NaN        S  "
      ]
     },
     "execution_count": 3,
     "metadata": {},
     "output_type": "execute_result"
    }
   ],
   "source": [
    "test_data.head()"
   ]
  },
  {
   "cell_type": "markdown",
   "id": "243945aa",
   "metadata": {
    "papermill": {
     "duration": 0.011183,
     "end_time": "2023-11-12T18:29:58.345847",
     "exception": false,
     "start_time": "2023-11-12T18:29:58.334664",
     "status": "completed"
    },
    "tags": []
   },
   "source": [
    "# Data Purification and Feature Engineering"
   ]
  },
  {
   "cell_type": "markdown",
   "id": "3a70e3d4",
   "metadata": {
    "papermill": {
     "duration": 0.011421,
     "end_time": "2023-11-12T18:29:58.368820",
     "exception": false,
     "start_time": "2023-11-12T18:29:58.357399",
     "status": "completed"
    },
    "tags": []
   },
   "source": [
    "## Name\n",
    "### Extract titles from names"
   ]
  },
  {
   "cell_type": "code",
   "execution_count": 4,
   "id": "9452017c",
   "metadata": {
    "execution": {
     "iopub.execute_input": "2023-11-12T18:29:58.394062Z",
     "iopub.status.busy": "2023-11-12T18:29:58.393623Z",
     "iopub.status.idle": "2023-11-12T18:29:58.412314Z",
     "shell.execute_reply": "2023-11-12T18:29:58.411470Z"
    },
    "papermill": {
     "duration": 0.034583,
     "end_time": "2023-11-12T18:29:58.414883",
     "exception": false,
     "start_time": "2023-11-12T18:29:58.380300",
     "status": "completed"
    },
    "tags": []
   },
   "outputs": [
    {
     "name": "stdout",
     "output_type": "stream",
     "text": [
      "All unique titles in names (Train): ['Mr' 'Mrs' 'Miss' 'Master' 'Don' 'Rev' 'Dr' 'Mme' 'Ms' 'Major' 'Lady'\n",
      " 'Sir' 'Mlle' 'Col' 'Capt' 'Countess' 'Jonkheer']\n",
      "All unique titles in names (Test): ['Mr' 'Mrs' 'Miss' 'Master' 'Ms' 'Col' 'Rev' 'Dr' 'Dona']\n"
     ]
    }
   ],
   "source": [
    "train_data['Title'] = train_data['Name'].apply(lambda x: re.search(' ([A-Za-z]+)\\.', x).group(1))\n",
    "test_data['Title'] = test_data['Name'].apply(lambda x: re.search(' ([A-Za-z]+)\\.', x).group(1))\n",
    "\n",
    "# Display the unique titles\n",
    "print(f'All unique titles in names (Train): {train_data[\"Title\"].unique()}')\n",
    "print(f'All unique titles in names (Test): {test_data[\"Title\"].unique()}')"
   ]
  },
  {
   "cell_type": "code",
   "execution_count": 5,
   "id": "d041e3b3",
   "metadata": {
    "execution": {
     "iopub.execute_input": "2023-11-12T18:29:58.441858Z",
     "iopub.status.busy": "2023-11-12T18:29:58.440724Z",
     "iopub.status.idle": "2023-11-12T18:29:58.455274Z",
     "shell.execute_reply": "2023-11-12T18:29:58.454458Z"
    },
    "papermill": {
     "duration": 0.030615,
     "end_time": "2023-11-12T18:29:58.457852",
     "exception": false,
     "start_time": "2023-11-12T18:29:58.427237",
     "status": "completed"
    },
    "tags": []
   },
   "outputs": [],
   "source": [
    "# Train Data\n",
    "train_data['Title'] = train_data['Title'].replace(['Lady', 'Countess', 'Capt', 'Col', 'Don', 'Dr','Major', 'Rev', 'Sir', 'Jonkheer', 'Dona'], 'Other')\n",
    "train_data['Title'] = train_data['Title'].replace(['Mlle', 'Ms'], 'Miss')\n",
    "train_data['Title'] = train_data['Title'].replace('Mme', 'Mrs')\n",
    "\n",
    "# Test Data\n",
    "test_data['Title'] = test_data['Title'].replace(['Lady', 'Countess', 'Capt', 'Col', 'Don', 'Dr','Major', 'Rev', 'Sir', 'Jonkheer', 'Dona'], 'Other')\n",
    "test_data['Title'] = test_data['Title'].replace(['Mlle', 'Ms'], 'Miss')\n",
    "test_data['Title'] = test_data['Title'].replace('Mme', 'Mrs')"
   ]
  },
  {
   "cell_type": "code",
   "execution_count": 6,
   "id": "61907a19",
   "metadata": {
    "execution": {
     "iopub.execute_input": "2023-11-12T18:29:58.485127Z",
     "iopub.status.busy": "2023-11-12T18:29:58.484365Z",
     "iopub.status.idle": "2023-11-12T18:29:58.490973Z",
     "shell.execute_reply": "2023-11-12T18:29:58.489773Z"
    },
    "papermill": {
     "duration": 0.023649,
     "end_time": "2023-11-12T18:29:58.494023",
     "exception": false,
     "start_time": "2023-11-12T18:29:58.470374",
     "status": "completed"
    },
    "tags": []
   },
   "outputs": [
    {
     "name": "stdout",
     "output_type": "stream",
     "text": [
      "Train Titles: ['Mr' 'Mrs' 'Miss' 'Master' 'Other']\n",
      "Test Titles: ['Mr' 'Mrs' 'Miss' 'Master' 'Other']\n"
     ]
    }
   ],
   "source": [
    "print(f'Train Titles: {train_data[\"Title\"].unique()}')\n",
    "print(f'Test Titles: {test_data[\"Title\"].unique()}')"
   ]
  },
  {
   "cell_type": "markdown",
   "id": "22e5e0c5",
   "metadata": {
    "papermill": {
     "duration": 0.011221,
     "end_time": "2023-11-12T18:29:58.517387",
     "exception": false,
     "start_time": "2023-11-12T18:29:58.506166",
     "status": "completed"
    },
    "tags": []
   },
   "source": [
    "### Drop Names"
   ]
  },
  {
   "cell_type": "code",
   "execution_count": 7,
   "id": "ca405450",
   "metadata": {
    "execution": {
     "iopub.execute_input": "2023-11-12T18:29:58.542785Z",
     "iopub.status.busy": "2023-11-12T18:29:58.542115Z",
     "iopub.status.idle": "2023-11-12T18:29:58.555617Z",
     "shell.execute_reply": "2023-11-12T18:29:58.554647Z"
    },
    "papermill": {
     "duration": 0.029106,
     "end_time": "2023-11-12T18:29:58.558111",
     "exception": false,
     "start_time": "2023-11-12T18:29:58.529005",
     "status": "completed"
    },
    "tags": []
   },
   "outputs": [],
   "source": [
    "train_data = train_data.drop('Name', axis=1)\n",
    "test_data = test_data.drop('Name', axis=1)"
   ]
  },
  {
   "cell_type": "markdown",
   "id": "5fd5cfaf",
   "metadata": {
    "papermill": {
     "duration": 0.011342,
     "end_time": "2023-11-12T18:29:58.581454",
     "exception": false,
     "start_time": "2023-11-12T18:29:58.570112",
     "status": "completed"
    },
    "tags": []
   },
   "source": [
    "### Encode Titles"
   ]
  },
  {
   "cell_type": "code",
   "execution_count": 8,
   "id": "fab3e54d",
   "metadata": {
    "execution": {
     "iopub.execute_input": "2023-11-12T18:29:58.608079Z",
     "iopub.status.busy": "2023-11-12T18:29:58.607483Z",
     "iopub.status.idle": "2023-11-12T18:29:58.615615Z",
     "shell.execute_reply": "2023-11-12T18:29:58.614708Z"
    },
    "papermill": {
     "duration": 0.024846,
     "end_time": "2023-11-12T18:29:58.618160",
     "exception": false,
     "start_time": "2023-11-12T18:29:58.593314",
     "status": "completed"
    },
    "tags": []
   },
   "outputs": [],
   "source": [
    "title_to_number = {'Mr': 0, 'Mrs': 1, 'Miss': 2, 'Master': 3, 'Other': 4}\n",
    "\n",
    "train_data['Title'] = train_data['Title'].apply(lambda x: title_to_number[x])\n",
    "test_data['Title'] = test_data['Title'].apply(lambda x: title_to_number[x])"
   ]
  },
  {
   "cell_type": "markdown",
   "id": "4ba248d0",
   "metadata": {
    "papermill": {
     "duration": 0.01196,
     "end_time": "2023-11-12T18:29:58.642263",
     "exception": false,
     "start_time": "2023-11-12T18:29:58.630303",
     "status": "completed"
    },
    "tags": []
   },
   "source": [
    "## Ticket\n",
    "### Drop ticket columns"
   ]
  },
  {
   "cell_type": "code",
   "execution_count": 9,
   "id": "c05899e1",
   "metadata": {
    "execution": {
     "iopub.execute_input": "2023-11-12T18:29:58.669196Z",
     "iopub.status.busy": "2023-11-12T18:29:58.668009Z",
     "iopub.status.idle": "2023-11-12T18:29:58.674847Z",
     "shell.execute_reply": "2023-11-12T18:29:58.674066Z"
    },
    "papermill": {
     "duration": 0.022786,
     "end_time": "2023-11-12T18:29:58.677105",
     "exception": false,
     "start_time": "2023-11-12T18:29:58.654319",
     "status": "completed"
    },
    "tags": []
   },
   "outputs": [],
   "source": [
    "# Drop Ticket Column\n",
    "train_data = train_data.drop('Ticket', axis=1)\n",
    "test_data = test_data.drop('Ticket', axis=1)"
   ]
  },
  {
   "cell_type": "markdown",
   "id": "bc5d914f",
   "metadata": {
    "papermill": {
     "duration": 0.011432,
     "end_time": "2023-11-12T18:29:58.700448",
     "exception": false,
     "start_time": "2023-11-12T18:29:58.689016",
     "status": "completed"
    },
    "tags": []
   },
   "source": [
    "## Sex\n",
    "### Convert sexes to 0s and 1s"
   ]
  },
  {
   "cell_type": "code",
   "execution_count": 10,
   "id": "a6ef5c47",
   "metadata": {
    "execution": {
     "iopub.execute_input": "2023-11-12T18:29:58.726142Z",
     "iopub.status.busy": "2023-11-12T18:29:58.725280Z",
     "iopub.status.idle": "2023-11-12T18:29:58.734576Z",
     "shell.execute_reply": "2023-11-12T18:29:58.733497Z"
    },
    "papermill": {
     "duration": 0.024943,
     "end_time": "2023-11-12T18:29:58.737198",
     "exception": false,
     "start_time": "2023-11-12T18:29:58.712255",
     "status": "completed"
    },
    "tags": []
   },
   "outputs": [
    {
     "name": "stdout",
     "output_type": "stream",
     "text": [
      "Number of distinct values for sex: {0, 1}\n"
     ]
    }
   ],
   "source": [
    "# Encode Sex\n",
    "train_data['Sex'] = train_data['Sex'].replace({'male': 0, 'female': 1})\n",
    "test_data['Sex'] = test_data['Sex'].replace({'male': 0, 'female': 1})\n",
    "print(f'Number of distinct values for sex: {set(test_data[\"Sex\"])}')"
   ]
  },
  {
   "cell_type": "markdown",
   "id": "60a3023e",
   "metadata": {
    "papermill": {
     "duration": 0.011687,
     "end_time": "2023-11-12T18:29:58.760797",
     "exception": false,
     "start_time": "2023-11-12T18:29:58.749110",
     "status": "completed"
    },
    "tags": []
   },
   "source": [
    "## Cabin\n",
    "### Extract letters from Cabins"
   ]
  },
  {
   "cell_type": "code",
   "execution_count": 11,
   "id": "db772877",
   "metadata": {
    "execution": {
     "iopub.execute_input": "2023-11-12T18:29:58.785929Z",
     "iopub.status.busy": "2023-11-12T18:29:58.785548Z",
     "iopub.status.idle": "2023-11-12T18:29:58.799864Z",
     "shell.execute_reply": "2023-11-12T18:29:58.798494Z"
    },
    "papermill": {
     "duration": 0.029731,
     "end_time": "2023-11-12T18:29:58.802205",
     "exception": false,
     "start_time": "2023-11-12T18:29:58.772474",
     "status": "completed"
    },
    "tags": []
   },
   "outputs": [
    {
     "name": "stdout",
     "output_type": "stream",
     "text": [
      "['X' 'C' 'E' 'G' 'D' 'A' 'B' 'F' 'T']\n",
      "['X' 'B' 'E' 'A' 'C' 'D' 'F' 'G']\n"
     ]
    }
   ],
   "source": [
    "train_data['Cabin'] = train_data['Cabin'].fillna(\"X\")\n",
    "print(train_data['Cabin'].str[0].unique())\n",
    "\n",
    "test_data['Cabin'] = test_data['Cabin'].fillna(\"X\")\n",
    "print(test_data['Cabin'].str[0].unique())"
   ]
  },
  {
   "cell_type": "markdown",
   "id": "32f86423",
   "metadata": {
    "papermill": {
     "duration": 0.011432,
     "end_time": "2023-11-12T18:29:58.825698",
     "exception": false,
     "start_time": "2023-11-12T18:29:58.814266",
     "status": "completed"
    },
    "tags": []
   },
   "source": [
    "### Encode letters"
   ]
  },
  {
   "cell_type": "code",
   "execution_count": 12,
   "id": "b7b2e70e",
   "metadata": {
    "execution": {
     "iopub.execute_input": "2023-11-12T18:29:58.851471Z",
     "iopub.status.busy": "2023-11-12T18:29:58.850739Z",
     "iopub.status.idle": "2023-11-12T18:29:58.859317Z",
     "shell.execute_reply": "2023-11-12T18:29:58.858467Z"
    },
    "papermill": {
     "duration": 0.024178,
     "end_time": "2023-11-12T18:29:58.861683",
     "exception": false,
     "start_time": "2023-11-12T18:29:58.837505",
     "status": "completed"
    },
    "tags": []
   },
   "outputs": [],
   "source": [
    "cabin_to_number = {'X': 0, 'A': 1, 'B': 2, 'C': 3, 'D': 4, 'E': 5, 'F': 6, 'G': 7, 'T': 8}\n",
    "\n",
    "train_data['Cabin_Encoded'] = train_data['Cabin'].apply(lambda x: cabin_to_number[x[0]])\n",
    "test_data['Cabin_Encoded'] = test_data['Cabin'].apply(lambda x: cabin_to_number[x[0]])"
   ]
  },
  {
   "cell_type": "markdown",
   "id": "748eeb3f",
   "metadata": {
    "papermill": {
     "duration": 0.011934,
     "end_time": "2023-11-12T18:29:58.885898",
     "exception": false,
     "start_time": "2023-11-12T18:29:58.873964",
     "status": "completed"
    },
    "tags": []
   },
   "source": [
    "### Drop Cabin Column"
   ]
  },
  {
   "cell_type": "code",
   "execution_count": 13,
   "id": "80fa2b68",
   "metadata": {
    "execution": {
     "iopub.execute_input": "2023-11-12T18:29:59.002687Z",
     "iopub.status.busy": "2023-11-12T18:29:59.001942Z",
     "iopub.status.idle": "2023-11-12T18:29:59.008951Z",
     "shell.execute_reply": "2023-11-12T18:29:59.007755Z"
    },
    "papermill": {
     "duration": 0.023261,
     "end_time": "2023-11-12T18:29:59.011355",
     "exception": false,
     "start_time": "2023-11-12T18:29:58.988094",
     "status": "completed"
    },
    "tags": []
   },
   "outputs": [],
   "source": [
    "train_data = train_data.drop('Cabin', axis=1)\n",
    "test_data = test_data.drop('Cabin', axis=1)"
   ]
  },
  {
   "cell_type": "markdown",
   "id": "571ea094",
   "metadata": {
    "papermill": {
     "duration": 0.011724,
     "end_time": "2023-11-12T18:29:59.035497",
     "exception": false,
     "start_time": "2023-11-12T18:29:59.023773",
     "status": "completed"
    },
    "tags": []
   },
   "source": [
    "## Embarked\n",
    "### Fill Null values with 'S'"
   ]
  },
  {
   "cell_type": "code",
   "execution_count": 14,
   "id": "c6310c3d",
   "metadata": {
    "execution": {
     "iopub.execute_input": "2023-11-12T18:29:59.061979Z",
     "iopub.status.busy": "2023-11-12T18:29:59.061254Z",
     "iopub.status.idle": "2023-11-12T18:29:59.072535Z",
     "shell.execute_reply": "2023-11-12T18:29:59.071209Z"
    },
    "papermill": {
     "duration": 0.027855,
     "end_time": "2023-11-12T18:29:59.075326",
     "exception": false,
     "start_time": "2023-11-12T18:29:59.047471",
     "status": "completed"
    },
    "tags": []
   },
   "outputs": [],
   "source": [
    "train_data['Embarked'].describe()\n",
    "\n",
    "train_data['Embarked'] = train_data['Embarked'].fillna('S')\n",
    "test_data['Embarked'] = test_data['Embarked'].fillna('S')"
   ]
  },
  {
   "cell_type": "markdown",
   "id": "5b12b4a4",
   "metadata": {
    "papermill": {
     "duration": 0.011644,
     "end_time": "2023-11-12T18:29:59.099138",
     "exception": false,
     "start_time": "2023-11-12T18:29:59.087494",
     "status": "completed"
    },
    "tags": []
   },
   "source": [
    "### Encode Embarked Values"
   ]
  },
  {
   "cell_type": "code",
   "execution_count": 15,
   "id": "8f8eb334",
   "metadata": {
    "execution": {
     "iopub.execute_input": "2023-11-12T18:29:59.125297Z",
     "iopub.status.busy": "2023-11-12T18:29:59.124842Z",
     "iopub.status.idle": "2023-11-12T18:29:59.135079Z",
     "shell.execute_reply": "2023-11-12T18:29:59.133515Z"
    },
    "papermill": {
     "duration": 0.026335,
     "end_time": "2023-11-12T18:29:59.137529",
     "exception": false,
     "start_time": "2023-11-12T18:29:59.111194",
     "status": "completed"
    },
    "tags": []
   },
   "outputs": [],
   "source": [
    "embark_to_number = {'S': 0, 'C': 1, 'Q': 2}\n",
    "\n",
    "train_data['Embarked'] = train_data['Embarked'].apply(lambda x: embark_to_number[x])\n",
    "test_data['Embarked'] = test_data['Embarked'].apply(lambda x: embark_to_number[x])"
   ]
  },
  {
   "cell_type": "markdown",
   "id": "9f43d957",
   "metadata": {
    "papermill": {
     "duration": 0.011776,
     "end_time": "2023-11-12T18:29:59.161539",
     "exception": false,
     "start_time": "2023-11-12T18:29:59.149763",
     "status": "completed"
    },
    "tags": []
   },
   "source": [
    "## Age\n",
    "### Fill null values of age with mean age of train set"
   ]
  },
  {
   "cell_type": "code",
   "execution_count": 16,
   "id": "ccac7e29",
   "metadata": {
    "execution": {
     "iopub.execute_input": "2023-11-12T18:29:59.187797Z",
     "iopub.status.busy": "2023-11-12T18:29:59.187076Z",
     "iopub.status.idle": "2023-11-12T18:29:59.193887Z",
     "shell.execute_reply": "2023-11-12T18:29:59.192981Z"
    },
    "papermill": {
     "duration": 0.022635,
     "end_time": "2023-11-12T18:29:59.196102",
     "exception": false,
     "start_time": "2023-11-12T18:29:59.173467",
     "status": "completed"
    },
    "tags": []
   },
   "outputs": [],
   "source": [
    "mean_age = train_data['Age'].mean()\n",
    "\n",
    "train_data['Age'] = train_data['Age'].fillna(mean_age)\n",
    "test_data['Age'] = test_data['Age'].fillna(mean_age)"
   ]
  },
  {
   "cell_type": "markdown",
   "id": "aca05476",
   "metadata": {
    "papermill": {
     "duration": 0.011731,
     "end_time": "2023-11-12T18:29:59.219876",
     "exception": false,
     "start_time": "2023-11-12T18:29:59.208145",
     "status": "completed"
    },
    "tags": []
   },
   "source": [
    "### Convert ages to int"
   ]
  },
  {
   "cell_type": "code",
   "execution_count": 17,
   "id": "abf89f81",
   "metadata": {
    "execution": {
     "iopub.execute_input": "2023-11-12T18:29:59.245927Z",
     "iopub.status.busy": "2023-11-12T18:29:59.245262Z",
     "iopub.status.idle": "2023-11-12T18:29:59.250855Z",
     "shell.execute_reply": "2023-11-12T18:29:59.249795Z"
    },
    "papermill": {
     "duration": 0.02134,
     "end_time": "2023-11-12T18:29:59.253136",
     "exception": false,
     "start_time": "2023-11-12T18:29:59.231796",
     "status": "completed"
    },
    "tags": []
   },
   "outputs": [],
   "source": [
    "train_data['Age'] = train_data['Age'].astype(int)\n",
    "test_data['Age'] = test_data['Age'].astype(int)"
   ]
  },
  {
   "cell_type": "markdown",
   "id": "d0211f7e",
   "metadata": {
    "papermill": {
     "duration": 0.01169,
     "end_time": "2023-11-12T18:29:59.276787",
     "exception": false,
     "start_time": "2023-11-12T18:29:59.265097",
     "status": "completed"
    },
    "tags": []
   },
   "source": [
    "## Fare"
   ]
  },
  {
   "cell_type": "code",
   "execution_count": 18,
   "id": "8282c1a6",
   "metadata": {
    "execution": {
     "iopub.execute_input": "2023-11-12T18:29:59.302263Z",
     "iopub.status.busy": "2023-11-12T18:29:59.301861Z",
     "iopub.status.idle": "2023-11-12T18:29:59.308853Z",
     "shell.execute_reply": "2023-11-12T18:29:59.307802Z"
    },
    "papermill": {
     "duration": 0.022699,
     "end_time": "2023-11-12T18:29:59.311374",
     "exception": false,
     "start_time": "2023-11-12T18:29:59.288675",
     "status": "completed"
    },
    "tags": []
   },
   "outputs": [
    {
     "name": "stdout",
     "output_type": "stream",
     "text": [
      "number of fare null values of train set: 0\n",
      "number of fare null values of test set: 1\n"
     ]
    }
   ],
   "source": [
    "print(f'number of fare null values of train set: {train_data[\"Fare\"].isna().sum()}')\n",
    "print(f'number of fare null values of test set: {test_data[\"Fare\"].isna().sum()}')"
   ]
  },
  {
   "cell_type": "markdown",
   "id": "193ea5a7",
   "metadata": {
    "papermill": {
     "duration": 0.01174,
     "end_time": "2023-11-12T18:29:59.335121",
     "exception": false,
     "start_time": "2023-11-12T18:29:59.323381",
     "status": "completed"
    },
    "tags": []
   },
   "source": [
    "### Fill null values with mean fare"
   ]
  },
  {
   "cell_type": "code",
   "execution_count": 19,
   "id": "89f35f38",
   "metadata": {
    "execution": {
     "iopub.execute_input": "2023-11-12T18:29:59.361266Z",
     "iopub.status.busy": "2023-11-12T18:29:59.360742Z",
     "iopub.status.idle": "2023-11-12T18:29:59.367755Z",
     "shell.execute_reply": "2023-11-12T18:29:59.366645Z"
    },
    "papermill": {
     "duration": 0.022929,
     "end_time": "2023-11-12T18:29:59.370077",
     "exception": false,
     "start_time": "2023-11-12T18:29:59.347148",
     "status": "completed"
    },
    "tags": []
   },
   "outputs": [],
   "source": [
    "mean_fare = train_data['Fare'].mean()\n",
    "\n",
    "train_data['Fare'] = train_data['Fare'].fillna(mean_fare)\n",
    "test_data['Fare'] = test_data['Fare'].fillna(mean_fare)"
   ]
  },
  {
   "cell_type": "markdown",
   "id": "2b499364",
   "metadata": {
    "papermill": {
     "duration": 0.011956,
     "end_time": "2023-11-12T18:29:59.394488",
     "exception": false,
     "start_time": "2023-11-12T18:29:59.382532",
     "status": "completed"
    },
    "tags": []
   },
   "source": [
    "### Convert fares to ints"
   ]
  },
  {
   "cell_type": "code",
   "execution_count": 20,
   "id": "19c24ac4",
   "metadata": {
    "execution": {
     "iopub.execute_input": "2023-11-12T18:29:59.421278Z",
     "iopub.status.busy": "2023-11-12T18:29:59.420246Z",
     "iopub.status.idle": "2023-11-12T18:29:59.427446Z",
     "shell.execute_reply": "2023-11-12T18:29:59.426206Z"
    },
    "papermill": {
     "duration": 0.023474,
     "end_time": "2023-11-12T18:29:59.430068",
     "exception": false,
     "start_time": "2023-11-12T18:29:59.406594",
     "status": "completed"
    },
    "tags": []
   },
   "outputs": [],
   "source": [
    "train_data['Fare'] = train_data['Fare'].astype(int)\n",
    "test_data['Fare'] = test_data['Fare'].astype(int)"
   ]
  },
  {
   "cell_type": "code",
   "execution_count": 21,
   "id": "4f93c500",
   "metadata": {
    "execution": {
     "iopub.execute_input": "2023-11-12T18:29:59.457163Z",
     "iopub.status.busy": "2023-11-12T18:29:59.456790Z",
     "iopub.status.idle": "2023-11-12T18:29:59.471981Z",
     "shell.execute_reply": "2023-11-12T18:29:59.470651Z"
    },
    "papermill": {
     "duration": 0.031613,
     "end_time": "2023-11-12T18:29:59.474459",
     "exception": false,
     "start_time": "2023-11-12T18:29:59.442846",
     "status": "completed"
    },
    "tags": []
   },
   "outputs": [
    {
     "data": {
      "text/html": [
       "<div>\n",
       "<style scoped>\n",
       "    .dataframe tbody tr th:only-of-type {\n",
       "        vertical-align: middle;\n",
       "    }\n",
       "\n",
       "    .dataframe tbody tr th {\n",
       "        vertical-align: top;\n",
       "    }\n",
       "\n",
       "    .dataframe thead th {\n",
       "        text-align: right;\n",
       "    }\n",
       "</style>\n",
       "<table border=\"1\" class=\"dataframe\">\n",
       "  <thead>\n",
       "    <tr style=\"text-align: right;\">\n",
       "      <th></th>\n",
       "      <th>PassengerId</th>\n",
       "      <th>Survived</th>\n",
       "      <th>Pclass</th>\n",
       "      <th>Sex</th>\n",
       "      <th>Age</th>\n",
       "      <th>SibSp</th>\n",
       "      <th>Parch</th>\n",
       "      <th>Fare</th>\n",
       "      <th>Embarked</th>\n",
       "      <th>Title</th>\n",
       "      <th>Cabin_Encoded</th>\n",
       "    </tr>\n",
       "  </thead>\n",
       "  <tbody>\n",
       "    <tr>\n",
       "      <th>0</th>\n",
       "      <td>1</td>\n",
       "      <td>0</td>\n",
       "      <td>3</td>\n",
       "      <td>0</td>\n",
       "      <td>22</td>\n",
       "      <td>1</td>\n",
       "      <td>0</td>\n",
       "      <td>7</td>\n",
       "      <td>0</td>\n",
       "      <td>0</td>\n",
       "      <td>0</td>\n",
       "    </tr>\n",
       "    <tr>\n",
       "      <th>1</th>\n",
       "      <td>2</td>\n",
       "      <td>1</td>\n",
       "      <td>1</td>\n",
       "      <td>1</td>\n",
       "      <td>38</td>\n",
       "      <td>1</td>\n",
       "      <td>0</td>\n",
       "      <td>71</td>\n",
       "      <td>1</td>\n",
       "      <td>1</td>\n",
       "      <td>3</td>\n",
       "    </tr>\n",
       "    <tr>\n",
       "      <th>2</th>\n",
       "      <td>3</td>\n",
       "      <td>1</td>\n",
       "      <td>3</td>\n",
       "      <td>1</td>\n",
       "      <td>26</td>\n",
       "      <td>0</td>\n",
       "      <td>0</td>\n",
       "      <td>7</td>\n",
       "      <td>0</td>\n",
       "      <td>2</td>\n",
       "      <td>0</td>\n",
       "    </tr>\n",
       "    <tr>\n",
       "      <th>3</th>\n",
       "      <td>4</td>\n",
       "      <td>1</td>\n",
       "      <td>1</td>\n",
       "      <td>1</td>\n",
       "      <td>35</td>\n",
       "      <td>1</td>\n",
       "      <td>0</td>\n",
       "      <td>53</td>\n",
       "      <td>0</td>\n",
       "      <td>1</td>\n",
       "      <td>3</td>\n",
       "    </tr>\n",
       "    <tr>\n",
       "      <th>4</th>\n",
       "      <td>5</td>\n",
       "      <td>0</td>\n",
       "      <td>3</td>\n",
       "      <td>0</td>\n",
       "      <td>35</td>\n",
       "      <td>0</td>\n",
       "      <td>0</td>\n",
       "      <td>8</td>\n",
       "      <td>0</td>\n",
       "      <td>0</td>\n",
       "      <td>0</td>\n",
       "    </tr>\n",
       "  </tbody>\n",
       "</table>\n",
       "</div>"
      ],
      "text/plain": [
       "   PassengerId  Survived  Pclass  Sex  Age  SibSp  Parch  Fare  Embarked  \\\n",
       "0            1         0       3    0   22      1      0     7         0   \n",
       "1            2         1       1    1   38      1      0    71         1   \n",
       "2            3         1       3    1   26      0      0     7         0   \n",
       "3            4         1       1    1   35      1      0    53         0   \n",
       "4            5         0       3    0   35      0      0     8         0   \n",
       "\n",
       "   Title  Cabin_Encoded  \n",
       "0      0              0  \n",
       "1      1              3  \n",
       "2      2              0  \n",
       "3      1              3  \n",
       "4      0              0  "
      ]
     },
     "execution_count": 21,
     "metadata": {},
     "output_type": "execute_result"
    }
   ],
   "source": [
    "train_data.head()"
   ]
  },
  {
   "cell_type": "code",
   "execution_count": 22,
   "id": "944a5b18",
   "metadata": {
    "execution": {
     "iopub.execute_input": "2023-11-12T18:29:59.501068Z",
     "iopub.status.busy": "2023-11-12T18:29:59.500657Z",
     "iopub.status.idle": "2023-11-12T18:29:59.516205Z",
     "shell.execute_reply": "2023-11-12T18:29:59.514865Z"
    },
    "papermill": {
     "duration": 0.031993,
     "end_time": "2023-11-12T18:29:59.518817",
     "exception": false,
     "start_time": "2023-11-12T18:29:59.486824",
     "status": "completed"
    },
    "tags": []
   },
   "outputs": [
    {
     "data": {
      "text/html": [
       "<div>\n",
       "<style scoped>\n",
       "    .dataframe tbody tr th:only-of-type {\n",
       "        vertical-align: middle;\n",
       "    }\n",
       "\n",
       "    .dataframe tbody tr th {\n",
       "        vertical-align: top;\n",
       "    }\n",
       "\n",
       "    .dataframe thead th {\n",
       "        text-align: right;\n",
       "    }\n",
       "</style>\n",
       "<table border=\"1\" class=\"dataframe\">\n",
       "  <thead>\n",
       "    <tr style=\"text-align: right;\">\n",
       "      <th></th>\n",
       "      <th>PassengerId</th>\n",
       "      <th>Pclass</th>\n",
       "      <th>Sex</th>\n",
       "      <th>Age</th>\n",
       "      <th>SibSp</th>\n",
       "      <th>Parch</th>\n",
       "      <th>Fare</th>\n",
       "      <th>Embarked</th>\n",
       "      <th>Title</th>\n",
       "      <th>Cabin_Encoded</th>\n",
       "    </tr>\n",
       "  </thead>\n",
       "  <tbody>\n",
       "    <tr>\n",
       "      <th>0</th>\n",
       "      <td>892</td>\n",
       "      <td>3</td>\n",
       "      <td>0</td>\n",
       "      <td>34</td>\n",
       "      <td>0</td>\n",
       "      <td>0</td>\n",
       "      <td>7</td>\n",
       "      <td>2</td>\n",
       "      <td>0</td>\n",
       "      <td>0</td>\n",
       "    </tr>\n",
       "    <tr>\n",
       "      <th>1</th>\n",
       "      <td>893</td>\n",
       "      <td>3</td>\n",
       "      <td>1</td>\n",
       "      <td>47</td>\n",
       "      <td>1</td>\n",
       "      <td>0</td>\n",
       "      <td>7</td>\n",
       "      <td>0</td>\n",
       "      <td>1</td>\n",
       "      <td>0</td>\n",
       "    </tr>\n",
       "    <tr>\n",
       "      <th>2</th>\n",
       "      <td>894</td>\n",
       "      <td>2</td>\n",
       "      <td>0</td>\n",
       "      <td>62</td>\n",
       "      <td>0</td>\n",
       "      <td>0</td>\n",
       "      <td>9</td>\n",
       "      <td>2</td>\n",
       "      <td>0</td>\n",
       "      <td>0</td>\n",
       "    </tr>\n",
       "    <tr>\n",
       "      <th>3</th>\n",
       "      <td>895</td>\n",
       "      <td>3</td>\n",
       "      <td>0</td>\n",
       "      <td>27</td>\n",
       "      <td>0</td>\n",
       "      <td>0</td>\n",
       "      <td>8</td>\n",
       "      <td>0</td>\n",
       "      <td>0</td>\n",
       "      <td>0</td>\n",
       "    </tr>\n",
       "    <tr>\n",
       "      <th>4</th>\n",
       "      <td>896</td>\n",
       "      <td>3</td>\n",
       "      <td>1</td>\n",
       "      <td>22</td>\n",
       "      <td>1</td>\n",
       "      <td>1</td>\n",
       "      <td>12</td>\n",
       "      <td>0</td>\n",
       "      <td>1</td>\n",
       "      <td>0</td>\n",
       "    </tr>\n",
       "  </tbody>\n",
       "</table>\n",
       "</div>"
      ],
      "text/plain": [
       "   PassengerId  Pclass  Sex  Age  SibSp  Parch  Fare  Embarked  Title  \\\n",
       "0          892       3    0   34      0      0     7         2      0   \n",
       "1          893       3    1   47      1      0     7         0      1   \n",
       "2          894       2    0   62      0      0     9         2      0   \n",
       "3          895       3    0   27      0      0     8         0      0   \n",
       "4          896       3    1   22      1      1    12         0      1   \n",
       "\n",
       "   Cabin_Encoded  \n",
       "0              0  \n",
       "1              0  \n",
       "2              0  \n",
       "3              0  \n",
       "4              0  "
      ]
     },
     "execution_count": 22,
     "metadata": {},
     "output_type": "execute_result"
    }
   ],
   "source": [
    "test_data.head()"
   ]
  }
 ],
 "metadata": {
  "kernelspec": {
   "display_name": "Python 3",
   "language": "python",
   "name": "python3"
  },
  "language_info": {
   "codemirror_mode": {
    "name": "ipython",
    "version": 3
   },
   "file_extension": ".py",
   "mimetype": "text/x-python",
   "name": "python",
   "nbconvert_exporter": "python",
   "pygments_lexer": "ipython3",
   "version": "3.10.12"
  },
  "papermill": {
   "default_parameters": {},
   "duration": 8.449284,
   "end_time": "2023-11-12T18:30:02.668907",
   "environment_variables": {},
   "exception": null,
   "input_path": "__notebook__.ipynb",
   "output_path": "__notebook__.ipynb",
   "parameters": {},
   "start_time": "2023-11-12T18:29:54.219623",
   "version": "2.4.0"
  }
 },
 "nbformat": 4,
 "nbformat_minor": 5
}

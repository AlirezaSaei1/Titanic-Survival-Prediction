{
 "cells": [
  {
   "cell_type": "markdown",
   "id": "e1576f34",
   "metadata": {
    "papermill": {
     "duration": 0.013758,
     "end_time": "2023-11-12T20:35:36.215620",
     "exception": false,
     "start_time": "2023-11-12T20:35:36.201862",
     "status": "completed"
    },
    "tags": []
   },
   "source": [
    "# Import Required Libraraies"
   ]
  },
  {
   "cell_type": "code",
   "execution_count": 1,
   "id": "0f498100",
   "metadata": {
    "execution": {
     "iopub.execute_input": "2023-11-12T20:35:36.244501Z",
     "iopub.status.busy": "2023-11-12T20:35:36.244093Z",
     "iopub.status.idle": "2023-11-12T20:35:37.084268Z",
     "shell.execute_reply": "2023-11-12T20:35:37.083123Z"
    },
    "papermill": {
     "duration": 0.857714,
     "end_time": "2023-11-12T20:35:37.086933",
     "exception": false,
     "start_time": "2023-11-12T20:35:36.229219",
     "status": "completed"
    },
    "tags": []
   },
   "outputs": [],
   "source": [
    "import re\n",
    "import numpy as np\n",
    "import pandas as pd"
   ]
  },
  {
   "cell_type": "markdown",
   "id": "b3cc1848",
   "metadata": {
    "papermill": {
     "duration": 0.013099,
     "end_time": "2023-11-12T20:35:37.113755",
     "exception": false,
     "start_time": "2023-11-12T20:35:37.100656",
     "status": "completed"
    },
    "tags": []
   },
   "source": [
    "# Read Data"
   ]
  },
  {
   "cell_type": "code",
   "execution_count": 2,
   "id": "e9c27d1c",
   "metadata": {
    "execution": {
     "iopub.execute_input": "2023-11-12T20:35:37.143282Z",
     "iopub.status.busy": "2023-11-12T20:35:37.141751Z",
     "iopub.status.idle": "2023-11-12T20:35:37.177762Z",
     "shell.execute_reply": "2023-11-12T20:35:37.176855Z"
    },
    "papermill": {
     "duration": 0.053259,
     "end_time": "2023-11-12T20:35:37.180397",
     "exception": false,
     "start_time": "2023-11-12T20:35:37.127138",
     "status": "completed"
    },
    "tags": []
   },
   "outputs": [],
   "source": [
    "train_data = pd.read_csv('/kaggle/input/titanic/train.csv')\n",
    "test_data = pd.read_csv('/kaggle/input/titanic/test.csv')\n",
    "gender_sub = pd.read_csv('/kaggle/input/titanic/gender_submission.csv')"
   ]
  },
  {
   "cell_type": "code",
   "execution_count": 3,
   "id": "4d714303",
   "metadata": {
    "execution": {
     "iopub.execute_input": "2023-11-12T20:35:37.209474Z",
     "iopub.status.busy": "2023-11-12T20:35:37.209066Z",
     "iopub.status.idle": "2023-11-12T20:35:37.241815Z",
     "shell.execute_reply": "2023-11-12T20:35:37.240471Z"
    },
    "papermill": {
     "duration": 0.050371,
     "end_time": "2023-11-12T20:35:37.244803",
     "exception": false,
     "start_time": "2023-11-12T20:35:37.194432",
     "status": "completed"
    },
    "tags": []
   },
   "outputs": [
    {
     "data": {
      "text/html": [
       "<div>\n",
       "<style scoped>\n",
       "    .dataframe tbody tr th:only-of-type {\n",
       "        vertical-align: middle;\n",
       "    }\n",
       "\n",
       "    .dataframe tbody tr th {\n",
       "        vertical-align: top;\n",
       "    }\n",
       "\n",
       "    .dataframe thead th {\n",
       "        text-align: right;\n",
       "    }\n",
       "</style>\n",
       "<table border=\"1\" class=\"dataframe\">\n",
       "  <thead>\n",
       "    <tr style=\"text-align: right;\">\n",
       "      <th></th>\n",
       "      <th>PassengerId</th>\n",
       "      <th>Pclass</th>\n",
       "      <th>Name</th>\n",
       "      <th>Sex</th>\n",
       "      <th>Age</th>\n",
       "      <th>SibSp</th>\n",
       "      <th>Parch</th>\n",
       "      <th>Ticket</th>\n",
       "      <th>Fare</th>\n",
       "      <th>Cabin</th>\n",
       "      <th>Embarked</th>\n",
       "    </tr>\n",
       "  </thead>\n",
       "  <tbody>\n",
       "    <tr>\n",
       "      <th>0</th>\n",
       "      <td>892</td>\n",
       "      <td>3</td>\n",
       "      <td>Kelly, Mr. James</td>\n",
       "      <td>male</td>\n",
       "      <td>34.5</td>\n",
       "      <td>0</td>\n",
       "      <td>0</td>\n",
       "      <td>330911</td>\n",
       "      <td>7.8292</td>\n",
       "      <td>NaN</td>\n",
       "      <td>Q</td>\n",
       "    </tr>\n",
       "    <tr>\n",
       "      <th>1</th>\n",
       "      <td>893</td>\n",
       "      <td>3</td>\n",
       "      <td>Wilkes, Mrs. James (Ellen Needs)</td>\n",
       "      <td>female</td>\n",
       "      <td>47.0</td>\n",
       "      <td>1</td>\n",
       "      <td>0</td>\n",
       "      <td>363272</td>\n",
       "      <td>7.0000</td>\n",
       "      <td>NaN</td>\n",
       "      <td>S</td>\n",
       "    </tr>\n",
       "    <tr>\n",
       "      <th>2</th>\n",
       "      <td>894</td>\n",
       "      <td>2</td>\n",
       "      <td>Myles, Mr. Thomas Francis</td>\n",
       "      <td>male</td>\n",
       "      <td>62.0</td>\n",
       "      <td>0</td>\n",
       "      <td>0</td>\n",
       "      <td>240276</td>\n",
       "      <td>9.6875</td>\n",
       "      <td>NaN</td>\n",
       "      <td>Q</td>\n",
       "    </tr>\n",
       "    <tr>\n",
       "      <th>3</th>\n",
       "      <td>895</td>\n",
       "      <td>3</td>\n",
       "      <td>Wirz, Mr. Albert</td>\n",
       "      <td>male</td>\n",
       "      <td>27.0</td>\n",
       "      <td>0</td>\n",
       "      <td>0</td>\n",
       "      <td>315154</td>\n",
       "      <td>8.6625</td>\n",
       "      <td>NaN</td>\n",
       "      <td>S</td>\n",
       "    </tr>\n",
       "    <tr>\n",
       "      <th>4</th>\n",
       "      <td>896</td>\n",
       "      <td>3</td>\n",
       "      <td>Hirvonen, Mrs. Alexander (Helga E Lindqvist)</td>\n",
       "      <td>female</td>\n",
       "      <td>22.0</td>\n",
       "      <td>1</td>\n",
       "      <td>1</td>\n",
       "      <td>3101298</td>\n",
       "      <td>12.2875</td>\n",
       "      <td>NaN</td>\n",
       "      <td>S</td>\n",
       "    </tr>\n",
       "  </tbody>\n",
       "</table>\n",
       "</div>"
      ],
      "text/plain": [
       "   PassengerId  Pclass                                          Name     Sex  \\\n",
       "0          892       3                              Kelly, Mr. James    male   \n",
       "1          893       3              Wilkes, Mrs. James (Ellen Needs)  female   \n",
       "2          894       2                     Myles, Mr. Thomas Francis    male   \n",
       "3          895       3                              Wirz, Mr. Albert    male   \n",
       "4          896       3  Hirvonen, Mrs. Alexander (Helga E Lindqvist)  female   \n",
       "\n",
       "    Age  SibSp  Parch   Ticket     Fare Cabin Embarked  \n",
       "0  34.5      0      0   330911   7.8292   NaN        Q  \n",
       "1  47.0      1      0   363272   7.0000   NaN        S  \n",
       "2  62.0      0      0   240276   9.6875   NaN        Q  \n",
       "3  27.0      0      0   315154   8.6625   NaN        S  \n",
       "4  22.0      1      1  3101298  12.2875   NaN        S  "
      ]
     },
     "execution_count": 3,
     "metadata": {},
     "output_type": "execute_result"
    }
   ],
   "source": [
    "test_data.head()"
   ]
  },
  {
   "cell_type": "markdown",
   "id": "19239bcb",
   "metadata": {
    "papermill": {
     "duration": 0.013646,
     "end_time": "2023-11-12T20:35:37.272174",
     "exception": false,
     "start_time": "2023-11-12T20:35:37.258528",
     "status": "completed"
    },
    "tags": []
   },
   "source": [
    "# Data Purification and Feature Engineering"
   ]
  },
  {
   "cell_type": "markdown",
   "id": "5a6528d9",
   "metadata": {
    "papermill": {
     "duration": 0.01334,
     "end_time": "2023-11-12T20:35:37.299045",
     "exception": false,
     "start_time": "2023-11-12T20:35:37.285705",
     "status": "completed"
    },
    "tags": []
   },
   "source": [
    "## Name\n",
    "### Extract titles from names"
   ]
  },
  {
   "cell_type": "code",
   "execution_count": 4,
   "id": "f4f7fbd7",
   "metadata": {
    "execution": {
     "iopub.execute_input": "2023-11-12T20:35:37.328415Z",
     "iopub.status.busy": "2023-11-12T20:35:37.327991Z",
     "iopub.status.idle": "2023-11-12T20:35:37.346383Z",
     "shell.execute_reply": "2023-11-12T20:35:37.344993Z"
    },
    "papermill": {
     "duration": 0.036181,
     "end_time": "2023-11-12T20:35:37.348737",
     "exception": false,
     "start_time": "2023-11-12T20:35:37.312556",
     "status": "completed"
    },
    "tags": []
   },
   "outputs": [
    {
     "name": "stdout",
     "output_type": "stream",
     "text": [
      "All unique titles in names (Train): ['Mr' 'Mrs' 'Miss' 'Master' 'Don' 'Rev' 'Dr' 'Mme' 'Ms' 'Major' 'Lady'\n",
      " 'Sir' 'Mlle' 'Col' 'Capt' 'Countess' 'Jonkheer']\n",
      "All unique titles in names (Test): ['Mr' 'Mrs' 'Miss' 'Master' 'Ms' 'Col' 'Rev' 'Dr' 'Dona']\n"
     ]
    }
   ],
   "source": [
    "train_data['Title'] = train_data['Name'].apply(lambda x: re.search(' ([A-Za-z]+)\\.', x).group(1))\n",
    "test_data['Title'] = test_data['Name'].apply(lambda x: re.search(' ([A-Za-z]+)\\.', x).group(1))\n",
    "\n",
    "# Display the unique titles\n",
    "print(f'All unique titles in names (Train): {train_data[\"Title\"].unique()}')\n",
    "print(f'All unique titles in names (Test): {test_data[\"Title\"].unique()}')"
   ]
  },
  {
   "cell_type": "code",
   "execution_count": 5,
   "id": "8755e8b0",
   "metadata": {
    "execution": {
     "iopub.execute_input": "2023-11-12T20:35:37.378111Z",
     "iopub.status.busy": "2023-11-12T20:35:37.377666Z",
     "iopub.status.idle": "2023-11-12T20:35:37.392904Z",
     "shell.execute_reply": "2023-11-12T20:35:37.391800Z"
    },
    "papermill": {
     "duration": 0.033034,
     "end_time": "2023-11-12T20:35:37.395513",
     "exception": false,
     "start_time": "2023-11-12T20:35:37.362479",
     "status": "completed"
    },
    "tags": []
   },
   "outputs": [],
   "source": [
    "# Train Data\n",
    "train_data['Title'] = train_data['Title'].replace(['Lady', 'Countess', 'Capt', 'Col', 'Don', 'Dr','Major', 'Rev', 'Sir', 'Jonkheer', 'Dona'], 'Other')\n",
    "train_data['Title'] = train_data['Title'].replace(['Mlle', 'Ms'], 'Miss')\n",
    "train_data['Title'] = train_data['Title'].replace('Mme', 'Mrs')\n",
    "\n",
    "# Test Data\n",
    "test_data['Title'] = test_data['Title'].replace(['Lady', 'Countess', 'Capt', 'Col', 'Don', 'Dr','Major', 'Rev', 'Sir', 'Jonkheer', 'Dona'], 'Other')\n",
    "test_data['Title'] = test_data['Title'].replace(['Mlle', 'Ms'], 'Miss')\n",
    "test_data['Title'] = test_data['Title'].replace('Mme', 'Mrs')"
   ]
  },
  {
   "cell_type": "code",
   "execution_count": 6,
   "id": "4c8bddd7",
   "metadata": {
    "execution": {
     "iopub.execute_input": "2023-11-12T20:35:37.424940Z",
     "iopub.status.busy": "2023-11-12T20:35:37.424571Z",
     "iopub.status.idle": "2023-11-12T20:35:37.431420Z",
     "shell.execute_reply": "2023-11-12T20:35:37.430341Z"
    },
    "papermill": {
     "duration": 0.024558,
     "end_time": "2023-11-12T20:35:37.434086",
     "exception": false,
     "start_time": "2023-11-12T20:35:37.409528",
     "status": "completed"
    },
    "tags": []
   },
   "outputs": [
    {
     "name": "stdout",
     "output_type": "stream",
     "text": [
      "Train Titles: ['Mr' 'Mrs' 'Miss' 'Master' 'Other']\n",
      "Test Titles: ['Mr' 'Mrs' 'Miss' 'Master' 'Other']\n"
     ]
    }
   ],
   "source": [
    "print(f'Train Titles: {train_data[\"Title\"].unique()}')\n",
    "print(f'Test Titles: {test_data[\"Title\"].unique()}')"
   ]
  },
  {
   "cell_type": "markdown",
   "id": "d4c32cfa",
   "metadata": {
    "papermill": {
     "duration": 0.013393,
     "end_time": "2023-11-12T20:35:37.461196",
     "exception": false,
     "start_time": "2023-11-12T20:35:37.447803",
     "status": "completed"
    },
    "tags": []
   },
   "source": [
    "### Drop Names"
   ]
  },
  {
   "cell_type": "code",
   "execution_count": 7,
   "id": "c88df47a",
   "metadata": {
    "execution": {
     "iopub.execute_input": "2023-11-12T20:35:37.490598Z",
     "iopub.status.busy": "2023-11-12T20:35:37.490185Z",
     "iopub.status.idle": "2023-11-12T20:35:37.503869Z",
     "shell.execute_reply": "2023-11-12T20:35:37.503042Z"
    },
    "papermill": {
     "duration": 0.031633,
     "end_time": "2023-11-12T20:35:37.506502",
     "exception": false,
     "start_time": "2023-11-12T20:35:37.474869",
     "status": "completed"
    },
    "tags": []
   },
   "outputs": [],
   "source": [
    "train_data = train_data.drop('Name', axis=1)\n",
    "test_data = test_data.drop('Name', axis=1)"
   ]
  },
  {
   "cell_type": "markdown",
   "id": "1804eb8c",
   "metadata": {
    "papermill": {
     "duration": 0.013499,
     "end_time": "2023-11-12T20:35:37.533868",
     "exception": false,
     "start_time": "2023-11-12T20:35:37.520369",
     "status": "completed"
    },
    "tags": []
   },
   "source": [
    "### Encode Titles"
   ]
  },
  {
   "cell_type": "code",
   "execution_count": 8,
   "id": "2e4bb741",
   "metadata": {
    "execution": {
     "iopub.execute_input": "2023-11-12T20:35:37.563576Z",
     "iopub.status.busy": "2023-11-12T20:35:37.563193Z",
     "iopub.status.idle": "2023-11-12T20:35:37.572457Z",
     "shell.execute_reply": "2023-11-12T20:35:37.571395Z"
    },
    "papermill": {
     "duration": 0.026878,
     "end_time": "2023-11-12T20:35:37.574778",
     "exception": false,
     "start_time": "2023-11-12T20:35:37.547900",
     "status": "completed"
    },
    "tags": []
   },
   "outputs": [],
   "source": [
    "title_to_number = {'Mr': 0, 'Mrs': 1, 'Miss': 2, 'Master': 3, 'Other': 4}\n",
    "\n",
    "train_data['Title'] = train_data['Title'].apply(lambda x: title_to_number[x])\n",
    "test_data['Title'] = test_data['Title'].apply(lambda x: title_to_number[x])"
   ]
  },
  {
   "cell_type": "markdown",
   "id": "72e33527",
   "metadata": {
    "papermill": {
     "duration": 0.013588,
     "end_time": "2023-11-12T20:35:37.602696",
     "exception": false,
     "start_time": "2023-11-12T20:35:37.589108",
     "status": "completed"
    },
    "tags": []
   },
   "source": [
    "## Ticket\n",
    "### Drop ticket columns"
   ]
  },
  {
   "cell_type": "code",
   "execution_count": 9,
   "id": "7a1b1775",
   "metadata": {
    "execution": {
     "iopub.execute_input": "2023-11-12T20:35:37.632724Z",
     "iopub.status.busy": "2023-11-12T20:35:37.631696Z",
     "iopub.status.idle": "2023-11-12T20:35:37.639492Z",
     "shell.execute_reply": "2023-11-12T20:35:37.638453Z"
    },
    "papermill": {
     "duration": 0.025486,
     "end_time": "2023-11-12T20:35:37.641894",
     "exception": false,
     "start_time": "2023-11-12T20:35:37.616408",
     "status": "completed"
    },
    "tags": []
   },
   "outputs": [],
   "source": [
    "# Drop Ticket Column\n",
    "train_data = train_data.drop('Ticket', axis=1)\n",
    "test_data = test_data.drop('Ticket', axis=1)"
   ]
  },
  {
   "cell_type": "markdown",
   "id": "6847141a",
   "metadata": {
    "papermill": {
     "duration": 0.014701,
     "end_time": "2023-11-12T20:35:37.670573",
     "exception": false,
     "start_time": "2023-11-12T20:35:37.655872",
     "status": "completed"
    },
    "tags": []
   },
   "source": [
    "## Sex\n",
    "### Convert sexes to 0s and 1s"
   ]
  },
  {
   "cell_type": "code",
   "execution_count": 10,
   "id": "56fc8221",
   "metadata": {
    "execution": {
     "iopub.execute_input": "2023-11-12T20:35:37.701066Z",
     "iopub.status.busy": "2023-11-12T20:35:37.700619Z",
     "iopub.status.idle": "2023-11-12T20:35:37.711397Z",
     "shell.execute_reply": "2023-11-12T20:35:37.710117Z"
    },
    "papermill": {
     "duration": 0.028744,
     "end_time": "2023-11-12T20:35:37.713829",
     "exception": false,
     "start_time": "2023-11-12T20:35:37.685085",
     "status": "completed"
    },
    "tags": []
   },
   "outputs": [
    {
     "name": "stdout",
     "output_type": "stream",
     "text": [
      "Number of distinct values for sex: {0, 1}\n"
     ]
    }
   ],
   "source": [
    "# Encode Sex\n",
    "train_data['Sex'] = train_data['Sex'].replace({'male': 0, 'female': 1})\n",
    "test_data['Sex'] = test_data['Sex'].replace({'male': 0, 'female': 1})\n",
    "print(f'Number of distinct values for sex: {set(test_data[\"Sex\"])}')"
   ]
  },
  {
   "cell_type": "markdown",
   "id": "8a835b59",
   "metadata": {
    "papermill": {
     "duration": 0.076186,
     "end_time": "2023-11-12T20:35:37.803979",
     "exception": false,
     "start_time": "2023-11-12T20:35:37.727793",
     "status": "completed"
    },
    "tags": []
   },
   "source": [
    "## Cabin\n",
    "### Extract letters from Cabins"
   ]
  },
  {
   "cell_type": "code",
   "execution_count": 11,
   "id": "bd3b2a83",
   "metadata": {
    "execution": {
     "iopub.execute_input": "2023-11-12T20:35:37.834168Z",
     "iopub.status.busy": "2023-11-12T20:35:37.833667Z",
     "iopub.status.idle": "2023-11-12T20:35:37.846811Z",
     "shell.execute_reply": "2023-11-12T20:35:37.845438Z"
    },
    "papermill": {
     "duration": 0.031435,
     "end_time": "2023-11-12T20:35:37.849486",
     "exception": false,
     "start_time": "2023-11-12T20:35:37.818051",
     "status": "completed"
    },
    "tags": []
   },
   "outputs": [
    {
     "name": "stdout",
     "output_type": "stream",
     "text": [
      "['X' 'C' 'E' 'G' 'D' 'A' 'B' 'F' 'T']\n",
      "['X' 'B' 'E' 'A' 'C' 'D' 'F' 'G']\n"
     ]
    }
   ],
   "source": [
    "train_data['Cabin'] = train_data['Cabin'].fillna(\"X\")\n",
    "print(train_data['Cabin'].str[0].unique())\n",
    "\n",
    "test_data['Cabin'] = test_data['Cabin'].fillna(\"X\")\n",
    "print(test_data['Cabin'].str[0].unique())"
   ]
  },
  {
   "cell_type": "markdown",
   "id": "9e7bd269",
   "metadata": {
    "papermill": {
     "duration": 0.013794,
     "end_time": "2023-11-12T20:35:37.877373",
     "exception": false,
     "start_time": "2023-11-12T20:35:37.863579",
     "status": "completed"
    },
    "tags": []
   },
   "source": [
    "### Encode letters"
   ]
  },
  {
   "cell_type": "code",
   "execution_count": 12,
   "id": "680552cb",
   "metadata": {
    "execution": {
     "iopub.execute_input": "2023-11-12T20:35:37.907592Z",
     "iopub.status.busy": "2023-11-12T20:35:37.907205Z",
     "iopub.status.idle": "2023-11-12T20:35:37.917619Z",
     "shell.execute_reply": "2023-11-12T20:35:37.916372Z"
    },
    "papermill": {
     "duration": 0.028603,
     "end_time": "2023-11-12T20:35:37.920038",
     "exception": false,
     "start_time": "2023-11-12T20:35:37.891435",
     "status": "completed"
    },
    "tags": []
   },
   "outputs": [],
   "source": [
    "cabin_to_number = {'X': 0, 'A': 1, 'B': 2, 'C': 3, 'D': 4, 'E': 5, 'F': 6, 'G': 7, 'T': 8}\n",
    "\n",
    "train_data['Cabin_Encoded'] = train_data['Cabin'].apply(lambda x: cabin_to_number[x[0]])\n",
    "test_data['Cabin_Encoded'] = test_data['Cabin'].apply(lambda x: cabin_to_number[x[0]])"
   ]
  },
  {
   "cell_type": "markdown",
   "id": "01fb0bf9",
   "metadata": {
    "papermill": {
     "duration": 0.013885,
     "end_time": "2023-11-12T20:35:37.948164",
     "exception": false,
     "start_time": "2023-11-12T20:35:37.934279",
     "status": "completed"
    },
    "tags": []
   },
   "source": [
    "### Drop Cabin Column"
   ]
  },
  {
   "cell_type": "code",
   "execution_count": 13,
   "id": "06bbf76f",
   "metadata": {
    "execution": {
     "iopub.execute_input": "2023-11-12T20:35:37.978502Z",
     "iopub.status.busy": "2023-11-12T20:35:37.977817Z",
     "iopub.status.idle": "2023-11-12T20:35:37.986113Z",
     "shell.execute_reply": "2023-11-12T20:35:37.984848Z"
    },
    "papermill": {
     "duration": 0.026391,
     "end_time": "2023-11-12T20:35:37.988662",
     "exception": false,
     "start_time": "2023-11-12T20:35:37.962271",
     "status": "completed"
    },
    "tags": []
   },
   "outputs": [],
   "source": [
    "train_data = train_data.drop('Cabin', axis=1)\n",
    "test_data = test_data.drop('Cabin', axis=1)"
   ]
  },
  {
   "cell_type": "markdown",
   "id": "ce31d542",
   "metadata": {
    "papermill": {
     "duration": 0.013798,
     "end_time": "2023-11-12T20:35:38.017547",
     "exception": false,
     "start_time": "2023-11-12T20:35:38.003749",
     "status": "completed"
    },
    "tags": []
   },
   "source": [
    "## Embarked\n",
    "### Fill Null values with 'S'"
   ]
  },
  {
   "cell_type": "code",
   "execution_count": 14,
   "id": "12f95972",
   "metadata": {
    "execution": {
     "iopub.execute_input": "2023-11-12T20:35:38.047955Z",
     "iopub.status.busy": "2023-11-12T20:35:38.047526Z",
     "iopub.status.idle": "2023-11-12T20:35:38.060018Z",
     "shell.execute_reply": "2023-11-12T20:35:38.059108Z"
    },
    "papermill": {
     "duration": 0.030259,
     "end_time": "2023-11-12T20:35:38.062290",
     "exception": false,
     "start_time": "2023-11-12T20:35:38.032031",
     "status": "completed"
    },
    "tags": []
   },
   "outputs": [],
   "source": [
    "train_data['Embarked'].describe()\n",
    "\n",
    "train_data['Embarked'] = train_data['Embarked'].fillna('S')\n",
    "test_data['Embarked'] = test_data['Embarked'].fillna('S')"
   ]
  },
  {
   "cell_type": "markdown",
   "id": "e5ed799b",
   "metadata": {
    "papermill": {
     "duration": 0.014162,
     "end_time": "2023-11-12T20:35:38.091555",
     "exception": false,
     "start_time": "2023-11-12T20:35:38.077393",
     "status": "completed"
    },
    "tags": []
   },
   "source": [
    "### Encode Embarked Values"
   ]
  },
  {
   "cell_type": "code",
   "execution_count": 15,
   "id": "5925bb78",
   "metadata": {
    "execution": {
     "iopub.execute_input": "2023-11-12T20:35:38.122830Z",
     "iopub.status.busy": "2023-11-12T20:35:38.122224Z",
     "iopub.status.idle": "2023-11-12T20:35:38.129903Z",
     "shell.execute_reply": "2023-11-12T20:35:38.128786Z"
    },
    "papermill": {
     "duration": 0.026042,
     "end_time": "2023-11-12T20:35:38.132587",
     "exception": false,
     "start_time": "2023-11-12T20:35:38.106545",
     "status": "completed"
    },
    "tags": []
   },
   "outputs": [],
   "source": [
    "embark_to_number = {'S': 0, 'C': 1, 'Q': 2}\n",
    "\n",
    "train_data['Embarked'] = train_data['Embarked'].apply(lambda x: embark_to_number[x])\n",
    "test_data['Embarked'] = test_data['Embarked'].apply(lambda x: embark_to_number[x])"
   ]
  },
  {
   "cell_type": "markdown",
   "id": "daf5428f",
   "metadata": {
    "papermill": {
     "duration": 0.01383,
     "end_time": "2023-11-12T20:35:38.160669",
     "exception": false,
     "start_time": "2023-11-12T20:35:38.146839",
     "status": "completed"
    },
    "tags": []
   },
   "source": [
    "## Age\n",
    "### Fill null values of age with mean age of train set"
   ]
  },
  {
   "cell_type": "code",
   "execution_count": 16,
   "id": "0394f092",
   "metadata": {
    "execution": {
     "iopub.execute_input": "2023-11-12T20:35:38.190857Z",
     "iopub.status.busy": "2023-11-12T20:35:38.190442Z",
     "iopub.status.idle": "2023-11-12T20:35:38.197227Z",
     "shell.execute_reply": "2023-11-12T20:35:38.196460Z"
    },
    "papermill": {
     "duration": 0.024404,
     "end_time": "2023-11-12T20:35:38.199434",
     "exception": false,
     "start_time": "2023-11-12T20:35:38.175030",
     "status": "completed"
    },
    "tags": []
   },
   "outputs": [],
   "source": [
    "mean_age = train_data['Age'].mean()\n",
    "\n",
    "train_data['Age'] = train_data['Age'].fillna(mean_age)\n",
    "test_data['Age'] = test_data['Age'].fillna(mean_age)"
   ]
  },
  {
   "cell_type": "markdown",
   "id": "dd3565f3",
   "metadata": {
    "papermill": {
     "duration": 0.014298,
     "end_time": "2023-11-12T20:35:38.228063",
     "exception": false,
     "start_time": "2023-11-12T20:35:38.213765",
     "status": "completed"
    },
    "tags": []
   },
   "source": [
    "### Convert ages to int"
   ]
  },
  {
   "cell_type": "code",
   "execution_count": 17,
   "id": "8e725042",
   "metadata": {
    "execution": {
     "iopub.execute_input": "2023-11-12T20:35:38.258266Z",
     "iopub.status.busy": "2023-11-12T20:35:38.257549Z",
     "iopub.status.idle": "2023-11-12T20:35:38.264302Z",
     "shell.execute_reply": "2023-11-12T20:35:38.263239Z"
    },
    "papermill": {
     "duration": 0.024257,
     "end_time": "2023-11-12T20:35:38.266478",
     "exception": false,
     "start_time": "2023-11-12T20:35:38.242221",
     "status": "completed"
    },
    "tags": []
   },
   "outputs": [],
   "source": [
    "train_data['Age'] = train_data['Age'].astype(int)\n",
    "test_data['Age'] = test_data['Age'].astype(int)"
   ]
  },
  {
   "cell_type": "markdown",
   "id": "fda2f95b",
   "metadata": {
    "papermill": {
     "duration": 0.013762,
     "end_time": "2023-11-12T20:35:38.294521",
     "exception": false,
     "start_time": "2023-11-12T20:35:38.280759",
     "status": "completed"
    },
    "tags": []
   },
   "source": [
    "## Fare"
   ]
  },
  {
   "cell_type": "code",
   "execution_count": 18,
   "id": "9104bc71",
   "metadata": {
    "execution": {
     "iopub.execute_input": "2023-11-12T20:35:38.325089Z",
     "iopub.status.busy": "2023-11-12T20:35:38.323981Z",
     "iopub.status.idle": "2023-11-12T20:35:38.330839Z",
     "shell.execute_reply": "2023-11-12T20:35:38.329749Z"
    },
    "papermill": {
     "duration": 0.024313,
     "end_time": "2023-11-12T20:35:38.332932",
     "exception": false,
     "start_time": "2023-11-12T20:35:38.308619",
     "status": "completed"
    },
    "tags": []
   },
   "outputs": [
    {
     "name": "stdout",
     "output_type": "stream",
     "text": [
      "number of fare null values of train set: 0\n",
      "number of fare null values of test set: 1\n"
     ]
    }
   ],
   "source": [
    "print(f'number of fare null values of train set: {train_data[\"Fare\"].isna().sum()}')\n",
    "print(f'number of fare null values of test set: {test_data[\"Fare\"].isna().sum()}')"
   ]
  },
  {
   "cell_type": "markdown",
   "id": "7031d1a4",
   "metadata": {
    "papermill": {
     "duration": 0.013756,
     "end_time": "2023-11-12T20:35:38.360829",
     "exception": false,
     "start_time": "2023-11-12T20:35:38.347073",
     "status": "completed"
    },
    "tags": []
   },
   "source": [
    "### Fill null values with mean fare"
   ]
  },
  {
   "cell_type": "code",
   "execution_count": 19,
   "id": "14a0b8ae",
   "metadata": {
    "execution": {
     "iopub.execute_input": "2023-11-12T20:35:38.391843Z",
     "iopub.status.busy": "2023-11-12T20:35:38.390657Z",
     "iopub.status.idle": "2023-11-12T20:35:38.398243Z",
     "shell.execute_reply": "2023-11-12T20:35:38.397111Z"
    },
    "papermill": {
     "duration": 0.025489,
     "end_time": "2023-11-12T20:35:38.400683",
     "exception": false,
     "start_time": "2023-11-12T20:35:38.375194",
     "status": "completed"
    },
    "tags": []
   },
   "outputs": [],
   "source": [
    "mean_fare = train_data['Fare'].mean()\n",
    "\n",
    "train_data['Fare'] = train_data['Fare'].fillna(mean_fare)\n",
    "test_data['Fare'] = test_data['Fare'].fillna(mean_fare)"
   ]
  },
  {
   "cell_type": "markdown",
   "id": "fd9f69de",
   "metadata": {
    "papermill": {
     "duration": 0.014025,
     "end_time": "2023-11-12T20:35:38.429220",
     "exception": false,
     "start_time": "2023-11-12T20:35:38.415195",
     "status": "completed"
    },
    "tags": []
   },
   "source": [
    "### Convert fares to ints"
   ]
  },
  {
   "cell_type": "code",
   "execution_count": 20,
   "id": "9ac7a02f",
   "metadata": {
    "execution": {
     "iopub.execute_input": "2023-11-12T20:35:38.459734Z",
     "iopub.status.busy": "2023-11-12T20:35:38.458570Z",
     "iopub.status.idle": "2023-11-12T20:35:38.464985Z",
     "shell.execute_reply": "2023-11-12T20:35:38.464217Z"
    },
    "papermill": {
     "duration": 0.023964,
     "end_time": "2023-11-12T20:35:38.467295",
     "exception": false,
     "start_time": "2023-11-12T20:35:38.443331",
     "status": "completed"
    },
    "tags": []
   },
   "outputs": [],
   "source": [
    "train_data['Fare'] = train_data['Fare'].astype(int)\n",
    "test_data['Fare'] = test_data['Fare'].astype(int)"
   ]
  },
  {
   "cell_type": "markdown",
   "id": "283cbf1d",
   "metadata": {
    "papermill": {
     "duration": 0.013992,
     "end_time": "2023-11-12T20:35:38.495480",
     "exception": false,
     "start_time": "2023-11-12T20:35:38.481488",
     "status": "completed"
    },
    "tags": []
   },
   "source": [
    "## PassengerId (Train)\n",
    "### Drop column"
   ]
  },
  {
   "cell_type": "code",
   "execution_count": 21,
   "id": "8dbfede0",
   "metadata": {
    "execution": {
     "iopub.execute_input": "2023-11-12T20:35:38.526452Z",
     "iopub.status.busy": "2023-11-12T20:35:38.525440Z",
     "iopub.status.idle": "2023-11-12T20:35:38.532250Z",
     "shell.execute_reply": "2023-11-12T20:35:38.530959Z"
    },
    "papermill": {
     "duration": 0.024683,
     "end_time": "2023-11-12T20:35:38.534647",
     "exception": false,
     "start_time": "2023-11-12T20:35:38.509964",
     "status": "completed"
    },
    "tags": []
   },
   "outputs": [],
   "source": [
    "train_data = train_data.drop(['PassengerId'], axis=1)"
   ]
  },
  {
   "cell_type": "markdown",
   "id": "41e62e26",
   "metadata": {
    "papermill": {
     "duration": 0.014005,
     "end_time": "2023-11-12T20:35:38.563351",
     "exception": false,
     "start_time": "2023-11-12T20:35:38.549346",
     "status": "completed"
    },
    "tags": []
   },
   "source": [
    "### Getting data ready"
   ]
  },
  {
   "cell_type": "code",
   "execution_count": 22,
   "id": "8adbe34f",
   "metadata": {
    "execution": {
     "iopub.execute_input": "2023-11-12T20:35:38.594357Z",
     "iopub.status.busy": "2023-11-12T20:35:38.593931Z",
     "iopub.status.idle": "2023-11-12T20:35:38.602684Z",
     "shell.execute_reply": "2023-11-12T20:35:38.601544Z"
    },
    "papermill": {
     "duration": 0.02669,
     "end_time": "2023-11-12T20:35:38.604910",
     "exception": false,
     "start_time": "2023-11-12T20:35:38.578220",
     "status": "completed"
    },
    "tags": []
   },
   "outputs": [],
   "source": [
    "X_train = train_data.drop(\"Survived\", axis=1)\n",
    "Y_train = train_data[\"Survived\"]\n",
    "X_test  = test_data.drop(\"PassengerId\", axis=1).copy()"
   ]
  },
  {
   "cell_type": "markdown",
   "id": "d2a9c58f",
   "metadata": {
    "papermill": {
     "duration": 0.014526,
     "end_time": "2023-11-12T20:35:38.633815",
     "exception": false,
     "start_time": "2023-11-12T20:35:38.619289",
     "status": "completed"
    },
    "tags": []
   },
   "source": [
    "# Data Normalization"
   ]
  },
  {
   "cell_type": "code",
   "execution_count": 23,
   "id": "6eafdfc0",
   "metadata": {
    "execution": {
     "iopub.execute_input": "2023-11-12T20:35:38.664536Z",
     "iopub.status.busy": "2023-11-12T20:35:38.663751Z",
     "iopub.status.idle": "2023-11-12T20:35:38.684560Z",
     "shell.execute_reply": "2023-11-12T20:35:38.683222Z"
    },
    "papermill": {
     "duration": 0.039347,
     "end_time": "2023-11-12T20:35:38.687324",
     "exception": false,
     "start_time": "2023-11-12T20:35:38.647977",
     "status": "completed"
    },
    "tags": []
   },
   "outputs": [],
   "source": [
    "for col in X_train.columns:\n",
    "    train_column = X_train[col]\n",
    "    test_column = X_test[col]\n",
    "    \n",
    "    mean_val = train_column.mean()\n",
    "    std_val = train_column.std()\n",
    "    \n",
    "    X_train[col] = (train_column - mean_val) / std_val\n",
    "    X_test[col] = (test_column - mean_val) / std_val"
   ]
  },
  {
   "cell_type": "code",
   "execution_count": 24,
   "id": "39484196",
   "metadata": {
    "execution": {
     "iopub.execute_input": "2023-11-12T20:35:38.717846Z",
     "iopub.status.busy": "2023-11-12T20:35:38.717455Z",
     "iopub.status.idle": "2023-11-12T20:35:38.734347Z",
     "shell.execute_reply": "2023-11-12T20:35:38.733314Z"
    },
    "papermill": {
     "duration": 0.034984,
     "end_time": "2023-11-12T20:35:38.736688",
     "exception": false,
     "start_time": "2023-11-12T20:35:38.701704",
     "status": "completed"
    },
    "tags": []
   },
   "outputs": [
    {
     "data": {
      "text/html": [
       "<div>\n",
       "<style scoped>\n",
       "    .dataframe tbody tr th:only-of-type {\n",
       "        vertical-align: middle;\n",
       "    }\n",
       "\n",
       "    .dataframe tbody tr th {\n",
       "        vertical-align: top;\n",
       "    }\n",
       "\n",
       "    .dataframe thead th {\n",
       "        text-align: right;\n",
       "    }\n",
       "</style>\n",
       "<table border=\"1\" class=\"dataframe\">\n",
       "  <thead>\n",
       "    <tr style=\"text-align: right;\">\n",
       "      <th></th>\n",
       "      <th>Pclass</th>\n",
       "      <th>Sex</th>\n",
       "      <th>Age</th>\n",
       "      <th>SibSp</th>\n",
       "      <th>Parch</th>\n",
       "      <th>Fare</th>\n",
       "      <th>Embarked</th>\n",
       "      <th>Title</th>\n",
       "      <th>Cabin_Encoded</th>\n",
       "    </tr>\n",
       "  </thead>\n",
       "  <tbody>\n",
       "    <tr>\n",
       "      <th>0</th>\n",
       "      <td>0.826913</td>\n",
       "      <td>-0.737281</td>\n",
       "      <td>-0.579719</td>\n",
       "      <td>0.432550</td>\n",
       "      <td>-0.473408</td>\n",
       "      <td>-0.498667</td>\n",
       "      <td>-0.568518</td>\n",
       "      <td>-0.738132</td>\n",
       "      <td>-0.488186</td>\n",
       "    </tr>\n",
       "    <tr>\n",
       "      <th>1</th>\n",
       "      <td>-1.565228</td>\n",
       "      <td>1.354813</td>\n",
       "      <td>0.649747</td>\n",
       "      <td>0.432550</td>\n",
       "      <td>-0.473408</td>\n",
       "      <td>0.788962</td>\n",
       "      <td>1.004617</td>\n",
       "      <td>0.190788</td>\n",
       "      <td>1.397540</td>\n",
       "    </tr>\n",
       "    <tr>\n",
       "      <th>2</th>\n",
       "      <td>0.826913</td>\n",
       "      <td>1.354813</td>\n",
       "      <td>-0.272352</td>\n",
       "      <td>-0.474279</td>\n",
       "      <td>-0.473408</td>\n",
       "      <td>-0.498667</td>\n",
       "      <td>-0.568518</td>\n",
       "      <td>1.119709</td>\n",
       "      <td>-0.488186</td>\n",
       "    </tr>\n",
       "    <tr>\n",
       "      <th>3</th>\n",
       "      <td>-1.565228</td>\n",
       "      <td>1.354813</td>\n",
       "      <td>0.419222</td>\n",
       "      <td>0.432550</td>\n",
       "      <td>-0.473408</td>\n",
       "      <td>0.426816</td>\n",
       "      <td>-0.568518</td>\n",
       "      <td>0.190788</td>\n",
       "      <td>1.397540</td>\n",
       "    </tr>\n",
       "    <tr>\n",
       "      <th>4</th>\n",
       "      <td>0.826913</td>\n",
       "      <td>-0.737281</td>\n",
       "      <td>0.419222</td>\n",
       "      <td>-0.474279</td>\n",
       "      <td>-0.473408</td>\n",
       "      <td>-0.478548</td>\n",
       "      <td>-0.568518</td>\n",
       "      <td>-0.738132</td>\n",
       "      <td>-0.488186</td>\n",
       "    </tr>\n",
       "  </tbody>\n",
       "</table>\n",
       "</div>"
      ],
      "text/plain": [
       "     Pclass       Sex       Age     SibSp     Parch      Fare  Embarked  \\\n",
       "0  0.826913 -0.737281 -0.579719  0.432550 -0.473408 -0.498667 -0.568518   \n",
       "1 -1.565228  1.354813  0.649747  0.432550 -0.473408  0.788962  1.004617   \n",
       "2  0.826913  1.354813 -0.272352 -0.474279 -0.473408 -0.498667 -0.568518   \n",
       "3 -1.565228  1.354813  0.419222  0.432550 -0.473408  0.426816 -0.568518   \n",
       "4  0.826913 -0.737281  0.419222 -0.474279 -0.473408 -0.478548 -0.568518   \n",
       "\n",
       "      Title  Cabin_Encoded  \n",
       "0 -0.738132      -0.488186  \n",
       "1  0.190788       1.397540  \n",
       "2  1.119709      -0.488186  \n",
       "3  0.190788       1.397540  \n",
       "4 -0.738132      -0.488186  "
      ]
     },
     "execution_count": 24,
     "metadata": {},
     "output_type": "execute_result"
    }
   ],
   "source": [
    "X_train.head()"
   ]
  },
  {
   "cell_type": "code",
   "execution_count": 25,
   "id": "fb030dac",
   "metadata": {
    "execution": {
     "iopub.execute_input": "2023-11-12T20:35:38.769250Z",
     "iopub.status.busy": "2023-11-12T20:35:38.767832Z",
     "iopub.status.idle": "2023-11-12T20:35:38.784556Z",
     "shell.execute_reply": "2023-11-12T20:35:38.783696Z"
    },
    "papermill": {
     "duration": 0.035499,
     "end_time": "2023-11-12T20:35:38.786871",
     "exception": false,
     "start_time": "2023-11-12T20:35:38.751372",
     "status": "completed"
    },
    "tags": []
   },
   "outputs": [
    {
     "data": {
      "text/html": [
       "<div>\n",
       "<style scoped>\n",
       "    .dataframe tbody tr th:only-of-type {\n",
       "        vertical-align: middle;\n",
       "    }\n",
       "\n",
       "    .dataframe tbody tr th {\n",
       "        vertical-align: top;\n",
       "    }\n",
       "\n",
       "    .dataframe thead th {\n",
       "        text-align: right;\n",
       "    }\n",
       "</style>\n",
       "<table border=\"1\" class=\"dataframe\">\n",
       "  <thead>\n",
       "    <tr style=\"text-align: right;\">\n",
       "      <th></th>\n",
       "      <th>Pclass</th>\n",
       "      <th>Sex</th>\n",
       "      <th>Age</th>\n",
       "      <th>SibSp</th>\n",
       "      <th>Parch</th>\n",
       "      <th>Fare</th>\n",
       "      <th>Embarked</th>\n",
       "      <th>Title</th>\n",
       "      <th>Cabin_Encoded</th>\n",
       "    </tr>\n",
       "  </thead>\n",
       "  <tbody>\n",
       "    <tr>\n",
       "      <th>0</th>\n",
       "      <td>0.826913</td>\n",
       "      <td>-0.737281</td>\n",
       "      <td>0.342381</td>\n",
       "      <td>-0.474279</td>\n",
       "      <td>-0.473408</td>\n",
       "      <td>-0.498667</td>\n",
       "      <td>2.577752</td>\n",
       "      <td>-0.738132</td>\n",
       "      <td>-0.488186</td>\n",
       "    </tr>\n",
       "    <tr>\n",
       "      <th>1</th>\n",
       "      <td>0.826913</td>\n",
       "      <td>1.354813</td>\n",
       "      <td>1.341322</td>\n",
       "      <td>0.432550</td>\n",
       "      <td>-0.473408</td>\n",
       "      <td>-0.498667</td>\n",
       "      <td>-0.568518</td>\n",
       "      <td>0.190788</td>\n",
       "      <td>-0.488186</td>\n",
       "    </tr>\n",
       "    <tr>\n",
       "      <th>2</th>\n",
       "      <td>-0.369158</td>\n",
       "      <td>-0.737281</td>\n",
       "      <td>2.493947</td>\n",
       "      <td>-0.474279</td>\n",
       "      <td>-0.473408</td>\n",
       "      <td>-0.458429</td>\n",
       "      <td>2.577752</td>\n",
       "      <td>-0.738132</td>\n",
       "      <td>-0.488186</td>\n",
       "    </tr>\n",
       "    <tr>\n",
       "      <th>3</th>\n",
       "      <td>0.826913</td>\n",
       "      <td>-0.737281</td>\n",
       "      <td>-0.195511</td>\n",
       "      <td>-0.474279</td>\n",
       "      <td>-0.473408</td>\n",
       "      <td>-0.478548</td>\n",
       "      <td>-0.568518</td>\n",
       "      <td>-0.738132</td>\n",
       "      <td>-0.488186</td>\n",
       "    </tr>\n",
       "    <tr>\n",
       "      <th>4</th>\n",
       "      <td>0.826913</td>\n",
       "      <td>1.354813</td>\n",
       "      <td>-0.579719</td>\n",
       "      <td>0.432550</td>\n",
       "      <td>0.767199</td>\n",
       "      <td>-0.398071</td>\n",
       "      <td>-0.568518</td>\n",
       "      <td>0.190788</td>\n",
       "      <td>-0.488186</td>\n",
       "    </tr>\n",
       "  </tbody>\n",
       "</table>\n",
       "</div>"
      ],
      "text/plain": [
       "     Pclass       Sex       Age     SibSp     Parch      Fare  Embarked  \\\n",
       "0  0.826913 -0.737281  0.342381 -0.474279 -0.473408 -0.498667  2.577752   \n",
       "1  0.826913  1.354813  1.341322  0.432550 -0.473408 -0.498667 -0.568518   \n",
       "2 -0.369158 -0.737281  2.493947 -0.474279 -0.473408 -0.458429  2.577752   \n",
       "3  0.826913 -0.737281 -0.195511 -0.474279 -0.473408 -0.478548 -0.568518   \n",
       "4  0.826913  1.354813 -0.579719  0.432550  0.767199 -0.398071 -0.568518   \n",
       "\n",
       "      Title  Cabin_Encoded  \n",
       "0 -0.738132      -0.488186  \n",
       "1  0.190788      -0.488186  \n",
       "2 -0.738132      -0.488186  \n",
       "3 -0.738132      -0.488186  \n",
       "4  0.190788      -0.488186  "
      ]
     },
     "execution_count": 25,
     "metadata": {},
     "output_type": "execute_result"
    }
   ],
   "source": [
    "X_test.head()"
   ]
  },
  {
   "cell_type": "code",
   "execution_count": 26,
   "id": "d3ac6d25",
   "metadata": {
    "execution": {
     "iopub.execute_input": "2023-11-12T20:35:38.819645Z",
     "iopub.status.busy": "2023-11-12T20:35:38.819232Z",
     "iopub.status.idle": "2023-11-12T20:35:38.827508Z",
     "shell.execute_reply": "2023-11-12T20:35:38.826412Z"
    },
    "papermill": {
     "duration": 0.027126,
     "end_time": "2023-11-12T20:35:38.829816",
     "exception": false,
     "start_time": "2023-11-12T20:35:38.802690",
     "status": "completed"
    },
    "tags": []
   },
   "outputs": [
    {
     "data": {
      "text/plain": [
       "0    0\n",
       "1    1\n",
       "2    1\n",
       "3    1\n",
       "4    0\n",
       "Name: Survived, dtype: int64"
      ]
     },
     "execution_count": 26,
     "metadata": {},
     "output_type": "execute_result"
    }
   ],
   "source": [
    "Y_train.head()"
   ]
  },
  {
   "cell_type": "markdown",
   "id": "7d2ec551",
   "metadata": {
    "papermill": {
     "duration": 0.014707,
     "end_time": "2023-11-12T20:35:38.860126",
     "exception": false,
     "start_time": "2023-11-12T20:35:38.845419",
     "status": "completed"
    },
    "tags": []
   },
   "source": [
    "# Logistic Regression"
   ]
  },
  {
   "cell_type": "code",
   "execution_count": 27,
   "id": "94f4338d",
   "metadata": {
    "execution": {
     "iopub.execute_input": "2023-11-12T20:35:38.892311Z",
     "iopub.status.busy": "2023-11-12T20:35:38.891731Z",
     "iopub.status.idle": "2023-11-12T20:35:38.901861Z",
     "shell.execute_reply": "2023-11-12T20:35:38.900690Z"
    },
    "papermill": {
     "duration": 0.028978,
     "end_time": "2023-11-12T20:35:38.904094",
     "exception": false,
     "start_time": "2023-11-12T20:35:38.875116",
     "status": "completed"
    },
    "tags": []
   },
   "outputs": [],
   "source": [
    "class LogisticRegression:\n",
    "    def __init__(self, max_iterations=1000, learning_rate=0.01, decay=0.9, epsilon=1e-5):\n",
    "        self.max_iterations = max_iterations\n",
    "        self.learning_rate = learning_rate\n",
    "        self.epsilon = epsilon\n",
    "        self.W = None\n",
    "        self.b = None\n",
    "\n",
    "    def sigmoid(self, z):\n",
    "        a = 1 / (1 + np.exp(-z))\n",
    "        return a\n",
    "\n",
    "    def binary_cross_entropy(self, y_pred, y):\n",
    "        pass\n",
    "\n",
    "    def gradient_descent(self, X, y):\n",
    "        m, n = X.shape\n",
    "\n",
    "        dz = self.sigmoid(X.dot(self.W) + self.b) - y\n",
    "        dw = np.dot(X.T, dz) / m\n",
    "        db = np.sum(dz) / m\n",
    "\n",
    "        return dw, db\n",
    "\n",
    "    def fit(self, X, y):\n",
    "        pass\n",
    "\n",
    "    def predict(self, X):\n",
    "        y_pred = self.sigmoid(np.dot(X, self.W) + self.b)\n",
    "        return (y_pred >= 0.5).astype(int)"
   ]
  },
  {
   "cell_type": "code",
   "execution_count": 28,
   "id": "e75822bc",
   "metadata": {
    "execution": {
     "iopub.execute_input": "2023-11-12T20:35:38.936063Z",
     "iopub.status.busy": "2023-11-12T20:35:38.935634Z",
     "iopub.status.idle": "2023-11-12T20:35:38.941139Z",
     "shell.execute_reply": "2023-11-12T20:35:38.939990Z"
    },
    "papermill": {
     "duration": 0.024339,
     "end_time": "2023-11-12T20:35:38.943431",
     "exception": false,
     "start_time": "2023-11-12T20:35:38.919092",
     "status": "completed"
    },
    "tags": []
   },
   "outputs": [],
   "source": [
    "max_iterations = 500\n",
    "learning_rate = 3.5\n",
    "decay = 0.85\n",
    "epsilon = 1e-8\n",
    "\n",
    "model = LogisticRegression(max_iterations, learning_rate, decay, epsilon)"
   ]
  }
 ],
 "metadata": {
  "kernelspec": {
   "display_name": "Python 3",
   "language": "python",
   "name": "python3"
  },
  "language_info": {
   "codemirror_mode": {
    "name": "ipython",
    "version": 3
   },
   "file_extension": ".py",
   "mimetype": "text/x-python",
   "name": "python",
   "nbconvert_exporter": "python",
   "pygments_lexer": "ipython3",
   "version": "3.10.12"
  },
  "papermill": {
   "default_parameters": {},
   "duration": 7.89207,
   "end_time": "2023-11-12T20:35:39.480943",
   "environment_variables": {},
   "exception": null,
   "input_path": "__notebook__.ipynb",
   "output_path": "__notebook__.ipynb",
   "parameters": {},
   "start_time": "2023-11-12T20:35:31.588873",
   "version": "2.4.0"
  }
 },
 "nbformat": 4,
 "nbformat_minor": 5
}

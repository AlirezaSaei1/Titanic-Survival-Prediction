{
 "cells": [
  {
   "cell_type": "markdown",
   "id": "3a00d468",
   "metadata": {
    "papermill": {
     "duration": 0.013858,
     "end_time": "2023-11-12T19:03:57.339137",
     "exception": false,
     "start_time": "2023-11-12T19:03:57.325279",
     "status": "completed"
    },
    "tags": []
   },
   "source": [
    "# Import Required Libraraies"
   ]
  },
  {
   "cell_type": "code",
   "execution_count": 1,
   "id": "f4698dce",
   "metadata": {
    "execution": {
     "iopub.execute_input": "2023-11-12T19:03:57.368601Z",
     "iopub.status.busy": "2023-11-12T19:03:57.368100Z",
     "iopub.status.idle": "2023-11-12T19:03:57.807213Z",
     "shell.execute_reply": "2023-11-12T19:03:57.806039Z"
    },
    "papermill": {
     "duration": 0.457522,
     "end_time": "2023-11-12T19:03:57.810587",
     "exception": false,
     "start_time": "2023-11-12T19:03:57.353065",
     "status": "completed"
    },
    "tags": []
   },
   "outputs": [],
   "source": [
    "import re\n",
    "import numpy as np\n",
    "import pandas as pd"
   ]
  },
  {
   "cell_type": "markdown",
   "id": "51265765",
   "metadata": {
    "papermill": {
     "duration": 0.012868,
     "end_time": "2023-11-12T19:03:57.837216",
     "exception": false,
     "start_time": "2023-11-12T19:03:57.824348",
     "status": "completed"
    },
    "tags": []
   },
   "source": [
    "# Read Data"
   ]
  },
  {
   "cell_type": "code",
   "execution_count": 2,
   "id": "69369439",
   "metadata": {
    "execution": {
     "iopub.execute_input": "2023-11-12T19:03:57.867314Z",
     "iopub.status.busy": "2023-11-12T19:03:57.866601Z",
     "iopub.status.idle": "2023-11-12T19:03:57.908173Z",
     "shell.execute_reply": "2023-11-12T19:03:57.907043Z"
    },
    "papermill": {
     "duration": 0.05945,
     "end_time": "2023-11-12T19:03:57.910990",
     "exception": false,
     "start_time": "2023-11-12T19:03:57.851540",
     "status": "completed"
    },
    "tags": []
   },
   "outputs": [],
   "source": [
    "train_data = pd.read_csv('/kaggle/input/titanic/train.csv')\n",
    "test_data = pd.read_csv('/kaggle/input/titanic/test.csv')\n",
    "gender_sub = pd.read_csv('/kaggle/input/titanic/gender_submission.csv')"
   ]
  },
  {
   "cell_type": "code",
   "execution_count": 3,
   "id": "6f10c569",
   "metadata": {
    "execution": {
     "iopub.execute_input": "2023-11-12T19:03:57.939613Z",
     "iopub.status.busy": "2023-11-12T19:03:57.938981Z",
     "iopub.status.idle": "2023-11-12T19:03:57.968538Z",
     "shell.execute_reply": "2023-11-12T19:03:57.967411Z"
    },
    "papermill": {
     "duration": 0.046784,
     "end_time": "2023-11-12T19:03:57.971029",
     "exception": false,
     "start_time": "2023-11-12T19:03:57.924245",
     "status": "completed"
    },
    "tags": []
   },
   "outputs": [
    {
     "data": {
      "text/html": [
       "<div>\n",
       "<style scoped>\n",
       "    .dataframe tbody tr th:only-of-type {\n",
       "        vertical-align: middle;\n",
       "    }\n",
       "\n",
       "    .dataframe tbody tr th {\n",
       "        vertical-align: top;\n",
       "    }\n",
       "\n",
       "    .dataframe thead th {\n",
       "        text-align: right;\n",
       "    }\n",
       "</style>\n",
       "<table border=\"1\" class=\"dataframe\">\n",
       "  <thead>\n",
       "    <tr style=\"text-align: right;\">\n",
       "      <th></th>\n",
       "      <th>PassengerId</th>\n",
       "      <th>Pclass</th>\n",
       "      <th>Name</th>\n",
       "      <th>Sex</th>\n",
       "      <th>Age</th>\n",
       "      <th>SibSp</th>\n",
       "      <th>Parch</th>\n",
       "      <th>Ticket</th>\n",
       "      <th>Fare</th>\n",
       "      <th>Cabin</th>\n",
       "      <th>Embarked</th>\n",
       "    </tr>\n",
       "  </thead>\n",
       "  <tbody>\n",
       "    <tr>\n",
       "      <th>0</th>\n",
       "      <td>892</td>\n",
       "      <td>3</td>\n",
       "      <td>Kelly, Mr. James</td>\n",
       "      <td>male</td>\n",
       "      <td>34.5</td>\n",
       "      <td>0</td>\n",
       "      <td>0</td>\n",
       "      <td>330911</td>\n",
       "      <td>7.8292</td>\n",
       "      <td>NaN</td>\n",
       "      <td>Q</td>\n",
       "    </tr>\n",
       "    <tr>\n",
       "      <th>1</th>\n",
       "      <td>893</td>\n",
       "      <td>3</td>\n",
       "      <td>Wilkes, Mrs. James (Ellen Needs)</td>\n",
       "      <td>female</td>\n",
       "      <td>47.0</td>\n",
       "      <td>1</td>\n",
       "      <td>0</td>\n",
       "      <td>363272</td>\n",
       "      <td>7.0000</td>\n",
       "      <td>NaN</td>\n",
       "      <td>S</td>\n",
       "    </tr>\n",
       "    <tr>\n",
       "      <th>2</th>\n",
       "      <td>894</td>\n",
       "      <td>2</td>\n",
       "      <td>Myles, Mr. Thomas Francis</td>\n",
       "      <td>male</td>\n",
       "      <td>62.0</td>\n",
       "      <td>0</td>\n",
       "      <td>0</td>\n",
       "      <td>240276</td>\n",
       "      <td>9.6875</td>\n",
       "      <td>NaN</td>\n",
       "      <td>Q</td>\n",
       "    </tr>\n",
       "    <tr>\n",
       "      <th>3</th>\n",
       "      <td>895</td>\n",
       "      <td>3</td>\n",
       "      <td>Wirz, Mr. Albert</td>\n",
       "      <td>male</td>\n",
       "      <td>27.0</td>\n",
       "      <td>0</td>\n",
       "      <td>0</td>\n",
       "      <td>315154</td>\n",
       "      <td>8.6625</td>\n",
       "      <td>NaN</td>\n",
       "      <td>S</td>\n",
       "    </tr>\n",
       "    <tr>\n",
       "      <th>4</th>\n",
       "      <td>896</td>\n",
       "      <td>3</td>\n",
       "      <td>Hirvonen, Mrs. Alexander (Helga E Lindqvist)</td>\n",
       "      <td>female</td>\n",
       "      <td>22.0</td>\n",
       "      <td>1</td>\n",
       "      <td>1</td>\n",
       "      <td>3101298</td>\n",
       "      <td>12.2875</td>\n",
       "      <td>NaN</td>\n",
       "      <td>S</td>\n",
       "    </tr>\n",
       "  </tbody>\n",
       "</table>\n",
       "</div>"
      ],
      "text/plain": [
       "   PassengerId  Pclass                                          Name     Sex  \\\n",
       "0          892       3                              Kelly, Mr. James    male   \n",
       "1          893       3              Wilkes, Mrs. James (Ellen Needs)  female   \n",
       "2          894       2                     Myles, Mr. Thomas Francis    male   \n",
       "3          895       3                              Wirz, Mr. Albert    male   \n",
       "4          896       3  Hirvonen, Mrs. Alexander (Helga E Lindqvist)  female   \n",
       "\n",
       "    Age  SibSp  Parch   Ticket     Fare Cabin Embarked  \n",
       "0  34.5      0      0   330911   7.8292   NaN        Q  \n",
       "1  47.0      1      0   363272   7.0000   NaN        S  \n",
       "2  62.0      0      0   240276   9.6875   NaN        Q  \n",
       "3  27.0      0      0   315154   8.6625   NaN        S  \n",
       "4  22.0      1      1  3101298  12.2875   NaN        S  "
      ]
     },
     "execution_count": 3,
     "metadata": {},
     "output_type": "execute_result"
    }
   ],
   "source": [
    "test_data.head()"
   ]
  },
  {
   "cell_type": "markdown",
   "id": "7cff83ee",
   "metadata": {
    "papermill": {
     "duration": 0.013046,
     "end_time": "2023-11-12T19:03:57.997269",
     "exception": false,
     "start_time": "2023-11-12T19:03:57.984223",
     "status": "completed"
    },
    "tags": []
   },
   "source": [
    "# Data Purification and Feature Engineering"
   ]
  },
  {
   "cell_type": "markdown",
   "id": "c9d95b47",
   "metadata": {
    "papermill": {
     "duration": 0.013447,
     "end_time": "2023-11-12T19:03:58.026367",
     "exception": false,
     "start_time": "2023-11-12T19:03:58.012920",
     "status": "completed"
    },
    "tags": []
   },
   "source": [
    "## Name\n",
    "### Extract titles from names"
   ]
  },
  {
   "cell_type": "code",
   "execution_count": 4,
   "id": "ecf9e491",
   "metadata": {
    "execution": {
     "iopub.execute_input": "2023-11-12T19:03:58.056924Z",
     "iopub.status.busy": "2023-11-12T19:03:58.056246Z",
     "iopub.status.idle": "2023-11-12T19:03:58.076386Z",
     "shell.execute_reply": "2023-11-12T19:03:58.075262Z"
    },
    "papermill": {
     "duration": 0.038542,
     "end_time": "2023-11-12T19:03:58.078998",
     "exception": false,
     "start_time": "2023-11-12T19:03:58.040456",
     "status": "completed"
    },
    "tags": []
   },
   "outputs": [
    {
     "name": "stdout",
     "output_type": "stream",
     "text": [
      "All unique titles in names (Train): ['Mr' 'Mrs' 'Miss' 'Master' 'Don' 'Rev' 'Dr' 'Mme' 'Ms' 'Major' 'Lady'\n",
      " 'Sir' 'Mlle' 'Col' 'Capt' 'Countess' 'Jonkheer']\n",
      "All unique titles in names (Test): ['Mr' 'Mrs' 'Miss' 'Master' 'Ms' 'Col' 'Rev' 'Dr' 'Dona']\n"
     ]
    }
   ],
   "source": [
    "train_data['Title'] = train_data['Name'].apply(lambda x: re.search(' ([A-Za-z]+)\\.', x).group(1))\n",
    "test_data['Title'] = test_data['Name'].apply(lambda x: re.search(' ([A-Za-z]+)\\.', x).group(1))\n",
    "\n",
    "# Display the unique titles\n",
    "print(f'All unique titles in names (Train): {train_data[\"Title\"].unique()}')\n",
    "print(f'All unique titles in names (Test): {test_data[\"Title\"].unique()}')"
   ]
  },
  {
   "cell_type": "code",
   "execution_count": 5,
   "id": "f3442590",
   "metadata": {
    "execution": {
     "iopub.execute_input": "2023-11-12T19:03:58.109965Z",
     "iopub.status.busy": "2023-11-12T19:03:58.109282Z",
     "iopub.status.idle": "2023-11-12T19:03:58.125264Z",
     "shell.execute_reply": "2023-11-12T19:03:58.124313Z"
    },
    "papermill": {
     "duration": 0.034613,
     "end_time": "2023-11-12T19:03:58.128240",
     "exception": false,
     "start_time": "2023-11-12T19:03:58.093627",
     "status": "completed"
    },
    "tags": []
   },
   "outputs": [],
   "source": [
    "# Train Data\n",
    "train_data['Title'] = train_data['Title'].replace(['Lady', 'Countess', 'Capt', 'Col', 'Don', 'Dr','Major', 'Rev', 'Sir', 'Jonkheer', 'Dona'], 'Other')\n",
    "train_data['Title'] = train_data['Title'].replace(['Mlle', 'Ms'], 'Miss')\n",
    "train_data['Title'] = train_data['Title'].replace('Mme', 'Mrs')\n",
    "\n",
    "# Test Data\n",
    "test_data['Title'] = test_data['Title'].replace(['Lady', 'Countess', 'Capt', 'Col', 'Don', 'Dr','Major', 'Rev', 'Sir', 'Jonkheer', 'Dona'], 'Other')\n",
    "test_data['Title'] = test_data['Title'].replace(['Mlle', 'Ms'], 'Miss')\n",
    "test_data['Title'] = test_data['Title'].replace('Mme', 'Mrs')"
   ]
  },
  {
   "cell_type": "code",
   "execution_count": 6,
   "id": "dce2adde",
   "metadata": {
    "execution": {
     "iopub.execute_input": "2023-11-12T19:03:58.158740Z",
     "iopub.status.busy": "2023-11-12T19:03:58.158086Z",
     "iopub.status.idle": "2023-11-12T19:03:58.165178Z",
     "shell.execute_reply": "2023-11-12T19:03:58.163897Z"
    },
    "papermill": {
     "duration": 0.025736,
     "end_time": "2023-11-12T19:03:58.167425",
     "exception": false,
     "start_time": "2023-11-12T19:03:58.141689",
     "status": "completed"
    },
    "tags": []
   },
   "outputs": [
    {
     "name": "stdout",
     "output_type": "stream",
     "text": [
      "Train Titles: ['Mr' 'Mrs' 'Miss' 'Master' 'Other']\n",
      "Test Titles: ['Mr' 'Mrs' 'Miss' 'Master' 'Other']\n"
     ]
    }
   ],
   "source": [
    "print(f'Train Titles: {train_data[\"Title\"].unique()}')\n",
    "print(f'Test Titles: {test_data[\"Title\"].unique()}')"
   ]
  },
  {
   "cell_type": "markdown",
   "id": "62ee1e43",
   "metadata": {
    "papermill": {
     "duration": 0.013481,
     "end_time": "2023-11-12T19:03:58.194324",
     "exception": false,
     "start_time": "2023-11-12T19:03:58.180843",
     "status": "completed"
    },
    "tags": []
   },
   "source": [
    "### Drop Names"
   ]
  },
  {
   "cell_type": "code",
   "execution_count": 7,
   "id": "896aefb6",
   "metadata": {
    "execution": {
     "iopub.execute_input": "2023-11-12T19:03:58.224047Z",
     "iopub.status.busy": "2023-11-12T19:03:58.223278Z",
     "iopub.status.idle": "2023-11-12T19:03:58.236675Z",
     "shell.execute_reply": "2023-11-12T19:03:58.235711Z"
    },
    "papermill": {
     "duration": 0.030974,
     "end_time": "2023-11-12T19:03:58.239296",
     "exception": false,
     "start_time": "2023-11-12T19:03:58.208322",
     "status": "completed"
    },
    "tags": []
   },
   "outputs": [],
   "source": [
    "train_data = train_data.drop('Name', axis=1)\n",
    "test_data = test_data.drop('Name', axis=1)"
   ]
  },
  {
   "cell_type": "markdown",
   "id": "d0b657b2",
   "metadata": {
    "papermill": {
     "duration": 0.014315,
     "end_time": "2023-11-12T19:03:58.267679",
     "exception": false,
     "start_time": "2023-11-12T19:03:58.253364",
     "status": "completed"
    },
    "tags": []
   },
   "source": [
    "### Encode Titles"
   ]
  },
  {
   "cell_type": "code",
   "execution_count": 8,
   "id": "ab1f3a87",
   "metadata": {
    "execution": {
     "iopub.execute_input": "2023-11-12T19:03:58.297308Z",
     "iopub.status.busy": "2023-11-12T19:03:58.296675Z",
     "iopub.status.idle": "2023-11-12T19:03:58.305008Z",
     "shell.execute_reply": "2023-11-12T19:03:58.303805Z"
    },
    "papermill": {
     "duration": 0.026189,
     "end_time": "2023-11-12T19:03:58.307799",
     "exception": false,
     "start_time": "2023-11-12T19:03:58.281610",
     "status": "completed"
    },
    "tags": []
   },
   "outputs": [],
   "source": [
    "title_to_number = {'Mr': 0, 'Mrs': 1, 'Miss': 2, 'Master': 3, 'Other': 4}\n",
    "\n",
    "train_data['Title'] = train_data['Title'].apply(lambda x: title_to_number[x])\n",
    "test_data['Title'] = test_data['Title'].apply(lambda x: title_to_number[x])"
   ]
  },
  {
   "cell_type": "markdown",
   "id": "b75dd196",
   "metadata": {
    "papermill": {
     "duration": 0.013138,
     "end_time": "2023-11-12T19:03:58.334265",
     "exception": false,
     "start_time": "2023-11-12T19:03:58.321127",
     "status": "completed"
    },
    "tags": []
   },
   "source": [
    "## Ticket\n",
    "### Drop ticket columns"
   ]
  },
  {
   "cell_type": "code",
   "execution_count": 9,
   "id": "f0d9d59d",
   "metadata": {
    "execution": {
     "iopub.execute_input": "2023-11-12T19:03:58.364020Z",
     "iopub.status.busy": "2023-11-12T19:03:58.363313Z",
     "iopub.status.idle": "2023-11-12T19:03:58.370733Z",
     "shell.execute_reply": "2023-11-12T19:03:58.369860Z"
    },
    "papermill": {
     "duration": 0.025596,
     "end_time": "2023-11-12T19:03:58.373250",
     "exception": false,
     "start_time": "2023-11-12T19:03:58.347654",
     "status": "completed"
    },
    "tags": []
   },
   "outputs": [],
   "source": [
    "# Drop Ticket Column\n",
    "train_data = train_data.drop('Ticket', axis=1)\n",
    "test_data = test_data.drop('Ticket', axis=1)"
   ]
  },
  {
   "cell_type": "markdown",
   "id": "04e2724f",
   "metadata": {
    "papermill": {
     "duration": 0.013078,
     "end_time": "2023-11-12T19:03:58.400227",
     "exception": false,
     "start_time": "2023-11-12T19:03:58.387149",
     "status": "completed"
    },
    "tags": []
   },
   "source": [
    "## Sex\n",
    "### Convert sexes to 0s and 1s"
   ]
  },
  {
   "cell_type": "code",
   "execution_count": 10,
   "id": "6064681b",
   "metadata": {
    "execution": {
     "iopub.execute_input": "2023-11-12T19:03:58.429100Z",
     "iopub.status.busy": "2023-11-12T19:03:58.428377Z",
     "iopub.status.idle": "2023-11-12T19:03:58.440062Z",
     "shell.execute_reply": "2023-11-12T19:03:58.438129Z"
    },
    "papermill": {
     "duration": 0.02942,
     "end_time": "2023-11-12T19:03:58.442880",
     "exception": false,
     "start_time": "2023-11-12T19:03:58.413460",
     "status": "completed"
    },
    "tags": []
   },
   "outputs": [
    {
     "name": "stdout",
     "output_type": "stream",
     "text": [
      "Number of distinct values for sex: {0, 1}\n"
     ]
    }
   ],
   "source": [
    "# Encode Sex\n",
    "train_data['Sex'] = train_data['Sex'].replace({'male': 0, 'female': 1})\n",
    "test_data['Sex'] = test_data['Sex'].replace({'male': 0, 'female': 1})\n",
    "print(f'Number of distinct values for sex: {set(test_data[\"Sex\"])}')"
   ]
  },
  {
   "cell_type": "markdown",
   "id": "8c16ae21",
   "metadata": {
    "papermill": {
     "duration": 0.086585,
     "end_time": "2023-11-12T19:03:58.543787",
     "exception": false,
     "start_time": "2023-11-12T19:03:58.457202",
     "status": "completed"
    },
    "tags": []
   },
   "source": [
    "## Cabin\n",
    "### Extract letters from Cabins"
   ]
  },
  {
   "cell_type": "code",
   "execution_count": 11,
   "id": "6f7291d1",
   "metadata": {
    "execution": {
     "iopub.execute_input": "2023-11-12T19:03:58.574135Z",
     "iopub.status.busy": "2023-11-12T19:03:58.573692Z",
     "iopub.status.idle": "2023-11-12T19:03:58.586445Z",
     "shell.execute_reply": "2023-11-12T19:03:58.585071Z"
    },
    "papermill": {
     "duration": 0.03122,
     "end_time": "2023-11-12T19:03:58.589309",
     "exception": false,
     "start_time": "2023-11-12T19:03:58.558089",
     "status": "completed"
    },
    "tags": []
   },
   "outputs": [
    {
     "name": "stdout",
     "output_type": "stream",
     "text": [
      "['X' 'C' 'E' 'G' 'D' 'A' 'B' 'F' 'T']\n",
      "['X' 'B' 'E' 'A' 'C' 'D' 'F' 'G']\n"
     ]
    }
   ],
   "source": [
    "train_data['Cabin'] = train_data['Cabin'].fillna(\"X\")\n",
    "print(train_data['Cabin'].str[0].unique())\n",
    "\n",
    "test_data['Cabin'] = test_data['Cabin'].fillna(\"X\")\n",
    "print(test_data['Cabin'].str[0].unique())"
   ]
  },
  {
   "cell_type": "markdown",
   "id": "e4822729",
   "metadata": {
    "papermill": {
     "duration": 0.014962,
     "end_time": "2023-11-12T19:03:58.618605",
     "exception": false,
     "start_time": "2023-11-12T19:03:58.603643",
     "status": "completed"
    },
    "tags": []
   },
   "source": [
    "### Encode letters"
   ]
  },
  {
   "cell_type": "code",
   "execution_count": 12,
   "id": "706cf802",
   "metadata": {
    "execution": {
     "iopub.execute_input": "2023-11-12T19:03:58.650376Z",
     "iopub.status.busy": "2023-11-12T19:03:58.649918Z",
     "iopub.status.idle": "2023-11-12T19:03:58.660209Z",
     "shell.execute_reply": "2023-11-12T19:03:58.659294Z"
    },
    "papermill": {
     "duration": 0.029521,
     "end_time": "2023-11-12T19:03:58.662572",
     "exception": false,
     "start_time": "2023-11-12T19:03:58.633051",
     "status": "completed"
    },
    "tags": []
   },
   "outputs": [],
   "source": [
    "cabin_to_number = {'X': 0, 'A': 1, 'B': 2, 'C': 3, 'D': 4, 'E': 5, 'F': 6, 'G': 7, 'T': 8}\n",
    "\n",
    "train_data['Cabin_Encoded'] = train_data['Cabin'].apply(lambda x: cabin_to_number[x[0]])\n",
    "test_data['Cabin_Encoded'] = test_data['Cabin'].apply(lambda x: cabin_to_number[x[0]])"
   ]
  },
  {
   "cell_type": "markdown",
   "id": "33f94194",
   "metadata": {
    "papermill": {
     "duration": 0.013285,
     "end_time": "2023-11-12T19:03:58.689605",
     "exception": false,
     "start_time": "2023-11-12T19:03:58.676320",
     "status": "completed"
    },
    "tags": []
   },
   "source": [
    "### Drop Cabin Column"
   ]
  },
  {
   "cell_type": "code",
   "execution_count": 13,
   "id": "46711103",
   "metadata": {
    "execution": {
     "iopub.execute_input": "2023-11-12T19:03:58.719058Z",
     "iopub.status.busy": "2023-11-12T19:03:58.718084Z",
     "iopub.status.idle": "2023-11-12T19:03:58.725621Z",
     "shell.execute_reply": "2023-11-12T19:03:58.724778Z"
    },
    "papermill": {
     "duration": 0.02474,
     "end_time": "2023-11-12T19:03:58.727959",
     "exception": false,
     "start_time": "2023-11-12T19:03:58.703219",
     "status": "completed"
    },
    "tags": []
   },
   "outputs": [],
   "source": [
    "train_data = train_data.drop('Cabin', axis=1)\n",
    "test_data = test_data.drop('Cabin', axis=1)"
   ]
  },
  {
   "cell_type": "markdown",
   "id": "8b6aea17",
   "metadata": {
    "papermill": {
     "duration": 0.013775,
     "end_time": "2023-11-12T19:03:58.755493",
     "exception": false,
     "start_time": "2023-11-12T19:03:58.741718",
     "status": "completed"
    },
    "tags": []
   },
   "source": [
    "## Embarked\n",
    "### Fill Null values with 'S'"
   ]
  },
  {
   "cell_type": "code",
   "execution_count": 14,
   "id": "a4bb7a73",
   "metadata": {
    "execution": {
     "iopub.execute_input": "2023-11-12T19:03:58.786046Z",
     "iopub.status.busy": "2023-11-12T19:03:58.784887Z",
     "iopub.status.idle": "2023-11-12T19:03:58.797475Z",
     "shell.execute_reply": "2023-11-12T19:03:58.796473Z"
    },
    "papermill": {
     "duration": 0.030517,
     "end_time": "2023-11-12T19:03:58.800151",
     "exception": false,
     "start_time": "2023-11-12T19:03:58.769634",
     "status": "completed"
    },
    "tags": []
   },
   "outputs": [],
   "source": [
    "train_data['Embarked'].describe()\n",
    "\n",
    "train_data['Embarked'] = train_data['Embarked'].fillna('S')\n",
    "test_data['Embarked'] = test_data['Embarked'].fillna('S')"
   ]
  },
  {
   "cell_type": "markdown",
   "id": "7e73b834",
   "metadata": {
    "papermill": {
     "duration": 0.013773,
     "end_time": "2023-11-12T19:03:58.828340",
     "exception": false,
     "start_time": "2023-11-12T19:03:58.814567",
     "status": "completed"
    },
    "tags": []
   },
   "source": [
    "### Encode Embarked Values"
   ]
  },
  {
   "cell_type": "code",
   "execution_count": 15,
   "id": "40a9dafe",
   "metadata": {
    "execution": {
     "iopub.execute_input": "2023-11-12T19:03:58.858673Z",
     "iopub.status.busy": "2023-11-12T19:03:58.857444Z",
     "iopub.status.idle": "2023-11-12T19:03:58.866890Z",
     "shell.execute_reply": "2023-11-12T19:03:58.865914Z"
    },
    "papermill": {
     "duration": 0.027246,
     "end_time": "2023-11-12T19:03:58.869694",
     "exception": false,
     "start_time": "2023-11-12T19:03:58.842448",
     "status": "completed"
    },
    "tags": []
   },
   "outputs": [],
   "source": [
    "embark_to_number = {'S': 0, 'C': 1, 'Q': 2}\n",
    "\n",
    "train_data['Embarked'] = train_data['Embarked'].apply(lambda x: embark_to_number[x])\n",
    "test_data['Embarked'] = test_data['Embarked'].apply(lambda x: embark_to_number[x])"
   ]
  },
  {
   "cell_type": "markdown",
   "id": "e83b179c",
   "metadata": {
    "papermill": {
     "duration": 0.01342,
     "end_time": "2023-11-12T19:03:58.896989",
     "exception": false,
     "start_time": "2023-11-12T19:03:58.883569",
     "status": "completed"
    },
    "tags": []
   },
   "source": [
    "## Age\n",
    "### Fill null values of age with mean age of train set"
   ]
  },
  {
   "cell_type": "code",
   "execution_count": 16,
   "id": "2f1f74e8",
   "metadata": {
    "execution": {
     "iopub.execute_input": "2023-11-12T19:03:58.926593Z",
     "iopub.status.busy": "2023-11-12T19:03:58.925824Z",
     "iopub.status.idle": "2023-11-12T19:03:58.934972Z",
     "shell.execute_reply": "2023-11-12T19:03:58.933923Z"
    },
    "papermill": {
     "duration": 0.02675,
     "end_time": "2023-11-12T19:03:58.937687",
     "exception": false,
     "start_time": "2023-11-12T19:03:58.910937",
     "status": "completed"
    },
    "tags": []
   },
   "outputs": [],
   "source": [
    "mean_age = train_data['Age'].mean()\n",
    "\n",
    "train_data['Age'] = train_data['Age'].fillna(mean_age)\n",
    "test_data['Age'] = test_data['Age'].fillna(mean_age)"
   ]
  },
  {
   "cell_type": "markdown",
   "id": "e81affb4",
   "metadata": {
    "papermill": {
     "duration": 0.013277,
     "end_time": "2023-11-12T19:03:58.964830",
     "exception": false,
     "start_time": "2023-11-12T19:03:58.951553",
     "status": "completed"
    },
    "tags": []
   },
   "source": [
    "### Convert ages to int"
   ]
  },
  {
   "cell_type": "code",
   "execution_count": 17,
   "id": "754e8ee2",
   "metadata": {
    "execution": {
     "iopub.execute_input": "2023-11-12T19:03:58.993773Z",
     "iopub.status.busy": "2023-11-12T19:03:58.993366Z",
     "iopub.status.idle": "2023-11-12T19:03:58.999852Z",
     "shell.execute_reply": "2023-11-12T19:03:58.998755Z"
    },
    "papermill": {
     "duration": 0.02472,
     "end_time": "2023-11-12T19:03:59.003205",
     "exception": false,
     "start_time": "2023-11-12T19:03:58.978485",
     "status": "completed"
    },
    "tags": []
   },
   "outputs": [],
   "source": [
    "train_data['Age'] = train_data['Age'].astype(int)\n",
    "test_data['Age'] = test_data['Age'].astype(int)"
   ]
  },
  {
   "cell_type": "markdown",
   "id": "8f5bf705",
   "metadata": {
    "papermill": {
     "duration": 0.014785,
     "end_time": "2023-11-12T19:03:59.032874",
     "exception": false,
     "start_time": "2023-11-12T19:03:59.018089",
     "status": "completed"
    },
    "tags": []
   },
   "source": [
    "## Fare"
   ]
  },
  {
   "cell_type": "code",
   "execution_count": 18,
   "id": "c45b2b86",
   "metadata": {
    "execution": {
     "iopub.execute_input": "2023-11-12T19:03:59.063156Z",
     "iopub.status.busy": "2023-11-12T19:03:59.062742Z",
     "iopub.status.idle": "2023-11-12T19:03:59.070516Z",
     "shell.execute_reply": "2023-11-12T19:03:59.069370Z"
    },
    "papermill": {
     "duration": 0.025949,
     "end_time": "2023-11-12T19:03:59.073196",
     "exception": false,
     "start_time": "2023-11-12T19:03:59.047247",
     "status": "completed"
    },
    "tags": []
   },
   "outputs": [
    {
     "name": "stdout",
     "output_type": "stream",
     "text": [
      "number of fare null values of train set: 0\n",
      "number of fare null values of test set: 1\n"
     ]
    }
   ],
   "source": [
    "print(f'number of fare null values of train set: {train_data[\"Fare\"].isna().sum()}')\n",
    "print(f'number of fare null values of test set: {test_data[\"Fare\"].isna().sum()}')"
   ]
  },
  {
   "cell_type": "markdown",
   "id": "d03fcc25",
   "metadata": {
    "papermill": {
     "duration": 0.014485,
     "end_time": "2023-11-12T19:03:59.102415",
     "exception": false,
     "start_time": "2023-11-12T19:03:59.087930",
     "status": "completed"
    },
    "tags": []
   },
   "source": [
    "### Fill null values with mean fare"
   ]
  },
  {
   "cell_type": "code",
   "execution_count": 19,
   "id": "780c1c57",
   "metadata": {
    "execution": {
     "iopub.execute_input": "2023-11-12T19:03:59.133589Z",
     "iopub.status.busy": "2023-11-12T19:03:59.133182Z",
     "iopub.status.idle": "2023-11-12T19:03:59.141157Z",
     "shell.execute_reply": "2023-11-12T19:03:59.139465Z"
    },
    "papermill": {
     "duration": 0.026559,
     "end_time": "2023-11-12T19:03:59.143538",
     "exception": false,
     "start_time": "2023-11-12T19:03:59.116979",
     "status": "completed"
    },
    "tags": []
   },
   "outputs": [],
   "source": [
    "mean_fare = train_data['Fare'].mean()\n",
    "\n",
    "train_data['Fare'] = train_data['Fare'].fillna(mean_fare)\n",
    "test_data['Fare'] = test_data['Fare'].fillna(mean_fare)"
   ]
  },
  {
   "cell_type": "markdown",
   "id": "5c5b34e7",
   "metadata": {
    "papermill": {
     "duration": 0.014434,
     "end_time": "2023-11-12T19:03:59.172033",
     "exception": false,
     "start_time": "2023-11-12T19:03:59.157599",
     "status": "completed"
    },
    "tags": []
   },
   "source": [
    "### Convert fares to ints"
   ]
  },
  {
   "cell_type": "code",
   "execution_count": 20,
   "id": "bee66f4e",
   "metadata": {
    "execution": {
     "iopub.execute_input": "2023-11-12T19:03:59.201645Z",
     "iopub.status.busy": "2023-11-12T19:03:59.201239Z",
     "iopub.status.idle": "2023-11-12T19:03:59.208160Z",
     "shell.execute_reply": "2023-11-12T19:03:59.206957Z"
    },
    "papermill": {
     "duration": 0.024856,
     "end_time": "2023-11-12T19:03:59.210729",
     "exception": false,
     "start_time": "2023-11-12T19:03:59.185873",
     "status": "completed"
    },
    "tags": []
   },
   "outputs": [],
   "source": [
    "train_data['Fare'] = train_data['Fare'].astype(int)\n",
    "test_data['Fare'] = test_data['Fare'].astype(int)"
   ]
  },
  {
   "cell_type": "markdown",
   "id": "f3f0d6f2",
   "metadata": {
    "papermill": {
     "duration": 0.013829,
     "end_time": "2023-11-12T19:03:59.238890",
     "exception": false,
     "start_time": "2023-11-12T19:03:59.225061",
     "status": "completed"
    },
    "tags": []
   },
   "source": [
    "## PassengerId (Train)\n",
    "### Drop column"
   ]
  },
  {
   "cell_type": "code",
   "execution_count": 21,
   "id": "284016d8",
   "metadata": {
    "execution": {
     "iopub.execute_input": "2023-11-12T19:03:59.269294Z",
     "iopub.status.busy": "2023-11-12T19:03:59.268874Z",
     "iopub.status.idle": "2023-11-12T19:03:59.275799Z",
     "shell.execute_reply": "2023-11-12T19:03:59.274602Z"
    },
    "papermill": {
     "duration": 0.025154,
     "end_time": "2023-11-12T19:03:59.278304",
     "exception": false,
     "start_time": "2023-11-12T19:03:59.253150",
     "status": "completed"
    },
    "tags": []
   },
   "outputs": [],
   "source": [
    "train_data = train_data.drop(['PassengerId'], axis=1)"
   ]
  },
  {
   "cell_type": "markdown",
   "id": "a534d221",
   "metadata": {
    "papermill": {
     "duration": 0.013465,
     "end_time": "2023-11-12T19:03:59.305684",
     "exception": false,
     "start_time": "2023-11-12T19:03:59.292219",
     "status": "completed"
    },
    "tags": []
   },
   "source": [
    "### Getting data ready"
   ]
  },
  {
   "cell_type": "code",
   "execution_count": 22,
   "id": "9e677478",
   "metadata": {
    "execution": {
     "iopub.execute_input": "2023-11-12T19:03:59.334994Z",
     "iopub.status.busy": "2023-11-12T19:03:59.334544Z",
     "iopub.status.idle": "2023-11-12T19:03:59.343300Z",
     "shell.execute_reply": "2023-11-12T19:03:59.342019Z"
    },
    "papermill": {
     "duration": 0.026427,
     "end_time": "2023-11-12T19:03:59.345979",
     "exception": false,
     "start_time": "2023-11-12T19:03:59.319552",
     "status": "completed"
    },
    "tags": []
   },
   "outputs": [],
   "source": [
    "X_train = train_data.drop(\"Survived\", axis=1)\n",
    "Y_train = train_data[\"Survived\"]\n",
    "X_test  = test_data.drop(\"PassengerId\", axis=1).copy()"
   ]
  },
  {
   "cell_type": "markdown",
   "id": "e2e12109",
   "metadata": {
    "papermill": {
     "duration": 0.014263,
     "end_time": "2023-11-12T19:03:59.374109",
     "exception": false,
     "start_time": "2023-11-12T19:03:59.359846",
     "status": "completed"
    },
    "tags": []
   },
   "source": [
    "# Data Normalization"
   ]
  },
  {
   "cell_type": "code",
   "execution_count": 23,
   "id": "9448facd",
   "metadata": {
    "execution": {
     "iopub.execute_input": "2023-11-12T19:03:59.404027Z",
     "iopub.status.busy": "2023-11-12T19:03:59.403520Z",
     "iopub.status.idle": "2023-11-12T19:03:59.429309Z",
     "shell.execute_reply": "2023-11-12T19:03:59.427861Z"
    },
    "papermill": {
     "duration": 0.044197,
     "end_time": "2023-11-12T19:03:59.432202",
     "exception": false,
     "start_time": "2023-11-12T19:03:59.388005",
     "status": "completed"
    },
    "tags": []
   },
   "outputs": [],
   "source": [
    "for col in X_train.columns:\n",
    "    train_column = X_train[col]\n",
    "    test_column = X_test[col]\n",
    "    \n",
    "    mean_val = train_column.mean()\n",
    "    std_val = train_column.std()\n",
    "    \n",
    "    X_train[col] = (train_column - mean_val) / std_val\n",
    "    X_test[col] = (test_column - mean_val) / std_val"
   ]
  },
  {
   "cell_type": "code",
   "execution_count": 24,
   "id": "72d65cd5",
   "metadata": {
    "execution": {
     "iopub.execute_input": "2023-11-12T19:03:59.462350Z",
     "iopub.status.busy": "2023-11-12T19:03:59.461939Z",
     "iopub.status.idle": "2023-11-12T19:03:59.479118Z",
     "shell.execute_reply": "2023-11-12T19:03:59.477721Z"
    },
    "papermill": {
     "duration": 0.035797,
     "end_time": "2023-11-12T19:03:59.481988",
     "exception": false,
     "start_time": "2023-11-12T19:03:59.446191",
     "status": "completed"
    },
    "tags": []
   },
   "outputs": [
    {
     "data": {
      "text/html": [
       "<div>\n",
       "<style scoped>\n",
       "    .dataframe tbody tr th:only-of-type {\n",
       "        vertical-align: middle;\n",
       "    }\n",
       "\n",
       "    .dataframe tbody tr th {\n",
       "        vertical-align: top;\n",
       "    }\n",
       "\n",
       "    .dataframe thead th {\n",
       "        text-align: right;\n",
       "    }\n",
       "</style>\n",
       "<table border=\"1\" class=\"dataframe\">\n",
       "  <thead>\n",
       "    <tr style=\"text-align: right;\">\n",
       "      <th></th>\n",
       "      <th>Pclass</th>\n",
       "      <th>Sex</th>\n",
       "      <th>Age</th>\n",
       "      <th>SibSp</th>\n",
       "      <th>Parch</th>\n",
       "      <th>Fare</th>\n",
       "      <th>Embarked</th>\n",
       "      <th>Title</th>\n",
       "      <th>Cabin_Encoded</th>\n",
       "    </tr>\n",
       "  </thead>\n",
       "  <tbody>\n",
       "    <tr>\n",
       "      <th>0</th>\n",
       "      <td>0.826913</td>\n",
       "      <td>-0.737281</td>\n",
       "      <td>-0.579719</td>\n",
       "      <td>0.432550</td>\n",
       "      <td>-0.473408</td>\n",
       "      <td>-0.498667</td>\n",
       "      <td>-0.568518</td>\n",
       "      <td>-0.738132</td>\n",
       "      <td>-0.488186</td>\n",
       "    </tr>\n",
       "    <tr>\n",
       "      <th>1</th>\n",
       "      <td>-1.565228</td>\n",
       "      <td>1.354813</td>\n",
       "      <td>0.649747</td>\n",
       "      <td>0.432550</td>\n",
       "      <td>-0.473408</td>\n",
       "      <td>0.788962</td>\n",
       "      <td>1.004617</td>\n",
       "      <td>0.190788</td>\n",
       "      <td>1.397540</td>\n",
       "    </tr>\n",
       "    <tr>\n",
       "      <th>2</th>\n",
       "      <td>0.826913</td>\n",
       "      <td>1.354813</td>\n",
       "      <td>-0.272352</td>\n",
       "      <td>-0.474279</td>\n",
       "      <td>-0.473408</td>\n",
       "      <td>-0.498667</td>\n",
       "      <td>-0.568518</td>\n",
       "      <td>1.119709</td>\n",
       "      <td>-0.488186</td>\n",
       "    </tr>\n",
       "    <tr>\n",
       "      <th>3</th>\n",
       "      <td>-1.565228</td>\n",
       "      <td>1.354813</td>\n",
       "      <td>0.419222</td>\n",
       "      <td>0.432550</td>\n",
       "      <td>-0.473408</td>\n",
       "      <td>0.426816</td>\n",
       "      <td>-0.568518</td>\n",
       "      <td>0.190788</td>\n",
       "      <td>1.397540</td>\n",
       "    </tr>\n",
       "    <tr>\n",
       "      <th>4</th>\n",
       "      <td>0.826913</td>\n",
       "      <td>-0.737281</td>\n",
       "      <td>0.419222</td>\n",
       "      <td>-0.474279</td>\n",
       "      <td>-0.473408</td>\n",
       "      <td>-0.478548</td>\n",
       "      <td>-0.568518</td>\n",
       "      <td>-0.738132</td>\n",
       "      <td>-0.488186</td>\n",
       "    </tr>\n",
       "  </tbody>\n",
       "</table>\n",
       "</div>"
      ],
      "text/plain": [
       "     Pclass       Sex       Age     SibSp     Parch      Fare  Embarked  \\\n",
       "0  0.826913 -0.737281 -0.579719  0.432550 -0.473408 -0.498667 -0.568518   \n",
       "1 -1.565228  1.354813  0.649747  0.432550 -0.473408  0.788962  1.004617   \n",
       "2  0.826913  1.354813 -0.272352 -0.474279 -0.473408 -0.498667 -0.568518   \n",
       "3 -1.565228  1.354813  0.419222  0.432550 -0.473408  0.426816 -0.568518   \n",
       "4  0.826913 -0.737281  0.419222 -0.474279 -0.473408 -0.478548 -0.568518   \n",
       "\n",
       "      Title  Cabin_Encoded  \n",
       "0 -0.738132      -0.488186  \n",
       "1  0.190788       1.397540  \n",
       "2  1.119709      -0.488186  \n",
       "3  0.190788       1.397540  \n",
       "4 -0.738132      -0.488186  "
      ]
     },
     "execution_count": 24,
     "metadata": {},
     "output_type": "execute_result"
    }
   ],
   "source": [
    "X_train.head()"
   ]
  },
  {
   "cell_type": "code",
   "execution_count": 25,
   "id": "527cffbc",
   "metadata": {
    "execution": {
     "iopub.execute_input": "2023-11-12T19:03:59.512490Z",
     "iopub.status.busy": "2023-11-12T19:03:59.512083Z",
     "iopub.status.idle": "2023-11-12T19:03:59.530253Z",
     "shell.execute_reply": "2023-11-12T19:03:59.529132Z"
    },
    "papermill": {
     "duration": 0.036029,
     "end_time": "2023-11-12T19:03:59.532656",
     "exception": false,
     "start_time": "2023-11-12T19:03:59.496627",
     "status": "completed"
    },
    "tags": []
   },
   "outputs": [
    {
     "data": {
      "text/html": [
       "<div>\n",
       "<style scoped>\n",
       "    .dataframe tbody tr th:only-of-type {\n",
       "        vertical-align: middle;\n",
       "    }\n",
       "\n",
       "    .dataframe tbody tr th {\n",
       "        vertical-align: top;\n",
       "    }\n",
       "\n",
       "    .dataframe thead th {\n",
       "        text-align: right;\n",
       "    }\n",
       "</style>\n",
       "<table border=\"1\" class=\"dataframe\">\n",
       "  <thead>\n",
       "    <tr style=\"text-align: right;\">\n",
       "      <th></th>\n",
       "      <th>Pclass</th>\n",
       "      <th>Sex</th>\n",
       "      <th>Age</th>\n",
       "      <th>SibSp</th>\n",
       "      <th>Parch</th>\n",
       "      <th>Fare</th>\n",
       "      <th>Embarked</th>\n",
       "      <th>Title</th>\n",
       "      <th>Cabin_Encoded</th>\n",
       "    </tr>\n",
       "  </thead>\n",
       "  <tbody>\n",
       "    <tr>\n",
       "      <th>0</th>\n",
       "      <td>0.826913</td>\n",
       "      <td>-0.737281</td>\n",
       "      <td>0.342381</td>\n",
       "      <td>-0.474279</td>\n",
       "      <td>-0.473408</td>\n",
       "      <td>-0.498667</td>\n",
       "      <td>2.577752</td>\n",
       "      <td>-0.738132</td>\n",
       "      <td>-0.488186</td>\n",
       "    </tr>\n",
       "    <tr>\n",
       "      <th>1</th>\n",
       "      <td>0.826913</td>\n",
       "      <td>1.354813</td>\n",
       "      <td>1.341322</td>\n",
       "      <td>0.432550</td>\n",
       "      <td>-0.473408</td>\n",
       "      <td>-0.498667</td>\n",
       "      <td>-0.568518</td>\n",
       "      <td>0.190788</td>\n",
       "      <td>-0.488186</td>\n",
       "    </tr>\n",
       "    <tr>\n",
       "      <th>2</th>\n",
       "      <td>-0.369158</td>\n",
       "      <td>-0.737281</td>\n",
       "      <td>2.493947</td>\n",
       "      <td>-0.474279</td>\n",
       "      <td>-0.473408</td>\n",
       "      <td>-0.458429</td>\n",
       "      <td>2.577752</td>\n",
       "      <td>-0.738132</td>\n",
       "      <td>-0.488186</td>\n",
       "    </tr>\n",
       "    <tr>\n",
       "      <th>3</th>\n",
       "      <td>0.826913</td>\n",
       "      <td>-0.737281</td>\n",
       "      <td>-0.195511</td>\n",
       "      <td>-0.474279</td>\n",
       "      <td>-0.473408</td>\n",
       "      <td>-0.478548</td>\n",
       "      <td>-0.568518</td>\n",
       "      <td>-0.738132</td>\n",
       "      <td>-0.488186</td>\n",
       "    </tr>\n",
       "    <tr>\n",
       "      <th>4</th>\n",
       "      <td>0.826913</td>\n",
       "      <td>1.354813</td>\n",
       "      <td>-0.579719</td>\n",
       "      <td>0.432550</td>\n",
       "      <td>0.767199</td>\n",
       "      <td>-0.398071</td>\n",
       "      <td>-0.568518</td>\n",
       "      <td>0.190788</td>\n",
       "      <td>-0.488186</td>\n",
       "    </tr>\n",
       "  </tbody>\n",
       "</table>\n",
       "</div>"
      ],
      "text/plain": [
       "     Pclass       Sex       Age     SibSp     Parch      Fare  Embarked  \\\n",
       "0  0.826913 -0.737281  0.342381 -0.474279 -0.473408 -0.498667  2.577752   \n",
       "1  0.826913  1.354813  1.341322  0.432550 -0.473408 -0.498667 -0.568518   \n",
       "2 -0.369158 -0.737281  2.493947 -0.474279 -0.473408 -0.458429  2.577752   \n",
       "3  0.826913 -0.737281 -0.195511 -0.474279 -0.473408 -0.478548 -0.568518   \n",
       "4  0.826913  1.354813 -0.579719  0.432550  0.767199 -0.398071 -0.568518   \n",
       "\n",
       "      Title  Cabin_Encoded  \n",
       "0 -0.738132      -0.488186  \n",
       "1  0.190788      -0.488186  \n",
       "2 -0.738132      -0.488186  \n",
       "3 -0.738132      -0.488186  \n",
       "4  0.190788      -0.488186  "
      ]
     },
     "execution_count": 25,
     "metadata": {},
     "output_type": "execute_result"
    }
   ],
   "source": [
    "X_test.head()"
   ]
  },
  {
   "cell_type": "code",
   "execution_count": 26,
   "id": "c444f1bc",
   "metadata": {
    "execution": {
     "iopub.execute_input": "2023-11-12T19:03:59.564556Z",
     "iopub.status.busy": "2023-11-12T19:03:59.563492Z",
     "iopub.status.idle": "2023-11-12T19:03:59.572166Z",
     "shell.execute_reply": "2023-11-12T19:03:59.570977Z"
    },
    "papermill": {
     "duration": 0.027853,
     "end_time": "2023-11-12T19:03:59.575026",
     "exception": false,
     "start_time": "2023-11-12T19:03:59.547173",
     "status": "completed"
    },
    "tags": []
   },
   "outputs": [
    {
     "data": {
      "text/plain": [
       "0    0\n",
       "1    1\n",
       "2    1\n",
       "3    1\n",
       "4    0\n",
       "Name: Survived, dtype: int64"
      ]
     },
     "execution_count": 26,
     "metadata": {},
     "output_type": "execute_result"
    }
   ],
   "source": [
    "Y_train.head()"
   ]
  },
  {
   "cell_type": "code",
   "execution_count": null,
   "id": "736b9e94",
   "metadata": {
    "papermill": {
     "duration": 0.015459,
     "end_time": "2023-11-12T19:03:59.605684",
     "exception": false,
     "start_time": "2023-11-12T19:03:59.590225",
     "status": "completed"
    },
    "tags": []
   },
   "outputs": [],
   "source": []
  }
 ],
 "metadata": {
  "kernelspec": {
   "display_name": "Python 3",
   "language": "python",
   "name": "python3"
  },
  "language_info": {
   "codemirror_mode": {
    "name": "ipython",
    "version": 3
   },
   "file_extension": ".py",
   "mimetype": "text/x-python",
   "name": "python",
   "nbconvert_exporter": "python",
   "pygments_lexer": "ipython3",
   "version": "3.10.12"
  },
  "papermill": {
   "default_parameters": {},
   "duration": 6.682182,
   "end_time": "2023-11-12T19:04:00.242641",
   "environment_variables": {},
   "exception": null,
   "input_path": "__notebook__.ipynb",
   "output_path": "__notebook__.ipynb",
   "parameters": {},
   "start_time": "2023-11-12T19:03:53.560459",
   "version": "2.4.0"
  }
 },
 "nbformat": 4,
 "nbformat_minor": 5
}
